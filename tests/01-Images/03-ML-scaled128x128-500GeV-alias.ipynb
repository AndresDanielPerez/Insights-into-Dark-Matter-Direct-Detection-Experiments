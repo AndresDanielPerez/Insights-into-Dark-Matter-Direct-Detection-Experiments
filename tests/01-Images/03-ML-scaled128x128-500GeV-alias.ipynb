{
 "cells": [
  {
   "cell_type": "code",
   "execution_count": 1,
   "metadata": {},
   "outputs": [],
   "source": [
    "import numpy as np\n",
    "import pandas as pd\n",
    "import matplotlib.pyplot as plt\n",
    "import seaborn as sns\n",
    "from matplotlib import gridspec\n",
    "from matplotlib import patches\n",
    "from matplotlib import cm\n",
    "from mpl_toolkits.mplot3d import Axes3D\n",
    "\n",
    "import os\n",
    "import math\n",
    "import random\n",
    "\n",
    "import keras\n",
    "from keras.models import Sequential\n",
    "from keras.layers import Input, Dense, Conv2D, Flatten, MaxPooling2D\n",
    "from keras.layers import Dropout\n",
    "from keras.callbacks import EarlyStopping\n",
    "\n",
    "from sklearn.preprocessing import MinMaxScaler\n",
    "from sklearn.model_selection import train_test_split\n",
    "from sklearn.utils import shuffle\n",
    "from sklearn import preprocessing\n",
    "from sklearn.metrics import roc_curve, roc_auc_score, auc\n",
    "\n",
    "import scipy.stats as st\n",
    "from scipy.stats import poisson\n",
    "from scipy.interpolate import interp1d\n",
    "from scipy.stats import norm"
   ]
  },
  {
   "cell_type": "code",
   "execution_count": 2,
   "metadata": {},
   "outputs": [],
   "source": [
    "from sklearn.neighbors import KernelDensity # paquete necesario\n",
    "from sklearn.model_selection import GridSearchCV\n",
    "\n",
    "import scipy.integrate as integrate"
   ]
  },
  {
   "cell_type": "code",
   "execution_count": 3,
   "metadata": {},
   "outputs": [
    {
     "name": "stdout",
     "output_type": "stream",
     "text": [
      "Requirement already satisfied: xgboost in /home/andres/anaconda3/lib/python3.8/site-packages (1.5.1)\n",
      "Requirement already satisfied: scipy in /home/andres/.local/lib/python3.8/site-packages (from xgboost) (1.9.3)\n",
      "Requirement already satisfied: numpy in /home/andres/.local/lib/python3.8/site-packages (from xgboost) (1.22.4)\n",
      "\u001b[33mWARNING: You are using pip version 21.3.1; however, version 23.2.1 is available.\n",
      "You should consider upgrading via the '/home/andres/anaconda3/bin/python -m pip install --upgrade pip' command.\u001b[0m\n"
     ]
    }
   ],
   "source": [
    "!pip install xgboost\n",
    "\n",
    "import xgboost\n",
    "from xgboost import XGBRegressor, XGBClassifier"
   ]
  },
  {
   "cell_type": "code",
   "execution_count": 4,
   "metadata": {},
   "outputs": [],
   "source": [
    "import glob\n",
    "import numpy as np\n",
    "import os.path as path\n",
    "import imageio\n",
    "import matplotlib.pyplot as plt\n",
    "from keras.models import Sequential\n",
    "from keras.layers import Activation, Dropout, Flatten, Dense, Conv2D, MaxPooling2D\n",
    "from keras.callbacks import EarlyStopping, TensorBoard\n",
    "from datetime import datetime\n",
    "import keras\n",
    "from keras import regularizers\n",
    "from sklearn.model_selection import train_test_split\n",
    "import pandas as pd\n",
    "from sklearn.metrics import accuracy_score, f1_score, average_precision_score, precision_recall_curve, auc,recall_score\n",
    "#from keras.optimizers import Adam\n",
    "from keras.regularizers import l2\n",
    "import h5py\n",
    "from sklearn.model_selection import GridSearchCV\n",
    "from keras.backend import cast, greater, clip, floatx,epsilon\n",
    "from keras.wrappers.scikit_learn import KerasClassifier\n",
    "from keras import backend as K\n",
    "from sklearn.model_selection import StratifiedKFold"
   ]
  },
  {
   "cell_type": "markdown",
   "metadata": {},
   "source": [
    "### Load images"
   ]
  },
  {
   "cell_type": "code",
   "execution_count": 5,
   "metadata": {},
   "outputs": [],
   "source": [
    "folderimages_ER = '/media/andres/disco1tera/ubuntu/Trabajo/Direct-Detection/xenon1t-classifier/data/images/ER/img-128x128-alias/'\n",
    "folderimages_WP = '/media/andres/disco1tera/ubuntu/Trabajo/Direct-Detection/xenon1t-classifier/data/images/WP-500GeV-sig1e-45/img-128x128-alias/'\n",
    "\n",
    "model_name = 'saved-models/03_model_CNN_128x128_500GeV_alias.h5'\n",
    "model_paper = 'paper-model/final_model.h5'"
   ]
  },
  {
   "cell_type": "code",
   "execution_count": null,
   "metadata": {},
   "outputs": [],
   "source": []
  },
  {
   "cell_type": "code",
   "execution_count": 6,
   "metadata": {},
   "outputs": [],
   "source": [
    "from keras import backend as K\n",
    "np.random.seed(0)\n",
    "\n",
    "# Define recall, precision and f1 functions\n",
    "def recall_m(y_true, y_pred):\n",
    "    true_positives = K.sum(K.round(K.clip(y_true * y_pred, 0, 1)))\n",
    "    possible_positives = K.sum(K.round(K.clip(y_true, 0, 1)))\n",
    "    recall = true_positives / (possible_positives + K.epsilon())\n",
    "    return recall\n",
    "\n",
    "def precision_m(y_true, y_pred):\n",
    "    true_positives = K.sum(K.round(K.clip(y_true * y_pred, 0, 1)))\n",
    "    predicted_positives = K.sum(K.round(K.clip(y_pred, 0, 1)))\n",
    "    precision = true_positives / (predicted_positives + K.epsilon())\n",
    "    return precision\n",
    "\n",
    "def f1_m(y_true, y_pred):\n",
    "    precision = precision_m(y_true, y_pred)\n",
    "    recall = recall_m(y_true, y_pred)\n",
    "    return 2*((precision*recall)/(precision+recall+K.epsilon()))"
   ]
  },
  {
   "cell_type": "code",
   "execution_count": null,
   "metadata": {},
   "outputs": [],
   "source": []
  },
  {
   "cell_type": "markdown",
   "metadata": {},
   "source": [
    "##### TEST-VAL SET"
   ]
  },
  {
   "cell_type": "code",
   "execution_count": 7,
   "metadata": {},
   "outputs": [
    {
     "name": "stdout",
     "output_type": "stream",
     "text": [
      "(128, 128, 4)\n",
      "(128, 128, 4)\n",
      "(128, 128, 4)\n",
      "(128, 128, 4)\n"
     ]
    }
   ],
   "source": [
    "# test\n",
    "from PIL import Image\n",
    "\n",
    "for i in range(2):\n",
    "    img = Image.open( folderimages_WP+'WP' + str(i) + '.png' )\n",
    "    data = np.asarray( img, dtype=\"int32\" )\n",
    "    print(data.shape)\n",
    "    \n",
    "for i in range(2):\n",
    "    img = Image.open( folderimages_ER+'ER' + str(i) + '.png' )\n",
    "    data = np.asarray( img, dtype=\"int32\" )\n",
    "    print(data.shape)"
   ]
  },
  {
   "cell_type": "code",
   "execution_count": 8,
   "metadata": {},
   "outputs": [
    {
     "name": "stdout",
     "output_type": "stream",
     "text": [
      "images.shape:  (20000, 128, 128, 4)\n",
      "labels.shape:  (20000,)\n",
      "[128 128   4]\n"
     ]
    }
   ],
   "source": [
    "##########\n",
    "# SIGNAL #\n",
    "##########\n",
    "num_signal = 10000\n",
    "\n",
    "file_pathsWP = glob.glob(path.join(folderimages_WP, 'WP*.png'))\n",
    "\n",
    "# Load the images into a single variable and convert to a numpy array\n",
    "imagesWP = [imageio.imread(file_pathsWP[jj]) for jj in range(num_signal)]\n",
    "imagesWP = np.asarray(imagesWP)\n",
    "\n",
    "labelsWP = np.ones(num_signal)\n",
    "\n",
    "\n",
    "##############\n",
    "# BACKGROUND #\n",
    "##############\n",
    "num_back = 10000\n",
    "\n",
    "file_pathsER = glob.glob(path.join(folderimages_ER, 'ER*.png'))\n",
    "\n",
    "# Load the images into a single variable and convert to a numpy array\n",
    "imagesER = [imageio.imread(file_pathsER[jj]) for jj in range(num_back)]\n",
    "imagesER = np.asarray(imagesER)\n",
    "\n",
    "labelsER = np.zeros(num_back)\n",
    "\n",
    "\n",
    "\n",
    "images = np.concatenate([imagesWP,imagesER])\n",
    "del imagesWP\n",
    "del imagesER\n",
    "\n",
    "labels = np.concatenate([labelsWP,labelsER])\n",
    "del labelsWP\n",
    "del labelsER\n",
    "\n",
    "\n",
    "\n",
    "print('images.shape: ', images.shape)\n",
    "print('labels.shape: ', labels.shape)\n",
    "\n",
    "# Get image size\n",
    "image_size = np.asarray([images.shape[1], images.shape[2], images.shape[3]])\n",
    "print(image_size)\n",
    "\n",
    "# Scale images so values are between 0 and 1\n",
    "images = images / 255\n",
    "\n",
    "n_images = images.shape[0]"
   ]
  },
  {
   "cell_type": "code",
   "execution_count": 9,
   "metadata": {},
   "outputs": [
    {
     "data": {
      "text/plain": [
       "10000.0"
      ]
     },
     "execution_count": 9,
     "metadata": {},
     "output_type": "execute_result"
    }
   ],
   "source": [
    "sum(labels)"
   ]
  },
  {
   "cell_type": "code",
   "execution_count": 10,
   "metadata": {},
   "outputs": [
    {
     "data": {
      "text/plain": [
       "(20000,)"
      ]
     },
     "execution_count": 10,
     "metadata": {},
     "output_type": "execute_result"
    }
   ],
   "source": [
    "labels.shape"
   ]
  },
  {
   "cell_type": "code",
   "execution_count": 11,
   "metadata": {},
   "outputs": [
    {
     "name": "stdout",
     "output_type": "stream",
     "text": [
      "(14000, 128, 128, 4)\n",
      "(14000,)\n",
      "(6000, 128, 128, 4)\n",
      "(6000,)\n"
     ]
    }
   ],
   "source": [
    "# Split into test and training sets\n",
    "\n",
    "TRAIN_TEST_SPLIT = 0.7            \n",
    "\n",
    "# Split at the given index\n",
    "split_index = int(TRAIN_TEST_SPLIT * n_images)\n",
    "shuffled_indices = np.random.permutation(n_images)\n",
    "train_indices = shuffled_indices[0:split_index]\n",
    "test_indices = shuffled_indices[split_index:]\n",
    "\n",
    "# Split the images and the labels\n",
    "x_train = images[train_indices, :, :, :]\n",
    "y_train = labels[train_indices]\n",
    "x_val = images[test_indices, :, :, :]\n",
    "y_val = labels[test_indices]\n",
    "\n",
    "#x_train = images\n",
    "#y_train = labels\n",
    "\n",
    "print(x_train.shape)\n",
    "print(y_train.shape)\n",
    "print(x_val.shape)\n",
    "print(y_val.shape)"
   ]
  },
  {
   "cell_type": "markdown",
   "metadata": {},
   "source": [
    "##### TRAIN THE MODEL"
   ]
  },
  {
   "cell_type": "code",
   "execution_count": 12,
   "metadata": {
    "scrolled": false
   },
   "outputs": [
    {
     "name": "stdout",
     "output_type": "stream",
     "text": [
      "Epoch 1/50\n",
      "140/140 [==============================] - 55s 317ms/step - loss: 3.8859 - acc: 0.5272 - f1_m: 0.4853 - precision_m: 0.5035 - recall_m: 0.4959 - val_loss: 0.7178 - val_acc: 0.7492 - val_f1_m: 0.7546 - val_precision_m: 0.7438 - val_recall_m: 0.7702\n",
      "Epoch 2/50\n",
      "140/140 [==============================] - 43s 311ms/step - loss: 0.7761 - acc: 0.6810 - f1_m: 0.6814 - precision_m: 0.6786 - recall_m: 0.6976 - val_loss: 0.6630 - val_acc: 0.7567 - val_f1_m: 0.7617 - val_precision_m: 0.7526 - val_recall_m: 0.7755\n",
      "Epoch 3/50\n",
      "140/140 [==============================] - 44s 311ms/step - loss: 0.6803 - acc: 0.7426 - f1_m: 0.7391 - precision_m: 0.7552 - recall_m: 0.7301 - val_loss: 0.6171 - val_acc: 0.7625 - val_f1_m: 0.7445 - val_precision_m: 0.8145 - val_recall_m: 0.6905\n",
      "Epoch 4/50\n",
      "140/140 [==============================] - 44s 316ms/step - loss: 0.6282 - acc: 0.7730 - f1_m: 0.7709 - precision_m: 0.7758 - recall_m: 0.7733 - val_loss: 0.5808 - val_acc: 0.7943 - val_f1_m: 0.7976 - val_precision_m: 0.7900 - val_recall_m: 0.8095\n",
      "Epoch 5/50\n",
      "140/140 [==============================] - 45s 320ms/step - loss: 0.6082 - acc: 0.7918 - f1_m: 0.7872 - precision_m: 0.7954 - recall_m: 0.7880 - val_loss: 0.5805 - val_acc: 0.7995 - val_f1_m: 0.8008 - val_precision_m: 0.8019 - val_recall_m: 0.8040\n",
      "Epoch 6/50\n",
      "140/140 [==============================] - 45s 321ms/step - loss: 0.5975 - acc: 0.7950 - f1_m: 0.7911 - precision_m: 0.7981 - recall_m: 0.7918 - val_loss: 0.5871 - val_acc: 0.8100 - val_f1_m: 0.8115 - val_precision_m: 0.8117 - val_recall_m: 0.8151\n",
      "Epoch 7/50\n",
      "140/140 [==============================] - 44s 315ms/step - loss: 0.5804 - acc: 0.8008 - f1_m: 0.7953 - precision_m: 0.8133 - recall_m: 0.7881 - val_loss: 0.5523 - val_acc: 0.8102 - val_f1_m: 0.8132 - val_precision_m: 0.8054 - val_recall_m: 0.8257\n",
      "Epoch 8/50\n",
      "140/140 [==============================] - 45s 318ms/step - loss: 0.5682 - acc: 0.8049 - f1_m: 0.8002 - precision_m: 0.7998 - recall_m: 0.8086 - val_loss: 0.5530 - val_acc: 0.8090 - val_f1_m: 0.8136 - val_precision_m: 0.7992 - val_recall_m: 0.8319\n",
      "Epoch 9/50\n",
      "140/140 [==============================] - 44s 313ms/step - loss: 0.5755 - acc: 0.7980 - f1_m: 0.7914 - precision_m: 0.7998 - recall_m: 0.7916 - val_loss: 0.5347 - val_acc: 0.8177 - val_f1_m: 0.8231 - val_precision_m: 0.8057 - val_recall_m: 0.8445\n",
      "Epoch 10/50\n",
      "140/140 [==============================] - 42s 302ms/step - loss: 0.5620 - acc: 0.8140 - f1_m: 0.8117 - precision_m: 0.8190 - recall_m: 0.8133 - val_loss: 0.5356 - val_acc: 0.8172 - val_f1_m: 0.8175 - val_precision_m: 0.8217 - val_recall_m: 0.8177\n",
      "Epoch 11/50\n",
      "140/140 [==============================] - 42s 302ms/step - loss: 0.5566 - acc: 0.8106 - f1_m: 0.8101 - precision_m: 0.8114 - recall_m: 0.8162 - val_loss: 0.5566 - val_acc: 0.8233 - val_f1_m: 0.8247 - val_precision_m: 0.8238 - val_recall_m: 0.8293\n",
      "Epoch 12/50\n",
      "140/140 [==============================] - 42s 302ms/step - loss: 0.5477 - acc: 0.8165 - f1_m: 0.8118 - precision_m: 0.8259 - recall_m: 0.8052 - val_loss: 0.5354 - val_acc: 0.8152 - val_f1_m: 0.8256 - val_precision_m: 0.7878 - val_recall_m: 0.8707\n",
      "Epoch 13/50\n",
      "140/140 [==============================] - 42s 302ms/step - loss: 0.5544 - acc: 0.8077 - f1_m: 0.8087 - precision_m: 0.8029 - recall_m: 0.8233 - val_loss: 0.5749 - val_acc: 0.8048 - val_f1_m: 0.8117 - val_precision_m: 0.7894 - val_recall_m: 0.8391\n",
      "Epoch 14/50\n",
      "140/140 [==============================] - 42s 302ms/step - loss: 0.5564 - acc: 0.8106 - f1_m: 0.8094 - precision_m: 0.8089 - recall_m: 0.8141 - val_loss: 0.5317 - val_acc: 0.8172 - val_f1_m: 0.8282 - val_precision_m: 0.7861 - val_recall_m: 0.8782\n",
      "Epoch 15/50\n",
      "140/140 [==============================] - 42s 303ms/step - loss: 0.5339 - acc: 0.8253 - f1_m: 0.8239 - precision_m: 0.8191 - recall_m: 0.8348 - val_loss: 0.5411 - val_acc: 0.8215 - val_f1_m: 0.8292 - val_precision_m: 0.8012 - val_recall_m: 0.8630\n",
      "Epoch 16/50\n",
      "140/140 [==============================] - 43s 307ms/step - loss: 0.5844 - acc: 0.7990 - f1_m: 0.7942 - precision_m: 0.7994 - recall_m: 0.8003 - val_loss: 0.5511 - val_acc: 0.8127 - val_f1_m: 0.8114 - val_precision_m: 0.8228 - val_recall_m: 0.8040\n",
      "Epoch 17/50\n",
      "140/140 [==============================] - 42s 302ms/step - loss: 0.5508 - acc: 0.8183 - f1_m: 0.8165 - precision_m: 0.8205 - recall_m: 0.8190 - val_loss: 0.5428 - val_acc: 0.8167 - val_f1_m: 0.8123 - val_precision_m: 0.8390 - val_recall_m: 0.7903\n",
      "Epoch 18/50\n",
      "140/140 [==============================] - 42s 302ms/step - loss: 0.5359 - acc: 0.8192 - f1_m: 0.8174 - precision_m: 0.8210 - recall_m: 0.8214 - val_loss: 0.5446 - val_acc: 0.8172 - val_f1_m: 0.8275 - val_precision_m: 0.7879 - val_recall_m: 0.8744\n",
      "Epoch 19/50\n",
      "140/140 [==============================] - 42s 303ms/step - loss: 0.5451 - acc: 0.8181 - f1_m: 0.8180 - precision_m: 0.8085 - recall_m: 0.8354 - val_loss: 0.5670 - val_acc: 0.8017 - val_f1_m: 0.7906 - val_precision_m: 0.8450 - val_recall_m: 0.7469\n",
      "Epoch 20/50\n",
      "140/140 [==============================] - 44s 311ms/step - loss: 0.5694 - acc: 0.8101 - f1_m: 0.8145 - precision_m: 0.8072 - recall_m: 0.8288 - val_loss: 0.5667 - val_acc: 0.8163 - val_f1_m: 0.8218 - val_precision_m: 0.8039 - val_recall_m: 0.8445\n",
      "Epoch 21/50\n",
      "140/140 [==============================] - 43s 307ms/step - loss: 0.5948 - acc: 0.8071 - f1_m: 0.8042 - precision_m: 0.8083 - recall_m: 0.8108 - val_loss: 0.5617 - val_acc: 0.8217 - val_f1_m: 0.8214 - val_precision_m: 0.8293 - val_recall_m: 0.8172\n",
      "Epoch 22/50\n",
      "140/140 [==============================] - 42s 303ms/step - loss: 0.5831 - acc: 0.8074 - f1_m: 0.8033 - precision_m: 0.8059 - recall_m: 0.8087 - val_loss: 0.5581 - val_acc: 0.8097 - val_f1_m: 0.8028 - val_precision_m: 0.8393 - val_recall_m: 0.7730\n",
      "Epoch 23/50\n",
      "140/140 [==============================] - 43s 311ms/step - loss: 0.5661 - acc: 0.7997 - f1_m: 0.7930 - precision_m: 0.8046 - recall_m: 0.7946 - val_loss: 0.5253 - val_acc: 0.8197 - val_f1_m: 0.8189 - val_precision_m: 0.8293 - val_recall_m: 0.8128\n",
      "Epoch 24/50\n",
      "140/140 [==============================] - 44s 313ms/step - loss: 0.5392 - acc: 0.8109 - f1_m: 0.8124 - precision_m: 0.8068 - recall_m: 0.8251 - val_loss: 0.5191 - val_acc: 0.8268 - val_f1_m: 0.8289 - val_precision_m: 0.8255 - val_recall_m: 0.8353\n",
      "Epoch 25/50\n",
      "140/140 [==============================] - 44s 313ms/step - loss: 0.5366 - acc: 0.8222 - f1_m: 0.8215 - precision_m: 0.8158 - recall_m: 0.8323 - val_loss: 0.5269 - val_acc: 0.8173 - val_f1_m: 0.8127 - val_precision_m: 0.8402 - val_recall_m: 0.7899\n",
      "Epoch 26/50\n",
      "140/140 [==============================] - 43s 309ms/step - loss: 0.5392 - acc: 0.8170 - f1_m: 0.8168 - precision_m: 0.8124 - recall_m: 0.8299 - val_loss: 0.6203 - val_acc: 0.7900 - val_f1_m: 0.8184 - val_precision_m: 0.7248 - val_recall_m: 0.9427\n",
      "Epoch 27/50\n",
      "140/140 [==============================] - 43s 307ms/step - loss: 0.5680 - acc: 0.8131 - f1_m: 0.8144 - precision_m: 0.8085 - recall_m: 0.8273 - val_loss: 0.5167 - val_acc: 0.8252 - val_f1_m: 0.8270 - val_precision_m: 0.8255 - val_recall_m: 0.8317\n",
      "Epoch 28/50\n",
      "140/140 [==============================] - 43s 305ms/step - loss: 0.5403 - acc: 0.8201 - f1_m: 0.8187 - precision_m: 0.8138 - recall_m: 0.8296 - val_loss: 0.5163 - val_acc: 0.8250 - val_f1_m: 0.8257 - val_precision_m: 0.8296 - val_recall_m: 0.8254\n",
      "Epoch 29/50\n",
      "140/140 [==============================] - 43s 305ms/step - loss: 0.5114 - acc: 0.8351 - f1_m: 0.8317 - precision_m: 0.8326 - recall_m: 0.8366 - val_loss: 0.5391 - val_acc: 0.8243 - val_f1_m: 0.8289 - val_precision_m: 0.8133 - val_recall_m: 0.8483\n",
      "Epoch 30/50\n",
      "140/140 [==============================] - 42s 303ms/step - loss: 0.5595 - acc: 0.8137 - f1_m: 0.8116 - precision_m: 0.8098 - recall_m: 0.8213 - val_loss: 0.5250 - val_acc: 0.8227 - val_f1_m: 0.8356 - val_precision_m: 0.7843 - val_recall_m: 0.8975\n",
      "Epoch 31/50\n",
      "140/140 [==============================] - 43s 306ms/step - loss: 0.5603 - acc: 0.8080 - f1_m: 0.8101 - precision_m: 0.8015 - recall_m: 0.8288 - val_loss: 0.5254 - val_acc: 0.8230 - val_f1_m: 0.8318 - val_precision_m: 0.7981 - val_recall_m: 0.8718\n",
      "Epoch 32/50\n"
     ]
    },
    {
     "name": "stdout",
     "output_type": "stream",
     "text": [
      "140/140 [==============================] - 43s 306ms/step - loss: 0.5224 - acc: 0.8277 - f1_m: 0.8284 - precision_m: 0.8174 - recall_m: 0.8451 - val_loss: 0.5096 - val_acc: 0.8318 - val_f1_m: 0.8319 - val_precision_m: 0.8378 - val_recall_m: 0.8293\n",
      "Epoch 33/50\n",
      "140/140 [==============================] - 43s 304ms/step - loss: 0.5277 - acc: 0.8212 - f1_m: 0.8247 - precision_m: 0.8132 - recall_m: 0.8434 - val_loss: 0.5371 - val_acc: 0.8228 - val_f1_m: 0.8263 - val_precision_m: 0.8143 - val_recall_m: 0.8416\n",
      "Epoch 34/50\n",
      "140/140 [==============================] - 43s 305ms/step - loss: 0.5358 - acc: 0.8211 - f1_m: 0.8215 - precision_m: 0.8126 - recall_m: 0.8377 - val_loss: 0.5352 - val_acc: 0.8217 - val_f1_m: 0.8262 - val_precision_m: 0.8119 - val_recall_m: 0.8439\n",
      "Epoch 35/50\n",
      "140/140 [==============================] - 43s 305ms/step - loss: 0.5470 - acc: 0.8219 - f1_m: 0.8242 - precision_m: 0.8158 - recall_m: 0.8404 - val_loss: 0.5155 - val_acc: 0.8327 - val_f1_m: 0.8363 - val_precision_m: 0.8243 - val_recall_m: 0.8522\n",
      "Epoch 36/50\n",
      "140/140 [==============================] - 43s 305ms/step - loss: 0.5212 - acc: 0.8301 - f1_m: 0.8303 - precision_m: 0.8191 - recall_m: 0.8470 - val_loss: 0.5703 - val_acc: 0.8088 - val_f1_m: 0.8270 - val_precision_m: 0.7592 - val_recall_m: 0.9110\n",
      "Epoch 37/50\n",
      "140/140 [==============================] - 43s 307ms/step - loss: 0.5711 - acc: 0.8093 - f1_m: 0.8095 - precision_m: 0.8104 - recall_m: 0.8196 - val_loss: 0.5664 - val_acc: 0.7918 - val_f1_m: 0.7646 - val_precision_m: 0.8886 - val_recall_m: 0.6751\n",
      "Epoch 38/50\n",
      "140/140 [==============================] - 42s 300ms/step - loss: 0.5256 - acc: 0.8283 - f1_m: 0.8295 - precision_m: 0.8201 - recall_m: 0.8459 - val_loss: 0.5602 - val_acc: 0.8177 - val_f1_m: 0.8355 - val_precision_m: 0.7648 - val_recall_m: 0.9233\n",
      "Epoch 39/50\n",
      "140/140 [==============================] - 42s 301ms/step - loss: 1.0544 - acc: 0.6741 - f1_m: 0.6582 - precision_m: 0.6829 - recall_m: 0.6767 - val_loss: 0.7044 - val_acc: 0.7842 - val_f1_m: 0.7955 - val_precision_m: 0.7611 - val_recall_m: 0.8370\n",
      "Epoch 40/50\n",
      "140/140 [==============================] - 42s 303ms/step - loss: 0.6795 - acc: 0.7646 - f1_m: 0.7656 - precision_m: 0.7571 - recall_m: 0.7833 - val_loss: 0.5962 - val_acc: 0.7928 - val_f1_m: 0.7919 - val_precision_m: 0.8012 - val_recall_m: 0.7865\n",
      "Epoch 41/50\n",
      "140/140 [==============================] - 42s 303ms/step - loss: 0.5944 - acc: 0.7847 - f1_m: 0.7889 - precision_m: 0.7789 - recall_m: 0.8076 - val_loss: 0.5265 - val_acc: 0.8180 - val_f1_m: 0.8317 - val_precision_m: 0.7781 - val_recall_m: 0.8961\n",
      "Epoch 42/50\n",
      "140/140 [==============================] - 42s 301ms/step - loss: 0.5541 - acc: 0.8086 - f1_m: 0.8097 - precision_m: 0.7964 - recall_m: 0.8330 - val_loss: 0.5574 - val_acc: 0.8155 - val_f1_m: 0.8109 - val_precision_m: 0.8386 - val_recall_m: 0.7887\n",
      "Epoch 43/50\n",
      "140/140 [==============================] - 42s 301ms/step - loss: 0.5678 - acc: 0.8048 - f1_m: 0.8056 - precision_m: 0.7978 - recall_m: 0.8205 - val_loss: 0.5367 - val_acc: 0.8040 - val_f1_m: 0.7897 - val_precision_m: 0.8605 - val_recall_m: 0.7334\n",
      "Epoch 44/50\n",
      "140/140 [==============================] - 42s 302ms/step - loss: 0.5360 - acc: 0.8162 - f1_m: 0.8184 - precision_m: 0.8057 - recall_m: 0.8400 - val_loss: 0.4950 - val_acc: 0.8315 - val_f1_m: 0.8385 - val_precision_m: 0.8109 - val_recall_m: 0.8707\n",
      "Epoch 45/50\n",
      "140/140 [==============================] - 42s 302ms/step - loss: 0.5481 - acc: 0.8011 - f1_m: 0.7994 - precision_m: 0.7991 - recall_m: 0.8097 - val_loss: 0.5451 - val_acc: 0.8148 - val_f1_m: 0.8217 - val_precision_m: 0.7989 - val_recall_m: 0.8494\n",
      "Epoch 46/50\n",
      "140/140 [==============================] - 42s 301ms/step - loss: 0.5470 - acc: 0.8181 - f1_m: 0.8188 - precision_m: 0.8107 - recall_m: 0.8369 - val_loss: 0.5374 - val_acc: 0.8170 - val_f1_m: 0.8123 - val_precision_m: 0.8425 - val_recall_m: 0.7878\n",
      "Epoch 47/50\n",
      "140/140 [==============================] - 42s 301ms/step - loss: 0.5458 - acc: 0.8110 - f1_m: 0.8111 - precision_m: 0.8061 - recall_m: 0.8240 - val_loss: 0.5299 - val_acc: 0.8138 - val_f1_m: 0.8202 - val_precision_m: 0.7990 - val_recall_m: 0.8463\n",
      "Epoch 48/50\n",
      "140/140 [==============================] - 42s 301ms/step - loss: 0.5333 - acc: 0.8174 - f1_m: 0.8128 - precision_m: 0.8084 - recall_m: 0.8259 - val_loss: 0.4899 - val_acc: 0.8328 - val_f1_m: 0.8374 - val_precision_m: 0.8210 - val_recall_m: 0.8579\n",
      "Epoch 49/50\n",
      "140/140 [==============================] - 42s 302ms/step - loss: 0.5140 - acc: 0.8251 - f1_m: 0.8279 - precision_m: 0.8184 - recall_m: 0.8442 - val_loss: 0.5471 - val_acc: 0.8203 - val_f1_m: 0.8302 - val_precision_m: 0.7926 - val_recall_m: 0.8755\n",
      "Epoch 50/50\n",
      "140/140 [==============================] - 42s 303ms/step - loss: 0.5286 - acc: 0.8210 - f1_m: 0.8242 - precision_m: 0.8095 - recall_m: 0.8457 - val_loss: 0.5395 - val_acc: 0.7987 - val_f1_m: 0.7776 - val_precision_m: 0.8751 - val_recall_m: 0.7039\n",
      "188/188 [==============================] - 4s 19ms/step - loss: 0.5395 - acc: 0.7987 - f1_m: 0.7717 - precision_m: 0.8733 - recall_m: 0.7022\n",
      "Test loss: 0.5394777655601501\n",
      "Test accuracy: 0.7986666560173035\n",
      "Test f1: 0.7717451453208923\n",
      "Test precision: 0.8732892870903015\n",
      "Test recall: 0.7022268176078796\n"
     ]
    }
   ],
   "source": [
    "# 1 conv layer / 100 bs / 50 epoch HitPeak images\n",
    "def CNN_model():\n",
    "    shape = (image_size[0], image_size[1], image_size[2])\n",
    "    model = Sequential()\n",
    "    \n",
    "    # 1 conv layer\n",
    "    model.add(Conv2D(16, (3,3), strides = (1,1), input_shape=shape,kernel_regularizer=l2(0.005)))\n",
    "    model.add(keras.layers.LeakyReLU(alpha=0.05))\n",
    "    model.add(MaxPooling2D(pool_size=(2, 2), strides = (1,1)))\n",
    "\n",
    "    # 2 conv layers\n",
    "    #model.add(Conv2D(16,(3,3),kernel_regularizer=l2(0.005)))\n",
    "    #model.add(keras.layers.LeakyReLU(alpha=0.05))\n",
    "    #model.add(MaxPooling2D(pool_size=(2, 2)))\n",
    "\n",
    "    # 3 conv layers\n",
    "    #model.add(Conv2D(16,(3,3),kernel_regularizer=l2(0.005)))\n",
    "    #model.add(keras.layers.LeakyReLU(alpha=0.05))\n",
    "    #model.add(MaxPooling2D(pool_size=(2, 2)))\n",
    "    \n",
    "    model.add(Dropout(0.25)) \n",
    "    model.add(Flatten())\n",
    "\n",
    "    model.add(Dense(32, bias_regularizer=regularizers.l2(0.001),kernel_regularizer=regularizers.l2(0.001)))\n",
    "    model.add(keras.layers.LeakyReLU(alpha=0.05))    \n",
    "    model.add(Dropout(0.5)) \n",
    "\n",
    "    # Output layer\n",
    "    model.add(Dense(1))\n",
    "    model.add(Activation('sigmoid'))\n",
    "\n",
    "    # Compile the model\n",
    "    model.compile(loss='binary_crossentropy',\n",
    "                    optimizer='adam',\n",
    "                    metrics=['acc', f1_m, precision_m, recall_m])\n",
    "    return model\n",
    "\n",
    "def run_CNN():\n",
    "    model = CNN_model()\n",
    "    model.fit(x_train, y_train, epochs=50, batch_size=100, verbose=1, validation_data=(x_val, y_val))\n",
    "    model.save(model_name)\n",
    "    #model.save_weights('final_weights.h5')\n",
    "    score = model.evaluate(x_val, y_val, verbose=1)\n",
    "    print('Test loss:', score[0])\n",
    "    print('Test accuracy:', score[1])\n",
    "    print('Test f1:', score[2])\n",
    "    print('Test precision:', score[3])\n",
    "    print('Test recall:', score[4])\n",
    "\n",
    "run_CNN()"
   ]
  },
  {
   "cell_type": "markdown",
   "metadata": {},
   "source": [
    "##### Test with the validation set (just to see)"
   ]
  },
  {
   "cell_type": "code",
   "execution_count": 13,
   "metadata": {},
   "outputs": [],
   "source": [
    "##################################\n",
    "# USING TO TEST THE TRAINING SET # THIS IS WRONG! but to see\n",
    "##################################\n",
    "\n",
    "x_test2 = x_val\n",
    "y_test2 = y_val"
   ]
  },
  {
   "cell_type": "code",
   "execution_count": 14,
   "metadata": {
    "scrolled": false
   },
   "outputs": [
    {
     "name": "stdout",
     "output_type": "stream",
     "text": [
      "Model: \"sequential\"\n",
      "_________________________________________________________________\n",
      "Layer (type)                 Output Shape              Param #   \n",
      "=================================================================\n",
      "conv2d (Conv2D)              (None, 126, 126, 16)      592       \n",
      "_________________________________________________________________\n",
      "leaky_re_lu (LeakyReLU)      (None, 126, 126, 16)      0         \n",
      "_________________________________________________________________\n",
      "max_pooling2d (MaxPooling2D) (None, 125, 125, 16)      0         \n",
      "_________________________________________________________________\n",
      "dropout (Dropout)            (None, 125, 125, 16)      0         \n",
      "_________________________________________________________________\n",
      "flatten (Flatten)            (None, 250000)            0         \n",
      "_________________________________________________________________\n",
      "dense (Dense)                (None, 32)                8000032   \n",
      "_________________________________________________________________\n",
      "leaky_re_lu_1 (LeakyReLU)    (None, 32)                0         \n",
      "_________________________________________________________________\n",
      "dropout_1 (Dropout)          (None, 32)                0         \n",
      "_________________________________________________________________\n",
      "dense_1 (Dense)              (None, 1)                 33        \n",
      "_________________________________________________________________\n",
      "activation (Activation)      (None, 1)                 0         \n",
      "=================================================================\n",
      "Total params: 8,000,657\n",
      "Trainable params: 8,000,657\n",
      "Non-trainable params: 0\n",
      "_________________________________________________________________\n",
      "188/188 [==============================] - 4s 18ms/step - loss: 0.5351 - acc: 0.8014 - f1_m: 0.7748 - precision_m: 0.8804 - recall_m: 0.7021\n",
      "acc: 79.87%\n"
     ]
    },
    {
     "name": "stderr",
     "output_type": "stream",
     "text": [
      "/home/andres/anaconda3/lib/python3.8/site-packages/keras/engine/sequential.py:425: UserWarning: `model.predict_proba()` is deprecated and will be removed after 2021-01-01. Please use `model.predict()` instead.\n",
      "  warnings.warn('`model.predict_proba()` is deprecated and '\n"
     ]
    },
    {
     "name": "stdout",
     "output_type": "stream",
     "text": [
      "Logistic: f1=0.779 auc=0.9031552\n"
     ]
    },
    {
     "data": {
      "image/png": "[encoded data removed]",
      "text/plain": [
       "<Figure size 432x288 with 1 Axes>"
      ]
     },
     "metadata": {
      "needs_background": "light"
     },
     "output_type": "display_data"
    },
    {
     "name": "stdout",
     "output_type": "stream",
     "text": [
      "Accuracy: 0.7986666666666666\n",
      "Average precision: 0.7642557972546024\n",
      "recall: 0.7026402640264027\n",
      "AUC:0.8633903290575363\n",
      "Predicted   0.0   1.0\n",
      "Actual               \n",
      "0.0        2663   307\n",
      "1.0         901  2129\n"
     ]
    },
    {
     "data": {
      "image/png": "[encoded data removed]",
      "text/plain": [
       "<Figure size 288x288 with 2 Axes>"
      ]
     },
     "metadata": {
      "needs_background": "light"
     },
     "output_type": "display_data"
    },
    {
     "data": {
      "image/png": "[encoded data removed]",
      "text/plain": [
       "<Figure size 432x288 with 1 Axes>"
      ]
     },
     "metadata": {
      "needs_background": "light"
     },
     "output_type": "display_data"
    },
    {
     "name": "stdout",
     "output_type": "stream",
     "text": [
      "ROC AUC:  0.9075319198586526\n"
     ]
    }
   ],
   "source": [
    "###########################\n",
    "# TEST WITH THE TRAIN SET # just to see\n",
    "###########################\n",
    "\n",
    "dependencies = {\n",
    "    'f1_m' : f1_m, \n",
    "    'precision_m' : precision_m,\n",
    "    'recall_m': recall_m,\n",
    "}\n",
    "\n",
    "model = keras.models.load_model(model_name, custom_objects=dependencies)\n",
    "\n",
    "model.compile(loss='binary_crossentropy',\n",
    "                    optimizer='adam',\n",
    "                    metrics=['acc', f1_m, precision_m, recall_m])\n",
    "\n",
    "model.summary()\n",
    "\n",
    "\n",
    "\n",
    "score = model.evaluate(x_test2, y_test2, verbose=1)\n",
    "print(\"%s: %.2f%%\" % (model.metrics_names[1], score[1]*100))\n",
    "\n",
    "\n",
    "from sklearn.datasets import make_classification\n",
    "from sklearn.linear_model import LogisticRegression\n",
    "from sklearn.model_selection import train_test_split\n",
    "from sklearn.metrics import precision_recall_curve\n",
    "from sklearn.metrics import f1_score\n",
    "from sklearn.metrics import auc\n",
    "from matplotlib import pyplot\n",
    "\n",
    "\n",
    "lr_probs = model.predict_proba(x_test2)    # Predict probabilities\n",
    "yhat = model.predict(x_test2)      # Predict class values\n",
    "yhat_original = yhat\n",
    "yhat = np.round(yhat)\n",
    "lr_precision, lr_recall, _ = precision_recall_curve(y_test2, lr_probs)\n",
    "lr_f1, lr_auc = f1_score(y_test2, yhat), auc(lr_recall, lr_precision)\n",
    "print('Logistic: f1=%.3f auc=%.7f' % (lr_f1, lr_auc))   # Summarise scores\n",
    "''' plot the precision-recall curves '''\n",
    "no_skill = len(y_test2[y_test2==1]) / len(y_test2)\n",
    "pyplot.plot(lr_recall, lr_precision, 'r-', label='F1 = %0.2f' %(lr_f1))\n",
    "pyplot.xlabel('Recall')\n",
    "pyplot.ylabel('Precision')\n",
    "pyplot.legend(loc='lower left')\n",
    "plt.title('Precision-Recall (PR) Curve')\n",
    "pyplot.show()\n",
    "\n",
    "## Save precision and recall data to plot PR curve seperately\n",
    "#np.savetxt(\"/content/drive/My Drive/Colab Notebooks/precision_HP.txt\",lr_precision)\n",
    "#np.savetxt(\"/content/drive/My Drive/Colab Notebooks/recall_HP.txt\",lr_recall)\n",
    "\n",
    "\n",
    "test_predictions = yhat             # Make a prediction on the test set\n",
    "accuracy = accuracy_score(y_test2, test_predictions)\n",
    "print(\"Accuracy: \" + str(accuracy))\n",
    "average_precision = average_precision_score(y_test2, test_predictions)\n",
    "print(\"Average precision: \" + str(average_precision))\n",
    "\n",
    "from sklearn.metrics import precision_recall_curve\n",
    "\n",
    "precision, recall, threshold = precision_recall_curve(y_test2, test_predictions)\n",
    "auc = auc(recall, precision)\n",
    "recall1 = recall_score(y_test2, np.round(test_predictions))\n",
    "print(\"recall: \" + str(recall1))\n",
    "print('AUC:' +str(auc))\n",
    "\n",
    "\n",
    "# Report Confusion Matrix\n",
    "y_actu = pd.Series(y_test2.ravel(), name='Actual')\n",
    "y_pred = pd.Series(np.round(test_predictions.ravel()), name='Predicted')\n",
    "df_confusion = pd.crosstab(y_actu, y_pred)\n",
    "print(df_confusion)\n",
    "\n",
    "# Plot confusion matrix\n",
    "def plot_confusion_matrix(df_confusion, cmap='YlGn'):\n",
    "    plt.matshow(df_confusion, cmap=cmap) # imshow\n",
    "    plt.colorbar()\n",
    "    tick_marks = np.arange(0,len(df_confusion.columns))\n",
    "    plt.xticks(tick_marks, df_confusion.columns)\n",
    "    plt.yticks(tick_marks, df_confusion.index)\n",
    "    plt.ylabel(df_confusion.index.name)\n",
    "    plt.xlabel(df_confusion.columns.name)\n",
    "    for i in range(len(df_confusion.index)):\n",
    "        for j in range(len(df_confusion.columns)):\n",
    "            plt.text(j,i,str(df_confusion.iloc[i,j]))\n",
    "    plt.show()\n",
    "\n",
    "plot_confusion_matrix(df_confusion)\n",
    "\n",
    "from sklearn.metrics import roc_curve\n",
    "from sklearn.metrics import roc_auc_score\n",
    "\n",
    "def plot_roc_curve(fpr, tpr):\n",
    "    plt.plot(fpr, tpr, color='darkblue', label='AUC = %0.2f' %(auc))\n",
    "    plt.plot([0, 1], [0, 1], color='orange', linestyle='--')\n",
    "    plt.xlabel('False Positive Rate')\n",
    "    plt.ylabel('True Positive Rate')\n",
    "    plt.title('Receiver Operating Characteristic (ROC) Curve')\n",
    "    plt.legend()\n",
    "    plt.show()\n",
    "    \n",
    "    \n",
    "from sklearn.metrics import roc_curve, roc_auc_score, auc\n",
    "\n",
    "fpr, tpr, thresholds = roc_curve(y_test2, yhat_original)\n",
    "auc = auc(fpr, tpr)\n",
    "# Save tpr and fpr to plot seperate ROC curve\n",
    "#np.savetxt(\"/content/drive/My Drive/Colab Notebooks/tpr.txt\",tpr)\n",
    "#np.savetxt(\"/content/drive/My Drive/Colab Notebooks/fpr.txt\",fpr)\n",
    "plot_roc_curve(fpr, tpr)\n",
    "\n",
    "print('ROC AUC: ', auc)"
   ]
  },
  {
   "cell_type": "code",
   "execution_count": 21,
   "metadata": {
    "scrolled": true
   },
   "outputs": [
    {
     "name": "stdout",
     "output_type": "stream",
     "text": [
      "Model: \"sequential_18\"\n",
      "_________________________________________________________________\n",
      "Layer (type)                 Output Shape              Param #   \n",
      "=================================================================\n",
      "conv2d_28 (Conv2D)           (None, 73, 73, 16)        592       \n",
      "_________________________________________________________________\n",
      "leaky_re_lu_45 (LeakyReLU)   (None, 73, 73, 16)        0         \n",
      "_________________________________________________________________\n",
      "max_pooling2d_28 (MaxPooling (None, 72, 72, 16)        0         \n",
      "_________________________________________________________________\n",
      "dropout_35 (Dropout)         (None, 72, 72, 16)        0         \n",
      "_________________________________________________________________\n",
      "flatten_18 (Flatten)         (None, 82944)             0         \n",
      "_________________________________________________________________\n",
      "dense_35 (Dense)             (None, 32)                2654240   \n",
      "_________________________________________________________________\n",
      "leaky_re_lu_46 (LeakyReLU)   (None, 32)                0         \n",
      "_________________________________________________________________\n",
      "dropout_36 (Dropout)         (None, 32)                0         \n",
      "_________________________________________________________________\n",
      "dense_36 (Dense)             (None, 1)                 33        \n",
      "_________________________________________________________________\n",
      "activation_18 (Activation)   (None, 1)                 0         \n",
      "=================================================================\n",
      "Total params: 2,654,865\n",
      "Trainable params: 2,654,865\n",
      "Non-trainable params: 0\n",
      "_________________________________________________________________\n",
      "WARNING:tensorflow:Model was constructed with shape (None, 75, 75, 4) for input KerasTensor(type_spec=TensorSpec(shape=(None, 75, 75, 4), dtype=tf.float32, name='conv2d_28_input'), name='conv2d_28_input', description=\"created by layer 'conv2d_28_input'\"), but it was called on an input with incompatible shape (None, 128, 128, 4).\n"
     ]
    },
    {
     "ename": "ValueError",
     "evalue": "in user code:\n\n    /home/andres/anaconda3/lib/python3.8/site-packages/keras/engine/training.py:1544 predict_function  *\n        return step_function(self, iterator)\n    /home/andres/anaconda3/lib/python3.8/site-packages/keras/engine/training.py:1527 run_step  *\n        outputs = model.predict_step(data)\n    /home/andres/anaconda3/lib/python3.8/site-packages/keras/engine/training.py:1500 predict_step  *\n        return self(x, training=False)\n    /home/andres/anaconda3/lib/python3.8/site-packages/keras/engine/base_layer.py:989 __call__  *\n        input_spec.assert_input_compatibility(self.input_spec, inputs, self.name)\n    /home/andres/anaconda3/lib/python3.8/site-packages/keras/engine/sequential.py:375 call  *\n        return super(Sequential, self).call(inputs, training=training, mask=mask)\n    /home/andres/anaconda3/lib/python3.8/site-packages/keras/engine/functional.py:416 call  *\n        inputs, training=training, mask=mask)\n    /home/andres/anaconda3/lib/python3.8/site-packages/keras/engine/functional.py:551 _run_internal_graph  *\n        outputs = node.layer(*args, **kwargs)\n    /home/andres/anaconda3/lib/python3.8/site-packages/keras/engine/base_layer.py:989 __call__  *\n        input_spec.assert_input_compatibility(self.input_spec, inputs, self.name)\n    /home/andres/anaconda3/lib/python3.8/site-packages/keras/engine/input_spec.py:248 assert_input_compatibility  *\n        raise ValueError(\n\n    ValueError: Input 0 of layer dense_35 is incompatible with the layer: expected axis -1 of input shape to have value 82944 but received input with shape (None, 250000)\n",
     "output_type": "error",
     "traceback": [
      "\u001b[0;31m---------------------------------------------------------------------------\u001b[0m",
      "\u001b[0;31mValueError\u001b[0m                                Traceback (most recent call last)",
      "\u001b[0;32m<ipython-input-21-55eb8574cd4f>\u001b[0m in \u001b[0;36m<module>\u001b[0;34m\u001b[0m\n\u001b[1;32m     20\u001b[0m \u001b[0;32mfrom\u001b[0m \u001b[0msklearn\u001b[0m\u001b[0;34m.\u001b[0m\u001b[0mmetrics\u001b[0m \u001b[0;32mimport\u001b[0m \u001b[0mroc_curve\u001b[0m\u001b[0;34m,\u001b[0m \u001b[0mroc_auc_score\u001b[0m\u001b[0;34m,\u001b[0m \u001b[0mauc\u001b[0m\u001b[0;34m\u001b[0m\u001b[0;34m\u001b[0m\u001b[0m\n\u001b[1;32m     21\u001b[0m \u001b[0;34m\u001b[0m\u001b[0m\n\u001b[0;32m---> 22\u001b[0;31m \u001b[0myhat2\u001b[0m \u001b[0;34m=\u001b[0m \u001b[0mmodel\u001b[0m\u001b[0;34m.\u001b[0m\u001b[0mpredict\u001b[0m\u001b[0;34m(\u001b[0m\u001b[0mx_test2\u001b[0m\u001b[0;34m)\u001b[0m      \u001b[0;31m# Predict class values\u001b[0m\u001b[0;34m\u001b[0m\u001b[0;34m\u001b[0m\u001b[0m\n\u001b[0m\u001b[1;32m     23\u001b[0m \u001b[0mfpr\u001b[0m\u001b[0;34m,\u001b[0m \u001b[0mtpr\u001b[0m\u001b[0;34m,\u001b[0m \u001b[0mthresholds\u001b[0m \u001b[0;34m=\u001b[0m \u001b[0mroc_curve\u001b[0m\u001b[0;34m(\u001b[0m\u001b[0my_test2\u001b[0m\u001b[0;34m,\u001b[0m \u001b[0myhat2\u001b[0m\u001b[0;34m)\u001b[0m\u001b[0;34m\u001b[0m\u001b[0;34m\u001b[0m\u001b[0m\n\u001b[1;32m     24\u001b[0m \u001b[0mauc\u001b[0m \u001b[0;34m=\u001b[0m \u001b[0mauc\u001b[0m\u001b[0;34m(\u001b[0m\u001b[0mfpr\u001b[0m\u001b[0;34m,\u001b[0m \u001b[0mtpr\u001b[0m\u001b[0;34m)\u001b[0m\u001b[0;34m\u001b[0m\u001b[0;34m\u001b[0m\u001b[0m\n",
      "\u001b[0;32m~/anaconda3/lib/python3.8/site-packages/keras/engine/training.py\u001b[0m in \u001b[0;36mpredict\u001b[0;34m(self, x, batch_size, verbose, steps, callbacks, max_queue_size, workers, use_multiprocessing)\u001b[0m\n\u001b[1;32m   1700\u001b[0m           \u001b[0;32mfor\u001b[0m \u001b[0mstep\u001b[0m \u001b[0;32min\u001b[0m \u001b[0mdata_handler\u001b[0m\u001b[0;34m.\u001b[0m\u001b[0msteps\u001b[0m\u001b[0;34m(\u001b[0m\u001b[0;34m)\u001b[0m\u001b[0;34m:\u001b[0m\u001b[0;34m\u001b[0m\u001b[0;34m\u001b[0m\u001b[0m\n\u001b[1;32m   1701\u001b[0m             \u001b[0mcallbacks\u001b[0m\u001b[0;34m.\u001b[0m\u001b[0mon_predict_batch_begin\u001b[0m\u001b[0;34m(\u001b[0m\u001b[0mstep\u001b[0m\u001b[0;34m)\u001b[0m\u001b[0;34m\u001b[0m\u001b[0;34m\u001b[0m\u001b[0m\n\u001b[0;32m-> 1702\u001b[0;31m             \u001b[0mtmp_batch_outputs\u001b[0m \u001b[0;34m=\u001b[0m \u001b[0mself\u001b[0m\u001b[0;34m.\u001b[0m\u001b[0mpredict_function\u001b[0m\u001b[0;34m(\u001b[0m\u001b[0miterator\u001b[0m\u001b[0;34m)\u001b[0m\u001b[0;34m\u001b[0m\u001b[0;34m\u001b[0m\u001b[0m\n\u001b[0m\u001b[1;32m   1703\u001b[0m             \u001b[0;32mif\u001b[0m \u001b[0mdata_handler\u001b[0m\u001b[0;34m.\u001b[0m\u001b[0mshould_sync\u001b[0m\u001b[0;34m:\u001b[0m\u001b[0;34m\u001b[0m\u001b[0;34m\u001b[0m\u001b[0m\n\u001b[1;32m   1704\u001b[0m               \u001b[0mcontext\u001b[0m\u001b[0;34m.\u001b[0m\u001b[0masync_wait\u001b[0m\u001b[0;34m(\u001b[0m\u001b[0;34m)\u001b[0m\u001b[0;34m\u001b[0m\u001b[0;34m\u001b[0m\u001b[0m\n",
      "\u001b[0;32m~/anaconda3/lib/python3.8/site-packages/tensorflow/python/eager/def_function.py\u001b[0m in \u001b[0;36m__call__\u001b[0;34m(self, *args, **kwds)\u001b[0m\n\u001b[1;32m    887\u001b[0m \u001b[0;34m\u001b[0m\u001b[0m\n\u001b[1;32m    888\u001b[0m       \u001b[0;32mwith\u001b[0m \u001b[0mOptionalXlaContext\u001b[0m\u001b[0;34m(\u001b[0m\u001b[0mself\u001b[0m\u001b[0;34m.\u001b[0m\u001b[0m_jit_compile\u001b[0m\u001b[0;34m)\u001b[0m\u001b[0;34m:\u001b[0m\u001b[0;34m\u001b[0m\u001b[0;34m\u001b[0m\u001b[0m\n\u001b[0;32m--> 889\u001b[0;31m         \u001b[0mresult\u001b[0m \u001b[0;34m=\u001b[0m \u001b[0mself\u001b[0m\u001b[0;34m.\u001b[0m\u001b[0m_call\u001b[0m\u001b[0;34m(\u001b[0m\u001b[0;34m*\u001b[0m\u001b[0margs\u001b[0m\u001b[0;34m,\u001b[0m \u001b[0;34m**\u001b[0m\u001b[0mkwds\u001b[0m\u001b[0;34m)\u001b[0m\u001b[0;34m\u001b[0m\u001b[0;34m\u001b[0m\u001b[0m\n\u001b[0m\u001b[1;32m    890\u001b[0m \u001b[0;34m\u001b[0m\u001b[0m\n\u001b[1;32m    891\u001b[0m       \u001b[0mnew_tracing_count\u001b[0m \u001b[0;34m=\u001b[0m \u001b[0mself\u001b[0m\u001b[0;34m.\u001b[0m\u001b[0mexperimental_get_tracing_count\u001b[0m\u001b[0;34m(\u001b[0m\u001b[0;34m)\u001b[0m\u001b[0;34m\u001b[0m\u001b[0;34m\u001b[0m\u001b[0m\n",
      "\u001b[0;32m~/anaconda3/lib/python3.8/site-packages/tensorflow/python/eager/def_function.py\u001b[0m in \u001b[0;36m_call\u001b[0;34m(self, *args, **kwds)\u001b[0m\n\u001b[1;32m    931\u001b[0m       \u001b[0;31m# This is the first call of __call__, so we have to initialize.\u001b[0m\u001b[0;34m\u001b[0m\u001b[0;34m\u001b[0m\u001b[0;34m\u001b[0m\u001b[0m\n\u001b[1;32m    932\u001b[0m       \u001b[0minitializers\u001b[0m \u001b[0;34m=\u001b[0m \u001b[0;34m[\u001b[0m\u001b[0;34m]\u001b[0m\u001b[0;34m\u001b[0m\u001b[0;34m\u001b[0m\u001b[0m\n\u001b[0;32m--> 933\u001b[0;31m       \u001b[0mself\u001b[0m\u001b[0;34m.\u001b[0m\u001b[0m_initialize\u001b[0m\u001b[0;34m(\u001b[0m\u001b[0margs\u001b[0m\u001b[0;34m,\u001b[0m \u001b[0mkwds\u001b[0m\u001b[0;34m,\u001b[0m \u001b[0madd_initializers_to\u001b[0m\u001b[0;34m=\u001b[0m\u001b[0minitializers\u001b[0m\u001b[0;34m)\u001b[0m\u001b[0;34m\u001b[0m\u001b[0;34m\u001b[0m\u001b[0m\n\u001b[0m\u001b[1;32m    934\u001b[0m     \u001b[0;32mfinally\u001b[0m\u001b[0;34m:\u001b[0m\u001b[0;34m\u001b[0m\u001b[0;34m\u001b[0m\u001b[0m\n\u001b[1;32m    935\u001b[0m       \u001b[0;31m# At this point we know that the initialization is complete (or less\u001b[0m\u001b[0;34m\u001b[0m\u001b[0;34m\u001b[0m\u001b[0;34m\u001b[0m\u001b[0m\n",
      "\u001b[0;32m~/anaconda3/lib/python3.8/site-packages/tensorflow/python/eager/def_function.py\u001b[0m in \u001b[0;36m_initialize\u001b[0;34m(self, args, kwds, add_initializers_to)\u001b[0m\n\u001b[1;32m    761\u001b[0m     \u001b[0mself\u001b[0m\u001b[0;34m.\u001b[0m\u001b[0m_graph_deleter\u001b[0m \u001b[0;34m=\u001b[0m \u001b[0mFunctionDeleter\u001b[0m\u001b[0;34m(\u001b[0m\u001b[0mself\u001b[0m\u001b[0;34m.\u001b[0m\u001b[0m_lifted_initializer_graph\u001b[0m\u001b[0;34m)\u001b[0m\u001b[0;34m\u001b[0m\u001b[0;34m\u001b[0m\u001b[0m\n\u001b[1;32m    762\u001b[0m     self._concrete_stateful_fn = (\n\u001b[0;32m--> 763\u001b[0;31m         self._stateful_fn._get_concrete_function_internal_garbage_collected(  # pylint: disable=protected-access\n\u001b[0m\u001b[1;32m    764\u001b[0m             *args, **kwds))\n\u001b[1;32m    765\u001b[0m \u001b[0;34m\u001b[0m\u001b[0m\n",
      "\u001b[0;32m~/anaconda3/lib/python3.8/site-packages/tensorflow/python/eager/function.py\u001b[0m in \u001b[0;36m_get_concrete_function_internal_garbage_collected\u001b[0;34m(self, *args, **kwargs)\u001b[0m\n\u001b[1;32m   3048\u001b[0m       \u001b[0margs\u001b[0m\u001b[0;34m,\u001b[0m \u001b[0mkwargs\u001b[0m \u001b[0;34m=\u001b[0m \u001b[0;32mNone\u001b[0m\u001b[0;34m,\u001b[0m \u001b[0;32mNone\u001b[0m\u001b[0;34m\u001b[0m\u001b[0;34m\u001b[0m\u001b[0m\n\u001b[1;32m   3049\u001b[0m     \u001b[0;32mwith\u001b[0m \u001b[0mself\u001b[0m\u001b[0;34m.\u001b[0m\u001b[0m_lock\u001b[0m\u001b[0;34m:\u001b[0m\u001b[0;34m\u001b[0m\u001b[0;34m\u001b[0m\u001b[0m\n\u001b[0;32m-> 3050\u001b[0;31m       \u001b[0mgraph_function\u001b[0m\u001b[0;34m,\u001b[0m \u001b[0m_\u001b[0m \u001b[0;34m=\u001b[0m \u001b[0mself\u001b[0m\u001b[0;34m.\u001b[0m\u001b[0m_maybe_define_function\u001b[0m\u001b[0;34m(\u001b[0m\u001b[0margs\u001b[0m\u001b[0;34m,\u001b[0m \u001b[0mkwargs\u001b[0m\u001b[0;34m)\u001b[0m\u001b[0;34m\u001b[0m\u001b[0;34m\u001b[0m\u001b[0m\n\u001b[0m\u001b[1;32m   3051\u001b[0m     \u001b[0;32mreturn\u001b[0m \u001b[0mgraph_function\u001b[0m\u001b[0;34m\u001b[0m\u001b[0;34m\u001b[0m\u001b[0m\n\u001b[1;32m   3052\u001b[0m \u001b[0;34m\u001b[0m\u001b[0m\n",
      "\u001b[0;32m~/anaconda3/lib/python3.8/site-packages/tensorflow/python/eager/function.py\u001b[0m in \u001b[0;36m_maybe_define_function\u001b[0;34m(self, args, kwargs)\u001b[0m\n\u001b[1;32m   3442\u001b[0m \u001b[0;34m\u001b[0m\u001b[0m\n\u001b[1;32m   3443\u001b[0m           \u001b[0mself\u001b[0m\u001b[0;34m.\u001b[0m\u001b[0m_function_cache\u001b[0m\u001b[0;34m.\u001b[0m\u001b[0mmissed\u001b[0m\u001b[0;34m.\u001b[0m\u001b[0madd\u001b[0m\u001b[0;34m(\u001b[0m\u001b[0mcall_context_key\u001b[0m\u001b[0;34m)\u001b[0m\u001b[0;34m\u001b[0m\u001b[0;34m\u001b[0m\u001b[0m\n\u001b[0;32m-> 3444\u001b[0;31m           \u001b[0mgraph_function\u001b[0m \u001b[0;34m=\u001b[0m \u001b[0mself\u001b[0m\u001b[0;34m.\u001b[0m\u001b[0m_create_graph_function\u001b[0m\u001b[0;34m(\u001b[0m\u001b[0margs\u001b[0m\u001b[0;34m,\u001b[0m \u001b[0mkwargs\u001b[0m\u001b[0;34m)\u001b[0m\u001b[0;34m\u001b[0m\u001b[0;34m\u001b[0m\u001b[0m\n\u001b[0m\u001b[1;32m   3445\u001b[0m           \u001b[0mself\u001b[0m\u001b[0;34m.\u001b[0m\u001b[0m_function_cache\u001b[0m\u001b[0;34m.\u001b[0m\u001b[0mprimary\u001b[0m\u001b[0;34m[\u001b[0m\u001b[0mcache_key\u001b[0m\u001b[0;34m]\u001b[0m \u001b[0;34m=\u001b[0m \u001b[0mgraph_function\u001b[0m\u001b[0;34m\u001b[0m\u001b[0;34m\u001b[0m\u001b[0m\n\u001b[1;32m   3446\u001b[0m \u001b[0;34m\u001b[0m\u001b[0m\n",
      "\u001b[0;32m~/anaconda3/lib/python3.8/site-packages/tensorflow/python/eager/function.py\u001b[0m in \u001b[0;36m_create_graph_function\u001b[0;34m(self, args, kwargs, override_flat_arg_shapes)\u001b[0m\n\u001b[1;32m   3277\u001b[0m     \u001b[0marg_names\u001b[0m \u001b[0;34m=\u001b[0m \u001b[0mbase_arg_names\u001b[0m \u001b[0;34m+\u001b[0m \u001b[0mmissing_arg_names\u001b[0m\u001b[0;34m\u001b[0m\u001b[0;34m\u001b[0m\u001b[0m\n\u001b[1;32m   3278\u001b[0m     graph_function = ConcreteFunction(\n\u001b[0;32m-> 3279\u001b[0;31m         func_graph_module.func_graph_from_py_func(\n\u001b[0m\u001b[1;32m   3280\u001b[0m             \u001b[0mself\u001b[0m\u001b[0;34m.\u001b[0m\u001b[0m_name\u001b[0m\u001b[0;34m,\u001b[0m\u001b[0;34m\u001b[0m\u001b[0;34m\u001b[0m\u001b[0m\n\u001b[1;32m   3281\u001b[0m             \u001b[0mself\u001b[0m\u001b[0;34m.\u001b[0m\u001b[0m_python_function\u001b[0m\u001b[0;34m,\u001b[0m\u001b[0;34m\u001b[0m\u001b[0;34m\u001b[0m\u001b[0m\n",
      "\u001b[0;32m~/anaconda3/lib/python3.8/site-packages/tensorflow/python/framework/func_graph.py\u001b[0m in \u001b[0;36mfunc_graph_from_py_func\u001b[0;34m(name, python_func, args, kwargs, signature, func_graph, autograph, autograph_options, add_control_dependencies, arg_names, op_return_value, collections, capture_by_value, override_flat_arg_shapes)\u001b[0m\n\u001b[1;32m    997\u001b[0m         \u001b[0m_\u001b[0m\u001b[0;34m,\u001b[0m \u001b[0moriginal_func\u001b[0m \u001b[0;34m=\u001b[0m \u001b[0mtf_decorator\u001b[0m\u001b[0;34m.\u001b[0m\u001b[0munwrap\u001b[0m\u001b[0;34m(\u001b[0m\u001b[0mpython_func\u001b[0m\u001b[0;34m)\u001b[0m\u001b[0;34m\u001b[0m\u001b[0;34m\u001b[0m\u001b[0m\n\u001b[1;32m    998\u001b[0m \u001b[0;34m\u001b[0m\u001b[0m\n\u001b[0;32m--> 999\u001b[0;31m       \u001b[0mfunc_outputs\u001b[0m \u001b[0;34m=\u001b[0m \u001b[0mpython_func\u001b[0m\u001b[0;34m(\u001b[0m\u001b[0;34m*\u001b[0m\u001b[0mfunc_args\u001b[0m\u001b[0;34m,\u001b[0m \u001b[0;34m**\u001b[0m\u001b[0mfunc_kwargs\u001b[0m\u001b[0;34m)\u001b[0m\u001b[0;34m\u001b[0m\u001b[0;34m\u001b[0m\u001b[0m\n\u001b[0m\u001b[1;32m   1000\u001b[0m \u001b[0;34m\u001b[0m\u001b[0m\n\u001b[1;32m   1001\u001b[0m       \u001b[0;31m# invariant: `func_outputs` contains only Tensors, CompositeTensors,\u001b[0m\u001b[0;34m\u001b[0m\u001b[0;34m\u001b[0m\u001b[0;34m\u001b[0m\u001b[0m\n",
      "\u001b[0;32m~/anaconda3/lib/python3.8/site-packages/tensorflow/python/eager/def_function.py\u001b[0m in \u001b[0;36mwrapped_fn\u001b[0;34m(*args, **kwds)\u001b[0m\n\u001b[1;32m    670\u001b[0m         \u001b[0;31m# the function a weak reference to itself to avoid a reference cycle.\u001b[0m\u001b[0;34m\u001b[0m\u001b[0;34m\u001b[0m\u001b[0;34m\u001b[0m\u001b[0m\n\u001b[1;32m    671\u001b[0m         \u001b[0;32mwith\u001b[0m \u001b[0mOptionalXlaContext\u001b[0m\u001b[0;34m(\u001b[0m\u001b[0mcompile_with_xla\u001b[0m\u001b[0;34m)\u001b[0m\u001b[0;34m:\u001b[0m\u001b[0;34m\u001b[0m\u001b[0;34m\u001b[0m\u001b[0m\n\u001b[0;32m--> 672\u001b[0;31m           \u001b[0mout\u001b[0m \u001b[0;34m=\u001b[0m \u001b[0mweak_wrapped_fn\u001b[0m\u001b[0;34m(\u001b[0m\u001b[0;34m)\u001b[0m\u001b[0;34m.\u001b[0m\u001b[0m__wrapped__\u001b[0m\u001b[0;34m(\u001b[0m\u001b[0;34m*\u001b[0m\u001b[0margs\u001b[0m\u001b[0;34m,\u001b[0m \u001b[0;34m**\u001b[0m\u001b[0mkwds\u001b[0m\u001b[0;34m)\u001b[0m\u001b[0;34m\u001b[0m\u001b[0;34m\u001b[0m\u001b[0m\n\u001b[0m\u001b[1;32m    673\u001b[0m         \u001b[0;32mreturn\u001b[0m \u001b[0mout\u001b[0m\u001b[0;34m\u001b[0m\u001b[0;34m\u001b[0m\u001b[0m\n\u001b[1;32m    674\u001b[0m \u001b[0;34m\u001b[0m\u001b[0m\n",
      "\u001b[0;32m~/anaconda3/lib/python3.8/site-packages/tensorflow/python/framework/func_graph.py\u001b[0m in \u001b[0;36mwrapper\u001b[0;34m(*args, **kwargs)\u001b[0m\n\u001b[1;32m    984\u001b[0m           \u001b[0;32mexcept\u001b[0m \u001b[0mException\u001b[0m \u001b[0;32mas\u001b[0m \u001b[0me\u001b[0m\u001b[0;34m:\u001b[0m  \u001b[0;31m# pylint:disable=broad-except\u001b[0m\u001b[0;34m\u001b[0m\u001b[0;34m\u001b[0m\u001b[0m\n\u001b[1;32m    985\u001b[0m             \u001b[0;32mif\u001b[0m \u001b[0mhasattr\u001b[0m\u001b[0;34m(\u001b[0m\u001b[0me\u001b[0m\u001b[0;34m,\u001b[0m \u001b[0;34m\"ag_error_metadata\"\u001b[0m\u001b[0;34m)\u001b[0m\u001b[0;34m:\u001b[0m\u001b[0;34m\u001b[0m\u001b[0;34m\u001b[0m\u001b[0m\n\u001b[0;32m--> 986\u001b[0;31m               \u001b[0;32mraise\u001b[0m \u001b[0me\u001b[0m\u001b[0;34m.\u001b[0m\u001b[0mag_error_metadata\u001b[0m\u001b[0;34m.\u001b[0m\u001b[0mto_exception\u001b[0m\u001b[0;34m(\u001b[0m\u001b[0me\u001b[0m\u001b[0;34m)\u001b[0m\u001b[0;34m\u001b[0m\u001b[0;34m\u001b[0m\u001b[0m\n\u001b[0m\u001b[1;32m    987\u001b[0m             \u001b[0;32melse\u001b[0m\u001b[0;34m:\u001b[0m\u001b[0;34m\u001b[0m\u001b[0;34m\u001b[0m\u001b[0m\n\u001b[1;32m    988\u001b[0m               \u001b[0;32mraise\u001b[0m\u001b[0;34m\u001b[0m\u001b[0;34m\u001b[0m\u001b[0m\n",
      "\u001b[0;31mValueError\u001b[0m: in user code:\n\n    /home/andres/anaconda3/lib/python3.8/site-packages/keras/engine/training.py:1544 predict_function  *\n        return step_function(self, iterator)\n    /home/andres/anaconda3/lib/python3.8/site-packages/keras/engine/training.py:1527 run_step  *\n        outputs = model.predict_step(data)\n    /home/andres/anaconda3/lib/python3.8/site-packages/keras/engine/training.py:1500 predict_step  *\n        return self(x, training=False)\n    /home/andres/anaconda3/lib/python3.8/site-packages/keras/engine/base_layer.py:989 __call__  *\n        input_spec.assert_input_compatibility(self.input_spec, inputs, self.name)\n    /home/andres/anaconda3/lib/python3.8/site-packages/keras/engine/sequential.py:375 call  *\n        return super(Sequential, self).call(inputs, training=training, mask=mask)\n    /home/andres/anaconda3/lib/python3.8/site-packages/keras/engine/functional.py:416 call  *\n        inputs, training=training, mask=mask)\n    /home/andres/anaconda3/lib/python3.8/site-packages/keras/engine/functional.py:551 _run_internal_graph  *\n        outputs = node.layer(*args, **kwargs)\n    /home/andres/anaconda3/lib/python3.8/site-packages/keras/engine/base_layer.py:989 __call__  *\n        input_spec.assert_input_compatibility(self.input_spec, inputs, self.name)\n    /home/andres/anaconda3/lib/python3.8/site-packages/keras/engine/input_spec.py:248 assert_input_compatibility  *\n        raise ValueError(\n\n    ValueError: Input 0 of layer dense_35 is incompatible with the layer: expected axis -1 of input shape to have value 82944 but received input with shape (None, 250000)\n"
     ]
    }
   ],
   "source": [
    "###############\n",
    "# PAPER MODEL #\n",
    "###############\n",
    "\n",
    "dependencies = {\n",
    "    'f1_m' : f1_m, \n",
    "    'precision_m' : precision_m,\n",
    "    'recall_m': recall_m,\n",
    "}\n",
    "\n",
    "model = keras.models.load_model(model_paper, custom_objects=dependencies)\n",
    "\n",
    "model.compile(loss='binary_crossentropy',\n",
    "                    optimizer='adam',\n",
    "                    metrics=['acc', f1_m, precision_m, recall_m])\n",
    "\n",
    "model.summary()\n",
    "\n",
    "\n",
    "from sklearn.metrics import roc_curve, roc_auc_score, auc\n",
    "\n",
    "yhat2 = model.predict(x_test2)      # Predict class values\n",
    "fpr, tpr, thresholds = roc_curve(y_test2, yhat2)\n",
    "auc = auc(fpr, tpr)\n",
    "plot_roc_curve(fpr, tpr)\n",
    "\n",
    "print('ROC AUC: ', auc)"
   ]
  },
  {
   "cell_type": "markdown",
   "metadata": {},
   "source": [
    "##### Test with the train set (just to see)"
   ]
  },
  {
   "cell_type": "code",
   "execution_count": 15,
   "metadata": {},
   "outputs": [],
   "source": [
    "##################################\n",
    "# USING TO TEST THE TRAINING SET # THIS IS WRONG! but to see\n",
    "##################################\n",
    "\n",
    "x_test2 = images\n",
    "del images\n",
    "\n",
    "y_test2 = labels\n",
    "del labels"
   ]
  },
  {
   "cell_type": "code",
   "execution_count": 16,
   "metadata": {
    "scrolled": false
   },
   "outputs": [
    {
     "name": "stdout",
     "output_type": "stream",
     "text": [
      "Model: \"sequential\"\n",
      "_________________________________________________________________\n",
      "Layer (type)                 Output Shape              Param #   \n",
      "=================================================================\n",
      "conv2d (Conv2D)              (None, 126, 126, 16)      592       \n",
      "_________________________________________________________________\n",
      "leaky_re_lu (LeakyReLU)      (None, 126, 126, 16)      0         \n",
      "_________________________________________________________________\n",
      "max_pooling2d (MaxPooling2D) (None, 125, 125, 16)      0         \n",
      "_________________________________________________________________\n",
      "dropout (Dropout)            (None, 125, 125, 16)      0         \n",
      "_________________________________________________________________\n",
      "flatten (Flatten)            (None, 250000)            0         \n",
      "_________________________________________________________________\n",
      "dense (Dense)                (None, 32)                8000032   \n",
      "_________________________________________________________________\n",
      "leaky_re_lu_1 (LeakyReLU)    (None, 32)                0         \n",
      "_________________________________________________________________\n",
      "dropout_1 (Dropout)          (None, 32)                0         \n",
      "_________________________________________________________________\n",
      "dense_1 (Dense)              (None, 1)                 33        \n",
      "_________________________________________________________________\n",
      "activation (Activation)      (None, 1)                 0         \n",
      "=================================================================\n",
      "Total params: 8,000,657\n",
      "Trainable params: 8,000,657\n",
      "Non-trainable params: 0\n",
      "_________________________________________________________________\n",
      "625/625 [==============================] - 12s 19ms/step - loss: 0.6172 - acc: 0.7561 - f1_m: 0.7111 - precision_m: 0.8460 - recall_m: 0.6164\n",
      "acc: 81.98%\n"
     ]
    },
    {
     "name": "stderr",
     "output_type": "stream",
     "text": [
      "/home/andres/anaconda3/lib/python3.8/site-packages/keras/engine/sequential.py:425: UserWarning: `model.predict_proba()` is deprecated and will be removed after 2021-01-01. Please use `model.predict()` instead.\n",
      "  warnings.warn('`model.predict_proba()` is deprecated and '\n"
     ]
    },
    {
     "name": "stdout",
     "output_type": "stream",
     "text": [
      "Logistic: f1=0.802 auc=0.9210110\n"
     ]
    },
    {
     "data": {
      "image/png": "[encoded data removed]",
      "text/plain": [
       "<Figure size 432x288 with 1 Axes>"
      ]
     },
     "metadata": {
      "needs_background": "light"
     },
     "output_type": "display_data"
    },
    {
     "name": "stdout",
     "output_type": "stream",
     "text": [
      "Accuracy: 0.8198\n",
      "Average precision: 0.7846524274213222\n",
      "recall: 0.7297\n",
      "AUC:0.8774725725786778\n",
      "Predicted   0.0   1.0\n",
      "Actual               \n",
      "0.0        9099   901\n",
      "1.0        2703  7297\n"
     ]
    },
    {
     "data": {
      "image/png": "[encoded data removed]",
      "text/plain": [
       "<Figure size 288x288 with 2 Axes>"
      ]
     },
     "metadata": {
      "needs_background": "light"
     },
     "output_type": "display_data"
    },
    {
     "data": {
      "image/png": "[encoded data removed]",
      "text/plain": [
       "<Figure size 432x288 with 1 Axes>"
      ]
     },
     "metadata": {
      "needs_background": "light"
     },
     "output_type": "display_data"
    },
    {
     "name": "stdout",
     "output_type": "stream",
     "text": [
      "ROC AUC:  0.924170945\n"
     ]
    }
   ],
   "source": [
    "###########################\n",
    "# TEST WITH THE TRAIN SET # just to see\n",
    "###########################\n",
    "\n",
    "dependencies = {\n",
    "    'f1_m' : f1_m, \n",
    "    'precision_m' : precision_m,\n",
    "    'recall_m': recall_m,\n",
    "}\n",
    "\n",
    "model = keras.models.load_model(model_name, custom_objects=dependencies)\n",
    "\n",
    "model.compile(loss='binary_crossentropy',\n",
    "                    optimizer='adam',\n",
    "                    metrics=['acc', f1_m, precision_m, recall_m])\n",
    "\n",
    "model.summary()\n",
    "\n",
    "\n",
    "\n",
    "score = model.evaluate(x_test2, y_test2, verbose=1)\n",
    "print(\"%s: %.2f%%\" % (model.metrics_names[1], score[1]*100))\n",
    "\n",
    "\n",
    "from sklearn.datasets import make_classification\n",
    "from sklearn.linear_model import LogisticRegression\n",
    "from sklearn.model_selection import train_test_split\n",
    "from sklearn.metrics import precision_recall_curve\n",
    "from sklearn.metrics import f1_score\n",
    "from sklearn.metrics import auc\n",
    "from matplotlib import pyplot\n",
    "\n",
    "\n",
    "lr_probs = model.predict_proba(x_test2)    # Predict probabilities\n",
    "yhat = model.predict(x_test2)      # Predict class values\n",
    "yhat_original = yhat\n",
    "yhat = np.round(yhat)\n",
    "lr_precision, lr_recall, _ = precision_recall_curve(y_test2, lr_probs)\n",
    "lr_f1, lr_auc = f1_score(y_test2, yhat), auc(lr_recall, lr_precision)\n",
    "print('Logistic: f1=%.3f auc=%.7f' % (lr_f1, lr_auc))   # Summarise scores\n",
    "''' plot the precision-recall curves '''\n",
    "no_skill = len(y_test2[y_test2==1]) / len(y_test2)\n",
    "pyplot.plot(lr_recall, lr_precision, 'r-', label='F1 = %0.2f' %(lr_f1))\n",
    "pyplot.xlabel('Recall')\n",
    "pyplot.ylabel('Precision')\n",
    "pyplot.legend(loc='lower left')\n",
    "plt.title('Precision-Recall (PR) Curve')\n",
    "pyplot.show()\n",
    "\n",
    "## Save precision and recall data to plot PR curve seperately\n",
    "#np.savetxt(\"/content/drive/My Drive/Colab Notebooks/precision_HP.txt\",lr_precision)\n",
    "#np.savetxt(\"/content/drive/My Drive/Colab Notebooks/recall_HP.txt\",lr_recall)\n",
    "\n",
    "\n",
    "test_predictions = yhat             # Make a prediction on the test set\n",
    "accuracy = accuracy_score(y_test2, test_predictions)\n",
    "print(\"Accuracy: \" + str(accuracy))\n",
    "average_precision = average_precision_score(y_test2, test_predictions)\n",
    "print(\"Average precision: \" + str(average_precision))\n",
    "\n",
    "from sklearn.metrics import precision_recall_curve\n",
    "\n",
    "precision, recall, threshold = precision_recall_curve(y_test2, test_predictions)\n",
    "auc = auc(recall, precision)\n",
    "recall1 = recall_score(y_test2, np.round(test_predictions))\n",
    "print(\"recall: \" + str(recall1))\n",
    "print('AUC:' +str(auc))\n",
    "\n",
    "\n",
    "# Report Confusion Matrix\n",
    "y_actu = pd.Series(y_test2.ravel(), name='Actual')\n",
    "y_pred = pd.Series(np.round(test_predictions.ravel()), name='Predicted')\n",
    "df_confusion = pd.crosstab(y_actu, y_pred)\n",
    "print(df_confusion)\n",
    "\n",
    "# Plot confusion matrix\n",
    "def plot_confusion_matrix(df_confusion, cmap='YlGn'):\n",
    "    plt.matshow(df_confusion, cmap=cmap) # imshow\n",
    "    plt.colorbar()\n",
    "    tick_marks = np.arange(0,len(df_confusion.columns))\n",
    "    plt.xticks(tick_marks, df_confusion.columns)\n",
    "    plt.yticks(tick_marks, df_confusion.index)\n",
    "    plt.ylabel(df_confusion.index.name)\n",
    "    plt.xlabel(df_confusion.columns.name)\n",
    "    for i in range(len(df_confusion.index)):\n",
    "        for j in range(len(df_confusion.columns)):\n",
    "            plt.text(j,i,str(df_confusion.iloc[i,j]))\n",
    "    plt.show()\n",
    "\n",
    "plot_confusion_matrix(df_confusion)\n",
    "\n",
    "from sklearn.metrics import roc_curve\n",
    "from sklearn.metrics import roc_auc_score\n",
    "\n",
    "def plot_roc_curve(fpr, tpr):\n",
    "    plt.plot(fpr, tpr, color='darkblue', label='AUC = %0.2f' %(auc))\n",
    "    plt.plot([0, 1], [0, 1], color='orange', linestyle='--')\n",
    "    plt.xlabel('False Positive Rate')\n",
    "    plt.ylabel('True Positive Rate')\n",
    "    plt.title('Receiver Operating Characteristic (ROC) Curve')\n",
    "    plt.legend()\n",
    "    plt.show()\n",
    "    \n",
    "    \n",
    "from sklearn.metrics import roc_curve, roc_auc_score, auc\n",
    "\n",
    "fpr, tpr, thresholds = roc_curve(y_test2, yhat_original)\n",
    "auc = auc(fpr, tpr)\n",
    "# Save tpr and fpr to plot seperate ROC curve\n",
    "#np.savetxt(\"/content/drive/My Drive/Colab Notebooks/tpr.txt\",tpr)\n",
    "#np.savetxt(\"/content/drive/My Drive/Colab Notebooks/fpr.txt\",fpr)\n",
    "plot_roc_curve(fpr, tpr)\n",
    "\n",
    "print('ROC AUC: ', auc)"
   ]
  },
  {
   "cell_type": "code",
   "execution_count": 39,
   "metadata": {
    "scrolled": true
   },
   "outputs": [
    {
     "name": "stdout",
     "output_type": "stream",
     "text": [
      "Model: \"sequential_18\"\n",
      "_________________________________________________________________\n",
      "Layer (type)                 Output Shape              Param #   \n",
      "=================================================================\n",
      "conv2d_28 (Conv2D)           (None, 73, 73, 16)        592       \n",
      "_________________________________________________________________\n",
      "leaky_re_lu_45 (LeakyReLU)   (None, 73, 73, 16)        0         \n",
      "_________________________________________________________________\n",
      "max_pooling2d_28 (MaxPooling (None, 72, 72, 16)        0         \n",
      "_________________________________________________________________\n",
      "dropout_35 (Dropout)         (None, 72, 72, 16)        0         \n",
      "_________________________________________________________________\n",
      "flatten_18 (Flatten)         (None, 82944)             0         \n",
      "_________________________________________________________________\n",
      "dense_35 (Dense)             (None, 32)                2654240   \n",
      "_________________________________________________________________\n",
      "leaky_re_lu_46 (LeakyReLU)   (None, 32)                0         \n",
      "_________________________________________________________________\n",
      "dropout_36 (Dropout)         (None, 32)                0         \n",
      "_________________________________________________________________\n",
      "dense_36 (Dense)             (None, 1)                 33        \n",
      "_________________________________________________________________\n",
      "activation_18 (Activation)   (None, 1)                 0         \n",
      "=================================================================\n",
      "Total params: 2,654,865\n",
      "Trainable params: 2,654,865\n",
      "Non-trainable params: 0\n",
      "_________________________________________________________________\n",
      "WARNING:tensorflow:Model was constructed with shape (None, 75, 75, 4) for input KerasTensor(type_spec=TensorSpec(shape=(None, 75, 75, 4), dtype=tf.float32, name='conv2d_28_input'), name='conv2d_28_input', description=\"created by layer 'conv2d_28_input'\"), but it was called on an input with incompatible shape (None, 128, 128, 4).\n"
     ]
    },
    {
     "ename": "ValueError",
     "evalue": "in user code:\n\n    /home/andres/anaconda3/lib/python3.8/site-packages/tensorflow/python/keras/engine/training.py:1569 predict_function  *\n        return step_function(self, iterator)\n    /home/andres/anaconda3/lib/python3.8/site-packages/tensorflow/python/keras/engine/training.py:1559 step_function  **\n        outputs = model.distribute_strategy.run(run_step, args=(data,))\n    /home/andres/anaconda3/lib/python3.8/site-packages/tensorflow/python/distribute/distribute_lib.py:1285 run\n        return self._extended.call_for_each_replica(fn, args=args, kwargs=kwargs)\n    /home/andres/anaconda3/lib/python3.8/site-packages/tensorflow/python/distribute/distribute_lib.py:2833 call_for_each_replica\n        return self._call_for_each_replica(fn, args, kwargs)\n    /home/andres/anaconda3/lib/python3.8/site-packages/tensorflow/python/distribute/distribute_lib.py:3608 _call_for_each_replica\n        return fn(*args, **kwargs)\n    /home/andres/anaconda3/lib/python3.8/site-packages/tensorflow/python/keras/engine/training.py:1552 run_step  **\n        outputs = model.predict_step(data)\n    /home/andres/anaconda3/lib/python3.8/site-packages/tensorflow/python/keras/engine/training.py:1525 predict_step\n        return self(x, training=False)\n    /home/andres/anaconda3/lib/python3.8/site-packages/tensorflow/python/keras/engine/base_layer.py:1030 __call__\n        outputs = call_fn(inputs, *args, **kwargs)\n    /home/andres/anaconda3/lib/python3.8/site-packages/tensorflow/python/keras/engine/sequential.py:380 call\n        return super(Sequential, self).call(inputs, training=training, mask=mask)\n    /home/andres/anaconda3/lib/python3.8/site-packages/tensorflow/python/keras/engine/functional.py:420 call\n        return self._run_internal_graph(\n    /home/andres/anaconda3/lib/python3.8/site-packages/tensorflow/python/keras/engine/functional.py:556 _run_internal_graph\n        outputs = node.layer(*args, **kwargs)\n    /home/andres/anaconda3/lib/python3.8/site-packages/tensorflow/python/keras/engine/base_layer.py:1013 __call__\n        input_spec.assert_input_compatibility(self.input_spec, inputs, self.name)\n    /home/andres/anaconda3/lib/python3.8/site-packages/tensorflow/python/keras/engine/input_spec.py:251 assert_input_compatibility\n        raise ValueError(\n\n    ValueError: Input 0 of layer dense_35 is incompatible with the layer: expected axis -1 of input shape to have value 82944 but received input with shape (None, 250000)\n",
     "output_type": "error",
     "traceback": [
      "\u001b[0;31m---------------------------------------------------------------------------\u001b[0m",
      "\u001b[0;31mValueError\u001b[0m                                Traceback (most recent call last)",
      "\u001b[0;32m<ipython-input-39-c04c68bbbdf8>\u001b[0m in \u001b[0;36m<module>\u001b[0;34m\u001b[0m\n\u001b[1;32m     21\u001b[0m \u001b[0;32mfrom\u001b[0m \u001b[0msklearn\u001b[0m\u001b[0;34m.\u001b[0m\u001b[0mmetrics\u001b[0m \u001b[0;32mimport\u001b[0m \u001b[0mroc_curve\u001b[0m\u001b[0;34m,\u001b[0m \u001b[0mroc_auc_score\u001b[0m\u001b[0;34m,\u001b[0m \u001b[0mauc\u001b[0m\u001b[0;34m\u001b[0m\u001b[0;34m\u001b[0m\u001b[0m\n\u001b[1;32m     22\u001b[0m \u001b[0;34m\u001b[0m\u001b[0m\n\u001b[0;32m---> 23\u001b[0;31m \u001b[0myhat2\u001b[0m \u001b[0;34m=\u001b[0m \u001b[0mmodel\u001b[0m\u001b[0;34m.\u001b[0m\u001b[0mpredict\u001b[0m\u001b[0;34m(\u001b[0m\u001b[0mx_test2\u001b[0m\u001b[0;34m)\u001b[0m      \u001b[0;31m# Predict class values\u001b[0m\u001b[0;34m\u001b[0m\u001b[0;34m\u001b[0m\u001b[0m\n\u001b[0m\u001b[1;32m     24\u001b[0m \u001b[0mfpr\u001b[0m\u001b[0;34m,\u001b[0m \u001b[0mtpr\u001b[0m\u001b[0;34m,\u001b[0m \u001b[0mthresholds\u001b[0m \u001b[0;34m=\u001b[0m \u001b[0mroc_curve\u001b[0m\u001b[0;34m(\u001b[0m\u001b[0my_test2\u001b[0m\u001b[0;34m,\u001b[0m \u001b[0myhat2\u001b[0m\u001b[0;34m)\u001b[0m\u001b[0;34m\u001b[0m\u001b[0;34m\u001b[0m\u001b[0m\n\u001b[1;32m     25\u001b[0m \u001b[0mauc\u001b[0m \u001b[0;34m=\u001b[0m \u001b[0mauc\u001b[0m\u001b[0;34m(\u001b[0m\u001b[0mfpr\u001b[0m\u001b[0;34m,\u001b[0m \u001b[0mtpr\u001b[0m\u001b[0;34m)\u001b[0m\u001b[0;34m\u001b[0m\u001b[0;34m\u001b[0m\u001b[0m\n",
      "\u001b[0;32m~/anaconda3/lib/python3.8/site-packages/tensorflow/python/keras/engine/training.py\u001b[0m in \u001b[0;36mpredict\u001b[0;34m(self, x, batch_size, verbose, steps, callbacks, max_queue_size, workers, use_multiprocessing)\u001b[0m\n\u001b[1;32m   1725\u001b[0m           \u001b[0;32mfor\u001b[0m \u001b[0mstep\u001b[0m \u001b[0;32min\u001b[0m \u001b[0mdata_handler\u001b[0m\u001b[0;34m.\u001b[0m\u001b[0msteps\u001b[0m\u001b[0;34m(\u001b[0m\u001b[0;34m)\u001b[0m\u001b[0;34m:\u001b[0m\u001b[0;34m\u001b[0m\u001b[0;34m\u001b[0m\u001b[0m\n\u001b[1;32m   1726\u001b[0m             \u001b[0mcallbacks\u001b[0m\u001b[0;34m.\u001b[0m\u001b[0mon_predict_batch_begin\u001b[0m\u001b[0;34m(\u001b[0m\u001b[0mstep\u001b[0m\u001b[0;34m)\u001b[0m\u001b[0;34m\u001b[0m\u001b[0;34m\u001b[0m\u001b[0m\n\u001b[0;32m-> 1727\u001b[0;31m             \u001b[0mtmp_batch_outputs\u001b[0m \u001b[0;34m=\u001b[0m \u001b[0mself\u001b[0m\u001b[0;34m.\u001b[0m\u001b[0mpredict_function\u001b[0m\u001b[0;34m(\u001b[0m\u001b[0miterator\u001b[0m\u001b[0;34m)\u001b[0m\u001b[0;34m\u001b[0m\u001b[0;34m\u001b[0m\u001b[0m\n\u001b[0m\u001b[1;32m   1728\u001b[0m             \u001b[0;32mif\u001b[0m \u001b[0mdata_handler\u001b[0m\u001b[0;34m.\u001b[0m\u001b[0mshould_sync\u001b[0m\u001b[0;34m:\u001b[0m\u001b[0;34m\u001b[0m\u001b[0;34m\u001b[0m\u001b[0m\n\u001b[1;32m   1729\u001b[0m               \u001b[0mcontext\u001b[0m\u001b[0;34m.\u001b[0m\u001b[0masync_wait\u001b[0m\u001b[0;34m(\u001b[0m\u001b[0;34m)\u001b[0m\u001b[0;34m\u001b[0m\u001b[0;34m\u001b[0m\u001b[0m\n",
      "\u001b[0;32m~/anaconda3/lib/python3.8/site-packages/tensorflow/python/eager/def_function.py\u001b[0m in \u001b[0;36m__call__\u001b[0;34m(self, *args, **kwds)\u001b[0m\n\u001b[1;32m    887\u001b[0m \u001b[0;34m\u001b[0m\u001b[0m\n\u001b[1;32m    888\u001b[0m       \u001b[0;32mwith\u001b[0m \u001b[0mOptionalXlaContext\u001b[0m\u001b[0;34m(\u001b[0m\u001b[0mself\u001b[0m\u001b[0;34m.\u001b[0m\u001b[0m_jit_compile\u001b[0m\u001b[0;34m)\u001b[0m\u001b[0;34m:\u001b[0m\u001b[0;34m\u001b[0m\u001b[0;34m\u001b[0m\u001b[0m\n\u001b[0;32m--> 889\u001b[0;31m         \u001b[0mresult\u001b[0m \u001b[0;34m=\u001b[0m \u001b[0mself\u001b[0m\u001b[0;34m.\u001b[0m\u001b[0m_call\u001b[0m\u001b[0;34m(\u001b[0m\u001b[0;34m*\u001b[0m\u001b[0margs\u001b[0m\u001b[0;34m,\u001b[0m \u001b[0;34m**\u001b[0m\u001b[0mkwds\u001b[0m\u001b[0;34m)\u001b[0m\u001b[0;34m\u001b[0m\u001b[0;34m\u001b[0m\u001b[0m\n\u001b[0m\u001b[1;32m    890\u001b[0m \u001b[0;34m\u001b[0m\u001b[0m\n\u001b[1;32m    891\u001b[0m       \u001b[0mnew_tracing_count\u001b[0m \u001b[0;34m=\u001b[0m \u001b[0mself\u001b[0m\u001b[0;34m.\u001b[0m\u001b[0mexperimental_get_tracing_count\u001b[0m\u001b[0;34m(\u001b[0m\u001b[0;34m)\u001b[0m\u001b[0;34m\u001b[0m\u001b[0;34m\u001b[0m\u001b[0m\n",
      "\u001b[0;32m~/anaconda3/lib/python3.8/site-packages/tensorflow/python/eager/def_function.py\u001b[0m in \u001b[0;36m_call\u001b[0;34m(self, *args, **kwds)\u001b[0m\n\u001b[1;32m    931\u001b[0m       \u001b[0;31m# This is the first call of __call__, so we have to initialize.\u001b[0m\u001b[0;34m\u001b[0m\u001b[0;34m\u001b[0m\u001b[0;34m\u001b[0m\u001b[0m\n\u001b[1;32m    932\u001b[0m       \u001b[0minitializers\u001b[0m \u001b[0;34m=\u001b[0m \u001b[0;34m[\u001b[0m\u001b[0;34m]\u001b[0m\u001b[0;34m\u001b[0m\u001b[0;34m\u001b[0m\u001b[0m\n\u001b[0;32m--> 933\u001b[0;31m       \u001b[0mself\u001b[0m\u001b[0;34m.\u001b[0m\u001b[0m_initialize\u001b[0m\u001b[0;34m(\u001b[0m\u001b[0margs\u001b[0m\u001b[0;34m,\u001b[0m \u001b[0mkwds\u001b[0m\u001b[0;34m,\u001b[0m \u001b[0madd_initializers_to\u001b[0m\u001b[0;34m=\u001b[0m\u001b[0minitializers\u001b[0m\u001b[0;34m)\u001b[0m\u001b[0;34m\u001b[0m\u001b[0;34m\u001b[0m\u001b[0m\n\u001b[0m\u001b[1;32m    934\u001b[0m     \u001b[0;32mfinally\u001b[0m\u001b[0;34m:\u001b[0m\u001b[0;34m\u001b[0m\u001b[0;34m\u001b[0m\u001b[0m\n\u001b[1;32m    935\u001b[0m       \u001b[0;31m# At this point we know that the initialization is complete (or less\u001b[0m\u001b[0;34m\u001b[0m\u001b[0;34m\u001b[0m\u001b[0;34m\u001b[0m\u001b[0m\n",
      "\u001b[0;32m~/anaconda3/lib/python3.8/site-packages/tensorflow/python/eager/def_function.py\u001b[0m in \u001b[0;36m_initialize\u001b[0;34m(self, args, kwds, add_initializers_to)\u001b[0m\n\u001b[1;32m    761\u001b[0m     \u001b[0mself\u001b[0m\u001b[0;34m.\u001b[0m\u001b[0m_graph_deleter\u001b[0m \u001b[0;34m=\u001b[0m \u001b[0mFunctionDeleter\u001b[0m\u001b[0;34m(\u001b[0m\u001b[0mself\u001b[0m\u001b[0;34m.\u001b[0m\u001b[0m_lifted_initializer_graph\u001b[0m\u001b[0;34m)\u001b[0m\u001b[0;34m\u001b[0m\u001b[0;34m\u001b[0m\u001b[0m\n\u001b[1;32m    762\u001b[0m     self._concrete_stateful_fn = (\n\u001b[0;32m--> 763\u001b[0;31m         self._stateful_fn._get_concrete_function_internal_garbage_collected(  # pylint: disable=protected-access\n\u001b[0m\u001b[1;32m    764\u001b[0m             *args, **kwds))\n\u001b[1;32m    765\u001b[0m \u001b[0;34m\u001b[0m\u001b[0m\n",
      "\u001b[0;32m~/anaconda3/lib/python3.8/site-packages/tensorflow/python/eager/function.py\u001b[0m in \u001b[0;36m_get_concrete_function_internal_garbage_collected\u001b[0;34m(self, *args, **kwargs)\u001b[0m\n\u001b[1;32m   3048\u001b[0m       \u001b[0margs\u001b[0m\u001b[0;34m,\u001b[0m \u001b[0mkwargs\u001b[0m \u001b[0;34m=\u001b[0m \u001b[0;32mNone\u001b[0m\u001b[0;34m,\u001b[0m \u001b[0;32mNone\u001b[0m\u001b[0;34m\u001b[0m\u001b[0;34m\u001b[0m\u001b[0m\n\u001b[1;32m   3049\u001b[0m     \u001b[0;32mwith\u001b[0m \u001b[0mself\u001b[0m\u001b[0;34m.\u001b[0m\u001b[0m_lock\u001b[0m\u001b[0;34m:\u001b[0m\u001b[0;34m\u001b[0m\u001b[0;34m\u001b[0m\u001b[0m\n\u001b[0;32m-> 3050\u001b[0;31m       \u001b[0mgraph_function\u001b[0m\u001b[0;34m,\u001b[0m \u001b[0m_\u001b[0m \u001b[0;34m=\u001b[0m \u001b[0mself\u001b[0m\u001b[0;34m.\u001b[0m\u001b[0m_maybe_define_function\u001b[0m\u001b[0;34m(\u001b[0m\u001b[0margs\u001b[0m\u001b[0;34m,\u001b[0m \u001b[0mkwargs\u001b[0m\u001b[0;34m)\u001b[0m\u001b[0;34m\u001b[0m\u001b[0;34m\u001b[0m\u001b[0m\n\u001b[0m\u001b[1;32m   3051\u001b[0m     \u001b[0;32mreturn\u001b[0m \u001b[0mgraph_function\u001b[0m\u001b[0;34m\u001b[0m\u001b[0;34m\u001b[0m\u001b[0m\n\u001b[1;32m   3052\u001b[0m \u001b[0;34m\u001b[0m\u001b[0m\n",
      "\u001b[0;32m~/anaconda3/lib/python3.8/site-packages/tensorflow/python/eager/function.py\u001b[0m in \u001b[0;36m_maybe_define_function\u001b[0;34m(self, args, kwargs)\u001b[0m\n\u001b[1;32m   3442\u001b[0m \u001b[0;34m\u001b[0m\u001b[0m\n\u001b[1;32m   3443\u001b[0m           \u001b[0mself\u001b[0m\u001b[0;34m.\u001b[0m\u001b[0m_function_cache\u001b[0m\u001b[0;34m.\u001b[0m\u001b[0mmissed\u001b[0m\u001b[0;34m.\u001b[0m\u001b[0madd\u001b[0m\u001b[0;34m(\u001b[0m\u001b[0mcall_context_key\u001b[0m\u001b[0;34m)\u001b[0m\u001b[0;34m\u001b[0m\u001b[0;34m\u001b[0m\u001b[0m\n\u001b[0;32m-> 3444\u001b[0;31m           \u001b[0mgraph_function\u001b[0m \u001b[0;34m=\u001b[0m \u001b[0mself\u001b[0m\u001b[0;34m.\u001b[0m\u001b[0m_create_graph_function\u001b[0m\u001b[0;34m(\u001b[0m\u001b[0margs\u001b[0m\u001b[0;34m,\u001b[0m \u001b[0mkwargs\u001b[0m\u001b[0;34m)\u001b[0m\u001b[0;34m\u001b[0m\u001b[0;34m\u001b[0m\u001b[0m\n\u001b[0m\u001b[1;32m   3445\u001b[0m           \u001b[0mself\u001b[0m\u001b[0;34m.\u001b[0m\u001b[0m_function_cache\u001b[0m\u001b[0;34m.\u001b[0m\u001b[0mprimary\u001b[0m\u001b[0;34m[\u001b[0m\u001b[0mcache_key\u001b[0m\u001b[0;34m]\u001b[0m \u001b[0;34m=\u001b[0m \u001b[0mgraph_function\u001b[0m\u001b[0;34m\u001b[0m\u001b[0;34m\u001b[0m\u001b[0m\n\u001b[1;32m   3446\u001b[0m \u001b[0;34m\u001b[0m\u001b[0m\n",
      "\u001b[0;32m~/anaconda3/lib/python3.8/site-packages/tensorflow/python/eager/function.py\u001b[0m in \u001b[0;36m_create_graph_function\u001b[0;34m(self, args, kwargs, override_flat_arg_shapes)\u001b[0m\n\u001b[1;32m   3277\u001b[0m     \u001b[0marg_names\u001b[0m \u001b[0;34m=\u001b[0m \u001b[0mbase_arg_names\u001b[0m \u001b[0;34m+\u001b[0m \u001b[0mmissing_arg_names\u001b[0m\u001b[0;34m\u001b[0m\u001b[0;34m\u001b[0m\u001b[0m\n\u001b[1;32m   3278\u001b[0m     graph_function = ConcreteFunction(\n\u001b[0;32m-> 3279\u001b[0;31m         func_graph_module.func_graph_from_py_func(\n\u001b[0m\u001b[1;32m   3280\u001b[0m             \u001b[0mself\u001b[0m\u001b[0;34m.\u001b[0m\u001b[0m_name\u001b[0m\u001b[0;34m,\u001b[0m\u001b[0;34m\u001b[0m\u001b[0;34m\u001b[0m\u001b[0m\n\u001b[1;32m   3281\u001b[0m             \u001b[0mself\u001b[0m\u001b[0;34m.\u001b[0m\u001b[0m_python_function\u001b[0m\u001b[0;34m,\u001b[0m\u001b[0;34m\u001b[0m\u001b[0;34m\u001b[0m\u001b[0m\n",
      "\u001b[0;32m~/anaconda3/lib/python3.8/site-packages/tensorflow/python/framework/func_graph.py\u001b[0m in \u001b[0;36mfunc_graph_from_py_func\u001b[0;34m(name, python_func, args, kwargs, signature, func_graph, autograph, autograph_options, add_control_dependencies, arg_names, op_return_value, collections, capture_by_value, override_flat_arg_shapes)\u001b[0m\n\u001b[1;32m    997\u001b[0m         \u001b[0m_\u001b[0m\u001b[0;34m,\u001b[0m \u001b[0moriginal_func\u001b[0m \u001b[0;34m=\u001b[0m \u001b[0mtf_decorator\u001b[0m\u001b[0;34m.\u001b[0m\u001b[0munwrap\u001b[0m\u001b[0;34m(\u001b[0m\u001b[0mpython_func\u001b[0m\u001b[0;34m)\u001b[0m\u001b[0;34m\u001b[0m\u001b[0;34m\u001b[0m\u001b[0m\n\u001b[1;32m    998\u001b[0m \u001b[0;34m\u001b[0m\u001b[0m\n\u001b[0;32m--> 999\u001b[0;31m       \u001b[0mfunc_outputs\u001b[0m \u001b[0;34m=\u001b[0m \u001b[0mpython_func\u001b[0m\u001b[0;34m(\u001b[0m\u001b[0;34m*\u001b[0m\u001b[0mfunc_args\u001b[0m\u001b[0;34m,\u001b[0m \u001b[0;34m**\u001b[0m\u001b[0mfunc_kwargs\u001b[0m\u001b[0;34m)\u001b[0m\u001b[0;34m\u001b[0m\u001b[0;34m\u001b[0m\u001b[0m\n\u001b[0m\u001b[1;32m   1000\u001b[0m \u001b[0;34m\u001b[0m\u001b[0m\n\u001b[1;32m   1001\u001b[0m       \u001b[0;31m# invariant: `func_outputs` contains only Tensors, CompositeTensors,\u001b[0m\u001b[0;34m\u001b[0m\u001b[0;34m\u001b[0m\u001b[0;34m\u001b[0m\u001b[0m\n",
      "\u001b[0;32m~/anaconda3/lib/python3.8/site-packages/tensorflow/python/eager/def_function.py\u001b[0m in \u001b[0;36mwrapped_fn\u001b[0;34m(*args, **kwds)\u001b[0m\n\u001b[1;32m    670\u001b[0m         \u001b[0;31m# the function a weak reference to itself to avoid a reference cycle.\u001b[0m\u001b[0;34m\u001b[0m\u001b[0;34m\u001b[0m\u001b[0;34m\u001b[0m\u001b[0m\n\u001b[1;32m    671\u001b[0m         \u001b[0;32mwith\u001b[0m \u001b[0mOptionalXlaContext\u001b[0m\u001b[0;34m(\u001b[0m\u001b[0mcompile_with_xla\u001b[0m\u001b[0;34m)\u001b[0m\u001b[0;34m:\u001b[0m\u001b[0;34m\u001b[0m\u001b[0;34m\u001b[0m\u001b[0m\n\u001b[0;32m--> 672\u001b[0;31m           \u001b[0mout\u001b[0m \u001b[0;34m=\u001b[0m \u001b[0mweak_wrapped_fn\u001b[0m\u001b[0;34m(\u001b[0m\u001b[0;34m)\u001b[0m\u001b[0;34m.\u001b[0m\u001b[0m__wrapped__\u001b[0m\u001b[0;34m(\u001b[0m\u001b[0;34m*\u001b[0m\u001b[0margs\u001b[0m\u001b[0;34m,\u001b[0m \u001b[0;34m**\u001b[0m\u001b[0mkwds\u001b[0m\u001b[0;34m)\u001b[0m\u001b[0;34m\u001b[0m\u001b[0;34m\u001b[0m\u001b[0m\n\u001b[0m\u001b[1;32m    673\u001b[0m         \u001b[0;32mreturn\u001b[0m \u001b[0mout\u001b[0m\u001b[0;34m\u001b[0m\u001b[0;34m\u001b[0m\u001b[0m\n\u001b[1;32m    674\u001b[0m \u001b[0;34m\u001b[0m\u001b[0m\n",
      "\u001b[0;32m~/anaconda3/lib/python3.8/site-packages/tensorflow/python/framework/func_graph.py\u001b[0m in \u001b[0;36mwrapper\u001b[0;34m(*args, **kwargs)\u001b[0m\n\u001b[1;32m    984\u001b[0m           \u001b[0;32mexcept\u001b[0m \u001b[0mException\u001b[0m \u001b[0;32mas\u001b[0m \u001b[0me\u001b[0m\u001b[0;34m:\u001b[0m  \u001b[0;31m# pylint:disable=broad-except\u001b[0m\u001b[0;34m\u001b[0m\u001b[0;34m\u001b[0m\u001b[0m\n\u001b[1;32m    985\u001b[0m             \u001b[0;32mif\u001b[0m \u001b[0mhasattr\u001b[0m\u001b[0;34m(\u001b[0m\u001b[0me\u001b[0m\u001b[0;34m,\u001b[0m \u001b[0;34m\"ag_error_metadata\"\u001b[0m\u001b[0;34m)\u001b[0m\u001b[0;34m:\u001b[0m\u001b[0;34m\u001b[0m\u001b[0;34m\u001b[0m\u001b[0m\n\u001b[0;32m--> 986\u001b[0;31m               \u001b[0;32mraise\u001b[0m \u001b[0me\u001b[0m\u001b[0;34m.\u001b[0m\u001b[0mag_error_metadata\u001b[0m\u001b[0;34m.\u001b[0m\u001b[0mto_exception\u001b[0m\u001b[0;34m(\u001b[0m\u001b[0me\u001b[0m\u001b[0;34m)\u001b[0m\u001b[0;34m\u001b[0m\u001b[0;34m\u001b[0m\u001b[0m\n\u001b[0m\u001b[1;32m    987\u001b[0m             \u001b[0;32melse\u001b[0m\u001b[0;34m:\u001b[0m\u001b[0;34m\u001b[0m\u001b[0;34m\u001b[0m\u001b[0m\n\u001b[1;32m    988\u001b[0m               \u001b[0;32mraise\u001b[0m\u001b[0;34m\u001b[0m\u001b[0;34m\u001b[0m\u001b[0m\n",
      "\u001b[0;31mValueError\u001b[0m: in user code:\n\n    /home/andres/anaconda3/lib/python3.8/site-packages/tensorflow/python/keras/engine/training.py:1569 predict_function  *\n        return step_function(self, iterator)\n    /home/andres/anaconda3/lib/python3.8/site-packages/tensorflow/python/keras/engine/training.py:1559 step_function  **\n        outputs = model.distribute_strategy.run(run_step, args=(data,))\n    /home/andres/anaconda3/lib/python3.8/site-packages/tensorflow/python/distribute/distribute_lib.py:1285 run\n        return self._extended.call_for_each_replica(fn, args=args, kwargs=kwargs)\n    /home/andres/anaconda3/lib/python3.8/site-packages/tensorflow/python/distribute/distribute_lib.py:2833 call_for_each_replica\n        return self._call_for_each_replica(fn, args, kwargs)\n    /home/andres/anaconda3/lib/python3.8/site-packages/tensorflow/python/distribute/distribute_lib.py:3608 _call_for_each_replica\n        return fn(*args, **kwargs)\n    /home/andres/anaconda3/lib/python3.8/site-packages/tensorflow/python/keras/engine/training.py:1552 run_step  **\n        outputs = model.predict_step(data)\n    /home/andres/anaconda3/lib/python3.8/site-packages/tensorflow/python/keras/engine/training.py:1525 predict_step\n        return self(x, training=False)\n    /home/andres/anaconda3/lib/python3.8/site-packages/tensorflow/python/keras/engine/base_layer.py:1030 __call__\n        outputs = call_fn(inputs, *args, **kwargs)\n    /home/andres/anaconda3/lib/python3.8/site-packages/tensorflow/python/keras/engine/sequential.py:380 call\n        return super(Sequential, self).call(inputs, training=training, mask=mask)\n    /home/andres/anaconda3/lib/python3.8/site-packages/tensorflow/python/keras/engine/functional.py:420 call\n        return self._run_internal_graph(\n    /home/andres/anaconda3/lib/python3.8/site-packages/tensorflow/python/keras/engine/functional.py:556 _run_internal_graph\n        outputs = node.layer(*args, **kwargs)\n    /home/andres/anaconda3/lib/python3.8/site-packages/tensorflow/python/keras/engine/base_layer.py:1013 __call__\n        input_spec.assert_input_compatibility(self.input_spec, inputs, self.name)\n    /home/andres/anaconda3/lib/python3.8/site-packages/tensorflow/python/keras/engine/input_spec.py:251 assert_input_compatibility\n        raise ValueError(\n\n    ValueError: Input 0 of layer dense_35 is incompatible with the layer: expected axis -1 of input shape to have value 82944 but received input with shape (None, 250000)\n"
     ]
    }
   ],
   "source": [
    "###############\n",
    "# PAPER MODEL #\n",
    "###############\n",
    "\n",
    "dependencies = {\n",
    "    'f1_m' : f1_m, \n",
    "    'precision_m' : precision_m,\n",
    "    'recall_m': recall_m,\n",
    "}\n",
    "\n",
    "model = keras.models.load_model(model_paper, custom_objects=dependencies)\n",
    "\n",
    "model.compile(loss='binary_crossentropy',\n",
    "                    optimizer='adam',\n",
    "                    metrics=['acc', f1_m, precision_m, recall_m])\n",
    "\n",
    "model.summary()\n",
    "\n",
    "from sklearn.metrics import roc_curve, roc_auc_score, auc\n",
    "\n",
    "yhat2 = model.predict(x_test2)      # Predict class values\n",
    "fpr, tpr, thresholds = roc_curve(y_test2, yhat2)\n",
    "auc = auc(fpr, tpr)\n",
    "plot_roc_curve(fpr, tpr)\n",
    "\n",
    "print('ROC AUC: ', auc)"
   ]
  },
  {
   "cell_type": "markdown",
   "metadata": {},
   "source": [
    "##### TESTSET"
   ]
  },
  {
   "cell_type": "code",
   "execution_count": 17,
   "metadata": {},
   "outputs": [
    {
     "name": "stdout",
     "output_type": "stream",
     "text": [
      "images_test.shape:  (10000, 128, 128, 4)\n",
      "labels_test.shape:  (10000,)\n",
      "[128 128   4]\n"
     ]
    }
   ],
   "source": [
    "##########\n",
    "# SIGNAL #\n",
    "##########\n",
    "num_signal_test = 5000\n",
    "\n",
    "file_pathsWP = glob.glob(path.join(folderimages_WP, 'WP*.png'))\n",
    "\n",
    "# Load the images into a single variable and convert to a numpy array\n",
    "imagesWP = [imageio.imread(file_pathsWP[jj]) for jj in range(num_signal,num_signal+num_signal_test)]\n",
    "imagesWP = np.asarray(imagesWP)\n",
    "\n",
    "labelsWP = np.ones(num_signal_test)\n",
    "\n",
    "\n",
    "##############\n",
    "# BACKGROUND #\n",
    "##############\n",
    "num_back_test = 5000\n",
    "\n",
    "file_pathsER = glob.glob(path.join(folderimages_ER, 'ER*.png'))\n",
    "\n",
    "# Load the images into a single variable and convert to a numpy array\n",
    "imagesER = [imageio.imread(file_pathsER[jj]) for jj in range(num_back,num_back+num_back_test)]\n",
    "imagesER = np.asarray(imagesER)\n",
    "\n",
    "labelsER = np.zeros(num_back_test)\n",
    "\n",
    "\n",
    "\n",
    "images_test = np.concatenate([imagesWP,imagesER])\n",
    "del imagesWP\n",
    "del imagesER\n",
    "\n",
    "labels_test = np.concatenate([labelsWP,labelsER])\n",
    "del labelsWP\n",
    "del labelsER\n",
    "\n",
    "\n",
    "print('images_test.shape: ', images_test.shape)\n",
    "print('labels_test.shape: ', labels_test.shape)\n",
    "\n",
    "# Get image size\n",
    "image_size_test = np.asarray([images_test.shape[1], images_test.shape[2], images_test.shape[3]])\n",
    "print(image_size_test)\n",
    "\n",
    "# Scale images so values are between 0 and 1\n",
    "images_test = images_test / 255\n",
    "\n",
    "n_images_test = images_test.shape[0]\n",
    "\n",
    "\n",
    "\n",
    "x_test = images_test\n",
    "del images_test\n",
    "\n",
    "y_test = labels_test\n",
    "del labels_test"
   ]
  },
  {
   "cell_type": "code",
   "execution_count": 18,
   "metadata": {
    "scrolled": false
   },
   "outputs": [
    {
     "name": "stdout",
     "output_type": "stream",
     "text": [
      "Model: \"sequential\"\n",
      "_________________________________________________________________\n",
      "Layer (type)                 Output Shape              Param #   \n",
      "=================================================================\n",
      "conv2d (Conv2D)              (None, 126, 126, 16)      592       \n",
      "_________________________________________________________________\n",
      "leaky_re_lu (LeakyReLU)      (None, 126, 126, 16)      0         \n",
      "_________________________________________________________________\n",
      "max_pooling2d (MaxPooling2D) (None, 125, 125, 16)      0         \n",
      "_________________________________________________________________\n",
      "dropout (Dropout)            (None, 125, 125, 16)      0         \n",
      "_________________________________________________________________\n",
      "flatten (Flatten)            (None, 250000)            0         \n",
      "_________________________________________________________________\n",
      "dense (Dense)                (None, 32)                8000032   \n",
      "_________________________________________________________________\n",
      "leaky_re_lu_1 (LeakyReLU)    (None, 32)                0         \n",
      "_________________________________________________________________\n",
      "dropout_1 (Dropout)          (None, 32)                0         \n",
      "_________________________________________________________________\n",
      "dense_1 (Dense)              (None, 1)                 33        \n",
      "_________________________________________________________________\n",
      "activation (Activation)      (None, 1)                 0         \n",
      "=================================================================\n",
      "Total params: 8,000,657\n",
      "Trainable params: 8,000,657\n",
      "Non-trainable params: 0\n",
      "_________________________________________________________________\n",
      "313/313 [==============================] - 6s 19ms/step - loss: 0.6488 - acc: 0.7421 - f1_m: 0.7014 - precision_m: 0.8455 - recall_m: 0.6029\n",
      "acc: 80.54%\n"
     ]
    },
    {
     "name": "stderr",
     "output_type": "stream",
     "text": [
      "/home/andres/anaconda3/lib/python3.8/site-packages/keras/engine/sequential.py:425: UserWarning: `model.predict_proba()` is deprecated and will be removed after 2021-01-01. Please use `model.predict()` instead.\n",
      "  warnings.warn('`model.predict_proba()` is deprecated and '\n"
     ]
    },
    {
     "name": "stdout",
     "output_type": "stream",
     "text": [
      "Logistic: f1=0.785 auc=0.9050921\n"
     ]
    },
    {
     "data": {
      "image/png": "[encoded data removed]",
      "text/plain": [
       "<Figure size 432x288 with 1 Axes>"
      ]
     },
     "metadata": {
      "needs_background": "light"
     },
     "output_type": "display_data"
    },
    {
     "name": "stdout",
     "output_type": "stream",
     "text": [
      "Accuracy: 0.8054\n",
      "Average precision: 0.7677334977799704\n",
      "recall: 0.7108\n",
      "AUC:0.8660325111001479\n",
      "Predicted   0.0   1.0\n",
      "Actual               \n",
      "0.0        4500   500\n",
      "1.0        1446  3554\n"
     ]
    },
    {
     "data": {
      "image/png": "[encoded data removed]",
      "text/plain": [
       "<Figure size 288x288 with 2 Axes>"
      ]
     },
     "metadata": {
      "needs_background": "light"
     },
     "output_type": "display_data"
    },
    {
     "data": {
      "image/png": "[encoded data removed]",
      "text/plain": [
       "<Figure size 432x288 with 1 Axes>"
      ]
     },
     "metadata": {
      "needs_background": "light"
     },
     "output_type": "display_data"
    },
    {
     "name": "stdout",
     "output_type": "stream",
     "text": [
      "ROC AUC:  0.9121650800000001\n"
     ]
    }
   ],
   "source": [
    "##########################\n",
    "# TEST WITH THE TEST SET #\n",
    "##########################\n",
    "\n",
    "dependencies = {\n",
    "    'f1_m' : f1_m, \n",
    "    'precision_m' : precision_m,\n",
    "    'recall_m': recall_m,\n",
    "}\n",
    "\n",
    "model = keras.models.load_model(model_name, custom_objects=dependencies)\n",
    "\n",
    "model.compile(loss='binary_crossentropy',\n",
    "                    optimizer='adam',\n",
    "                    metrics=['acc', f1_m, precision_m, recall_m])\n",
    "\n",
    "model.summary()\n",
    "\n",
    "\n",
    "\n",
    "score = model.evaluate(x_test, y_test, verbose=1)\n",
    "print(\"%s: %.2f%%\" % (model.metrics_names[1], score[1]*100))\n",
    "\n",
    "\n",
    "from sklearn.datasets import make_classification\n",
    "from sklearn.linear_model import LogisticRegression\n",
    "from sklearn.model_selection import train_test_split\n",
    "from sklearn.metrics import precision_recall_curve\n",
    "from sklearn.metrics import f1_score\n",
    "from sklearn.metrics import auc\n",
    "from matplotlib import pyplot\n",
    "\n",
    "\n",
    "lr_probs = model.predict_proba(x_test)    # Predict probabilities\n",
    "yhat = model.predict(x_test)      # Predict class values\n",
    "yhat_original = yhat\n",
    "yhat = np.round(yhat)\n",
    "lr_precision, lr_recall, _ = precision_recall_curve(y_test, lr_probs)\n",
    "lr_f1, lr_auc = f1_score(y_test, yhat), auc(lr_recall, lr_precision)\n",
    "print('Logistic: f1=%.3f auc=%.7f' % (lr_f1, lr_auc))   # Summarise scores\n",
    "''' plot the precision-recall curves '''\n",
    "no_skill = len(y_test[y_test==1]) / len(y_test)\n",
    "pyplot.plot(lr_recall, lr_precision, 'r-', label='F1 = %0.2f' %(lr_f1))\n",
    "pyplot.xlabel('Recall')\n",
    "pyplot.ylabel('Precision')\n",
    "pyplot.legend(loc='lower left')\n",
    "plt.title('Precision-Recall (PR) Curve')\n",
    "pyplot.show()\n",
    "\n",
    "## Save precision and recall data to plot PR curve seperately\n",
    "#np.savetxt(\"/content/drive/My Drive/Colab Notebooks/precision_HP.txt\",lr_precision)\n",
    "#np.savetxt(\"/content/drive/My Drive/Colab Notebooks/recall_HP.txt\",lr_recall)\n",
    "\n",
    "\n",
    "test_predictions = yhat             # Make a prediction on the test set\n",
    "accuracy = accuracy_score(y_test, test_predictions)\n",
    "print(\"Accuracy: \" + str(accuracy))\n",
    "average_precision = average_precision_score(y_test, test_predictions)\n",
    "print(\"Average precision: \" + str(average_precision))\n",
    "\n",
    "from sklearn.metrics import precision_recall_curve\n",
    "\n",
    "precision, recall, threshold = precision_recall_curve(y_test, test_predictions)\n",
    "auc = auc(recall, precision)\n",
    "recall1 = recall_score(y_test, np.round(test_predictions))\n",
    "print(\"recall: \" + str(recall1))\n",
    "print('AUC:' +str(auc))\n",
    "\n",
    "\n",
    "# Report Confusion Matrix\n",
    "y_actu = pd.Series(y_test.ravel(), name='Actual')\n",
    "y_pred = pd.Series(np.round(test_predictions.ravel()), name='Predicted')\n",
    "df_confusion = pd.crosstab(y_actu, y_pred)\n",
    "print(df_confusion)\n",
    "\n",
    "# Plot confusion matrix\n",
    "def plot_confusion_matrix(df_confusion, cmap='YlGn'):\n",
    "    plt.matshow(df_confusion, cmap=cmap) # imshow\n",
    "    plt.colorbar()\n",
    "    tick_marks = np.arange(0,len(df_confusion.columns))\n",
    "    plt.xticks(tick_marks, df_confusion.columns)\n",
    "    plt.yticks(tick_marks, df_confusion.index)\n",
    "    plt.ylabel(df_confusion.index.name)\n",
    "    plt.xlabel(df_confusion.columns.name)\n",
    "    for i in range(len(df_confusion.index)):\n",
    "        for j in range(len(df_confusion.columns)):\n",
    "            plt.text(j,i,str(df_confusion.iloc[i,j]))\n",
    "    plt.show()\n",
    "\n",
    "plot_confusion_matrix(df_confusion)\n",
    "\n",
    "from sklearn.metrics import roc_curve\n",
    "from sklearn.metrics import roc_auc_score\n",
    "\n",
    "def plot_roc_curve(fpr, tpr):\n",
    "    plt.plot(fpr, tpr, color='darkblue', label='AUC = %0.2f' %(auc))\n",
    "    plt.plot([0, 1], [0, 1], color='orange', linestyle='--')\n",
    "    plt.xlabel('False Positive Rate')\n",
    "    plt.ylabel('True Positive Rate')\n",
    "    plt.title('Receiver Operating Characteristic (ROC) Curve')\n",
    "    plt.legend()\n",
    "    plt.show()\n",
    "    \n",
    "    \n",
    "from sklearn.metrics import roc_curve, roc_auc_score, auc\n",
    "\n",
    "fpr, tpr, thresholds = roc_curve(y_test, yhat_original)\n",
    "auc = auc(fpr, tpr)\n",
    "# Save tpr and fpr to plot seperate ROC curve\n",
    "#np.savetxt(\"/content/drive/My Drive/Colab Notebooks/tpr.txt\",tpr)\n",
    "#np.savetxt(\"/content/drive/My Drive/Colab Notebooks/fpr.txt\",fpr)\n",
    "plot_roc_curve(fpr, tpr)\n",
    "\n",
    "print('ROC AUC: ', auc)"
   ]
  },
  {
   "cell_type": "code",
   "execution_count": 18,
   "metadata": {},
   "outputs": [
    {
     "name": "stdout",
     "output_type": "stream",
     "text": [
      "Model: \"sequential_18\"\n",
      "_________________________________________________________________\n",
      "Layer (type)                 Output Shape              Param #   \n",
      "=================================================================\n",
      "conv2d_28 (Conv2D)           (None, 73, 73, 16)        592       \n",
      "_________________________________________________________________\n",
      "leaky_re_lu_45 (LeakyReLU)   (None, 73, 73, 16)        0         \n",
      "_________________________________________________________________\n",
      "max_pooling2d_28 (MaxPooling (None, 72, 72, 16)        0         \n",
      "_________________________________________________________________\n",
      "dropout_35 (Dropout)         (None, 72, 72, 16)        0         \n",
      "_________________________________________________________________\n",
      "flatten_18 (Flatten)         (None, 82944)             0         \n",
      "_________________________________________________________________\n",
      "dense_35 (Dense)             (None, 32)                2654240   \n",
      "_________________________________________________________________\n",
      "leaky_re_lu_46 (LeakyReLU)   (None, 32)                0         \n",
      "_________________________________________________________________\n",
      "dropout_36 (Dropout)         (None, 32)                0         \n",
      "_________________________________________________________________\n",
      "dense_36 (Dense)             (None, 1)                 33        \n",
      "_________________________________________________________________\n",
      "activation_18 (Activation)   (None, 1)                 0         \n",
      "=================================================================\n",
      "Total params: 2,654,865\n",
      "Trainable params: 2,654,865\n",
      "Non-trainable params: 0\n",
      "_________________________________________________________________\n",
      "WARNING:tensorflow:Model was constructed with shape (None, 75, 75, 4) for input KerasTensor(type_spec=TensorSpec(shape=(None, 75, 75, 4), dtype=tf.float32, name='conv2d_28_input'), name='conv2d_28_input', description=\"created by layer 'conv2d_28_input'\"), but it was called on an input with incompatible shape (None, 128, 128, 4).\n"
     ]
    },
    {
     "ename": "ValueError",
     "evalue": "in user code:\n\n    /home/andres/anaconda3/lib/python3.8/site-packages/keras/engine/training.py:1544 predict_function  *\n        return step_function(self, iterator)\n    /home/andres/anaconda3/lib/python3.8/site-packages/keras/engine/training.py:1527 run_step  *\n        outputs = model.predict_step(data)\n    /home/andres/anaconda3/lib/python3.8/site-packages/keras/engine/training.py:1500 predict_step  *\n        return self(x, training=False)\n    /home/andres/anaconda3/lib/python3.8/site-packages/keras/engine/base_layer.py:989 __call__  *\n        input_spec.assert_input_compatibility(self.input_spec, inputs, self.name)\n    /home/andres/anaconda3/lib/python3.8/site-packages/keras/engine/sequential.py:375 call  *\n        return super(Sequential, self).call(inputs, training=training, mask=mask)\n    /home/andres/anaconda3/lib/python3.8/site-packages/keras/engine/functional.py:416 call  *\n        inputs, training=training, mask=mask)\n    /home/andres/anaconda3/lib/python3.8/site-packages/keras/engine/functional.py:551 _run_internal_graph  *\n        outputs = node.layer(*args, **kwargs)\n    /home/andres/anaconda3/lib/python3.8/site-packages/keras/engine/base_layer.py:989 __call__  *\n        input_spec.assert_input_compatibility(self.input_spec, inputs, self.name)\n    /home/andres/anaconda3/lib/python3.8/site-packages/keras/engine/input_spec.py:248 assert_input_compatibility  *\n        raise ValueError(\n\n    ValueError: Input 0 of layer dense_35 is incompatible with the layer: expected axis -1 of input shape to have value 82944 but received input with shape (None, 250000)\n",
     "output_type": "error",
     "traceback": [
      "\u001b[0;31m---------------------------------------------------------------------------\u001b[0m",
      "\u001b[0;31mValueError\u001b[0m                                Traceback (most recent call last)",
      "\u001b[0;32m<ipython-input-18-891134c8638e>\u001b[0m in \u001b[0;36m<module>\u001b[0;34m\u001b[0m\n\u001b[1;32m     20\u001b[0m \u001b[0;32mfrom\u001b[0m \u001b[0msklearn\u001b[0m\u001b[0;34m.\u001b[0m\u001b[0mmetrics\u001b[0m \u001b[0;32mimport\u001b[0m \u001b[0mroc_curve\u001b[0m\u001b[0;34m,\u001b[0m \u001b[0mroc_auc_score\u001b[0m\u001b[0;34m,\u001b[0m \u001b[0mauc\u001b[0m\u001b[0;34m\u001b[0m\u001b[0;34m\u001b[0m\u001b[0m\n\u001b[1;32m     21\u001b[0m \u001b[0;34m\u001b[0m\u001b[0m\n\u001b[0;32m---> 22\u001b[0;31m \u001b[0myhat\u001b[0m \u001b[0;34m=\u001b[0m \u001b[0mmodel\u001b[0m\u001b[0;34m.\u001b[0m\u001b[0mpredict\u001b[0m\u001b[0;34m(\u001b[0m\u001b[0mx_test\u001b[0m\u001b[0;34m)\u001b[0m      \u001b[0;31m# Predict class values\u001b[0m\u001b[0;34m\u001b[0m\u001b[0;34m\u001b[0m\u001b[0m\n\u001b[0m\u001b[1;32m     23\u001b[0m \u001b[0mfpr\u001b[0m\u001b[0;34m,\u001b[0m \u001b[0mtpr\u001b[0m\u001b[0;34m,\u001b[0m \u001b[0mthresholds\u001b[0m \u001b[0;34m=\u001b[0m \u001b[0mroc_curve\u001b[0m\u001b[0;34m(\u001b[0m\u001b[0my_test\u001b[0m\u001b[0;34m,\u001b[0m \u001b[0myhat\u001b[0m\u001b[0;34m)\u001b[0m\u001b[0;34m\u001b[0m\u001b[0;34m\u001b[0m\u001b[0m\n\u001b[1;32m     24\u001b[0m \u001b[0mauc\u001b[0m \u001b[0;34m=\u001b[0m \u001b[0mauc\u001b[0m\u001b[0;34m(\u001b[0m\u001b[0mfpr\u001b[0m\u001b[0;34m,\u001b[0m \u001b[0mtpr\u001b[0m\u001b[0;34m)\u001b[0m\u001b[0;34m\u001b[0m\u001b[0;34m\u001b[0m\u001b[0m\n",
      "\u001b[0;32m~/anaconda3/lib/python3.8/site-packages/keras/engine/training.py\u001b[0m in \u001b[0;36mpredict\u001b[0;34m(self, x, batch_size, verbose, steps, callbacks, max_queue_size, workers, use_multiprocessing)\u001b[0m\n\u001b[1;32m   1700\u001b[0m           \u001b[0;32mfor\u001b[0m \u001b[0mstep\u001b[0m \u001b[0;32min\u001b[0m \u001b[0mdata_handler\u001b[0m\u001b[0;34m.\u001b[0m\u001b[0msteps\u001b[0m\u001b[0;34m(\u001b[0m\u001b[0;34m)\u001b[0m\u001b[0;34m:\u001b[0m\u001b[0;34m\u001b[0m\u001b[0;34m\u001b[0m\u001b[0m\n\u001b[1;32m   1701\u001b[0m             \u001b[0mcallbacks\u001b[0m\u001b[0;34m.\u001b[0m\u001b[0mon_predict_batch_begin\u001b[0m\u001b[0;34m(\u001b[0m\u001b[0mstep\u001b[0m\u001b[0;34m)\u001b[0m\u001b[0;34m\u001b[0m\u001b[0;34m\u001b[0m\u001b[0m\n\u001b[0;32m-> 1702\u001b[0;31m             \u001b[0mtmp_batch_outputs\u001b[0m \u001b[0;34m=\u001b[0m \u001b[0mself\u001b[0m\u001b[0;34m.\u001b[0m\u001b[0mpredict_function\u001b[0m\u001b[0;34m(\u001b[0m\u001b[0miterator\u001b[0m\u001b[0;34m)\u001b[0m\u001b[0;34m\u001b[0m\u001b[0;34m\u001b[0m\u001b[0m\n\u001b[0m\u001b[1;32m   1703\u001b[0m             \u001b[0;32mif\u001b[0m \u001b[0mdata_handler\u001b[0m\u001b[0;34m.\u001b[0m\u001b[0mshould_sync\u001b[0m\u001b[0;34m:\u001b[0m\u001b[0;34m\u001b[0m\u001b[0;34m\u001b[0m\u001b[0m\n\u001b[1;32m   1704\u001b[0m               \u001b[0mcontext\u001b[0m\u001b[0;34m.\u001b[0m\u001b[0masync_wait\u001b[0m\u001b[0;34m(\u001b[0m\u001b[0;34m)\u001b[0m\u001b[0;34m\u001b[0m\u001b[0;34m\u001b[0m\u001b[0m\n",
      "\u001b[0;32m~/anaconda3/lib/python3.8/site-packages/tensorflow/python/eager/def_function.py\u001b[0m in \u001b[0;36m__call__\u001b[0;34m(self, *args, **kwds)\u001b[0m\n\u001b[1;32m    887\u001b[0m \u001b[0;34m\u001b[0m\u001b[0m\n\u001b[1;32m    888\u001b[0m       \u001b[0;32mwith\u001b[0m \u001b[0mOptionalXlaContext\u001b[0m\u001b[0;34m(\u001b[0m\u001b[0mself\u001b[0m\u001b[0;34m.\u001b[0m\u001b[0m_jit_compile\u001b[0m\u001b[0;34m)\u001b[0m\u001b[0;34m:\u001b[0m\u001b[0;34m\u001b[0m\u001b[0;34m\u001b[0m\u001b[0m\n\u001b[0;32m--> 889\u001b[0;31m         \u001b[0mresult\u001b[0m \u001b[0;34m=\u001b[0m \u001b[0mself\u001b[0m\u001b[0;34m.\u001b[0m\u001b[0m_call\u001b[0m\u001b[0;34m(\u001b[0m\u001b[0;34m*\u001b[0m\u001b[0margs\u001b[0m\u001b[0;34m,\u001b[0m \u001b[0;34m**\u001b[0m\u001b[0mkwds\u001b[0m\u001b[0;34m)\u001b[0m\u001b[0;34m\u001b[0m\u001b[0;34m\u001b[0m\u001b[0m\n\u001b[0m\u001b[1;32m    890\u001b[0m \u001b[0;34m\u001b[0m\u001b[0m\n\u001b[1;32m    891\u001b[0m       \u001b[0mnew_tracing_count\u001b[0m \u001b[0;34m=\u001b[0m \u001b[0mself\u001b[0m\u001b[0;34m.\u001b[0m\u001b[0mexperimental_get_tracing_count\u001b[0m\u001b[0;34m(\u001b[0m\u001b[0;34m)\u001b[0m\u001b[0;34m\u001b[0m\u001b[0;34m\u001b[0m\u001b[0m\n",
      "\u001b[0;32m~/anaconda3/lib/python3.8/site-packages/tensorflow/python/eager/def_function.py\u001b[0m in \u001b[0;36m_call\u001b[0;34m(self, *args, **kwds)\u001b[0m\n\u001b[1;32m    931\u001b[0m       \u001b[0;31m# This is the first call of __call__, so we have to initialize.\u001b[0m\u001b[0;34m\u001b[0m\u001b[0;34m\u001b[0m\u001b[0;34m\u001b[0m\u001b[0m\n\u001b[1;32m    932\u001b[0m       \u001b[0minitializers\u001b[0m \u001b[0;34m=\u001b[0m \u001b[0;34m[\u001b[0m\u001b[0;34m]\u001b[0m\u001b[0;34m\u001b[0m\u001b[0;34m\u001b[0m\u001b[0m\n\u001b[0;32m--> 933\u001b[0;31m       \u001b[0mself\u001b[0m\u001b[0;34m.\u001b[0m\u001b[0m_initialize\u001b[0m\u001b[0;34m(\u001b[0m\u001b[0margs\u001b[0m\u001b[0;34m,\u001b[0m \u001b[0mkwds\u001b[0m\u001b[0;34m,\u001b[0m \u001b[0madd_initializers_to\u001b[0m\u001b[0;34m=\u001b[0m\u001b[0minitializers\u001b[0m\u001b[0;34m)\u001b[0m\u001b[0;34m\u001b[0m\u001b[0;34m\u001b[0m\u001b[0m\n\u001b[0m\u001b[1;32m    934\u001b[0m     \u001b[0;32mfinally\u001b[0m\u001b[0;34m:\u001b[0m\u001b[0;34m\u001b[0m\u001b[0;34m\u001b[0m\u001b[0m\n\u001b[1;32m    935\u001b[0m       \u001b[0;31m# At this point we know that the initialization is complete (or less\u001b[0m\u001b[0;34m\u001b[0m\u001b[0;34m\u001b[0m\u001b[0;34m\u001b[0m\u001b[0m\n",
      "\u001b[0;32m~/anaconda3/lib/python3.8/site-packages/tensorflow/python/eager/def_function.py\u001b[0m in \u001b[0;36m_initialize\u001b[0;34m(self, args, kwds, add_initializers_to)\u001b[0m\n\u001b[1;32m    761\u001b[0m     \u001b[0mself\u001b[0m\u001b[0;34m.\u001b[0m\u001b[0m_graph_deleter\u001b[0m \u001b[0;34m=\u001b[0m \u001b[0mFunctionDeleter\u001b[0m\u001b[0;34m(\u001b[0m\u001b[0mself\u001b[0m\u001b[0;34m.\u001b[0m\u001b[0m_lifted_initializer_graph\u001b[0m\u001b[0;34m)\u001b[0m\u001b[0;34m\u001b[0m\u001b[0;34m\u001b[0m\u001b[0m\n\u001b[1;32m    762\u001b[0m     self._concrete_stateful_fn = (\n\u001b[0;32m--> 763\u001b[0;31m         self._stateful_fn._get_concrete_function_internal_garbage_collected(  # pylint: disable=protected-access\n\u001b[0m\u001b[1;32m    764\u001b[0m             *args, **kwds))\n\u001b[1;32m    765\u001b[0m \u001b[0;34m\u001b[0m\u001b[0m\n",
      "\u001b[0;32m~/anaconda3/lib/python3.8/site-packages/tensorflow/python/eager/function.py\u001b[0m in \u001b[0;36m_get_concrete_function_internal_garbage_collected\u001b[0;34m(self, *args, **kwargs)\u001b[0m\n\u001b[1;32m   3048\u001b[0m       \u001b[0margs\u001b[0m\u001b[0;34m,\u001b[0m \u001b[0mkwargs\u001b[0m \u001b[0;34m=\u001b[0m \u001b[0;32mNone\u001b[0m\u001b[0;34m,\u001b[0m \u001b[0;32mNone\u001b[0m\u001b[0;34m\u001b[0m\u001b[0;34m\u001b[0m\u001b[0m\n\u001b[1;32m   3049\u001b[0m     \u001b[0;32mwith\u001b[0m \u001b[0mself\u001b[0m\u001b[0;34m.\u001b[0m\u001b[0m_lock\u001b[0m\u001b[0;34m:\u001b[0m\u001b[0;34m\u001b[0m\u001b[0;34m\u001b[0m\u001b[0m\n\u001b[0;32m-> 3050\u001b[0;31m       \u001b[0mgraph_function\u001b[0m\u001b[0;34m,\u001b[0m \u001b[0m_\u001b[0m \u001b[0;34m=\u001b[0m \u001b[0mself\u001b[0m\u001b[0;34m.\u001b[0m\u001b[0m_maybe_define_function\u001b[0m\u001b[0;34m(\u001b[0m\u001b[0margs\u001b[0m\u001b[0;34m,\u001b[0m \u001b[0mkwargs\u001b[0m\u001b[0;34m)\u001b[0m\u001b[0;34m\u001b[0m\u001b[0;34m\u001b[0m\u001b[0m\n\u001b[0m\u001b[1;32m   3051\u001b[0m     \u001b[0;32mreturn\u001b[0m \u001b[0mgraph_function\u001b[0m\u001b[0;34m\u001b[0m\u001b[0;34m\u001b[0m\u001b[0m\n\u001b[1;32m   3052\u001b[0m \u001b[0;34m\u001b[0m\u001b[0m\n",
      "\u001b[0;32m~/anaconda3/lib/python3.8/site-packages/tensorflow/python/eager/function.py\u001b[0m in \u001b[0;36m_maybe_define_function\u001b[0;34m(self, args, kwargs)\u001b[0m\n\u001b[1;32m   3442\u001b[0m \u001b[0;34m\u001b[0m\u001b[0m\n\u001b[1;32m   3443\u001b[0m           \u001b[0mself\u001b[0m\u001b[0;34m.\u001b[0m\u001b[0m_function_cache\u001b[0m\u001b[0;34m.\u001b[0m\u001b[0mmissed\u001b[0m\u001b[0;34m.\u001b[0m\u001b[0madd\u001b[0m\u001b[0;34m(\u001b[0m\u001b[0mcall_context_key\u001b[0m\u001b[0;34m)\u001b[0m\u001b[0;34m\u001b[0m\u001b[0;34m\u001b[0m\u001b[0m\n\u001b[0;32m-> 3444\u001b[0;31m           \u001b[0mgraph_function\u001b[0m \u001b[0;34m=\u001b[0m \u001b[0mself\u001b[0m\u001b[0;34m.\u001b[0m\u001b[0m_create_graph_function\u001b[0m\u001b[0;34m(\u001b[0m\u001b[0margs\u001b[0m\u001b[0;34m,\u001b[0m \u001b[0mkwargs\u001b[0m\u001b[0;34m)\u001b[0m\u001b[0;34m\u001b[0m\u001b[0;34m\u001b[0m\u001b[0m\n\u001b[0m\u001b[1;32m   3445\u001b[0m           \u001b[0mself\u001b[0m\u001b[0;34m.\u001b[0m\u001b[0m_function_cache\u001b[0m\u001b[0;34m.\u001b[0m\u001b[0mprimary\u001b[0m\u001b[0;34m[\u001b[0m\u001b[0mcache_key\u001b[0m\u001b[0;34m]\u001b[0m \u001b[0;34m=\u001b[0m \u001b[0mgraph_function\u001b[0m\u001b[0;34m\u001b[0m\u001b[0;34m\u001b[0m\u001b[0m\n\u001b[1;32m   3446\u001b[0m \u001b[0;34m\u001b[0m\u001b[0m\n",
      "\u001b[0;32m~/anaconda3/lib/python3.8/site-packages/tensorflow/python/eager/function.py\u001b[0m in \u001b[0;36m_create_graph_function\u001b[0;34m(self, args, kwargs, override_flat_arg_shapes)\u001b[0m\n\u001b[1;32m   3277\u001b[0m     \u001b[0marg_names\u001b[0m \u001b[0;34m=\u001b[0m \u001b[0mbase_arg_names\u001b[0m \u001b[0;34m+\u001b[0m \u001b[0mmissing_arg_names\u001b[0m\u001b[0;34m\u001b[0m\u001b[0;34m\u001b[0m\u001b[0m\n\u001b[1;32m   3278\u001b[0m     graph_function = ConcreteFunction(\n\u001b[0;32m-> 3279\u001b[0;31m         func_graph_module.func_graph_from_py_func(\n\u001b[0m\u001b[1;32m   3280\u001b[0m             \u001b[0mself\u001b[0m\u001b[0;34m.\u001b[0m\u001b[0m_name\u001b[0m\u001b[0;34m,\u001b[0m\u001b[0;34m\u001b[0m\u001b[0;34m\u001b[0m\u001b[0m\n\u001b[1;32m   3281\u001b[0m             \u001b[0mself\u001b[0m\u001b[0;34m.\u001b[0m\u001b[0m_python_function\u001b[0m\u001b[0;34m,\u001b[0m\u001b[0;34m\u001b[0m\u001b[0;34m\u001b[0m\u001b[0m\n",
      "\u001b[0;32m~/anaconda3/lib/python3.8/site-packages/tensorflow/python/framework/func_graph.py\u001b[0m in \u001b[0;36mfunc_graph_from_py_func\u001b[0;34m(name, python_func, args, kwargs, signature, func_graph, autograph, autograph_options, add_control_dependencies, arg_names, op_return_value, collections, capture_by_value, override_flat_arg_shapes)\u001b[0m\n\u001b[1;32m    997\u001b[0m         \u001b[0m_\u001b[0m\u001b[0;34m,\u001b[0m \u001b[0moriginal_func\u001b[0m \u001b[0;34m=\u001b[0m \u001b[0mtf_decorator\u001b[0m\u001b[0;34m.\u001b[0m\u001b[0munwrap\u001b[0m\u001b[0;34m(\u001b[0m\u001b[0mpython_func\u001b[0m\u001b[0;34m)\u001b[0m\u001b[0;34m\u001b[0m\u001b[0;34m\u001b[0m\u001b[0m\n\u001b[1;32m    998\u001b[0m \u001b[0;34m\u001b[0m\u001b[0m\n\u001b[0;32m--> 999\u001b[0;31m       \u001b[0mfunc_outputs\u001b[0m \u001b[0;34m=\u001b[0m \u001b[0mpython_func\u001b[0m\u001b[0;34m(\u001b[0m\u001b[0;34m*\u001b[0m\u001b[0mfunc_args\u001b[0m\u001b[0;34m,\u001b[0m \u001b[0;34m**\u001b[0m\u001b[0mfunc_kwargs\u001b[0m\u001b[0;34m)\u001b[0m\u001b[0;34m\u001b[0m\u001b[0;34m\u001b[0m\u001b[0m\n\u001b[0m\u001b[1;32m   1000\u001b[0m \u001b[0;34m\u001b[0m\u001b[0m\n\u001b[1;32m   1001\u001b[0m       \u001b[0;31m# invariant: `func_outputs` contains only Tensors, CompositeTensors,\u001b[0m\u001b[0;34m\u001b[0m\u001b[0;34m\u001b[0m\u001b[0;34m\u001b[0m\u001b[0m\n",
      "\u001b[0;32m~/anaconda3/lib/python3.8/site-packages/tensorflow/python/eager/def_function.py\u001b[0m in \u001b[0;36mwrapped_fn\u001b[0;34m(*args, **kwds)\u001b[0m\n\u001b[1;32m    670\u001b[0m         \u001b[0;31m# the function a weak reference to itself to avoid a reference cycle.\u001b[0m\u001b[0;34m\u001b[0m\u001b[0;34m\u001b[0m\u001b[0;34m\u001b[0m\u001b[0m\n\u001b[1;32m    671\u001b[0m         \u001b[0;32mwith\u001b[0m \u001b[0mOptionalXlaContext\u001b[0m\u001b[0;34m(\u001b[0m\u001b[0mcompile_with_xla\u001b[0m\u001b[0;34m)\u001b[0m\u001b[0;34m:\u001b[0m\u001b[0;34m\u001b[0m\u001b[0;34m\u001b[0m\u001b[0m\n\u001b[0;32m--> 672\u001b[0;31m           \u001b[0mout\u001b[0m \u001b[0;34m=\u001b[0m \u001b[0mweak_wrapped_fn\u001b[0m\u001b[0;34m(\u001b[0m\u001b[0;34m)\u001b[0m\u001b[0;34m.\u001b[0m\u001b[0m__wrapped__\u001b[0m\u001b[0;34m(\u001b[0m\u001b[0;34m*\u001b[0m\u001b[0margs\u001b[0m\u001b[0;34m,\u001b[0m \u001b[0;34m**\u001b[0m\u001b[0mkwds\u001b[0m\u001b[0;34m)\u001b[0m\u001b[0;34m\u001b[0m\u001b[0;34m\u001b[0m\u001b[0m\n\u001b[0m\u001b[1;32m    673\u001b[0m         \u001b[0;32mreturn\u001b[0m \u001b[0mout\u001b[0m\u001b[0;34m\u001b[0m\u001b[0;34m\u001b[0m\u001b[0m\n\u001b[1;32m    674\u001b[0m \u001b[0;34m\u001b[0m\u001b[0m\n",
      "\u001b[0;32m~/anaconda3/lib/python3.8/site-packages/tensorflow/python/framework/func_graph.py\u001b[0m in \u001b[0;36mwrapper\u001b[0;34m(*args, **kwargs)\u001b[0m\n\u001b[1;32m    984\u001b[0m           \u001b[0;32mexcept\u001b[0m \u001b[0mException\u001b[0m \u001b[0;32mas\u001b[0m \u001b[0me\u001b[0m\u001b[0;34m:\u001b[0m  \u001b[0;31m# pylint:disable=broad-except\u001b[0m\u001b[0;34m\u001b[0m\u001b[0;34m\u001b[0m\u001b[0m\n\u001b[1;32m    985\u001b[0m             \u001b[0;32mif\u001b[0m \u001b[0mhasattr\u001b[0m\u001b[0;34m(\u001b[0m\u001b[0me\u001b[0m\u001b[0;34m,\u001b[0m \u001b[0;34m\"ag_error_metadata\"\u001b[0m\u001b[0;34m)\u001b[0m\u001b[0;34m:\u001b[0m\u001b[0;34m\u001b[0m\u001b[0;34m\u001b[0m\u001b[0m\n\u001b[0;32m--> 986\u001b[0;31m               \u001b[0;32mraise\u001b[0m \u001b[0me\u001b[0m\u001b[0;34m.\u001b[0m\u001b[0mag_error_metadata\u001b[0m\u001b[0;34m.\u001b[0m\u001b[0mto_exception\u001b[0m\u001b[0;34m(\u001b[0m\u001b[0me\u001b[0m\u001b[0;34m)\u001b[0m\u001b[0;34m\u001b[0m\u001b[0;34m\u001b[0m\u001b[0m\n\u001b[0m\u001b[1;32m    987\u001b[0m             \u001b[0;32melse\u001b[0m\u001b[0;34m:\u001b[0m\u001b[0;34m\u001b[0m\u001b[0;34m\u001b[0m\u001b[0m\n\u001b[1;32m    988\u001b[0m               \u001b[0;32mraise\u001b[0m\u001b[0;34m\u001b[0m\u001b[0;34m\u001b[0m\u001b[0m\n",
      "\u001b[0;31mValueError\u001b[0m: in user code:\n\n    /home/andres/anaconda3/lib/python3.8/site-packages/keras/engine/training.py:1544 predict_function  *\n        return step_function(self, iterator)\n    /home/andres/anaconda3/lib/python3.8/site-packages/keras/engine/training.py:1527 run_step  *\n        outputs = model.predict_step(data)\n    /home/andres/anaconda3/lib/python3.8/site-packages/keras/engine/training.py:1500 predict_step  *\n        return self(x, training=False)\n    /home/andres/anaconda3/lib/python3.8/site-packages/keras/engine/base_layer.py:989 __call__  *\n        input_spec.assert_input_compatibility(self.input_spec, inputs, self.name)\n    /home/andres/anaconda3/lib/python3.8/site-packages/keras/engine/sequential.py:375 call  *\n        return super(Sequential, self).call(inputs, training=training, mask=mask)\n    /home/andres/anaconda3/lib/python3.8/site-packages/keras/engine/functional.py:416 call  *\n        inputs, training=training, mask=mask)\n    /home/andres/anaconda3/lib/python3.8/site-packages/keras/engine/functional.py:551 _run_internal_graph  *\n        outputs = node.layer(*args, **kwargs)\n    /home/andres/anaconda3/lib/python3.8/site-packages/keras/engine/base_layer.py:989 __call__  *\n        input_spec.assert_input_compatibility(self.input_spec, inputs, self.name)\n    /home/andres/anaconda3/lib/python3.8/site-packages/keras/engine/input_spec.py:248 assert_input_compatibility  *\n        raise ValueError(\n\n    ValueError: Input 0 of layer dense_35 is incompatible with the layer: expected axis -1 of input shape to have value 82944 but received input with shape (None, 250000)\n"
     ]
    }
   ],
   "source": [
    "###############\n",
    "# PAPER MODEL #\n",
    "###############\n",
    "\n",
    "dependencies = {\n",
    "    'f1_m' : f1_m, \n",
    "    'precision_m' : precision_m,\n",
    "    'recall_m': recall_m,\n",
    "}\n",
    "\n",
    "model = keras.models.load_model(model_paper, custom_objects=dependencies)\n",
    "\n",
    "model.compile(loss='binary_crossentropy',\n",
    "                    optimizer='adam',\n",
    "                    metrics=['acc', f1_m, precision_m, recall_m])\n",
    "\n",
    "model.summary()\n",
    "\n",
    "\n",
    "from sklearn.metrics import roc_curve, roc_auc_score, auc\n",
    "\n",
    "yhat = model.predict(x_test)      # Predict class values\n",
    "fpr, tpr, thresholds = roc_curve(y_test, yhat)\n",
    "auc = auc(fpr, tpr)\n",
    "plot_roc_curve(fpr, tpr)\n",
    "\n",
    "print('ROC AUC: ', auc)"
   ]
  },
  {
   "cell_type": "code",
   "execution_count": null,
   "metadata": {},
   "outputs": [],
   "source": []
  }
 ],
 "metadata": {
  "kernelspec": {
   "display_name": "Python 3",
   "language": "python",
   "name": "python3"
  },
  "language_info": {
   "codemirror_mode": {
    "name": "ipython",
    "version": 3
   },
   "file_extension": ".py",
   "mimetype": "text/x-python",
   "name": "python",
   "nbconvert_exporter": "python",
   "pygments_lexer": "ipython3",
   "version": "3.8.8"
  }
 },
 "nbformat": 4,
 "nbformat_minor": 4
}
