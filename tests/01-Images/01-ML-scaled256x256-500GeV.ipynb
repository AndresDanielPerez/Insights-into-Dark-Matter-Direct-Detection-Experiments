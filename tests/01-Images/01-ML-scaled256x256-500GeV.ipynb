{
 "cells": [
  {
   "cell_type": "code",
   "execution_count": 1,
   "metadata": {},
   "outputs": [],
   "source": [
    "import numpy as np\n",
    "import pandas as pd\n",
    "import matplotlib.pyplot as plt\n",
    "import seaborn as sns\n",
    "from matplotlib import gridspec\n",
    "from matplotlib import patches\n",
    "from matplotlib import cm\n",
    "from mpl_toolkits.mplot3d import Axes3D\n",
    "\n",
    "import os\n",
    "import math\n",
    "import random\n",
    "\n",
    "import keras\n",
    "from keras.models import Sequential\n",
    "from keras.layers import Input, Dense, Conv2D, Flatten, MaxPooling2D\n",
    "from keras.layers import Dropout\n",
    "from keras.callbacks import EarlyStopping\n",
    "\n",
    "from sklearn.preprocessing import MinMaxScaler\n",
    "from sklearn.model_selection import train_test_split\n",
    "from sklearn.utils import shuffle\n",
    "from sklearn import preprocessing\n",
    "from sklearn.metrics import roc_curve, roc_auc_score, auc\n",
    "\n",
    "import scipy.stats as st\n",
    "from scipy.stats import poisson\n",
    "from scipy.interpolate import interp1d\n",
    "from scipy.stats import norm"
   ]
  },
  {
   "cell_type": "code",
   "execution_count": 2,
   "metadata": {},
   "outputs": [],
   "source": [
    "from sklearn.neighbors import KernelDensity\n",
    "from sklearn.model_selection import GridSearchCV\n",
    "\n",
    "import scipy.integrate as integrate"
   ]
  },
  {
   "cell_type": "code",
   "execution_count": 3,
   "metadata": {},
   "outputs": [
    {
     "name": "stdout",
     "output_type": "stream",
     "text": [
      "Requirement already satisfied: xgboost in /home/andres/anaconda3/lib/python3.8/site-packages (1.5.1)\n",
      "Requirement already satisfied: numpy in /home/andres/.local/lib/python3.8/site-packages (from xgboost) (1.22.4)\n",
      "Requirement already satisfied: scipy in /home/andres/.local/lib/python3.8/site-packages (from xgboost) (1.9.3)\n",
      "\u001b[33mWARNING: You are using pip version 21.3.1; however, version 24.0 is available.\n",
      "You should consider upgrading via the '/home/andres/anaconda3/bin/python -m pip install --upgrade pip' command.\u001b[0m\n"
     ]
    }
   ],
   "source": [
    "!pip install xgboost\n",
    "\n",
    "import xgboost\n",
    "from xgboost import XGBRegressor, XGBClassifier"
   ]
  },
  {
   "cell_type": "code",
   "execution_count": 4,
   "metadata": {},
   "outputs": [],
   "source": [
    "import glob\n",
    "import numpy as np\n",
    "import os.path as path\n",
    "import imageio\n",
    "import matplotlib.pyplot as plt\n",
    "from keras.models import Sequential\n",
    "from keras.layers import Activation, Dropout, Flatten, Dense, Conv2D, MaxPooling2D\n",
    "from keras.callbacks import EarlyStopping, TensorBoard\n",
    "from datetime import datetime\n",
    "import keras\n",
    "from keras import regularizers\n",
    "from sklearn.model_selection import train_test_split\n",
    "import pandas as pd\n",
    "from sklearn.metrics import accuracy_score, f1_score, average_precision_score, precision_recall_curve, auc,recall_score\n",
    "# from keras.optimizers import Adam\n",
    "from keras.regularizers import l2\n",
    "import h5py\n",
    "from sklearn.model_selection import GridSearchCV\n",
    "from keras.backend import cast, greater, clip, floatx,epsilon\n",
    "from keras.wrappers.scikit_learn import KerasClassifier\n",
    "from keras import backend as K\n",
    "from sklearn.model_selection import StratifiedKFold"
   ]
  },
  {
   "cell_type": "markdown",
   "metadata": {},
   "source": [
    "### Load images"
   ]
  },
  {
   "cell_type": "code",
   "execution_count": 5,
   "metadata": {},
   "outputs": [],
   "source": [
    "filefolder = '../../data2024/processed/00-images/'\n",
    "\n",
    "###################\n",
    "# BACKGROUND FILE #\n",
    "###################\n",
    "\n",
    "filename_B = filefolder + 'ER-img/out-img256/'\n",
    "\n",
    "\n",
    "###############\n",
    "# SIGNAL FILE #\n",
    "###############\n",
    "\n",
    "# select the DM mass\n",
    "mDM = 500\n",
    "\n",
    "filename_S = filefolder + 'mDM' + str(mDM) + 'GeV-img/out-img256/'"
   ]
  },
  {
   "cell_type": "code",
   "execution_count": null,
   "metadata": {},
   "outputs": [],
   "source": []
  },
  {
   "cell_type": "code",
   "execution_count": 6,
   "metadata": {},
   "outputs": [],
   "source": [
    "from keras import backend as K\n",
    "np.random.seed(0)\n",
    "\n",
    "# Define recall, precision and f1 functions\n",
    "def recall_m(y_true, y_pred):\n",
    "    true_positives = K.sum(K.round(K.clip(y_true * y_pred, 0, 1)))\n",
    "    possible_positives = K.sum(K.round(K.clip(y_true, 0, 1)))\n",
    "    recall = true_positives / (possible_positives + K.epsilon())\n",
    "    return recall\n",
    "\n",
    "def precision_m(y_true, y_pred):\n",
    "    true_positives = K.sum(K.round(K.clip(y_true * y_pred, 0, 1)))\n",
    "    predicted_positives = K.sum(K.round(K.clip(y_pred, 0, 1)))\n",
    "    precision = true_positives / (predicted_positives + K.epsilon())\n",
    "    return precision\n",
    "\n",
    "def f1_m(y_true, y_pred):\n",
    "    precision = precision_m(y_true, y_pred)\n",
    "    recall = recall_m(y_true, y_pred)\n",
    "    return 2*((precision*recall)/(precision+recall+K.epsilon()))"
   ]
  },
  {
   "cell_type": "code",
   "execution_count": null,
   "metadata": {},
   "outputs": [],
   "source": []
  },
  {
   "cell_type": "markdown",
   "metadata": {},
   "source": [
    "##### TEST-VAL SET"
   ]
  },
  {
   "cell_type": "code",
   "execution_count": 7,
   "metadata": {},
   "outputs": [
    {
     "name": "stdout",
     "output_type": "stream",
     "text": [
      "(256, 256, 4)\n",
      "(256, 256, 4)\n",
      "(256, 256, 4)\n",
      "(256, 256, 4)\n"
     ]
    }
   ],
   "source": [
    "# test\n",
    "from PIL import Image\n",
    "\n",
    "for i in range(2):\n",
    "    img = Image.open( filename_S + 'WP' + str(i) + '.png' )\n",
    "    data = np.asarray( img, dtype=\"int32\" )\n",
    "    print(data.shape)\n",
    "    \n",
    "for i in range(2):\n",
    "    img = Image.open( filename_B + 'ER' + str(i) + '.png' )\n",
    "    data = np.asarray( img, dtype=\"int32\" )\n",
    "    print(data.shape)"
   ]
  },
  {
   "cell_type": "code",
   "execution_count": 8,
   "metadata": {},
   "outputs": [
    {
     "name": "stdout",
     "output_type": "stream",
     "text": [
      "images.shape:  (6000, 256, 256, 4)\n",
      "labels.shape:  (6000,)\n",
      "[256 256   4]\n"
     ]
    }
   ],
   "source": [
    "##########\n",
    "# SIGNAL #\n",
    "##########\n",
    "num_signal = 3000\n",
    "\n",
    "file_pathsWP = glob.glob(path.join(filename_S, 'WP*.png'))\n",
    "\n",
    "# Load the images into a single variable and convert to a numpy array\n",
    "imagesWP = [imageio.imread(file_pathsWP[jj]) for jj in range(num_signal)]\n",
    "imagesWP = np.asarray(imagesWP)\n",
    "\n",
    "labelsWP = np.ones(num_signal)\n",
    "\n",
    "\n",
    "##############\n",
    "# BACKGROUND #\n",
    "##############\n",
    "num_back = 3000\n",
    "\n",
    "file_pathsER = glob.glob(path.join(filename_B, 'ER*.png'))\n",
    "\n",
    "# Load the images into a single variable and convert to a numpy array\n",
    "imagesER = [imageio.imread(file_pathsER[jj]) for jj in range(num_back)]\n",
    "imagesER = np.asarray(imagesER)\n",
    "\n",
    "labelsER = np.zeros(num_back)\n",
    "\n",
    "\n",
    "\n",
    "images = np.concatenate([imagesWP,imagesER])\n",
    "del imagesWP\n",
    "del imagesER\n",
    "\n",
    "labels = np.concatenate([labelsWP,labelsER])\n",
    "del labelsWP\n",
    "del labelsER\n",
    "\n",
    "\n",
    "\n",
    "print('images.shape: ', images.shape)\n",
    "print('labels.shape: ', labels.shape)\n",
    "\n",
    "# Get image size\n",
    "image_size = np.asarray([images.shape[1], images.shape[2], images.shape[3]])\n",
    "print(image_size)\n",
    "\n",
    "# Scale images so values are between 0 and 1\n",
    "images = images / 255\n",
    "\n",
    "n_images = images.shape[0]"
   ]
  },
  {
   "cell_type": "code",
   "execution_count": 9,
   "metadata": {},
   "outputs": [
    {
     "name": "stdout",
     "output_type": "stream",
     "text": [
      "(4200, 256, 256, 4)\n",
      "(4200,)\n",
      "(1800, 256, 256, 4)\n",
      "(1800,)\n"
     ]
    }
   ],
   "source": [
    "# Split into test and training sets\n",
    "\n",
    "TRAIN_TEST_SPLIT = 0.7            \n",
    "\n",
    "# Split at the given index\n",
    "split_index = int(TRAIN_TEST_SPLIT * n_images)\n",
    "shuffled_indices = np.random.permutation(n_images)\n",
    "train_indices = shuffled_indices[0:split_index]\n",
    "test_indices = shuffled_indices[split_index:]\n",
    "\n",
    "# Split the images and the labels\n",
    "x_train = images[train_indices, :, :, :]\n",
    "y_train = labels[train_indices]\n",
    "x_val = images[test_indices, :, :, :]\n",
    "y_val = labels[test_indices]\n",
    "\n",
    "#x_train = images\n",
    "#y_train = labels\n",
    "\n",
    "print(x_train.shape)\n",
    "print(y_train.shape)\n",
    "print(x_val.shape)\n",
    "print(y_val.shape)"
   ]
  },
  {
   "cell_type": "markdown",
   "metadata": {},
   "source": [
    "##### TRAIN THE MODEL"
   ]
  },
  {
   "cell_type": "code",
   "execution_count": 10,
   "metadata": {},
   "outputs": [
    {
     "name": "stdout",
     "output_type": "stream",
     "text": [
      "Epoch 1/50\n",
      "42/42 [==============================] - 61s 1s/step - loss: 63.9051 - acc: 0.5059 - f1_m: 0.4569 - precision_m: 0.4344 - recall_m: 0.5091 - val_loss: 4.1195 - val_acc: 0.5072 - val_f1_m: 0.0000e+00 - val_precision_m: 0.0000e+00 - val_recall_m: 0.0000e+00\n",
      "Epoch 2/50\n",
      "42/42 [==============================] - 53s 1s/step - loss: 10.7172 - acc: 0.5134 - f1_m: 0.4800 - precision_m: 0.5336 - recall_m: 0.4613 - val_loss: 2.5534 - val_acc: 0.4928 - val_f1_m: 0.6592 - val_precision_m: 0.4928 - val_recall_m: 1.0000\n",
      "Epoch 3/50\n",
      "42/42 [==============================] - 51s 1s/step - loss: 6.6558 - acc: 0.5398 - f1_m: 0.5155 - precision_m: 0.5391 - recall_m: 0.5252 - val_loss: 1.7920 - val_acc: 0.7311 - val_f1_m: 0.7391 - val_precision_m: 0.7089 - val_recall_m: 0.7757\n",
      "Epoch 4/50\n",
      "42/42 [==============================] - 51s 1s/step - loss: 1.7762 - acc: 0.6745 - f1_m: 0.6693 - precision_m: 0.6784 - recall_m: 0.6692 - val_loss: 1.4534 - val_acc: 0.7294 - val_f1_m: 0.7161 - val_precision_m: 0.7416 - val_recall_m: 0.6964\n",
      "Epoch 5/50\n",
      "42/42 [==============================] - 53s 1s/step - loss: 1.5021 - acc: 0.6957 - f1_m: 0.6969 - precision_m: 0.6850 - recall_m: 0.7147 - val_loss: 1.2956 - val_acc: 0.7361 - val_f1_m: 0.7511 - val_precision_m: 0.7027 - val_recall_m: 0.8109\n",
      "Epoch 6/50\n",
      "42/42 [==============================] - 54s 1s/step - loss: 1.4755 - acc: 0.6668 - f1_m: 0.6896 - precision_m: 0.6682 - recall_m: 0.7212 - val_loss: 1.2500 - val_acc: 0.7411 - val_f1_m: 0.7198 - val_precision_m: 0.7686 - val_recall_m: 0.6804\n",
      "Epoch 7/50\n",
      "42/42 [==============================] - 53s 1s/step - loss: 1.1645 - acc: 0.7470 - f1_m: 0.7367 - precision_m: 0.7674 - recall_m: 0.7149 - val_loss: 1.1346 - val_acc: 0.7644 - val_f1_m: 0.7546 - val_precision_m: 0.7763 - val_recall_m: 0.7373\n",
      "Epoch 8/50\n",
      "42/42 [==============================] - 52s 1s/step - loss: 1.0444 - acc: 0.7899 - f1_m: 0.7864 - precision_m: 0.8031 - recall_m: 0.7742 - val_loss: 1.0776 - val_acc: 0.7689 - val_f1_m: 0.7835 - val_precision_m: 0.7294 - val_recall_m: 0.8487\n",
      "Epoch 9/50\n",
      "42/42 [==============================] - 53s 1s/step - loss: 0.9963 - acc: 0.7982 - f1_m: 0.7955 - precision_m: 0.8096 - recall_m: 0.7901 - val_loss: 1.0215 - val_acc: 0.7694 - val_f1_m: 0.7660 - val_precision_m: 0.7659 - val_recall_m: 0.7683\n",
      "Epoch 10/50\n",
      "42/42 [==============================] - 52s 1s/step - loss: 0.9136 - acc: 0.8139 - f1_m: 0.8141 - precision_m: 0.8236 - recall_m: 0.8094 - val_loss: 1.0012 - val_acc: 0.7783 - val_f1_m: 0.7818 - val_precision_m: 0.7622 - val_recall_m: 0.8057\n",
      "Epoch 11/50\n",
      "42/42 [==============================] - 53s 1s/step - loss: 0.9142 - acc: 0.8060 - f1_m: 0.7998 - precision_m: 0.8206 - recall_m: 0.7844 - val_loss: 0.9820 - val_acc: 0.7689 - val_f1_m: 0.7432 - val_precision_m: 0.8213 - val_recall_m: 0.6820\n",
      "Epoch 12/50\n",
      "42/42 [==============================] - 53s 1s/step - loss: 0.8784 - acc: 0.8178 - f1_m: 0.8188 - precision_m: 0.8259 - recall_m: 0.8183 - val_loss: 0.9987 - val_acc: 0.7522 - val_f1_m: 0.7795 - val_precision_m: 0.6944 - val_recall_m: 0.8909\n",
      "Epoch 13/50\n",
      "42/42 [==============================] - 53s 1s/step - loss: 0.8517 - acc: 0.8191 - f1_m: 0.8173 - precision_m: 0.8125 - recall_m: 0.8268 - val_loss: 0.9643 - val_acc: 0.7744 - val_f1_m: 0.7810 - val_precision_m: 0.7478 - val_recall_m: 0.8205\n",
      "Epoch 14/50\n",
      "42/42 [==============================] - 55s 1s/step - loss: 0.8028 - acc: 0.8340 - f1_m: 0.8361 - precision_m: 0.8262 - recall_m: 0.8509 - val_loss: 0.9420 - val_acc: 0.7711 - val_f1_m: 0.7418 - val_precision_m: 0.8345 - val_recall_m: 0.6709\n",
      "Epoch 15/50\n",
      "42/42 [==============================] - 55s 1s/step - loss: 0.7801 - acc: 0.8332 - f1_m: 0.8325 - precision_m: 0.8533 - recall_m: 0.8225 - val_loss: 0.9377 - val_acc: 0.7894 - val_f1_m: 0.7842 - val_precision_m: 0.7935 - val_recall_m: 0.7773\n",
      "Epoch 16/50\n",
      "42/42 [==============================] - 55s 1s/step - loss: 0.7803 - acc: 0.8344 - f1_m: 0.8283 - precision_m: 0.8518 - recall_m: 0.8153 - val_loss: 0.8970 - val_acc: 0.7683 - val_f1_m: 0.7380 - val_precision_m: 0.8304 - val_recall_m: 0.6661\n",
      "Epoch 17/50\n",
      "42/42 [==============================] - 53s 1s/step - loss: 0.7264 - acc: 0.8643 - f1_m: 0.8636 - precision_m: 0.8834 - recall_m: 0.8495 - val_loss: 0.8851 - val_acc: 0.7750 - val_f1_m: 0.7689 - val_precision_m: 0.7806 - val_recall_m: 0.7605\n",
      "Epoch 18/50\n",
      "42/42 [==============================] - 52s 1s/step - loss: 0.7183 - acc: 0.8508 - f1_m: 0.8513 - precision_m: 0.8489 - recall_m: 0.8576 - val_loss: 0.8931 - val_acc: 0.7911 - val_f1_m: 0.7938 - val_precision_m: 0.7714 - val_recall_m: 0.8192\n",
      "Epoch 19/50\n",
      "42/42 [==============================] - 52s 1s/step - loss: 0.6649 - acc: 0.8812 - f1_m: 0.8780 - precision_m: 0.8979 - recall_m: 0.8627 - val_loss: 0.8491 - val_acc: 0.7872 - val_f1_m: 0.7842 - val_precision_m: 0.7840 - val_recall_m: 0.7873\n",
      "Epoch 20/50\n",
      "42/42 [==============================] - 53s 1s/step - loss: 0.6978 - acc: 0.8519 - f1_m: 0.8499 - precision_m: 0.8618 - recall_m: 0.8447 - val_loss: 0.9669 - val_acc: 0.7833 - val_f1_m: 0.8047 - val_precision_m: 0.7228 - val_recall_m: 0.9101\n",
      "Epoch 21/50\n",
      "42/42 [==============================] - 55s 1s/step - loss: 0.6851 - acc: 0.8514 - f1_m: 0.8527 - precision_m: 0.8633 - recall_m: 0.8544 - val_loss: 0.8686 - val_acc: 0.7933 - val_f1_m: 0.7917 - val_precision_m: 0.7874 - val_recall_m: 0.7980\n",
      "Epoch 22/50\n",
      "42/42 [==============================] - 55s 1s/step - loss: 0.6455 - acc: 0.8736 - f1_m: 0.8751 - precision_m: 0.8767 - recall_m: 0.8781 - val_loss: 0.8754 - val_acc: 0.7400 - val_f1_m: 0.6825 - val_precision_m: 0.8557 - val_recall_m: 0.5710\n",
      "Epoch 23/50\n",
      "42/42 [==============================] - 52s 1s/step - loss: 0.6825 - acc: 0.8413 - f1_m: 0.8366 - precision_m: 0.8588 - recall_m: 0.8294 - val_loss: 0.8371 - val_acc: 0.7778 - val_f1_m: 0.7609 - val_precision_m: 0.8077 - val_recall_m: 0.7213\n",
      "Epoch 24/50\n",
      "42/42 [==============================] - 52s 1s/step - loss: 0.6634 - acc: 0.8596 - f1_m: 0.8567 - precision_m: 0.8706 - recall_m: 0.8494 - val_loss: 0.8916 - val_acc: 0.7783 - val_f1_m: 0.7601 - val_precision_m: 0.8152 - val_recall_m: 0.7147\n",
      "Epoch 25/50\n",
      "42/42 [==============================] - 52s 1s/step - loss: 0.6556 - acc: 0.8550 - f1_m: 0.8586 - precision_m: 0.8693 - recall_m: 0.8572 - val_loss: 0.8649 - val_acc: 0.7933 - val_f1_m: 0.7943 - val_precision_m: 0.7806 - val_recall_m: 0.8116\n",
      "Epoch 26/50\n",
      "42/42 [==============================] - 52s 1s/step - loss: 0.6141 - acc: 0.8700 - f1_m: 0.8705 - precision_m: 0.8714 - recall_m: 0.8754 - val_loss: 0.8294 - val_acc: 0.8017 - val_f1_m: 0.7986 - val_precision_m: 0.7959 - val_recall_m: 0.8040\n",
      "Epoch 27/50\n",
      "42/42 [==============================] - 52s 1s/step - loss: 0.5843 - acc: 0.8814 - f1_m: 0.8800 - precision_m: 0.8904 - recall_m: 0.8724 - val_loss: 0.7718 - val_acc: 0.7994 - val_f1_m: 0.8035 - val_precision_m: 0.7777 - val_recall_m: 0.8347\n",
      "Epoch 28/50\n",
      "42/42 [==============================] - 52s 1s/step - loss: 0.6220 - acc: 0.8637 - f1_m: 0.8656 - precision_m: 0.8509 - recall_m: 0.8886 - val_loss: 0.8383 - val_acc: 0.7867 - val_f1_m: 0.8051 - val_precision_m: 0.7311 - val_recall_m: 0.8980\n",
      "Epoch 29/50\n",
      "42/42 [==============================] - 52s 1s/step - loss: 0.6411 - acc: 0.8594 - f1_m: 0.8581 - precision_m: 0.8632 - recall_m: 0.8623 - val_loss: 0.7669 - val_acc: 0.7950 - val_f1_m: 0.7919 - val_precision_m: 0.7923 - val_recall_m: 0.7941\n",
      "Epoch 30/50\n",
      "42/42 [==============================] - 52s 1s/step - loss: 0.6244 - acc: 0.8563 - f1_m: 0.8534 - precision_m: 0.8558 - recall_m: 0.8544 - val_loss: 0.7691 - val_acc: 0.7856 - val_f1_m: 0.7828 - val_precision_m: 0.7815 - val_recall_m: 0.7884\n",
      "Epoch 31/50\n",
      "42/42 [==============================] - 52s 1s/step - loss: 0.5933 - acc: 0.8690 - f1_m: 0.8691 - precision_m: 0.8652 - recall_m: 0.8789 - val_loss: 0.8635 - val_acc: 0.7872 - val_f1_m: 0.7867 - val_precision_m: 0.7760 - val_recall_m: 0.7999\n",
      "Epoch 32/50\n",
      "42/42 [==============================] - 52s 1s/step - loss: 0.5489 - acc: 0.8860 - f1_m: 0.8847 - precision_m: 0.8782 - recall_m: 0.8958 - val_loss: 0.7731 - val_acc: 0.7878 - val_f1_m: 0.7885 - val_precision_m: 0.7745 - val_recall_m: 0.8051\n",
      "Epoch 33/50\n"
     ]
    },
    {
     "name": "stdout",
     "output_type": "stream",
     "text": [
      "42/42 [==============================] - 52s 1s/step - loss: 0.6189 - acc: 0.8537 - f1_m: 0.8485 - precision_m: 0.8580 - recall_m: 0.8426 - val_loss: 0.8052 - val_acc: 0.7856 - val_f1_m: 0.7682 - val_precision_m: 0.8217 - val_recall_m: 0.7246\n",
      "Epoch 34/50\n",
      "42/42 [==============================] - 52s 1s/step - loss: 0.5465 - acc: 0.8815 - f1_m: 0.8785 - precision_m: 0.8986 - recall_m: 0.8643 - val_loss: 0.7952 - val_acc: 0.7911 - val_f1_m: 0.7854 - val_precision_m: 0.7926 - val_recall_m: 0.7813\n",
      "Epoch 35/50\n",
      "42/42 [==============================] - 52s 1s/step - loss: 0.5428 - acc: 0.8767 - f1_m: 0.8762 - precision_m: 0.8982 - recall_m: 0.8593 - val_loss: 0.7885 - val_acc: 0.7750 - val_f1_m: 0.7589 - val_precision_m: 0.8045 - val_recall_m: 0.7204\n",
      "Epoch 36/50\n",
      "42/42 [==============================] - 52s 1s/step - loss: 0.5112 - acc: 0.9029 - f1_m: 0.9023 - precision_m: 0.8966 - recall_m: 0.9104 - val_loss: 0.8594 - val_acc: 0.7639 - val_f1_m: 0.7301 - val_precision_m: 0.8380 - val_recall_m: 0.6495\n",
      "Epoch 37/50\n",
      "42/42 [==============================] - 52s 1s/step - loss: 0.5224 - acc: 0.8902 - f1_m: 0.8892 - precision_m: 0.9027 - recall_m: 0.8798 - val_loss: 0.8100 - val_acc: 0.7978 - val_f1_m: 0.8003 - val_precision_m: 0.7788 - val_recall_m: 0.8262\n",
      "Epoch 38/50\n",
      "42/42 [==============================] - 52s 1s/step - loss: 0.5089 - acc: 0.9068 - f1_m: 0.9060 - precision_m: 0.9053 - recall_m: 0.9105 - val_loss: 0.7474 - val_acc: 0.7867 - val_f1_m: 0.7695 - val_precision_m: 0.8218 - val_recall_m: 0.7272\n",
      "Epoch 39/50\n",
      "42/42 [==============================] - 52s 1s/step - loss: 0.5447 - acc: 0.8892 - f1_m: 0.8906 - precision_m: 0.8985 - recall_m: 0.8885 - val_loss: 0.8074 - val_acc: 0.7894 - val_f1_m: 0.7828 - val_precision_m: 0.7971 - val_recall_m: 0.7712\n",
      "Epoch 40/50\n",
      "42/42 [==============================] - 52s 1s/step - loss: 0.5271 - acc: 0.8959 - f1_m: 0.8944 - precision_m: 0.8910 - recall_m: 0.9033 - val_loss: 0.8208 - val_acc: 0.7911 - val_f1_m: 0.8003 - val_precision_m: 0.7577 - val_recall_m: 0.8498\n",
      "Epoch 41/50\n",
      "42/42 [==============================] - 52s 1s/step - loss: 0.6678 - acc: 0.8354 - f1_m: 0.8244 - precision_m: 0.8520 - recall_m: 0.8149 - val_loss: 0.8166 - val_acc: 0.7933 - val_f1_m: 0.7857 - val_precision_m: 0.8023 - val_recall_m: 0.7717\n",
      "Epoch 42/50\n",
      "42/42 [==============================] - 52s 1s/step - loss: 0.5720 - acc: 0.8746 - f1_m: 0.8692 - precision_m: 0.8975 - recall_m: 0.8500 - val_loss: 0.8414 - val_acc: 0.7917 - val_f1_m: 0.7851 - val_precision_m: 0.7996 - val_recall_m: 0.7743\n",
      "Epoch 43/50\n",
      "42/42 [==============================] - 52s 1s/step - loss: 0.4903 - acc: 0.9083 - f1_m: 0.9068 - precision_m: 0.9122 - recall_m: 0.9049 - val_loss: 0.7582 - val_acc: 0.8056 - val_f1_m: 0.8045 - val_precision_m: 0.7975 - val_recall_m: 0.8151\n",
      "Epoch 44/50\n",
      "42/42 [==============================] - 52s 1s/step - loss: 0.4982 - acc: 0.8894 - f1_m: 0.8889 - precision_m: 0.8840 - recall_m: 0.8979 - val_loss: 0.7844 - val_acc: 0.7906 - val_f1_m: 0.7789 - val_precision_m: 0.8116 - val_recall_m: 0.7516\n",
      "Epoch 45/50\n",
      "42/42 [==============================] - 52s 1s/step - loss: 0.4893 - acc: 0.8908 - f1_m: 0.8895 - precision_m: 0.8910 - recall_m: 0.8903 - val_loss: 0.7582 - val_acc: 0.7789 - val_f1_m: 0.7623 - val_precision_m: 0.8114 - val_recall_m: 0.7213\n",
      "Epoch 46/50\n",
      "42/42 [==============================] - 52s 1s/step - loss: 0.5092 - acc: 0.8879 - f1_m: 0.8862 - precision_m: 0.9105 - recall_m: 0.8710 - val_loss: 0.7789 - val_acc: 0.7661 - val_f1_m: 0.7324 - val_precision_m: 0.8386 - val_recall_m: 0.6525\n",
      "Epoch 47/50\n",
      "42/42 [==============================] - 52s 1s/step - loss: 0.5079 - acc: 0.8813 - f1_m: 0.8783 - precision_m: 0.8979 - recall_m: 0.8675 - val_loss: 0.8135 - val_acc: 0.7850 - val_f1_m: 0.7782 - val_precision_m: 0.7916 - val_recall_m: 0.7680\n",
      "Epoch 48/50\n",
      "42/42 [==============================] - 52s 1s/step - loss: 0.5081 - acc: 0.8836 - f1_m: 0.8832 - precision_m: 0.8842 - recall_m: 0.8850 - val_loss: 0.7852 - val_acc: 0.7728 - val_f1_m: 0.7480 - val_precision_m: 0.8249 - val_recall_m: 0.6857\n",
      "Epoch 49/50\n",
      "42/42 [==============================] - 52s 1s/step - loss: 0.5265 - acc: 0.8911 - f1_m: 0.8879 - precision_m: 0.9048 - recall_m: 0.8751 - val_loss: 0.7794 - val_acc: 0.7950 - val_f1_m: 0.8066 - val_precision_m: 0.7560 - val_recall_m: 0.8681\n",
      "Epoch 50/50\n",
      "42/42 [==============================] - 52s 1s/step - loss: 0.5686 - acc: 0.8712 - f1_m: 0.8689 - precision_m: 0.8791 - recall_m: 0.8654 - val_loss: 0.7718 - val_acc: 0.7944 - val_f1_m: 0.8023 - val_precision_m: 0.7635 - val_recall_m: 0.8493\n",
      "57/57 [==============================] - 5s 78ms/step - loss: 0.7718 - acc: 0.7944 - f1_m: 0.7992 - precision_m: 0.7629 - recall_m: 0.8544\n",
      "Test loss: 0.7718098163604736\n",
      "Test accuracy: 0.7944444417953491\n",
      "Test f1: 0.7992119789123535\n",
      "Test precision: 0.7628529071807861\n",
      "Test recall: 0.8544297218322754\n"
     ]
    }
   ],
   "source": [
    "# 1 conv layer / 100 bs / 50 epoch HitPeak images\n",
    "def CNN_model():\n",
    "    shape = (image_size[0], image_size[1], image_size[2])\n",
    "    model = Sequential()\n",
    "    \n",
    "    # 1 conv layer\n",
    "    model.add(Conv2D(16, (3,3), strides = (1,1), input_shape=shape,kernel_regularizer=l2(0.005)))\n",
    "    model.add(keras.layers.LeakyReLU(alpha=0.05))\n",
    "    model.add(MaxPooling2D(pool_size=(2, 2), strides = (1,1)))\n",
    "\n",
    "    # 2 conv layers\n",
    "    #model.add(Conv2D(16,(3,3),kernel_regularizer=l2(0.005)))\n",
    "    #model.add(keras.layers.LeakyReLU(alpha=0.05))\n",
    "    #model.add(MaxPooling2D(pool_size=(2, 2)))\n",
    "\n",
    "    # 3 conv layers\n",
    "    #model.add(Conv2D(16,(3,3),kernel_regularizer=l2(0.005)))\n",
    "    #model.add(keras.layers.LeakyReLU(alpha=0.05))\n",
    "    #model.add(MaxPooling2D(pool_size=(2, 2)))\n",
    "    \n",
    "    model.add(Dropout(0.25)) \n",
    "    model.add(Flatten())\n",
    "\n",
    "    model.add(Dense(32, bias_regularizer=regularizers.l2(0.001),kernel_regularizer=regularizers.l2(0.001)))\n",
    "    model.add(keras.layers.LeakyReLU(alpha=0.05))    \n",
    "    model.add(Dropout(0.5)) \n",
    "\n",
    "    # Output layer\n",
    "    model.add(Dense(1))\n",
    "    model.add(Activation('sigmoid'))\n",
    "\n",
    "    # Compile the model\n",
    "    model.compile(loss='binary_crossentropy',\n",
    "                    optimizer='adam',\n",
    "                    metrics=['acc', f1_m, precision_m, recall_m])\n",
    "    return model\n",
    "\n",
    "# def run_CNN():\n",
    "model = CNN_model()\n",
    "model.fit(x_train, y_train, epochs=50, batch_size=100, verbose=1, validation_data=(x_val, y_val))\n",
    "#model.save(model_name)\n",
    "#model.save_weights('final_weights.h5')\n",
    "score = model.evaluate(x_val, y_val, verbose=1)\n",
    "print('Test loss:', score[0])\n",
    "print('Test accuracy:', score[1])\n",
    "print('Test f1:', score[2])\n",
    "print('Test precision:', score[3])\n",
    "print('Test recall:', score[4])\n",
    "\n",
    "# run_CNN()"
   ]
  },
  {
   "cell_type": "markdown",
   "metadata": {},
   "source": [
    "##### TESTSET"
   ]
  },
  {
   "cell_type": "code",
   "execution_count": 11,
   "metadata": {},
   "outputs": [
    {
     "name": "stdout",
     "output_type": "stream",
     "text": [
      "images_test.shape:  (6000, 256, 256, 4)\n",
      "labels_test.shape:  (6000,)\n",
      "[256 256   4]\n"
     ]
    }
   ],
   "source": [
    "##########\n",
    "# SIGNAL #\n",
    "##########\n",
    "num_signal_test = 3000\n",
    "\n",
    "file_pathsWP = glob.glob(path.join(filename_S, 'WP*.png'))\n",
    "\n",
    "# Load the images into a single variable and convert to a numpy array\n",
    "imagesWP = [imageio.imread(file_pathsWP[jj]) for jj in range(num_signal,num_signal+num_signal_test)]\n",
    "imagesWP = np.asarray(imagesWP)\n",
    "\n",
    "labelsWP = np.ones(num_signal_test)\n",
    "\n",
    "\n",
    "##############\n",
    "# BACKGROUND #\n",
    "##############\n",
    "num_back_test = 3000\n",
    "\n",
    "file_pathsER = glob.glob(path.join(filename_B, 'ER*.png'))\n",
    "\n",
    "# Load the images into a single variable and convert to a numpy array\n",
    "imagesER = [imageio.imread(file_pathsER[jj]) for jj in range(num_back,num_back+num_back_test)]\n",
    "imagesER = np.asarray(imagesER)\n",
    "\n",
    "labelsER = np.zeros(num_back_test)\n",
    "\n",
    "\n",
    "\n",
    "images_test = np.concatenate([imagesWP,imagesER])\n",
    "del imagesWP\n",
    "del imagesER\n",
    "\n",
    "labels_test = np.concatenate([labelsWP,labelsER])\n",
    "del labelsWP\n",
    "del labelsER\n",
    "\n",
    "\n",
    "print('images_test.shape: ', images_test.shape)\n",
    "print('labels_test.shape: ', labels_test.shape)\n",
    "\n",
    "# Get image size\n",
    "image_size_test = np.asarray([images_test.shape[1], images_test.shape[2], images_test.shape[3]])\n",
    "print(image_size_test)\n",
    "\n",
    "# Scale images so values are between 0 and 1\n",
    "images_test = images_test / 255\n",
    "\n",
    "n_images_test = images_test.shape[0]\n",
    "\n",
    "\n",
    "\n",
    "x_test = images_test\n",
    "del images_test\n",
    "\n",
    "y_test = labels_test\n",
    "del labels_test"
   ]
  },
  {
   "cell_type": "code",
   "execution_count": 12,
   "metadata": {
    "scrolled": false
   },
   "outputs": [
    {
     "name": "stdout",
     "output_type": "stream",
     "text": [
      "188/188 [==============================] - 14s 74ms/step - loss: 0.7279 - acc: 0.8048 - f1_m: 0.4633 - precision_m: 0.4996 - recall_m: 0.4331\n",
      "acc: 80.48%\n"
     ]
    },
    {
     "name": "stderr",
     "output_type": "stream",
     "text": [
      "/home/andres/anaconda3/lib/python3.8/site-packages/keras/engine/sequential.py:425: UserWarning: `model.predict_proba()` is deprecated and will be removed after 2021-01-01. Please use `model.predict()` instead.\n",
      "  warnings.warn('`model.predict_proba()` is deprecated and '\n"
     ]
    },
    {
     "name": "stdout",
     "output_type": "stream",
     "text": [
      "Logistic: f1=0.816 auc=0.8777481\n"
     ]
    },
    {
     "data": {
      "image/png": "[encoded data removed]",
      "text/plain": [
       "<Figure size 432x288 with 1 Axes>"
      ]
     },
     "metadata": {
      "needs_background": "light"
     },
     "output_type": "display_data"
    },
    {
     "name": "stdout",
     "output_type": "stream",
     "text": [
      "Accuracy: 0.8048333333333333\n",
      "Average precision: 0.7352114642114642\n",
      "recall: 0.866\n",
      "AUC:0.8523033858033857\n",
      "Predicted   0.0   1.0\n",
      "Actual               \n",
      "0.0        2231   769\n",
      "1.0         402  2598\n"
     ]
    },
    {
     "data": {
      "image/png": "[encoded data removed]",
      "text/plain": [
       "<Figure size 288x288 with 2 Axes>"
      ]
     },
     "metadata": {
      "needs_background": "light"
     },
     "output_type": "display_data"
    },
    {
     "data": {
      "image/png": "[encoded data removed]",
      "text/plain": [
       "<Figure size 432x288 with 1 Axes>"
      ]
     },
     "metadata": {
      "needs_background": "light"
     },
     "output_type": "display_data"
    },
    {
     "name": "stdout",
     "output_type": "stream",
     "text": [
      "ROC AUC:  0.8895166666666666\n"
     ]
    }
   ],
   "source": [
    "##########################\n",
    "# TEST WITH THE TEST SET #\n",
    "##########################\n",
    "\n",
    "# dependencies = {\n",
    "#     'f1_m' : f1_m, \n",
    "#     'precision_m' : precision_m,\n",
    "#     'recall_m': recall_m,\n",
    "# }\n",
    "\n",
    "# model = keras.models.load_model(model_name, custom_objects=dependencies)\n",
    "\n",
    "# model.summary()\n",
    "\n",
    "\n",
    "\n",
    "score = model.evaluate(x_test, y_test, verbose=1)\n",
    "print(\"%s: %.2f%%\" % (model.metrics_names[1], score[1]*100))\n",
    "\n",
    "\n",
    "from sklearn.datasets import make_classification\n",
    "from sklearn.linear_model import LogisticRegression\n",
    "from sklearn.model_selection import train_test_split\n",
    "from sklearn.metrics import precision_recall_curve\n",
    "from sklearn.metrics import f1_score\n",
    "from sklearn.metrics import auc\n",
    "from matplotlib import pyplot\n",
    "\n",
    "\n",
    "lr_probs = model.predict_proba(x_test)    # Predict probabilities\n",
    "yhat = model.predict(x_test)      # Predict class values\n",
    "yhat_original = yhat\n",
    "yhat = np.round(yhat)\n",
    "lr_precision, lr_recall, _ = precision_recall_curve(y_test, lr_probs)\n",
    "lr_f1, lr_auc = f1_score(y_test, yhat), auc(lr_recall, lr_precision)\n",
    "print('Logistic: f1=%.3f auc=%.7f' % (lr_f1, lr_auc))   # Summarise scores\n",
    "''' plot the precision-recall curves '''\n",
    "no_skill = len(y_test[y_test==1]) / len(y_test)\n",
    "pyplot.plot(lr_recall, lr_precision, 'r-', label='F1 = %0.2f' %(lr_f1))\n",
    "pyplot.xlabel('Recall')\n",
    "pyplot.ylabel('Precision')\n",
    "pyplot.legend(loc='lower left')\n",
    "plt.title('Precision-Recall (PR) Curve')\n",
    "pyplot.show()\n",
    "\n",
    "## Save precision and recall data to plot PR curve seperately\n",
    "#np.savetxt(\"/content/drive/My Drive/Colab Notebooks/precision_HP.txt\",lr_precision)\n",
    "#np.savetxt(\"/content/drive/My Drive/Colab Notebooks/recall_HP.txt\",lr_recall)\n",
    "\n",
    "\n",
    "test_predictions = yhat             # Make a prediction on the test set\n",
    "accuracy = accuracy_score(y_test, test_predictions)\n",
    "print(\"Accuracy: \" + str(accuracy))\n",
    "average_precision = average_precision_score(y_test, test_predictions)\n",
    "print(\"Average precision: \" + str(average_precision))\n",
    "\n",
    "from sklearn.metrics import precision_recall_curve\n",
    "\n",
    "precision, recall, threshold = precision_recall_curve(y_test, test_predictions)\n",
    "auc = auc(recall, precision)\n",
    "recall1 = recall_score(y_test, np.round(test_predictions))\n",
    "print(\"recall: \" + str(recall1))\n",
    "print('AUC:' +str(auc))\n",
    "\n",
    "\n",
    "# Report Confusion Matrix\n",
    "y_actu = pd.Series(y_test.ravel(), name='Actual')\n",
    "y_pred = pd.Series(np.round(test_predictions.ravel()), name='Predicted')\n",
    "df_confusion = pd.crosstab(y_actu, y_pred)\n",
    "print(df_confusion)\n",
    "\n",
    "# Plot confusion matrix\n",
    "def plot_confusion_matrix(df_confusion, cmap='YlGn'):\n",
    "    plt.matshow(df_confusion, cmap=cmap) # imshow\n",
    "    plt.colorbar()\n",
    "    tick_marks = np.arange(0,len(df_confusion.columns))\n",
    "    plt.xticks(tick_marks, df_confusion.columns)\n",
    "    plt.yticks(tick_marks, df_confusion.index)\n",
    "    plt.ylabel(df_confusion.index.name)\n",
    "    plt.xlabel(df_confusion.columns.name)\n",
    "    for i in range(len(df_confusion.index)):\n",
    "        for j in range(len(df_confusion.columns)):\n",
    "            plt.text(j,i,str(df_confusion.iloc[i,j]))\n",
    "    plt.show()\n",
    "\n",
    "plot_confusion_matrix(df_confusion)\n",
    "\n",
    "from sklearn.metrics import roc_curve\n",
    "from sklearn.metrics import roc_auc_score\n",
    "\n",
    "def plot_roc_curve(fpr, tpr):\n",
    "    plt.plot(fpr, tpr, color='darkblue', label='AUC = %0.2f' %(auc))\n",
    "    plt.plot([0, 1], [0, 1], color='orange', linestyle='--')\n",
    "    plt.xlabel('False Positive Rate')\n",
    "    plt.ylabel('True Positive Rate')\n",
    "    plt.title('Receiver Operating Characteristic (ROC) Curve')\n",
    "    plt.legend()\n",
    "    plt.show()\n",
    "    \n",
    "    \n",
    "from sklearn.metrics import roc_curve, roc_auc_score, auc\n",
    "\n",
    "fpr, tpr, thresholds = roc_curve(y_test, yhat_original)\n",
    "auc = auc(fpr, tpr)\n",
    "# Save tpr and fpr to plot seperate ROC curve\n",
    "#np.savetxt(\"/content/drive/My Drive/Colab Notebooks/tpr.txt\",tpr)\n",
    "#np.savetxt(\"/content/drive/My Drive/Colab Notebooks/fpr.txt\",fpr)\n",
    "plot_roc_curve(fpr, tpr)\n",
    "\n",
    "print('ROC AUC: ', auc)"
   ]
  },
  {
   "cell_type": "code",
   "execution_count": null,
   "metadata": {},
   "outputs": [],
   "source": []
  },
  {
   "cell_type": "markdown",
   "metadata": {},
   "source": [
    "##### Test with the train set (just to see)"
   ]
  },
  {
   "cell_type": "code",
   "execution_count": 13,
   "metadata": {},
   "outputs": [],
   "source": [
    "##################################\n",
    "# USING TO TEST THE TRAINING SET # THIS IS WRONG! but to see\n",
    "##################################\n",
    "\n",
    "x_test2 = images\n",
    "y_test2 = labels"
   ]
  },
  {
   "cell_type": "code",
   "execution_count": 14,
   "metadata": {},
   "outputs": [
    {
     "name": "stdout",
     "output_type": "stream",
     "text": [
      "188/188 [==============================] - 15s 80ms/step - loss: 0.5627 - acc: 0.8912 - f1_m: 0.4819 - precision_m: 0.4995 - recall_m: 0.4659\n",
      "acc: 89.12%\n"
     ]
    },
    {
     "name": "stderr",
     "output_type": "stream",
     "text": [
      "/home/andres/anaconda3/lib/python3.8/site-packages/keras/engine/sequential.py:425: UserWarning: `model.predict_proba()` is deprecated and will be removed after 2021-01-01. Please use `model.predict()` instead.\n",
      "  warnings.warn('`model.predict_proba()` is deprecated and '\n"
     ]
    },
    {
     "name": "stdout",
     "output_type": "stream",
     "text": [
      "Logistic: f1=0.895 auc=0.9519848\n"
     ]
    },
    {
     "data": {
      "image/png": "[encoded data removed]",
      "text/plain": [
       "<Figure size 432x288 with 1 Axes>"
      ]
     },
     "metadata": {
      "needs_background": "light"
     },
     "output_type": "display_data"
    },
    {
     "name": "stdout",
     "output_type": "stream",
     "text": [
      "Accuracy: 0.8911666666666667\n",
      "Average precision: 0.837042218798151\n",
      "recall: 0.932\n",
      "AUC:0.9138166409861326\n",
      "Predicted   0.0   1.0\n",
      "Actual               \n",
      "0.0        2551   449\n",
      "1.0         204  2796\n"
     ]
    },
    {
     "data": {
      "image/png": "[encoded data removed]",
      "text/plain": [
       "<Figure size 288x288 with 2 Axes>"
      ]
     },
     "metadata": {
      "needs_background": "light"
     },
     "output_type": "display_data"
    },
    {
     "data": {
      "image/png": "[encoded data removed]",
      "text/plain": [
       "<Figure size 432x288 with 1 Axes>"
      ]
     },
     "metadata": {
      "needs_background": "light"
     },
     "output_type": "display_data"
    },
    {
     "name": "stdout",
     "output_type": "stream",
     "text": [
      "ROC AUC:  0.9572649999999999\n"
     ]
    }
   ],
   "source": [
    "###########################\n",
    "# TEST WITH THE TRAIN SET # just to see\n",
    "###########################\n",
    "\n",
    "# dependencies = {\n",
    "#     'f1_m' : f1_m, \n",
    "#     'precision_m' : precision_m,\n",
    "#     'recall_m': recall_m,\n",
    "# }\n",
    "\n",
    "# model = keras.models.load_model(model_name, custom_objects=dependencies)\n",
    "\n",
    "# model.summary()\n",
    "\n",
    "\n",
    "\n",
    "score = model.evaluate(x_test2, y_test2, verbose=1)\n",
    "print(\"%s: %.2f%%\" % (model.metrics_names[1], score[1]*100))\n",
    "\n",
    "\n",
    "from sklearn.datasets import make_classification\n",
    "from sklearn.linear_model import LogisticRegression\n",
    "from sklearn.model_selection import train_test_split\n",
    "from sklearn.metrics import precision_recall_curve\n",
    "from sklearn.metrics import f1_score\n",
    "from sklearn.metrics import auc\n",
    "from matplotlib import pyplot\n",
    "\n",
    "\n",
    "lr_probs = model.predict_proba(x_test2)    # Predict probabilities\n",
    "yhat = model.predict(x_test2)      # Predict class values\n",
    "yhat_original = yhat\n",
    "yhat = np.round(yhat)\n",
    "lr_precision, lr_recall, _ = precision_recall_curve(y_test2, lr_probs)\n",
    "lr_f1, lr_auc = f1_score(y_test2, yhat), auc(lr_recall, lr_precision)\n",
    "print('Logistic: f1=%.3f auc=%.7f' % (lr_f1, lr_auc))   # Summarise scores\n",
    "''' plot the precision-recall curves '''\n",
    "no_skill = len(y_test2[y_test2==1]) / len(y_test2)\n",
    "pyplot.plot(lr_recall, lr_precision, 'r-', label='F1 = %0.2f' %(lr_f1))\n",
    "pyplot.xlabel('Recall')\n",
    "pyplot.ylabel('Precision')\n",
    "pyplot.legend(loc='lower left')\n",
    "plt.title('Precision-Recall (PR) Curve')\n",
    "pyplot.show()\n",
    "\n",
    "## Save precision and recall data to plot PR curve seperately\n",
    "#np.savetxt(\"/content/drive/My Drive/Colab Notebooks/precision_HP.txt\",lr_precision)\n",
    "#np.savetxt(\"/content/drive/My Drive/Colab Notebooks/recall_HP.txt\",lr_recall)\n",
    "\n",
    "\n",
    "test_predictions = yhat             # Make a prediction on the test set\n",
    "accuracy = accuracy_score(y_test2, test_predictions)\n",
    "print(\"Accuracy: \" + str(accuracy))\n",
    "average_precision = average_precision_score(y_test2, test_predictions)\n",
    "print(\"Average precision: \" + str(average_precision))\n",
    "\n",
    "from sklearn.metrics import precision_recall_curve\n",
    "\n",
    "precision, recall, threshold = precision_recall_curve(y_test2, test_predictions)\n",
    "auc = auc(recall, precision)\n",
    "recall1 = recall_score(y_test2, np.round(test_predictions))\n",
    "print(\"recall: \" + str(recall1))\n",
    "print('AUC:' +str(auc))\n",
    "\n",
    "\n",
    "# Report Confusion Matrix\n",
    "y_actu = pd.Series(y_test2.ravel(), name='Actual')\n",
    "y_pred = pd.Series(np.round(test_predictions.ravel()), name='Predicted')\n",
    "df_confusion = pd.crosstab(y_actu, y_pred)\n",
    "print(df_confusion)\n",
    "\n",
    "# Plot confusion matrix\n",
    "def plot_confusion_matrix(df_confusion, cmap='YlGn'):\n",
    "    plt.matshow(df_confusion, cmap=cmap) # imshow\n",
    "    plt.colorbar()\n",
    "    tick_marks = np.arange(0,len(df_confusion.columns))\n",
    "    plt.xticks(tick_marks, df_confusion.columns)\n",
    "    plt.yticks(tick_marks, df_confusion.index)\n",
    "    plt.ylabel(df_confusion.index.name)\n",
    "    plt.xlabel(df_confusion.columns.name)\n",
    "    for i in range(len(df_confusion.index)):\n",
    "        for j in range(len(df_confusion.columns)):\n",
    "            plt.text(j,i,str(df_confusion.iloc[i,j]))\n",
    "    plt.show()\n",
    "\n",
    "plot_confusion_matrix(df_confusion)\n",
    "\n",
    "from sklearn.metrics import roc_curve\n",
    "from sklearn.metrics import roc_auc_score\n",
    "\n",
    "def plot_roc_curve(fpr, tpr):\n",
    "    plt.plot(fpr, tpr, color='darkblue', label='AUC = %0.2f' %(auc))\n",
    "    plt.plot([0, 1], [0, 1], color='orange', linestyle='--')\n",
    "    plt.xlabel('False Positive Rate')\n",
    "    plt.ylabel('True Positive Rate')\n",
    "    plt.title('Receiver Operating Characteristic (ROC) Curve')\n",
    "    plt.legend()\n",
    "    plt.show()\n",
    "    \n",
    "    \n",
    "from sklearn.metrics import roc_curve, roc_auc_score, auc\n",
    "\n",
    "fpr, tpr, thresholds = roc_curve(y_test2, yhat_original)\n",
    "auc = auc(fpr, tpr)\n",
    "# Save tpr and fpr to plot seperate ROC curve\n",
    "#np.savetxt(\"/content/drive/My Drive/Colab Notebooks/tpr.txt\",tpr)\n",
    "#np.savetxt(\"/content/drive/My Drive/Colab Notebooks/fpr.txt\",fpr)\n",
    "plot_roc_curve(fpr, tpr)\n",
    "\n",
    "print('ROC AUC: ', auc)"
   ]
  },
  {
   "cell_type": "code",
   "execution_count": null,
   "metadata": {},
   "outputs": [],
   "source": []
  }
 ],
 "metadata": {
  "kernelspec": {
   "display_name": "Python 3",
   "language": "python",
   "name": "python3"
  },
  "language_info": {
   "codemirror_mode": {
    "name": "ipython",
    "version": 3
   },
   "file_extension": ".py",
   "mimetype": "text/x-python",
   "name": "python",
   "nbconvert_exporter": "python",
   "pygments_lexer": "ipython3",
   "version": "3.8.8"
  }
 },
 "nbformat": 4,
 "nbformat_minor": 4
}
