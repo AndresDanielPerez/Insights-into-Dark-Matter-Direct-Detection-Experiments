{
 "cells": [
  {
   "cell_type": "code",
   "execution_count": 1,
   "metadata": {},
   "outputs": [],
   "source": [
    "import numpy as np\n",
    "import pandas as pd\n",
    "import matplotlib.pyplot as plt\n",
    "import seaborn as sns\n",
    "from matplotlib import gridspec\n",
    "from matplotlib import patches\n",
    "from matplotlib import cm\n",
    "from mpl_toolkits.mplot3d import Axes3D\n",
    "\n",
    "import os\n",
    "import math\n",
    "import random\n",
    "\n",
    "import keras\n",
    "from keras.models import Sequential\n",
    "from keras.layers import Input, Dense, Conv2D, Flatten, MaxPooling2D\n",
    "from keras.layers import Dropout\n",
    "from keras.callbacks import EarlyStopping\n",
    "\n",
    "from sklearn.preprocessing import MinMaxScaler\n",
    "from sklearn.model_selection import train_test_split\n",
    "from sklearn.utils import shuffle\n",
    "from sklearn import preprocessing\n",
    "from sklearn.metrics import roc_curve, roc_auc_score, auc\n",
    "\n",
    "import scipy.stats as st\n",
    "from scipy.stats import poisson\n",
    "from scipy.interpolate import interp1d\n",
    "from scipy.stats import norm"
   ]
  },
  {
   "cell_type": "code",
   "execution_count": 2,
   "metadata": {},
   "outputs": [],
   "source": [
    "from sklearn.neighbors import KernelDensity\n",
    "from sklearn.model_selection import GridSearchCV\n",
    "\n",
    "import scipy.integrate as integrate"
   ]
  },
  {
   "cell_type": "code",
   "execution_count": 3,
   "metadata": {},
   "outputs": [
    {
     "name": "stdout",
     "output_type": "stream",
     "text": [
      "Requirement already satisfied: xgboost in /home/andres/anaconda3/lib/python3.8/site-packages (1.5.1)\n",
      "Requirement already satisfied: scipy in /home/andres/.local/lib/python3.8/site-packages (from xgboost) (1.9.3)\n",
      "Requirement already satisfied: numpy in /home/andres/.local/lib/python3.8/site-packages (from xgboost) (1.22.4)\n",
      "\u001b[33mWARNING: You are using pip version 21.3.1; however, version 24.0 is available.\n",
      "You should consider upgrading via the '/home/andres/anaconda3/bin/python -m pip install --upgrade pip' command.\u001b[0m\n"
     ]
    }
   ],
   "source": [
    "!pip install xgboost\n",
    "\n",
    "import xgboost\n",
    "from xgboost import XGBRegressor, XGBClassifier"
   ]
  },
  {
   "cell_type": "code",
   "execution_count": 4,
   "metadata": {},
   "outputs": [],
   "source": [
    "import glob\n",
    "import numpy as np\n",
    "import os.path as path\n",
    "import imageio\n",
    "import matplotlib.pyplot as plt\n",
    "from keras.models import Sequential\n",
    "from keras.layers import Activation, Dropout, Flatten, Dense, Conv2D, MaxPooling2D\n",
    "from keras.callbacks import EarlyStopping, TensorBoard\n",
    "from datetime import datetime\n",
    "import keras\n",
    "from keras import regularizers\n",
    "from sklearn.model_selection import train_test_split\n",
    "import pandas as pd\n",
    "from sklearn.metrics import accuracy_score, f1_score, average_precision_score, precision_recall_curve, auc,recall_score\n",
    "# from keras.optimizers import Adam\n",
    "from keras.regularizers import l2\n",
    "import h5py\n",
    "from sklearn.model_selection import GridSearchCV\n",
    "from keras.backend import cast, greater, clip, floatx,epsilon\n",
    "from keras.wrappers.scikit_learn import KerasClassifier\n",
    "from keras import backend as K\n",
    "from sklearn.model_selection import StratifiedKFold"
   ]
  },
  {
   "cell_type": "markdown",
   "metadata": {},
   "source": [
    "### Load images"
   ]
  },
  {
   "cell_type": "code",
   "execution_count": 5,
   "metadata": {},
   "outputs": [],
   "source": [
    "filefolder = '../../data2024/processed/00-images/'\n",
    "\n",
    "###################\n",
    "# BACKGROUND FILE #\n",
    "###################\n",
    "\n",
    "filename_B = filefolder + 'ER-img/out-img128/'\n",
    "\n",
    "\n",
    "###############\n",
    "# SIGNAL FILE #\n",
    "###############\n",
    "\n",
    "# select the DM mass\n",
    "mDM = 500\n",
    "\n",
    "filename_S = filefolder + 'mDM' + str(mDM) + 'GeV-img/out-img128/'"
   ]
  },
  {
   "cell_type": "code",
   "execution_count": null,
   "metadata": {},
   "outputs": [],
   "source": []
  },
  {
   "cell_type": "code",
   "execution_count": 6,
   "metadata": {},
   "outputs": [],
   "source": [
    "from keras import backend as K\n",
    "np.random.seed(0)\n",
    "\n",
    "# Define recall, precision and f1 functions\n",
    "def recall_m(y_true, y_pred):\n",
    "    true_positives = K.sum(K.round(K.clip(y_true * y_pred, 0, 1)))\n",
    "    possible_positives = K.sum(K.round(K.clip(y_true, 0, 1)))\n",
    "    recall = true_positives / (possible_positives + K.epsilon())\n",
    "    return recall\n",
    "\n",
    "def precision_m(y_true, y_pred):\n",
    "    true_positives = K.sum(K.round(K.clip(y_true * y_pred, 0, 1)))\n",
    "    predicted_positives = K.sum(K.round(K.clip(y_pred, 0, 1)))\n",
    "    precision = true_positives / (predicted_positives + K.epsilon())\n",
    "    return precision\n",
    "\n",
    "def f1_m(y_true, y_pred):\n",
    "    precision = precision_m(y_true, y_pred)\n",
    "    recall = recall_m(y_true, y_pred)\n",
    "    return 2*((precision*recall)/(precision+recall+K.epsilon()))"
   ]
  },
  {
   "cell_type": "code",
   "execution_count": null,
   "metadata": {},
   "outputs": [],
   "source": []
  },
  {
   "cell_type": "markdown",
   "metadata": {},
   "source": [
    "##### TEST-VAL SET"
   ]
  },
  {
   "cell_type": "code",
   "execution_count": 7,
   "metadata": {},
   "outputs": [
    {
     "name": "stdout",
     "output_type": "stream",
     "text": [
      "(128, 128, 4)\n",
      "(128, 128, 4)\n",
      "(128, 128, 4)\n",
      "(128, 128, 4)\n"
     ]
    }
   ],
   "source": [
    "# test\n",
    "from PIL import Image\n",
    "\n",
    "for i in range(2):\n",
    "    img = Image.open( filename_S + 'WP' + str(i) + '.png' )\n",
    "    data = np.asarray( img, dtype=\"int32\" )\n",
    "    print(data.shape)\n",
    "    \n",
    "for i in range(2):\n",
    "    img = Image.open( filename_B + 'ER' + str(i) + '.png' )\n",
    "    data = np.asarray( img, dtype=\"int32\" )\n",
    "    print(data.shape)"
   ]
  },
  {
   "cell_type": "code",
   "execution_count": 8,
   "metadata": {},
   "outputs": [
    {
     "name": "stdout",
     "output_type": "stream",
     "text": [
      "images.shape:  (10000, 128, 128, 4)\n",
      "labels.shape:  (10000,)\n",
      "[128 128   4]\n"
     ]
    }
   ],
   "source": [
    "##########\n",
    "# SIGNAL #\n",
    "##########\n",
    "num_signal = 5000\n",
    "\n",
    "file_pathsWP = glob.glob(path.join(filename_S, 'WP*.png'))\n",
    "\n",
    "# Load the images into a single variable and convert to a numpy array\n",
    "imagesWP = [imageio.imread(file_pathsWP[jj]) for jj in range(num_signal)]\n",
    "imagesWP = np.asarray(imagesWP)\n",
    "\n",
    "labelsWP = np.ones(num_signal)\n",
    "\n",
    "\n",
    "##############\n",
    "# BACKGROUND #\n",
    "##############\n",
    "num_back = 5000\n",
    "\n",
    "file_pathsER = glob.glob(path.join(filename_B, 'ER*.png'))\n",
    "\n",
    "# Load the images into a single variable and convert to a numpy array\n",
    "imagesER = [imageio.imread(file_pathsER[jj]) for jj in range(num_back)]\n",
    "imagesER = np.asarray(imagesER)\n",
    "\n",
    "labelsER = np.zeros(num_back)\n",
    "\n",
    "\n",
    "\n",
    "images = np.concatenate([imagesWP,imagesER])\n",
    "del imagesWP\n",
    "del imagesER\n",
    "\n",
    "labels = np.concatenate([labelsWP,labelsER])\n",
    "del labelsWP\n",
    "del labelsER\n",
    "\n",
    "\n",
    "\n",
    "print('images.shape: ', images.shape)\n",
    "print('labels.shape: ', labels.shape)\n",
    "\n",
    "# Get image size\n",
    "image_size = np.asarray([images.shape[1], images.shape[2], images.shape[3]])\n",
    "print(image_size)\n",
    "\n",
    "# Scale images so values are between 0 and 1\n",
    "images = images / 255\n",
    "\n",
    "n_images = images.shape[0]"
   ]
  },
  {
   "cell_type": "code",
   "execution_count": 9,
   "metadata": {},
   "outputs": [
    {
     "name": "stdout",
     "output_type": "stream",
     "text": [
      "(7000, 128, 128, 4)\n",
      "(7000,)\n",
      "(3000, 128, 128, 4)\n",
      "(3000,)\n"
     ]
    }
   ],
   "source": [
    "# Split into test and training sets\n",
    "\n",
    "TRAIN_TEST_SPLIT = 0.7            \n",
    "\n",
    "# Split at the given index\n",
    "split_index = int(TRAIN_TEST_SPLIT * n_images)\n",
    "shuffled_indices = np.random.permutation(n_images)\n",
    "train_indices = shuffled_indices[0:split_index]\n",
    "test_indices = shuffled_indices[split_index:]\n",
    "\n",
    "# Split the images and the labels\n",
    "x_train = images[train_indices, :, :, :]\n",
    "y_train = labels[train_indices]\n",
    "x_val = images[test_indices, :, :, :]\n",
    "y_val = labels[test_indices]\n",
    "\n",
    "#x_train = images\n",
    "#y_train = labels\n",
    "\n",
    "print(x_train.shape)\n",
    "print(y_train.shape)\n",
    "print(x_val.shape)\n",
    "print(y_val.shape)"
   ]
  },
  {
   "cell_type": "markdown",
   "metadata": {},
   "source": [
    "##### TRAIN THE MODEL"
   ]
  },
  {
   "cell_type": "code",
   "execution_count": 10,
   "metadata": {},
   "outputs": [
    {
     "name": "stdout",
     "output_type": "stream",
     "text": [
      "Epoch 1/50\n",
      "70/70 [==============================] - 31s 299ms/step - loss: 5.0795 - acc: 0.5113 - f1_m: 0.4470 - precision_m: 0.4684 - recall_m: 0.4769 - val_loss: 0.7711 - val_acc: 0.7447 - val_f1_m: 0.7535 - val_precision_m: 0.7426 - val_recall_m: 0.7678\n",
      "Epoch 2/50\n",
      "70/70 [==============================] - 21s 302ms/step - loss: 0.7844 - acc: 0.7036 - f1_m: 0.7013 - precision_m: 0.7042 - recall_m: 0.7155 - val_loss: 0.6384 - val_acc: 0.7770 - val_f1_m: 0.7949 - val_precision_m: 0.7487 - val_recall_m: 0.8496\n",
      "Epoch 3/50\n",
      "70/70 [==============================] - 21s 304ms/step - loss: 0.6346 - acc: 0.7659 - f1_m: 0.7740 - precision_m: 0.7504 - recall_m: 0.8061 - val_loss: 0.6386 - val_acc: 0.7850 - val_f1_m: 0.8050 - val_precision_m: 0.7475 - val_recall_m: 0.8745\n",
      "Epoch 4/50\n",
      "70/70 [==============================] - 21s 304ms/step - loss: 0.6255 - acc: 0.7749 - f1_m: 0.7797 - precision_m: 0.7540 - recall_m: 0.8157 - val_loss: 0.5907 - val_acc: 0.7797 - val_f1_m: 0.8012 - val_precision_m: 0.7414 - val_recall_m: 0.8735\n",
      "Epoch 5/50\n",
      "70/70 [==============================] - 21s 303ms/step - loss: 0.5967 - acc: 0.7876 - f1_m: 0.7872 - precision_m: 0.7756 - recall_m: 0.8060 - val_loss: 0.5657 - val_acc: 0.8150 - val_f1_m: 0.8229 - val_precision_m: 0.8023 - val_recall_m: 0.8479\n",
      "Epoch 6/50\n",
      "70/70 [==============================] - 21s 307ms/step - loss: 0.5915 - acc: 0.7853 - f1_m: 0.7827 - precision_m: 0.7832 - recall_m: 0.7946 - val_loss: 0.5684 - val_acc: 0.8007 - val_f1_m: 0.8091 - val_precision_m: 0.7904 - val_recall_m: 0.8325\n",
      "Epoch 7/50\n",
      "70/70 [==============================] - 21s 305ms/step - loss: 0.5698 - acc: 0.7985 - f1_m: 0.7977 - precision_m: 0.7863 - recall_m: 0.8160 - val_loss: 0.5585 - val_acc: 0.8150 - val_f1_m: 0.8265 - val_precision_m: 0.7934 - val_recall_m: 0.8650\n",
      "Epoch 8/50\n",
      "70/70 [==============================] - 21s 305ms/step - loss: 0.5753 - acc: 0.7946 - f1_m: 0.7934 - precision_m: 0.7910 - recall_m: 0.8058 - val_loss: 0.5891 - val_acc: 0.7810 - val_f1_m: 0.7615 - val_precision_m: 0.8528 - val_recall_m: 0.6931\n",
      "Epoch 9/50\n",
      "70/70 [==============================] - 22s 312ms/step - loss: 0.5656 - acc: 0.8034 - f1_m: 0.7967 - precision_m: 0.8111 - recall_m: 0.7909 - val_loss: 0.5558 - val_acc: 0.8050 - val_f1_m: 0.8234 - val_precision_m: 0.7637 - val_recall_m: 0.8953\n",
      "Epoch 10/50\n",
      "70/70 [==============================] - 22s 308ms/step - loss: 0.5492 - acc: 0.8080 - f1_m: 0.8081 - precision_m: 0.8003 - recall_m: 0.8223 - val_loss: 0.5486 - val_acc: 0.8120 - val_f1_m: 0.8266 - val_precision_m: 0.7790 - val_recall_m: 0.8827\n",
      "Epoch 11/50\n",
      "70/70 [==============================] - 21s 306ms/step - loss: 0.5370 - acc: 0.8208 - f1_m: 0.8201 - precision_m: 0.8118 - recall_m: 0.8337 - val_loss: 0.5486 - val_acc: 0.8117 - val_f1_m: 0.8212 - val_precision_m: 0.7965 - val_recall_m: 0.8499\n",
      "Epoch 12/50\n",
      "70/70 [==============================] - 22s 309ms/step - loss: 0.5472 - acc: 0.8134 - f1_m: 0.8107 - precision_m: 0.8060 - recall_m: 0.8227 - val_loss: 0.5822 - val_acc: 0.7930 - val_f1_m: 0.7856 - val_precision_m: 0.8336 - val_recall_m: 0.7468\n",
      "Epoch 13/50\n",
      "70/70 [==============================] - 22s 311ms/step - loss: 0.5481 - acc: 0.8162 - f1_m: 0.8178 - precision_m: 0.8183 - recall_m: 0.8243 - val_loss: 0.5535 - val_acc: 0.8157 - val_f1_m: 0.8195 - val_precision_m: 0.8174 - val_recall_m: 0.8237\n",
      "Epoch 14/50\n",
      "70/70 [==============================] - 21s 303ms/step - loss: 0.5637 - acc: 0.7986 - f1_m: 0.7958 - precision_m: 0.8097 - recall_m: 0.7933 - val_loss: 0.5496 - val_acc: 0.8150 - val_f1_m: 0.8230 - val_precision_m: 0.8027 - val_recall_m: 0.8471\n",
      "Epoch 15/50\n",
      "70/70 [==============================] - 22s 318ms/step - loss: 0.5320 - acc: 0.8221 - f1_m: 0.8217 - precision_m: 0.8116 - recall_m: 0.8368 - val_loss: 0.5439 - val_acc: 0.8163 - val_f1_m: 0.8257 - val_precision_m: 0.8009 - val_recall_m: 0.8546\n",
      "Epoch 16/50\n",
      "70/70 [==============================] - 21s 302ms/step - loss: 0.5173 - acc: 0.8354 - f1_m: 0.8327 - precision_m: 0.8298 - recall_m: 0.8405 - val_loss: 0.5677 - val_acc: 0.8147 - val_f1_m: 0.8305 - val_precision_m: 0.7772 - val_recall_m: 0.8939\n",
      "Epoch 17/50\n",
      "70/70 [==============================] - 22s 315ms/step - loss: 0.5363 - acc: 0.8240 - f1_m: 0.8210 - precision_m: 0.8228 - recall_m: 0.8309 - val_loss: 0.5464 - val_acc: 0.8220 - val_f1_m: 0.8236 - val_precision_m: 0.8287 - val_recall_m: 0.8219\n",
      "Epoch 18/50\n",
      "70/70 [==============================] - 23s 324ms/step - loss: 0.5255 - acc: 0.8239 - f1_m: 0.8188 - precision_m: 0.8198 - recall_m: 0.8246 - val_loss: 0.5549 - val_acc: 0.8220 - val_f1_m: 0.8324 - val_precision_m: 0.8030 - val_recall_m: 0.8665\n",
      "Epoch 19/50\n",
      "70/70 [==============================] - 23s 326ms/step - loss: 0.5129 - acc: 0.8366 - f1_m: 0.8369 - precision_m: 0.8247 - recall_m: 0.8542 - val_loss: 0.5691 - val_acc: 0.8153 - val_f1_m: 0.8065 - val_precision_m: 0.8617 - val_recall_m: 0.7616\n",
      "Epoch 20/50\n",
      "70/70 [==============================] - 23s 329ms/step - loss: 0.5338 - acc: 0.8272 - f1_m: 0.8241 - precision_m: 0.8215 - recall_m: 0.8334 - val_loss: 0.5570 - val_acc: 0.8223 - val_f1_m: 0.8342 - val_precision_m: 0.7941 - val_recall_m: 0.8809\n",
      "Epoch 21/50\n",
      "70/70 [==============================] - 23s 321ms/step - loss: 0.5492 - acc: 0.8274 - f1_m: 0.8222 - precision_m: 0.8219 - recall_m: 0.8325 - val_loss: 0.5486 - val_acc: 0.8233 - val_f1_m: 0.8291 - val_precision_m: 0.8185 - val_recall_m: 0.8419\n",
      "Epoch 22/50\n",
      "70/70 [==============================] - 22s 311ms/step - loss: 0.5308 - acc: 0.8329 - f1_m: 0.8295 - precision_m: 0.8313 - recall_m: 0.8347 - val_loss: 0.5347 - val_acc: 0.8213 - val_f1_m: 0.8290 - val_precision_m: 0.8093 - val_recall_m: 0.8522\n",
      "Epoch 23/50\n",
      "70/70 [==============================] - 22s 310ms/step - loss: 0.5066 - acc: 0.8380 - f1_m: 0.8363 - precision_m: 0.8283 - recall_m: 0.8493 - val_loss: 0.5858 - val_acc: 0.7967 - val_f1_m: 0.7747 - val_precision_m: 0.8837 - val_recall_m: 0.6937\n",
      "Epoch 24/50\n",
      "70/70 [==============================] - 22s 319ms/step - loss: 0.5028 - acc: 0.8429 - f1_m: 0.8418 - precision_m: 0.8424 - recall_m: 0.8493 - val_loss: 0.5412 - val_acc: 0.8247 - val_f1_m: 0.8237 - val_precision_m: 0.8444 - val_recall_m: 0.8078\n",
      "Epoch 25/50\n",
      "70/70 [==============================] - 22s 315ms/step - loss: 0.5149 - acc: 0.8275 - f1_m: 0.8247 - precision_m: 0.8156 - recall_m: 0.8383 - val_loss: 0.5486 - val_acc: 0.8270 - val_f1_m: 0.8286 - val_precision_m: 0.8356 - val_recall_m: 0.8241\n",
      "Epoch 26/50\n",
      "70/70 [==============================] - 22s 311ms/step - loss: 0.5146 - acc: 0.8361 - f1_m: 0.8341 - precision_m: 0.8289 - recall_m: 0.8462 - val_loss: 0.5625 - val_acc: 0.8083 - val_f1_m: 0.8001 - val_precision_m: 0.8534 - val_recall_m: 0.7559\n",
      "Epoch 27/50\n",
      "70/70 [==============================] - 22s 315ms/step - loss: 0.5120 - acc: 0.8348 - f1_m: 0.8310 - precision_m: 0.8276 - recall_m: 0.8403 - val_loss: 0.5465 - val_acc: 0.8227 - val_f1_m: 0.8249 - val_precision_m: 0.8297 - val_recall_m: 0.8229\n",
      "Epoch 28/50\n",
      "70/70 [==============================] - 22s 315ms/step - loss: 0.5277 - acc: 0.8217 - f1_m: 0.8184 - precision_m: 0.8259 - recall_m: 0.8223 - val_loss: 0.5595 - val_acc: 0.8217 - val_f1_m: 0.8225 - val_precision_m: 0.8325 - val_recall_m: 0.8151\n",
      "Epoch 29/50\n",
      "70/70 [==============================] - 22s 315ms/step - loss: 0.5357 - acc: 0.8304 - f1_m: 0.8269 - precision_m: 0.8245 - recall_m: 0.8375 - val_loss: 0.5640 - val_acc: 0.8137 - val_f1_m: 0.8162 - val_precision_m: 0.8203 - val_recall_m: 0.8155\n",
      "Epoch 30/50\n",
      "70/70 [==============================] - 22s 312ms/step - loss: 0.5334 - acc: 0.8293 - f1_m: 0.8292 - precision_m: 0.8295 - recall_m: 0.8353 - val_loss: 0.5583 - val_acc: 0.8093 - val_f1_m: 0.8074 - val_precision_m: 0.8322 - val_recall_m: 0.7877\n",
      "Epoch 31/50\n",
      "70/70 [==============================] - 22s 310ms/step - loss: 0.5154 - acc: 0.8365 - f1_m: 0.8347 - precision_m: 0.8235 - recall_m: 0.8532 - val_loss: 0.5600 - val_acc: 0.8220 - val_f1_m: 0.8399 - val_precision_m: 0.7756 - val_recall_m: 0.9174\n",
      "Epoch 32/50\n",
      "70/70 [==============================] - 22s 310ms/step - loss: 0.4943 - acc: 0.8482 - f1_m: 0.8446 - precision_m: 0.8415 - recall_m: 0.8532 - val_loss: 0.5468 - val_acc: 0.8200 - val_f1_m: 0.8158 - val_precision_m: 0.8505 - val_recall_m: 0.7869\n"
     ]
    },
    {
     "name": "stdout",
     "output_type": "stream",
     "text": [
      "Epoch 33/50\n",
      "70/70 [==============================] - 22s 311ms/step - loss: 0.5048 - acc: 0.8435 - f1_m: 0.8405 - precision_m: 0.8407 - recall_m: 0.8456 - val_loss: 0.5555 - val_acc: 0.8300 - val_f1_m: 0.8410 - val_precision_m: 0.8029 - val_recall_m: 0.8850\n",
      "Epoch 34/50\n",
      "70/70 [==============================] - 22s 311ms/step - loss: 0.4977 - acc: 0.8453 - f1_m: 0.8467 - precision_m: 0.8378 - recall_m: 0.8610 - val_loss: 0.5897 - val_acc: 0.8170 - val_f1_m: 0.8372 - val_precision_m: 0.7667 - val_recall_m: 0.9245\n",
      "Epoch 35/50\n",
      "70/70 [==============================] - 22s 312ms/step - loss: 0.5498 - acc: 0.8330 - f1_m: 0.8352 - precision_m: 0.8199 - recall_m: 0.8582 - val_loss: 0.5893 - val_acc: 0.8100 - val_f1_m: 0.8083 - val_precision_m: 0.8302 - val_recall_m: 0.7904\n",
      "Epoch 36/50\n",
      "70/70 [==============================] - 22s 317ms/step - loss: 0.5634 - acc: 0.8178 - f1_m: 0.8179 - precision_m: 0.8181 - recall_m: 0.8310 - val_loss: 0.5698 - val_acc: 0.8270 - val_f1_m: 0.8256 - val_precision_m: 0.8486 - val_recall_m: 0.8076\n",
      "Epoch 37/50\n",
      "70/70 [==============================] - 22s 317ms/step - loss: 0.5226 - acc: 0.8410 - f1_m: 0.8399 - precision_m: 0.8449 - recall_m: 0.8392 - val_loss: 0.5872 - val_acc: 0.8140 - val_f1_m: 0.8080 - val_precision_m: 0.8499 - val_recall_m: 0.7736\n",
      "Epoch 38/50\n",
      "70/70 [==============================] - 23s 325ms/step - loss: 0.5719 - acc: 0.8175 - f1_m: 0.8158 - precision_m: 0.8133 - recall_m: 0.8290 - val_loss: 0.5491 - val_acc: 0.8233 - val_f1_m: 0.8293 - val_precision_m: 0.8184 - val_recall_m: 0.8442\n",
      "Epoch 39/50\n",
      "70/70 [==============================] - 23s 327ms/step - loss: 0.5063 - acc: 0.8415 - f1_m: 0.8416 - precision_m: 0.8328 - recall_m: 0.8546 - val_loss: 0.5617 - val_acc: 0.8113 - val_f1_m: 0.8176 - val_precision_m: 0.8073 - val_recall_m: 0.8308\n",
      "Epoch 40/50\n",
      "70/70 [==============================] - 22s 320ms/step - loss: 0.5287 - acc: 0.8320 - f1_m: 0.8328 - precision_m: 0.8295 - recall_m: 0.8423 - val_loss: 0.5740 - val_acc: 0.8213 - val_f1_m: 0.8335 - val_precision_m: 0.7947 - val_recall_m: 0.8786\n",
      "Epoch 41/50\n",
      "70/70 [==============================] - 22s 314ms/step - loss: 0.5110 - acc: 0.8474 - f1_m: 0.8457 - precision_m: 0.8322 - recall_m: 0.8664 - val_loss: 0.6503 - val_acc: 0.7657 - val_f1_m: 0.7208 - val_precision_m: 0.9069 - val_recall_m: 0.6021\n",
      "Epoch 42/50\n",
      "70/70 [==============================] - 22s 313ms/step - loss: 0.5413 - acc: 0.8327 - f1_m: 0.8257 - precision_m: 0.8319 - recall_m: 0.8352 - val_loss: 0.6221 - val_acc: 0.8117 - val_f1_m: 0.8225 - val_precision_m: 0.7915 - val_recall_m: 0.8589\n",
      "Epoch 43/50\n",
      "70/70 [==============================] - 22s 313ms/step - loss: 0.6491 - acc: 0.8048 - f1_m: 0.8035 - precision_m: 0.8051 - recall_m: 0.8133 - val_loss: 0.6589 - val_acc: 0.8060 - val_f1_m: 0.8317 - val_precision_m: 0.7468 - val_recall_m: 0.9407\n",
      "Epoch 44/50\n",
      "70/70 [==============================] - 22s 311ms/step - loss: 0.5579 - acc: 0.8255 - f1_m: 0.8217 - precision_m: 0.8146 - recall_m: 0.8385 - val_loss: 0.5835 - val_acc: 0.8233 - val_f1_m: 0.8341 - val_precision_m: 0.8009 - val_recall_m: 0.8736\n",
      "Epoch 45/50\n",
      "70/70 [==============================] - 22s 311ms/step - loss: 0.5683 - acc: 0.8265 - f1_m: 0.8280 - precision_m: 0.8233 - recall_m: 0.8389 - val_loss: 0.6683 - val_acc: 0.7613 - val_f1_m: 0.7231 - val_precision_m: 0.8788 - val_recall_m: 0.6178\n",
      "Epoch 46/50\n",
      "70/70 [==============================] - 22s 311ms/step - loss: 0.6016 - acc: 0.8108 - f1_m: 0.8061 - precision_m: 0.8110 - recall_m: 0.8095 - val_loss: 0.5641 - val_acc: 0.8210 - val_f1_m: 0.8353 - val_precision_m: 0.7874 - val_recall_m: 0.8917\n",
      "Epoch 47/50\n",
      "70/70 [==============================] - 22s 312ms/step - loss: 0.5249 - acc: 0.8383 - f1_m: 0.8365 - precision_m: 0.8295 - recall_m: 0.8573 - val_loss: 0.5591 - val_acc: 0.8227 - val_f1_m: 0.8197 - val_precision_m: 0.8480 - val_recall_m: 0.7960\n",
      "Epoch 48/50\n",
      "70/70 [==============================] - 22s 312ms/step - loss: 0.5021 - acc: 0.8462 - f1_m: 0.8439 - precision_m: 0.8475 - recall_m: 0.8467 - val_loss: 0.5460 - val_acc: 0.8220 - val_f1_m: 0.8231 - val_precision_m: 0.8334 - val_recall_m: 0.8162\n",
      "Epoch 49/50\n",
      "70/70 [==============================] - 22s 311ms/step - loss: 0.4989 - acc: 0.8376 - f1_m: 0.8351 - precision_m: 0.8420 - recall_m: 0.8379 - val_loss: 0.5385 - val_acc: 0.8203 - val_f1_m: 0.8250 - val_precision_m: 0.8195 - val_recall_m: 0.8338\n",
      "Epoch 50/50\n",
      "70/70 [==============================] - 22s 310ms/step - loss: 0.4863 - acc: 0.8509 - f1_m: 0.8496 - precision_m: 0.8475 - recall_m: 0.8563 - val_loss: 0.5898 - val_acc: 0.8160 - val_f1_m: 0.8082 - val_precision_m: 0.8598 - val_recall_m: 0.7659\n",
      "94/94 [==============================] - 3s 24ms/step - loss: 0.5898 - acc: 0.8160 - f1_m: 0.8036 - precision_m: 0.8588 - recall_m: 0.7645\n",
      "Test loss: 0.5897905826568604\n",
      "Test accuracy: 0.8159999847412109\n",
      "Test f1: 0.8035814762115479\n",
      "Test precision: 0.8587986826896667\n",
      "Test recall: 0.7644806504249573\n"
     ]
    }
   ],
   "source": [
    "# 1 conv layer / 100 bs / 50 epoch HitPeak images\n",
    "def CNN_model():\n",
    "    shape = (image_size[0], image_size[1], image_size[2])\n",
    "    model = Sequential()\n",
    "    \n",
    "    # 1 conv layer\n",
    "    model.add(Conv2D(16, (3,3), strides = (1,1), input_shape=shape,kernel_regularizer=l2(0.005)))\n",
    "    model.add(keras.layers.LeakyReLU(alpha=0.05))\n",
    "    model.add(MaxPooling2D(pool_size=(2, 2), strides = (1,1)))\n",
    "\n",
    "    # 2 conv layers\n",
    "    #model.add(Conv2D(16,(3,3),kernel_regularizer=l2(0.005)))\n",
    "    #model.add(keras.layers.LeakyReLU(alpha=0.05))\n",
    "    #model.add(MaxPooling2D(pool_size=(2, 2)))\n",
    "\n",
    "    # 3 conv layers\n",
    "    #model.add(Conv2D(16,(3,3),kernel_regularizer=l2(0.005)))\n",
    "    #model.add(keras.layers.LeakyReLU(alpha=0.05))\n",
    "    #model.add(MaxPooling2D(pool_size=(2, 2)))\n",
    "    \n",
    "    model.add(Dropout(0.25)) \n",
    "    model.add(Flatten())\n",
    "\n",
    "    model.add(Dense(32, bias_regularizer=regularizers.l2(0.001),kernel_regularizer=regularizers.l2(0.001)))\n",
    "    model.add(keras.layers.LeakyReLU(alpha=0.05))    \n",
    "    model.add(Dropout(0.5)) \n",
    "\n",
    "    # Output layer\n",
    "    model.add(Dense(1))\n",
    "    model.add(Activation('sigmoid'))\n",
    "\n",
    "    # Compile the model\n",
    "    model.compile(loss='binary_crossentropy',\n",
    "                    optimizer='adam',\n",
    "                    metrics=['acc', f1_m, precision_m, recall_m])\n",
    "    return model\n",
    "\n",
    "# def run_CNN():\n",
    "model = CNN_model()\n",
    "model.fit(x_train, y_train, epochs=50, batch_size=100, verbose=1, validation_data=(x_val, y_val))\n",
    "#model.save(model_name)\n",
    "#model.save_weights('final_weights.h5')\n",
    "score = model.evaluate(x_val, y_val, verbose=1)\n",
    "print('Test loss:', score[0])\n",
    "print('Test accuracy:', score[1])\n",
    "print('Test f1:', score[2])\n",
    "print('Test precision:', score[3])\n",
    "print('Test recall:', score[4])\n",
    "\n",
    "# run_CNN()"
   ]
  },
  {
   "cell_type": "markdown",
   "metadata": {},
   "source": [
    "##### TESTSET"
   ]
  },
  {
   "cell_type": "code",
   "execution_count": 11,
   "metadata": {},
   "outputs": [
    {
     "name": "stdout",
     "output_type": "stream",
     "text": [
      "images_test.shape:  (10000, 128, 128, 4)\n",
      "labels_test.shape:  (10000,)\n",
      "[128 128   4]\n"
     ]
    }
   ],
   "source": [
    "##########\n",
    "# SIGNAL #\n",
    "##########\n",
    "num_signal_test = 5000\n",
    "\n",
    "file_pathsWP = glob.glob(path.join(filename_S, 'WP*.png'))\n",
    "\n",
    "# Load the images into a single variable and convert to a numpy array\n",
    "imagesWP = [imageio.imread(file_pathsWP[jj]) for jj in range(num_signal,num_signal+num_signal_test)]\n",
    "imagesWP = np.asarray(imagesWP)\n",
    "\n",
    "labelsWP = np.ones(num_signal_test)\n",
    "\n",
    "\n",
    "##############\n",
    "# BACKGROUND #\n",
    "##############\n",
    "num_back_test = 5000\n",
    "\n",
    "file_pathsER = glob.glob(path.join(filename_B, 'ER*.png'))\n",
    "\n",
    "# Load the images into a single variable and convert to a numpy array\n",
    "imagesER = [imageio.imread(file_pathsER[jj]) for jj in range(num_back,num_back+num_back_test)]\n",
    "imagesER = np.asarray(imagesER)\n",
    "\n",
    "labelsER = np.zeros(num_back_test)\n",
    "\n",
    "\n",
    "\n",
    "images_test = np.concatenate([imagesWP,imagesER])\n",
    "del imagesWP\n",
    "del imagesER\n",
    "\n",
    "labels_test = np.concatenate([labelsWP,labelsER])\n",
    "del labelsWP\n",
    "del labelsER\n",
    "\n",
    "\n",
    "print('images_test.shape: ', images_test.shape)\n",
    "print('labels_test.shape: ', labels_test.shape)\n",
    "\n",
    "# Get image size\n",
    "image_size_test = np.asarray([images_test.shape[1], images_test.shape[2], images_test.shape[3]])\n",
    "print(image_size_test)\n",
    "\n",
    "# Scale images so values are between 0 and 1\n",
    "images_test = images_test / 255\n",
    "\n",
    "n_images_test = images_test.shape[0]\n",
    "\n",
    "\n",
    "\n",
    "x_test = images_test\n",
    "del images_test\n",
    "\n",
    "y_test = labels_test\n",
    "del labels_test"
   ]
  },
  {
   "cell_type": "code",
   "execution_count": 12,
   "metadata": {
    "scrolled": false
   },
   "outputs": [
    {
     "name": "stdout",
     "output_type": "stream",
     "text": [
      "313/313 [==============================] - 6s 18ms/step - loss: 0.5773 - acc: 0.8276 - f1_m: 0.4386 - precision_m: 0.5012 - recall_m: 0.3915\n",
      "acc: 82.76%\n"
     ]
    },
    {
     "name": "stderr",
     "output_type": "stream",
     "text": [
      "/home/andres/anaconda3/lib/python3.8/site-packages/keras/engine/sequential.py:425: UserWarning: `model.predict_proba()` is deprecated and will be removed after 2021-01-01. Please use `model.predict()` instead.\n",
      "  warnings.warn('`model.predict_proba()` is deprecated and '\n"
     ]
    },
    {
     "name": "stdout",
     "output_type": "stream",
     "text": [
      "Logistic: f1=0.819 auc=0.9068929\n"
     ]
    },
    {
     "data": {
      "image/png": "[encoded data removed]",
      "text/plain": [
       "<Figure size 432x288 with 1 Axes>"
      ]
     },
     "metadata": {
      "needs_background": "light"
     },
     "output_type": "display_data"
    },
    {
     "name": "stdout",
     "output_type": "stream",
     "text": [
      "Accuracy: 0.8276\n",
      "Average precision: 0.7824137931034483\n",
      "recall: 0.78\n",
      "AUC:0.8760344827586206\n",
      "Predicted   0.0   1.0\n",
      "Actual               \n",
      "0.0        4376   624\n",
      "1.0        1100  3900\n"
     ]
    },
    {
     "data": {
      "image/png": "[encoded data removed]",
      "text/plain": [
       "<Figure size 288x288 with 2 Axes>"
      ]
     },
     "metadata": {
      "needs_background": "light"
     },
     "output_type": "display_data"
    },
    {
     "data": {
      "image/png": "[encoded data removed]",
      "text/plain": [
       "<Figure size 432x288 with 1 Axes>"
      ]
     },
     "metadata": {
      "needs_background": "light"
     },
     "output_type": "display_data"
    },
    {
     "name": "stdout",
     "output_type": "stream",
     "text": [
      "ROC AUC:  0.91091848\n"
     ]
    }
   ],
   "source": [
    "##########################\n",
    "# TEST WITH THE TEST SET #\n",
    "##########################\n",
    "\n",
    "# dependencies = {\n",
    "#     'f1_m' : f1_m, \n",
    "#     'precision_m' : precision_m,\n",
    "#     'recall_m': recall_m,\n",
    "# }\n",
    "\n",
    "# model = keras.models.load_model(model_name, custom_objects=dependencies)\n",
    "\n",
    "# model.summary()\n",
    "\n",
    "\n",
    "\n",
    "score = model.evaluate(x_test, y_test, verbose=1)\n",
    "print(\"%s: %.2f%%\" % (model.metrics_names[1], score[1]*100))\n",
    "\n",
    "\n",
    "from sklearn.datasets import make_classification\n",
    "from sklearn.linear_model import LogisticRegression\n",
    "from sklearn.model_selection import train_test_split\n",
    "from sklearn.metrics import precision_recall_curve\n",
    "from sklearn.metrics import f1_score\n",
    "from sklearn.metrics import auc\n",
    "from matplotlib import pyplot\n",
    "\n",
    "\n",
    "lr_probs = model.predict_proba(x_test)    # Predict probabilities\n",
    "yhat = model.predict(x_test)      # Predict class values\n",
    "yhat_original = yhat\n",
    "yhat = np.round(yhat)\n",
    "lr_precision, lr_recall, _ = precision_recall_curve(y_test, lr_probs)\n",
    "lr_f1, lr_auc = f1_score(y_test, yhat), auc(lr_recall, lr_precision)\n",
    "print('Logistic: f1=%.3f auc=%.7f' % (lr_f1, lr_auc))   # Summarise scores\n",
    "''' plot the precision-recall curves '''\n",
    "no_skill = len(y_test[y_test==1]) / len(y_test)\n",
    "pyplot.plot(lr_recall, lr_precision, 'r-', label='F1 = %0.2f' %(lr_f1))\n",
    "pyplot.xlabel('Recall')\n",
    "pyplot.ylabel('Precision')\n",
    "pyplot.legend(loc='lower left')\n",
    "plt.title('Precision-Recall (PR) Curve')\n",
    "pyplot.show()\n",
    "\n",
    "## Save precision and recall data to plot PR curve seperately\n",
    "#np.savetxt(\"/content/drive/My Drive/Colab Notebooks/precision_HP.txt\",lr_precision)\n",
    "#np.savetxt(\"/content/drive/My Drive/Colab Notebooks/recall_HP.txt\",lr_recall)\n",
    "\n",
    "\n",
    "test_predictions = yhat             # Make a prediction on the test set\n",
    "accuracy = accuracy_score(y_test, test_predictions)\n",
    "print(\"Accuracy: \" + str(accuracy))\n",
    "average_precision = average_precision_score(y_test, test_predictions)\n",
    "print(\"Average precision: \" + str(average_precision))\n",
    "\n",
    "from sklearn.metrics import precision_recall_curve\n",
    "\n",
    "precision, recall, threshold = precision_recall_curve(y_test, test_predictions)\n",
    "auc = auc(recall, precision)\n",
    "recall1 = recall_score(y_test, np.round(test_predictions))\n",
    "print(\"recall: \" + str(recall1))\n",
    "print('AUC:' +str(auc))\n",
    "\n",
    "\n",
    "# Report Confusion Matrix\n",
    "y_actu = pd.Series(y_test.ravel(), name='Actual')\n",
    "y_pred = pd.Series(np.round(test_predictions.ravel()), name='Predicted')\n",
    "df_confusion = pd.crosstab(y_actu, y_pred)\n",
    "print(df_confusion)\n",
    "\n",
    "# Plot confusion matrix\n",
    "def plot_confusion_matrix(df_confusion, cmap='YlGn'):\n",
    "    plt.matshow(df_confusion, cmap=cmap) # imshow\n",
    "    plt.colorbar()\n",
    "    tick_marks = np.arange(0,len(df_confusion.columns))\n",
    "    plt.xticks(tick_marks, df_confusion.columns)\n",
    "    plt.yticks(tick_marks, df_confusion.index)\n",
    "    plt.ylabel(df_confusion.index.name)\n",
    "    plt.xlabel(df_confusion.columns.name)\n",
    "    for i in range(len(df_confusion.index)):\n",
    "        for j in range(len(df_confusion.columns)):\n",
    "            plt.text(j,i,str(df_confusion.iloc[i,j]))\n",
    "    plt.show()\n",
    "\n",
    "plot_confusion_matrix(df_confusion)\n",
    "\n",
    "from sklearn.metrics import roc_curve\n",
    "from sklearn.metrics import roc_auc_score\n",
    "\n",
    "def plot_roc_curve(fpr, tpr):\n",
    "    plt.plot(fpr, tpr, color='darkblue', label='AUC = %0.2f' %(auc))\n",
    "    plt.plot([0, 1], [0, 1], color='orange', linestyle='--')\n",
    "    plt.xlabel('False Positive Rate')\n",
    "    plt.ylabel('True Positive Rate')\n",
    "    plt.title('Receiver Operating Characteristic (ROC) Curve')\n",
    "    plt.legend()\n",
    "    plt.show()\n",
    "    \n",
    "    \n",
    "from sklearn.metrics import roc_curve, roc_auc_score, auc\n",
    "\n",
    "fpr, tpr, thresholds = roc_curve(y_test, yhat_original)\n",
    "auc = auc(fpr, tpr)\n",
    "# Save tpr and fpr to plot seperate ROC curve\n",
    "#np.savetxt(\"/content/drive/My Drive/Colab Notebooks/tpr.txt\",tpr)\n",
    "#np.savetxt(\"/content/drive/My Drive/Colab Notebooks/fpr.txt\",fpr)\n",
    "plot_roc_curve(fpr, tpr)\n",
    "\n",
    "print('ROC AUC: ', auc)"
   ]
  },
  {
   "cell_type": "code",
   "execution_count": null,
   "metadata": {},
   "outputs": [],
   "source": []
  },
  {
   "cell_type": "markdown",
   "metadata": {},
   "source": [
    "##### Test with the train set (just to see)"
   ]
  },
  {
   "cell_type": "code",
   "execution_count": 13,
   "metadata": {},
   "outputs": [],
   "source": [
    "##################################\n",
    "# USING TO TEST THE TRAINING SET # THIS IS WRONG! but to see\n",
    "##################################\n",
    "\n",
    "x_test2 = images\n",
    "y_test2 = labels"
   ]
  },
  {
   "cell_type": "code",
   "execution_count": 14,
   "metadata": {},
   "outputs": [
    {
     "name": "stdout",
     "output_type": "stream",
     "text": [
      "313/313 [==============================] - 6s 18ms/step - loss: 0.4892 - acc: 0.8658 - f1_m: 0.4515 - precision_m: 0.5003 - recall_m: 0.4126\n",
      "acc: 86.58%\n"
     ]
    },
    {
     "name": "stderr",
     "output_type": "stream",
     "text": [
      "/home/andres/anaconda3/lib/python3.8/site-packages/keras/engine/sequential.py:425: UserWarning: `model.predict_proba()` is deprecated and will be removed after 2021-01-01. Please use `model.predict()` instead.\n",
      "  warnings.warn('`model.predict_proba()` is deprecated and '\n"
     ]
    },
    {
     "name": "stdout",
     "output_type": "stream",
     "text": [
      "Logistic: f1=0.860 auc=0.9460794\n"
     ]
    },
    {
     "data": {
      "image/png": "[encoded data removed]",
      "text/plain": [
       "<Figure size 432x288 with 1 Axes>"
      ]
     },
     "metadata": {
      "needs_background": "light"
     },
     "output_type": "display_data"
    },
    {
     "name": "stdout",
     "output_type": "stream",
     "text": [
      "Accuracy: 0.8658\n",
      "Average precision: 0.8292360017497812\n",
      "recall: 0.823\n",
      "AUC:0.9057718722659668\n",
      "Predicted   0.0   1.0\n",
      "Actual               \n",
      "0.0        4543   457\n",
      "1.0         885  4115\n"
     ]
    },
    {
     "data": {
      "image/png": "[encoded data removed]",
      "text/plain": [
       "<Figure size 288x288 with 2 Axes>"
      ]
     },
     "metadata": {
      "needs_background": "light"
     },
     "output_type": "display_data"
    },
    {
     "data": {
      "image/png": "[encoded data removed]",
      "text/plain": [
       "<Figure size 432x288 with 1 Axes>"
      ]
     },
     "metadata": {
      "needs_background": "light"
     },
     "output_type": "display_data"
    },
    {
     "name": "stdout",
     "output_type": "stream",
     "text": [
      "ROC AUC:  0.9468635599999999\n"
     ]
    }
   ],
   "source": [
    "###########################\n",
    "# TEST WITH THE TRAIN SET # just to see\n",
    "###########################\n",
    "\n",
    "# dependencies = {\n",
    "#     'f1_m' : f1_m, \n",
    "#     'precision_m' : precision_m,\n",
    "#     'recall_m': recall_m,\n",
    "# }\n",
    "\n",
    "# model = keras.models.load_model(model_name, custom_objects=dependencies)\n",
    "\n",
    "# model.summary()\n",
    "\n",
    "\n",
    "\n",
    "score = model.evaluate(x_test2, y_test2, verbose=1)\n",
    "print(\"%s: %.2f%%\" % (model.metrics_names[1], score[1]*100))\n",
    "\n",
    "\n",
    "from sklearn.datasets import make_classification\n",
    "from sklearn.linear_model import LogisticRegression\n",
    "from sklearn.model_selection import train_test_split\n",
    "from sklearn.metrics import precision_recall_curve\n",
    "from sklearn.metrics import f1_score\n",
    "from sklearn.metrics import auc\n",
    "from matplotlib import pyplot\n",
    "\n",
    "\n",
    "lr_probs = model.predict_proba(x_test2)    # Predict probabilities\n",
    "yhat = model.predict(x_test2)      # Predict class values\n",
    "yhat_original = yhat\n",
    "yhat = np.round(yhat)\n",
    "lr_precision, lr_recall, _ = precision_recall_curve(y_test2, lr_probs)\n",
    "lr_f1, lr_auc = f1_score(y_test2, yhat), auc(lr_recall, lr_precision)\n",
    "print('Logistic: f1=%.3f auc=%.7f' % (lr_f1, lr_auc))   # Summarise scores\n",
    "''' plot the precision-recall curves '''\n",
    "no_skill = len(y_test2[y_test2==1]) / len(y_test2)\n",
    "pyplot.plot(lr_recall, lr_precision, 'r-', label='F1 = %0.2f' %(lr_f1))\n",
    "pyplot.xlabel('Recall')\n",
    "pyplot.ylabel('Precision')\n",
    "pyplot.legend(loc='lower left')\n",
    "plt.title('Precision-Recall (PR) Curve')\n",
    "pyplot.show()\n",
    "\n",
    "## Save precision and recall data to plot PR curve seperately\n",
    "#np.savetxt(\"/content/drive/My Drive/Colab Notebooks/precision_HP.txt\",lr_precision)\n",
    "#np.savetxt(\"/content/drive/My Drive/Colab Notebooks/recall_HP.txt\",lr_recall)\n",
    "\n",
    "\n",
    "test_predictions = yhat             # Make a prediction on the test set\n",
    "accuracy = accuracy_score(y_test2, test_predictions)\n",
    "print(\"Accuracy: \" + str(accuracy))\n",
    "average_precision = average_precision_score(y_test2, test_predictions)\n",
    "print(\"Average precision: \" + str(average_precision))\n",
    "\n",
    "from sklearn.metrics import precision_recall_curve\n",
    "\n",
    "precision, recall, threshold = precision_recall_curve(y_test2, test_predictions)\n",
    "auc = auc(recall, precision)\n",
    "recall1 = recall_score(y_test2, np.round(test_predictions))\n",
    "print(\"recall: \" + str(recall1))\n",
    "print('AUC:' +str(auc))\n",
    "\n",
    "\n",
    "# Report Confusion Matrix\n",
    "y_actu = pd.Series(y_test2.ravel(), name='Actual')\n",
    "y_pred = pd.Series(np.round(test_predictions.ravel()), name='Predicted')\n",
    "df_confusion = pd.crosstab(y_actu, y_pred)\n",
    "print(df_confusion)\n",
    "\n",
    "# Plot confusion matrix\n",
    "def plot_confusion_matrix(df_confusion, cmap='YlGn'):\n",
    "    plt.matshow(df_confusion, cmap=cmap) # imshow\n",
    "    plt.colorbar()\n",
    "    tick_marks = np.arange(0,len(df_confusion.columns))\n",
    "    plt.xticks(tick_marks, df_confusion.columns)\n",
    "    plt.yticks(tick_marks, df_confusion.index)\n",
    "    plt.ylabel(df_confusion.index.name)\n",
    "    plt.xlabel(df_confusion.columns.name)\n",
    "    for i in range(len(df_confusion.index)):\n",
    "        for j in range(len(df_confusion.columns)):\n",
    "            plt.text(j,i,str(df_confusion.iloc[i,j]))\n",
    "    plt.show()\n",
    "\n",
    "plot_confusion_matrix(df_confusion)\n",
    "\n",
    "from sklearn.metrics import roc_curve\n",
    "from sklearn.metrics import roc_auc_score\n",
    "\n",
    "def plot_roc_curve(fpr, tpr):\n",
    "    plt.plot(fpr, tpr, color='darkblue', label='AUC = %0.2f' %(auc))\n",
    "    plt.plot([0, 1], [0, 1], color='orange', linestyle='--')\n",
    "    plt.xlabel('False Positive Rate')\n",
    "    plt.ylabel('True Positive Rate')\n",
    "    plt.title('Receiver Operating Characteristic (ROC) Curve')\n",
    "    plt.legend()\n",
    "    plt.show()\n",
    "    \n",
    "    \n",
    "from sklearn.metrics import roc_curve, roc_auc_score, auc\n",
    "\n",
    "fpr, tpr, thresholds = roc_curve(y_test2, yhat_original)\n",
    "auc = auc(fpr, tpr)\n",
    "# Save tpr and fpr to plot seperate ROC curve\n",
    "#np.savetxt(\"/content/drive/My Drive/Colab Notebooks/tpr.txt\",tpr)\n",
    "#np.savetxt(\"/content/drive/My Drive/Colab Notebooks/fpr.txt\",fpr)\n",
    "plot_roc_curve(fpr, tpr)\n",
    "\n",
    "print('ROC AUC: ', auc)"
   ]
  },
  {
   "cell_type": "code",
   "execution_count": null,
   "metadata": {},
   "outputs": [],
   "source": []
  }
 ],
 "metadata": {
  "kernelspec": {
   "display_name": "Python 3",
   "language": "python",
   "name": "python3"
  },
  "language_info": {
   "codemirror_mode": {
    "name": "ipython",
    "version": 3
   },
   "file_extension": ".py",
   "mimetype": "text/x-python",
   "name": "python",
   "nbconvert_exporter": "python",
   "pygments_lexer": "ipython3",
   "version": "3.8.8"
  }
 },
 "nbformat": 4,
 "nbformat_minor": 4
}
