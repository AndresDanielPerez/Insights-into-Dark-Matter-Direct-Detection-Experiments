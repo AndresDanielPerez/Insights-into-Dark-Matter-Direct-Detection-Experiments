{
 "cells": [
  {
   "cell_type": "code",
   "execution_count": 1,
   "metadata": {},
   "outputs": [],
   "source": [
    "import numpy as np\n",
    "import pandas as pd\n",
    "import matplotlib.pyplot as plt\n",
    "import seaborn as sns\n",
    "from matplotlib import gridspec\n",
    "from matplotlib import patches\n",
    "from matplotlib import cm\n",
    "from mpl_toolkits.mplot3d import Axes3D\n",
    "\n",
    "import os\n",
    "import math\n",
    "import random\n",
    "\n",
    "import keras\n",
    "from keras.models import Sequential\n",
    "from keras.layers import Input, Dense, Conv2D, Flatten, MaxPooling2D\n",
    "from keras.layers import Dropout\n",
    "from keras.callbacks import EarlyStopping\n",
    "\n",
    "from sklearn.preprocessing import MinMaxScaler\n",
    "from sklearn.model_selection import train_test_split\n",
    "from sklearn.utils import shuffle\n",
    "from sklearn import preprocessing\n",
    "from sklearn.metrics import roc_curve, roc_auc_score, auc\n",
    "\n",
    "import scipy.stats as st\n",
    "from scipy.stats import poisson\n",
    "from scipy.interpolate import interp1d\n",
    "from scipy.stats import norm"
   ]
  },
  {
   "cell_type": "code",
   "execution_count": 2,
   "metadata": {},
   "outputs": [],
   "source": [
    "from sklearn.neighbors import KernelDensity\n",
    "from sklearn.model_selection import GridSearchCV\n",
    "\n",
    "import scipy.integrate as integrate"
   ]
  },
  {
   "cell_type": "code",
   "execution_count": 3,
   "metadata": {},
   "outputs": [
    {
     "name": "stdout",
     "output_type": "stream",
     "text": [
      "Requirement already satisfied: xgboost in /home/andres/anaconda3/lib/python3.8/site-packages (1.5.1)\n",
      "Requirement already satisfied: scipy in /home/andres/.local/lib/python3.8/site-packages (from xgboost) (1.9.3)\n",
      "Requirement already satisfied: numpy in /home/andres/.local/lib/python3.8/site-packages (from xgboost) (1.22.4)\n",
      "\u001b[33mWARNING: You are using pip version 21.3.1; however, version 24.0 is available.\n",
      "You should consider upgrading via the '/home/andres/anaconda3/bin/python -m pip install --upgrade pip' command.\u001b[0m\n"
     ]
    }
   ],
   "source": [
    "!pip install xgboost\n",
    "\n",
    "import xgboost\n",
    "from xgboost import XGBRegressor, XGBClassifier"
   ]
  },
  {
   "cell_type": "code",
   "execution_count": 4,
   "metadata": {},
   "outputs": [],
   "source": [
    "import glob\n",
    "import numpy as np\n",
    "import os.path as path\n",
    "import imageio\n",
    "import matplotlib.pyplot as plt\n",
    "from keras.models import Sequential\n",
    "from keras.layers import Activation, Dropout, Flatten, Dense, Conv2D, MaxPooling2D\n",
    "from keras.callbacks import EarlyStopping, TensorBoard\n",
    "from datetime import datetime\n",
    "import keras\n",
    "from keras import regularizers\n",
    "from sklearn.model_selection import train_test_split\n",
    "import pandas as pd\n",
    "from sklearn.metrics import accuracy_score, f1_score, average_precision_score, precision_recall_curve, auc,recall_score\n",
    "# from keras.optimizers import Adam\n",
    "from keras.regularizers import l2\n",
    "import h5py\n",
    "from sklearn.model_selection import GridSearchCV\n",
    "from keras.backend import cast, greater, clip, floatx,epsilon\n",
    "from keras.wrappers.scikit_learn import KerasClassifier\n",
    "from keras import backend as K\n",
    "from sklearn.model_selection import StratifiedKFold"
   ]
  },
  {
   "cell_type": "markdown",
   "metadata": {},
   "source": [
    "### Load images"
   ]
  },
  {
   "cell_type": "code",
   "execution_count": 5,
   "metadata": {},
   "outputs": [],
   "source": [
    "filefolder = '../../data2024/processed/00-images/'\n",
    "\n",
    "###################\n",
    "# BACKGROUND FILE #\n",
    "###################\n",
    "\n",
    "filename_B = filefolder + 'ER-img/out-img75/'\n",
    "\n",
    "\n",
    "###############\n",
    "# SIGNAL FILE #\n",
    "###############\n",
    "\n",
    "# select the DM mass\n",
    "mDM = 500\n",
    "\n",
    "filename_S = filefolder + 'mDM' + str(mDM) + 'GeV-img/out-img75/'"
   ]
  },
  {
   "cell_type": "code",
   "execution_count": null,
   "metadata": {},
   "outputs": [],
   "source": []
  },
  {
   "cell_type": "code",
   "execution_count": 6,
   "metadata": {},
   "outputs": [],
   "source": [
    "from keras import backend as K\n",
    "np.random.seed(0)\n",
    "\n",
    "# Define recall, precision and f1 functions\n",
    "def recall_m(y_true, y_pred):\n",
    "    true_positives = K.sum(K.round(K.clip(y_true * y_pred, 0, 1)))\n",
    "    possible_positives = K.sum(K.round(K.clip(y_true, 0, 1)))\n",
    "    recall = true_positives / (possible_positives + K.epsilon())\n",
    "    return recall\n",
    "\n",
    "def precision_m(y_true, y_pred):\n",
    "    true_positives = K.sum(K.round(K.clip(y_true * y_pred, 0, 1)))\n",
    "    predicted_positives = K.sum(K.round(K.clip(y_pred, 0, 1)))\n",
    "    precision = true_positives / (predicted_positives + K.epsilon())\n",
    "    return precision\n",
    "\n",
    "def f1_m(y_true, y_pred):\n",
    "    precision = precision_m(y_true, y_pred)\n",
    "    recall = recall_m(y_true, y_pred)\n",
    "    return 2*((precision*recall)/(precision+recall+K.epsilon()))"
   ]
  },
  {
   "cell_type": "code",
   "execution_count": null,
   "metadata": {},
   "outputs": [],
   "source": []
  },
  {
   "cell_type": "markdown",
   "metadata": {},
   "source": [
    "##### TEST-VAL SET"
   ]
  },
  {
   "cell_type": "code",
   "execution_count": 8,
   "metadata": {},
   "outputs": [
    {
     "name": "stdout",
     "output_type": "stream",
     "text": [
      "(75, 75, 4)\n",
      "(75, 75, 4)\n",
      "(75, 75, 4)\n",
      "(75, 75, 4)\n"
     ]
    }
   ],
   "source": [
    "# test\n",
    "from PIL import Image\n",
    "\n",
    "for i in range(2):\n",
    "    img = Image.open( filename_S + 'WP' + str(i) + '.png' )\n",
    "    data = np.asarray( img, dtype=\"int32\" )\n",
    "    print(data.shape)\n",
    "    \n",
    "for i in range(2):\n",
    "    img = Image.open( filename_B + 'ER' + str(i) + '.png' )\n",
    "    data = np.asarray( img, dtype=\"int32\" )\n",
    "    print(data.shape)"
   ]
  },
  {
   "cell_type": "code",
   "execution_count": 11,
   "metadata": {},
   "outputs": [
    {
     "name": "stdout",
     "output_type": "stream",
     "text": [
      "images.shape:  (20000, 75, 75, 4)\n",
      "labels.shape:  (20000,)\n",
      "[75 75  4]\n"
     ]
    }
   ],
   "source": [
    "##########\n",
    "# SIGNAL #\n",
    "##########\n",
    "num_signal = 10000\n",
    "\n",
    "file_pathsWP = glob.glob(path.join(filename_S, 'WP*.png'))\n",
    "\n",
    "# Load the images into a single variable and convert to a numpy array\n",
    "imagesWP = [imageio.imread(file_pathsWP[jj]) for jj in range(num_signal)]\n",
    "imagesWP = np.asarray(imagesWP)\n",
    "\n",
    "labelsWP = np.ones(num_signal)\n",
    "\n",
    "\n",
    "##############\n",
    "# BACKGROUND #\n",
    "##############\n",
    "num_back = 10000\n",
    "\n",
    "file_pathsER = glob.glob(path.join(filename_B, 'ER*.png'))\n",
    "\n",
    "# Load the images into a single variable and convert to a numpy array\n",
    "imagesER = [imageio.imread(file_pathsER[jj]) for jj in range(num_back)]\n",
    "imagesER = np.asarray(imagesER)\n",
    "\n",
    "labelsER = np.zeros(num_back)\n",
    "\n",
    "\n",
    "\n",
    "images = np.concatenate([imagesWP,imagesER])\n",
    "del imagesWP\n",
    "del imagesER\n",
    "\n",
    "labels = np.concatenate([labelsWP,labelsER])\n",
    "del labelsWP\n",
    "del labelsER\n",
    "\n",
    "\n",
    "\n",
    "print('images.shape: ', images.shape)\n",
    "print('labels.shape: ', labels.shape)\n",
    "\n",
    "# Get image size\n",
    "image_size = np.asarray([images.shape[1], images.shape[2], images.shape[3]])\n",
    "print(image_size)\n",
    "\n",
    "# Scale images so values are between 0 and 1\n",
    "images = images / 255\n",
    "\n",
    "n_images = images.shape[0]"
   ]
  },
  {
   "cell_type": "code",
   "execution_count": 12,
   "metadata": {},
   "outputs": [
    {
     "name": "stdout",
     "output_type": "stream",
     "text": [
      "(14000, 75, 75, 4)\n",
      "(14000,)\n",
      "(6000, 75, 75, 4)\n",
      "(6000,)\n"
     ]
    }
   ],
   "source": [
    "# Split into test and training sets\n",
    "\n",
    "TRAIN_TEST_SPLIT = 0.7            \n",
    "\n",
    "# Split at the given index\n",
    "split_index = int(TRAIN_TEST_SPLIT * n_images)\n",
    "shuffled_indices = np.random.permutation(n_images)\n",
    "train_indices = shuffled_indices[0:split_index]\n",
    "test_indices = shuffled_indices[split_index:]\n",
    "\n",
    "# Split the images and the labels\n",
    "x_train = images[train_indices, :, :, :]\n",
    "y_train = labels[train_indices]\n",
    "x_val = images[test_indices, :, :, :]\n",
    "y_val = labels[test_indices]\n",
    "\n",
    "#x_train = images\n",
    "#y_train = labels\n",
    "\n",
    "print(x_train.shape)\n",
    "print(y_train.shape)\n",
    "print(x_val.shape)\n",
    "print(y_val.shape)"
   ]
  },
  {
   "cell_type": "markdown",
   "metadata": {},
   "source": [
    "##### TRAIN THE MODEL"
   ]
  },
  {
   "cell_type": "code",
   "execution_count": 22,
   "metadata": {},
   "outputs": [
    {
     "name": "stdout",
     "output_type": "stream",
     "text": [
      "Epoch 1/50\n",
      "140/140 [==============================] - 15s 103ms/step - loss: 1.8174 - acc: 0.5820 - f1_m: 0.5841 - precision_m: 0.5814 - recall_m: 0.6379 - val_loss: 0.6075 - val_acc: 0.7622 - val_f1_m: 0.7537 - val_precision_m: 0.7862 - val_recall_m: 0.7272\n",
      "Epoch 2/50\n",
      "140/140 [==============================] - 15s 104ms/step - loss: 0.6113 - acc: 0.7562 - f1_m: 0.7614 - precision_m: 0.7470 - recall_m: 0.7841 - val_loss: 0.5730 - val_acc: 0.7815 - val_f1_m: 0.7688 - val_precision_m: 0.8209 - val_recall_m: 0.7258\n",
      "Epoch 3/50\n",
      "140/140 [==============================] - 15s 104ms/step - loss: 0.5782 - acc: 0.7774 - f1_m: 0.7738 - precision_m: 0.7800 - recall_m: 0.7783 - val_loss: 0.5369 - val_acc: 0.8018 - val_f1_m: 0.8113 - val_precision_m: 0.7769 - val_recall_m: 0.8519\n",
      "Epoch 4/50\n",
      "140/140 [==============================] - 15s 105ms/step - loss: 0.5661 - acc: 0.7798 - f1_m: 0.7783 - precision_m: 0.7801 - recall_m: 0.7869 - val_loss: 0.5355 - val_acc: 0.8043 - val_f1_m: 0.8020 - val_precision_m: 0.8163 - val_recall_m: 0.7911\n",
      "Epoch 5/50\n",
      "140/140 [==============================] - 14s 102ms/step - loss: 0.5627 - acc: 0.7831 - f1_m: 0.7831 - precision_m: 0.7792 - recall_m: 0.7954 - val_loss: 0.5139 - val_acc: 0.8160 - val_f1_m: 0.8209 - val_precision_m: 0.8026 - val_recall_m: 0.8427\n",
      "Epoch 6/50\n",
      "140/140 [==============================] - 14s 102ms/step - loss: 0.5386 - acc: 0.7951 - f1_m: 0.7965 - precision_m: 0.7884 - recall_m: 0.8113 - val_loss: 0.5369 - val_acc: 0.8118 - val_f1_m: 0.8092 - val_precision_m: 0.8223 - val_recall_m: 0.7993\n",
      "Epoch 7/50\n",
      "140/140 [==============================] - 14s 102ms/step - loss: 0.5436 - acc: 0.8009 - f1_m: 0.8053 - precision_m: 0.7923 - recall_m: 0.8245 - val_loss: 0.5070 - val_acc: 0.8210 - val_f1_m: 0.8295 - val_precision_m: 0.7935 - val_recall_m: 0.8722\n",
      "Epoch 8/50\n",
      "140/140 [==============================] - 14s 102ms/step - loss: 0.5316 - acc: 0.8012 - f1_m: 0.8049 - precision_m: 0.7933 - recall_m: 0.8241 - val_loss: 0.5087 - val_acc: 0.8255 - val_f1_m: 0.8347 - val_precision_m: 0.7953 - val_recall_m: 0.8811\n",
      "Epoch 9/50\n",
      "140/140 [==============================] - 15s 104ms/step - loss: 0.5292 - acc: 0.8117 - f1_m: 0.8128 - precision_m: 0.8019 - recall_m: 0.8311 - val_loss: 0.5222 - val_acc: 0.8172 - val_f1_m: 0.8297 - val_precision_m: 0.7786 - val_recall_m: 0.8910\n",
      "Epoch 10/50\n",
      "140/140 [==============================] - 14s 103ms/step - loss: 0.5326 - acc: 0.8096 - f1_m: 0.8122 - precision_m: 0.8000 - recall_m: 0.8321 - val_loss: 0.5094 - val_acc: 0.8130 - val_f1_m: 0.8087 - val_precision_m: 0.8322 - val_recall_m: 0.7892\n",
      "Epoch 11/50\n",
      "140/140 [==============================] - 15s 104ms/step - loss: 0.5321 - acc: 0.8026 - f1_m: 0.8006 - precision_m: 0.7987 - recall_m: 0.8140 - val_loss: 0.5260 - val_acc: 0.8108 - val_f1_m: 0.8288 - val_precision_m: 0.7590 - val_recall_m: 0.9154\n",
      "Epoch 12/50\n",
      "140/140 [==============================] - 14s 101ms/step - loss: 0.5314 - acc: 0.8059 - f1_m: 0.8079 - precision_m: 0.7952 - recall_m: 0.8328 - val_loss: 0.5067 - val_acc: 0.8245 - val_f1_m: 0.8312 - val_precision_m: 0.8035 - val_recall_m: 0.8637\n",
      "Epoch 13/50\n",
      "140/140 [==============================] - 14s 102ms/step - loss: 0.5241 - acc: 0.8109 - f1_m: 0.8140 - precision_m: 0.7984 - recall_m: 0.8377 - val_loss: 0.5011 - val_acc: 0.8193 - val_f1_m: 0.8179 - val_precision_m: 0.8285 - val_recall_m: 0.8102\n",
      "Epoch 14/50\n",
      "140/140 [==============================] - 14s 102ms/step - loss: 0.5150 - acc: 0.8158 - f1_m: 0.8144 - precision_m: 0.8065 - recall_m: 0.8284 - val_loss: 0.5122 - val_acc: 0.8067 - val_f1_m: 0.7947 - val_precision_m: 0.8498 - val_recall_m: 0.7489\n",
      "Epoch 15/50\n",
      "140/140 [==============================] - 14s 103ms/step - loss: 0.5202 - acc: 0.8080 - f1_m: 0.8042 - precision_m: 0.7985 - recall_m: 0.8179 - val_loss: 0.5110 - val_acc: 0.8163 - val_f1_m: 0.8166 - val_precision_m: 0.8208 - val_recall_m: 0.8150\n",
      "Epoch 16/50\n",
      "140/140 [==============================] - 14s 104ms/step - loss: 0.5321 - acc: 0.8075 - f1_m: 0.8078 - precision_m: 0.7969 - recall_m: 0.8272 - val_loss: 0.5029 - val_acc: 0.8167 - val_f1_m: 0.8117 - val_precision_m: 0.8393 - val_recall_m: 0.7883\n",
      "Epoch 17/50\n",
      "140/140 [==============================] - 15s 104ms/step - loss: 0.5134 - acc: 0.8198 - f1_m: 0.8194 - precision_m: 0.8096 - recall_m: 0.8356 - val_loss: 0.5328 - val_acc: 0.8115 - val_f1_m: 0.8288 - val_precision_m: 0.7618 - val_recall_m: 0.9120\n",
      "Epoch 18/50\n",
      "140/140 [==============================] - 14s 102ms/step - loss: 0.5175 - acc: 0.8100 - f1_m: 0.8117 - precision_m: 0.8024 - recall_m: 0.8311 - val_loss: 0.5098 - val_acc: 0.8245 - val_f1_m: 0.8315 - val_precision_m: 0.8031 - val_recall_m: 0.8646\n",
      "Epoch 19/50\n",
      "140/140 [==============================] - 14s 103ms/step - loss: 0.5308 - acc: 0.8026 - f1_m: 0.8045 - precision_m: 0.7935 - recall_m: 0.8236 - val_loss: 0.5124 - val_acc: 0.8245 - val_f1_m: 0.8381 - val_precision_m: 0.7800 - val_recall_m: 0.9085\n",
      "Epoch 20/50\n",
      "140/140 [==============================] - 14s 102ms/step - loss: 0.5124 - acc: 0.8189 - f1_m: 0.8195 - precision_m: 0.8051 - recall_m: 0.8435 - val_loss: 0.4862 - val_acc: 0.8307 - val_f1_m: 0.8324 - val_precision_m: 0.8295 - val_recall_m: 0.8379\n",
      "Epoch 21/50\n",
      "140/140 [==============================] - 15s 105ms/step - loss: 0.5171 - acc: 0.8127 - f1_m: 0.8122 - precision_m: 0.8081 - recall_m: 0.8254 - val_loss: 0.5850 - val_acc: 0.8110 - val_f1_m: 0.8201 - val_precision_m: 0.7849 - val_recall_m: 0.8612\n",
      "Epoch 22/50\n",
      "140/140 [==============================] - 15s 104ms/step - loss: 0.5711 - acc: 0.7949 - f1_m: 0.7956 - precision_m: 0.7896 - recall_m: 0.8123 - val_loss: 0.4984 - val_acc: 0.8242 - val_f1_m: 0.8269 - val_precision_m: 0.8185 - val_recall_m: 0.8381\n",
      "Epoch 23/50\n",
      "140/140 [==============================] - 15s 105ms/step - loss: 0.5142 - acc: 0.8120 - f1_m: 0.8116 - precision_m: 0.8013 - recall_m: 0.8296 - val_loss: 0.5071 - val_acc: 0.8225 - val_f1_m: 0.8354 - val_precision_m: 0.7808 - val_recall_m: 0.9008\n",
      "Epoch 24/50\n",
      "140/140 [==============================] - 14s 104ms/step - loss: 0.5159 - acc: 0.8174 - f1_m: 0.8228 - precision_m: 0.8088 - recall_m: 0.8437 - val_loss: 0.4845 - val_acc: 0.8310 - val_f1_m: 0.8395 - val_precision_m: 0.8029 - val_recall_m: 0.8825\n",
      "Epoch 25/50\n",
      "140/140 [==============================] - 15s 104ms/step - loss: 0.5014 - acc: 0.8193 - f1_m: 0.8228 - precision_m: 0.8082 - recall_m: 0.8446 - val_loss: 0.4905 - val_acc: 0.8308 - val_f1_m: 0.8371 - val_precision_m: 0.8088 - val_recall_m: 0.8699\n",
      "Epoch 26/50\n",
      "140/140 [==============================] - 14s 104ms/step - loss: 0.5104 - acc: 0.8180 - f1_m: 0.8174 - precision_m: 0.8089 - recall_m: 0.8359 - val_loss: 0.5035 - val_acc: 0.8217 - val_f1_m: 0.8328 - val_precision_m: 0.7855 - val_recall_m: 0.8889\n",
      "Epoch 27/50\n",
      "140/140 [==============================] - 14s 103ms/step - loss: 0.5148 - acc: 0.8201 - f1_m: 0.8198 - precision_m: 0.8123 - recall_m: 0.8356 - val_loss: 0.4935 - val_acc: 0.8312 - val_f1_m: 0.8344 - val_precision_m: 0.8236 - val_recall_m: 0.8481\n",
      "Epoch 28/50\n",
      "140/140 [==============================] - 15s 104ms/step - loss: 0.5039 - acc: 0.8196 - f1_m: 0.8188 - precision_m: 0.8088 - recall_m: 0.8349 - val_loss: 0.5155 - val_acc: 0.8165 - val_f1_m: 0.8097 - val_precision_m: 0.8481 - val_recall_m: 0.7767\n",
      "Epoch 29/50\n",
      "140/140 [==============================] - 14s 103ms/step - loss: 0.5198 - acc: 0.8157 - f1_m: 0.8180 - precision_m: 0.8057 - recall_m: 0.8369 - val_loss: 0.4988 - val_acc: 0.8282 - val_f1_m: 0.8308 - val_precision_m: 0.8225 - val_recall_m: 0.8422\n",
      "Epoch 30/50\n",
      "140/140 [==============================] - 14s 103ms/step - loss: 0.4983 - acc: 0.8251 - f1_m: 0.8269 - precision_m: 0.8153 - recall_m: 0.8442 - val_loss: 0.4879 - val_acc: 0.8302 - val_f1_m: 0.8390 - val_precision_m: 0.7997 - val_recall_m: 0.8850\n",
      "Epoch 31/50\n",
      "140/140 [==============================] - 14s 104ms/step - loss: 0.5119 - acc: 0.8154 - f1_m: 0.8194 - precision_m: 0.8064 - recall_m: 0.8416 - val_loss: 0.4961 - val_acc: 0.8208 - val_f1_m: 0.8152 - val_precision_m: 0.8466 - val_recall_m: 0.7884\n",
      "Epoch 32/50\n"
     ]
    },
    {
     "name": "stdout",
     "output_type": "stream",
     "text": [
      "140/140 [==============================] - 14s 103ms/step - loss: 0.4996 - acc: 0.8232 - f1_m: 0.8203 - precision_m: 0.8169 - recall_m: 0.8313 - val_loss: 0.4986 - val_acc: 0.8178 - val_f1_m: 0.8142 - val_precision_m: 0.8360 - val_recall_m: 0.7961\n",
      "Epoch 33/50\n",
      "140/140 [==============================] - 14s 103ms/step - loss: 0.4953 - acc: 0.8234 - f1_m: 0.8238 - precision_m: 0.8116 - recall_m: 0.8422 - val_loss: 0.5206 - val_acc: 0.8167 - val_f1_m: 0.8336 - val_precision_m: 0.7664 - val_recall_m: 0.9173\n",
      "Epoch 34/50\n",
      "140/140 [==============================] - 15s 104ms/step - loss: 0.5234 - acc: 0.8134 - f1_m: 0.8145 - precision_m: 0.7992 - recall_m: 0.8383 - val_loss: 0.4888 - val_acc: 0.8298 - val_f1_m: 0.8334 - val_precision_m: 0.8213 - val_recall_m: 0.8486\n",
      "Epoch 35/50\n",
      "140/140 [==============================] - 14s 102ms/step - loss: 0.5272 - acc: 0.8151 - f1_m: 0.8139 - precision_m: 0.8087 - recall_m: 0.8305 - val_loss: 0.5065 - val_acc: 0.8227 - val_f1_m: 0.8221 - val_precision_m: 0.8302 - val_recall_m: 0.8167\n",
      "Epoch 36/50\n",
      "140/140 [==============================] - 14s 100ms/step - loss: 0.5064 - acc: 0.8265 - f1_m: 0.8282 - precision_m: 0.8184 - recall_m: 0.8433 - val_loss: 0.5082 - val_acc: 0.8085 - val_f1_m: 0.7952 - val_precision_m: 0.8601 - val_recall_m: 0.7417\n",
      "Epoch 37/50\n",
      "140/140 [==============================] - 14s 100ms/step - loss: 0.4880 - acc: 0.8305 - f1_m: 0.8300 - precision_m: 0.8228 - recall_m: 0.8430 - val_loss: 0.5036 - val_acc: 0.8225 - val_f1_m: 0.8240 - val_precision_m: 0.8229 - val_recall_m: 0.8279\n",
      "Epoch 38/50\n",
      "140/140 [==============================] - 14s 100ms/step - loss: 0.4935 - acc: 0.8278 - f1_m: 0.8281 - precision_m: 0.8188 - recall_m: 0.8446 - val_loss: 0.5063 - val_acc: 0.8258 - val_f1_m: 0.8262 - val_precision_m: 0.8293 - val_recall_m: 0.8253\n",
      "Epoch 39/50\n",
      "140/140 [==============================] - 14s 102ms/step - loss: 0.5018 - acc: 0.8293 - f1_m: 0.8265 - precision_m: 0.8207 - recall_m: 0.8381 - val_loss: 0.4900 - val_acc: 0.8298 - val_f1_m: 0.8379 - val_precision_m: 0.8035 - val_recall_m: 0.8781\n",
      "Epoch 40/50\n",
      "140/140 [==============================] - 14s 103ms/step - loss: 0.4989 - acc: 0.8262 - f1_m: 0.8251 - precision_m: 0.8120 - recall_m: 0.8448 - val_loss: 0.4916 - val_acc: 0.8257 - val_f1_m: 0.8200 - val_precision_m: 0.8533 - val_recall_m: 0.7913\n",
      "Epoch 41/50\n",
      "140/140 [==============================] - 15s 104ms/step - loss: 0.4943 - acc: 0.8303 - f1_m: 0.8302 - precision_m: 0.8239 - recall_m: 0.8462 - val_loss: 0.4967 - val_acc: 0.8182 - val_f1_m: 0.8118 - val_precision_m: 0.8446 - val_recall_m: 0.7835\n",
      "Epoch 42/50\n",
      "140/140 [==============================] - 15s 104ms/step - loss: 0.4929 - acc: 0.8204 - f1_m: 0.8229 - precision_m: 0.8108 - recall_m: 0.8444 - val_loss: 0.4900 - val_acc: 0.8293 - val_f1_m: 0.8388 - val_precision_m: 0.7967 - val_recall_m: 0.8887\n",
      "Epoch 43/50\n",
      "140/140 [==============================] - 15s 104ms/step - loss: 0.4984 - acc: 0.8278 - f1_m: 0.8280 - precision_m: 0.8200 - recall_m: 0.8446 - val_loss: 0.4853 - val_acc: 0.8328 - val_f1_m: 0.8429 - val_precision_m: 0.7966 - val_recall_m: 0.8977\n",
      "Epoch 44/50\n",
      "140/140 [==============================] - 15s 105ms/step - loss: 0.4932 - acc: 0.8257 - f1_m: 0.8266 - precision_m: 0.8157 - recall_m: 0.8464 - val_loss: 0.5591 - val_acc: 0.7828 - val_f1_m: 0.7503 - val_precision_m: 0.8856 - val_recall_m: 0.6531\n",
      "Epoch 45/50\n",
      "140/140 [==============================] - 15s 104ms/step - loss: 0.4973 - acc: 0.8199 - f1_m: 0.8184 - precision_m: 0.8120 - recall_m: 0.8334 - val_loss: 0.4889 - val_acc: 0.8293 - val_f1_m: 0.8292 - val_precision_m: 0.8320 - val_recall_m: 0.8289\n",
      "Epoch 46/50\n",
      "140/140 [==============================] - 14s 103ms/step - loss: 0.4995 - acc: 0.8276 - f1_m: 0.8256 - precision_m: 0.8159 - recall_m: 0.8439 - val_loss: 0.5443 - val_acc: 0.7852 - val_f1_m: 0.7607 - val_precision_m: 0.8624 - val_recall_m: 0.6830\n",
      "Epoch 47/50\n",
      "140/140 [==============================] - 14s 102ms/step - loss: 0.4997 - acc: 0.8300 - f1_m: 0.8315 - precision_m: 0.8247 - recall_m: 0.8444 - val_loss: 0.4939 - val_acc: 0.8203 - val_f1_m: 0.8112 - val_precision_m: 0.8597 - val_recall_m: 0.7704\n",
      "Epoch 48/50\n",
      "140/140 [==============================] - 14s 101ms/step - loss: 0.4766 - acc: 0.8364 - f1_m: 0.8364 - precision_m: 0.8252 - recall_m: 0.8533 - val_loss: 0.4948 - val_acc: 0.8257 - val_f1_m: 0.8392 - val_precision_m: 0.7814 - val_recall_m: 0.9090\n",
      "Epoch 49/50\n",
      "140/140 [==============================] - 14s 102ms/step - loss: 0.4758 - acc: 0.8325 - f1_m: 0.8346 - precision_m: 0.8197 - recall_m: 0.8556 - val_loss: 0.4971 - val_acc: 0.8192 - val_f1_m: 0.8126 - val_precision_m: 0.8498 - val_recall_m: 0.7811\n",
      "Epoch 50/50\n",
      "140/140 [==============================] - 14s 103ms/step - loss: 0.5030 - acc: 0.8225 - f1_m: 0.8240 - precision_m: 0.8168 - recall_m: 0.8394 - val_loss: 0.5118 - val_acc: 0.8222 - val_f1_m: 0.8309 - val_precision_m: 0.7948 - val_recall_m: 0.8735\n",
      "188/188 [==============================] - 1s 6ms/step - loss: 0.5118 - acc: 0.8222 - f1_m: 0.8274 - precision_m: 0.7935 - recall_m: 0.8732\n",
      "Test loss: 0.5117782354354858\n",
      "Test accuracy: 0.8221666812896729\n",
      "Test f1: 0.8273605108261108\n",
      "Test precision: 0.7934516072273254\n",
      "Test recall: 0.8731736540794373\n"
     ]
    }
   ],
   "source": [
    "# 1 conv layer / 100 bs / 50 epoch HitPeak images\n",
    "def CNN_model():\n",
    "    shape = (image_size[0], image_size[1], image_size[2])\n",
    "    model = Sequential()\n",
    "    \n",
    "    # 1 conv layer\n",
    "    model.add(Conv2D(16, (3,3), strides = (1,1), input_shape=shape,kernel_regularizer=l2(0.005)))\n",
    "    model.add(keras.layers.LeakyReLU(alpha=0.05))\n",
    "    model.add(MaxPooling2D(pool_size=(2, 2), strides = (1,1)))\n",
    "\n",
    "    # 2 conv layers\n",
    "    #model.add(Conv2D(16,(3,3),kernel_regularizer=l2(0.005)))\n",
    "    #model.add(keras.layers.LeakyReLU(alpha=0.05))\n",
    "    #model.add(MaxPooling2D(pool_size=(2, 2)))\n",
    "\n",
    "    # 3 conv layers\n",
    "    #model.add(Conv2D(16,(3,3),kernel_regularizer=l2(0.005)))\n",
    "    #model.add(keras.layers.LeakyReLU(alpha=0.05))\n",
    "    #model.add(MaxPooling2D(pool_size=(2, 2)))\n",
    "    \n",
    "    model.add(Dropout(0.25)) \n",
    "    model.add(Flatten())\n",
    "\n",
    "    model.add(Dense(32, bias_regularizer=regularizers.l2(0.001),kernel_regularizer=regularizers.l2(0.001)))\n",
    "    model.add(keras.layers.LeakyReLU(alpha=0.05))    \n",
    "    model.add(Dropout(0.5)) \n",
    "\n",
    "    # Output layer\n",
    "    model.add(Dense(1))\n",
    "    model.add(Activation('sigmoid'))\n",
    "\n",
    "    # Compile the model\n",
    "    model.compile(loss='binary_crossentropy',\n",
    "                    optimizer='adam',\n",
    "                    metrics=['acc', f1_m, precision_m, recall_m])\n",
    "    return model\n",
    "\n",
    "# def run_CNN():\n",
    "model = CNN_model()\n",
    "model.fit(x_train, y_train, epochs=50, batch_size=100, verbose=1, validation_data=(x_val, y_val))\n",
    "#model.save(model_name)\n",
    "#model.save_weights('final_weights.h5')\n",
    "score = model.evaluate(x_val, y_val, verbose=1)\n",
    "print('Test loss:', score[0])\n",
    "print('Test accuracy:', score[1])\n",
    "print('Test f1:', score[2])\n",
    "print('Test precision:', score[3])\n",
    "print('Test recall:', score[4])\n",
    "\n",
    "# run_CNN()"
   ]
  },
  {
   "cell_type": "markdown",
   "metadata": {},
   "source": [
    "##### TESTSET"
   ]
  },
  {
   "cell_type": "code",
   "execution_count": 23,
   "metadata": {},
   "outputs": [
    {
     "name": "stdout",
     "output_type": "stream",
     "text": [
      "images_test.shape:  (10000, 75, 75, 4)\n",
      "labels_test.shape:  (10000,)\n",
      "[75 75  4]\n"
     ]
    }
   ],
   "source": [
    "##########\n",
    "# SIGNAL #\n",
    "##########\n",
    "num_signal_test = 5000\n",
    "\n",
    "file_pathsWP = glob.glob(path.join(filename_S, 'WP*.png'))\n",
    "\n",
    "# Load the images into a single variable and convert to a numpy array\n",
    "imagesWP = [imageio.imread(file_pathsWP[jj]) for jj in range(num_signal,num_signal+num_signal_test)]\n",
    "imagesWP = np.asarray(imagesWP)\n",
    "\n",
    "labelsWP = np.ones(num_signal_test)\n",
    "\n",
    "\n",
    "##############\n",
    "# BACKGROUND #\n",
    "##############\n",
    "num_back_test = 5000\n",
    "\n",
    "file_pathsER = glob.glob(path.join(filename_B, 'ER*.png'))\n",
    "\n",
    "# Load the images into a single variable and convert to a numpy array\n",
    "imagesER = [imageio.imread(file_pathsER[jj]) for jj in range(num_back,num_back+num_back_test)]\n",
    "imagesER = np.asarray(imagesER)\n",
    "\n",
    "labelsER = np.zeros(num_back_test)\n",
    "\n",
    "\n",
    "\n",
    "images_test = np.concatenate([imagesWP,imagesER])\n",
    "del imagesWP\n",
    "del imagesER\n",
    "\n",
    "labels_test = np.concatenate([labelsWP,labelsER])\n",
    "del labelsWP\n",
    "del labelsER\n",
    "\n",
    "\n",
    "print('images_test.shape: ', images_test.shape)\n",
    "print('labels_test.shape: ', labels_test.shape)\n",
    "\n",
    "# Get image size\n",
    "image_size_test = np.asarray([images_test.shape[1], images_test.shape[2], images_test.shape[3]])\n",
    "print(image_size_test)\n",
    "\n",
    "# Scale images so values are between 0 and 1\n",
    "images_test = images_test / 255\n",
    "\n",
    "n_images_test = images_test.shape[0]\n",
    "\n",
    "\n",
    "\n",
    "x_test = images_test\n",
    "del images_test\n",
    "\n",
    "y_test = labels_test\n",
    "del labels_test"
   ]
  },
  {
   "cell_type": "code",
   "execution_count": 24,
   "metadata": {
    "scrolled": false
   },
   "outputs": [
    {
     "name": "stdout",
     "output_type": "stream",
     "text": [
      "313/313 [==============================] - 2s 7ms/step - loss: 0.5025 - acc: 0.8288 - f1_m: 0.4682 - precision_m: 0.5001 - recall_m: 0.4415\n",
      "acc: 82.88%\n"
     ]
    },
    {
     "name": "stderr",
     "output_type": "stream",
     "text": [
      "/home/andres/anaconda3/lib/python3.8/site-packages/keras/engine/sequential.py:425: UserWarning: `model.predict_proba()` is deprecated and will be removed after 2021-01-01. Please use `model.predict()` instead.\n",
      "  warnings.warn('`model.predict_proba()` is deprecated and '\n"
     ]
    },
    {
     "name": "stdout",
     "output_type": "stream",
     "text": [
      "Logistic: f1=0.837 auc=0.9058808\n"
     ]
    },
    {
     "data": {
      "image/png": "[encoded data removed]",
      "text/plain": [
       "<Figure size 432x288 with 1 Axes>"
      ]
     },
     "metadata": {
      "needs_background": "light"
     },
     "output_type": "display_data"
    },
    {
     "name": "stdout",
     "output_type": "stream",
     "text": [
      "Accuracy: 0.8288\n",
      "Average precision: 0.7624317736670294\n",
      "recall: 0.8802\n",
      "AUC:0.8691250816104462\n",
      "Predicted   0.0   1.0\n",
      "Actual               \n",
      "0.0        3887  1113\n",
      "1.0         599  4401\n"
     ]
    },
    {
     "data": {
      "image/png": "[encoded data removed]",
      "text/plain": [
       "<Figure size 288x288 with 2 Axes>"
      ]
     },
     "metadata": {
      "needs_background": "light"
     },
     "output_type": "display_data"
    },
    {
     "data": {
      "image/png": "[encoded data removed]",
      "text/plain": [
       "<Figure size 432x288 with 1 Axes>"
      ]
     },
     "metadata": {
      "needs_background": "light"
     },
     "output_type": "display_data"
    },
    {
     "name": "stdout",
     "output_type": "stream",
     "text": [
      "ROC AUC:  0.91178416\n"
     ]
    }
   ],
   "source": [
    "##########################\n",
    "# TEST WITH THE TEST SET #\n",
    "##########################\n",
    "\n",
    "# dependencies = {\n",
    "#     'f1_m' : f1_m, \n",
    "#     'precision_m' : precision_m,\n",
    "#     'recall_m': recall_m,\n",
    "# }\n",
    "\n",
    "# model = keras.models.load_model(model_name, custom_objects=dependencies)\n",
    "\n",
    "# model.summary()\n",
    "\n",
    "\n",
    "\n",
    "score = model.evaluate(x_test, y_test, verbose=1)\n",
    "print(\"%s: %.2f%%\" % (model.metrics_names[1], score[1]*100))\n",
    "\n",
    "\n",
    "from sklearn.datasets import make_classification\n",
    "from sklearn.linear_model import LogisticRegression\n",
    "from sklearn.model_selection import train_test_split\n",
    "from sklearn.metrics import precision_recall_curve\n",
    "from sklearn.metrics import f1_score\n",
    "from sklearn.metrics import auc\n",
    "from matplotlib import pyplot\n",
    "\n",
    "\n",
    "lr_probs = model.predict_proba(x_test)    # Predict probabilities\n",
    "yhat = model.predict(x_test)      # Predict class values\n",
    "yhat_original = yhat\n",
    "yhat = np.round(yhat)\n",
    "lr_precision, lr_recall, _ = precision_recall_curve(y_test, lr_probs)\n",
    "lr_f1, lr_auc = f1_score(y_test, yhat), auc(lr_recall, lr_precision)\n",
    "print('Logistic: f1=%.3f auc=%.7f' % (lr_f1, lr_auc))   # Summarise scores\n",
    "''' plot the precision-recall curves '''\n",
    "no_skill = len(y_test[y_test==1]) / len(y_test)\n",
    "pyplot.plot(lr_recall, lr_precision, 'r-', label='F1 = %0.2f' %(lr_f1))\n",
    "pyplot.xlabel('Recall')\n",
    "pyplot.ylabel('Precision')\n",
    "pyplot.legend(loc='lower left')\n",
    "plt.title('Precision-Recall (PR) Curve')\n",
    "pyplot.show()\n",
    "\n",
    "## Save precision and recall data to plot PR curve seperately\n",
    "#np.savetxt(\"/content/drive/My Drive/Colab Notebooks/precision_HP.txt\",lr_precision)\n",
    "#np.savetxt(\"/content/drive/My Drive/Colab Notebooks/recall_HP.txt\",lr_recall)\n",
    "\n",
    "\n",
    "test_predictions = yhat             # Make a prediction on the test set\n",
    "accuracy = accuracy_score(y_test, test_predictions)\n",
    "print(\"Accuracy: \" + str(accuracy))\n",
    "average_precision = average_precision_score(y_test, test_predictions)\n",
    "print(\"Average precision: \" + str(average_precision))\n",
    "\n",
    "from sklearn.metrics import precision_recall_curve\n",
    "\n",
    "precision, recall, threshold = precision_recall_curve(y_test, test_predictions)\n",
    "auc = auc(recall, precision)\n",
    "recall1 = recall_score(y_test, np.round(test_predictions))\n",
    "print(\"recall: \" + str(recall1))\n",
    "print('AUC:' +str(auc))\n",
    "\n",
    "\n",
    "# Report Confusion Matrix\n",
    "y_actu = pd.Series(y_test.ravel(), name='Actual')\n",
    "y_pred = pd.Series(np.round(test_predictions.ravel()), name='Predicted')\n",
    "df_confusion = pd.crosstab(y_actu, y_pred)\n",
    "print(df_confusion)\n",
    "\n",
    "# Plot confusion matrix\n",
    "def plot_confusion_matrix(df_confusion, cmap='YlGn'):\n",
    "    plt.matshow(df_confusion, cmap=cmap) # imshow\n",
    "    plt.colorbar()\n",
    "    tick_marks = np.arange(0,len(df_confusion.columns))\n",
    "    plt.xticks(tick_marks, df_confusion.columns)\n",
    "    plt.yticks(tick_marks, df_confusion.index)\n",
    "    plt.ylabel(df_confusion.index.name)\n",
    "    plt.xlabel(df_confusion.columns.name)\n",
    "    for i in range(len(df_confusion.index)):\n",
    "        for j in range(len(df_confusion.columns)):\n",
    "            plt.text(j,i,str(df_confusion.iloc[i,j]))\n",
    "    plt.show()\n",
    "\n",
    "plot_confusion_matrix(df_confusion)\n",
    "\n",
    "from sklearn.metrics import roc_curve\n",
    "from sklearn.metrics import roc_auc_score\n",
    "\n",
    "def plot_roc_curve(fpr, tpr):\n",
    "    plt.plot(fpr, tpr, color='darkblue', label='AUC = %0.2f' %(auc))\n",
    "    plt.plot([0, 1], [0, 1], color='orange', linestyle='--')\n",
    "    plt.xlabel('False Positive Rate')\n",
    "    plt.ylabel('True Positive Rate')\n",
    "    plt.title('Receiver Operating Characteristic (ROC) Curve')\n",
    "    plt.legend()\n",
    "    plt.show()\n",
    "    \n",
    "    \n",
    "from sklearn.metrics import roc_curve, roc_auc_score, auc\n",
    "\n",
    "fpr, tpr, thresholds = roc_curve(y_test, yhat_original)\n",
    "auc = auc(fpr, tpr)\n",
    "# Save tpr and fpr to plot seperate ROC curve\n",
    "#np.savetxt(\"/content/drive/My Drive/Colab Notebooks/tpr.txt\",tpr)\n",
    "#np.savetxt(\"/content/drive/My Drive/Colab Notebooks/fpr.txt\",fpr)\n",
    "plot_roc_curve(fpr, tpr)\n",
    "\n",
    "print('ROC AUC: ', auc)"
   ]
  },
  {
   "cell_type": "code",
   "execution_count": null,
   "metadata": {},
   "outputs": [],
   "source": []
  },
  {
   "cell_type": "markdown",
   "metadata": {},
   "source": [
    "##### Test with the train set (just to see)"
   ]
  },
  {
   "cell_type": "code",
   "execution_count": 25,
   "metadata": {},
   "outputs": [],
   "source": [
    "##################################\n",
    "# USING TO TEST THE TRAINING SET # THIS IS WRONG! but to see\n",
    "##################################\n",
    "\n",
    "x_test2 = images\n",
    "y_test2 = labels"
   ]
  },
  {
   "cell_type": "code",
   "execution_count": 26,
   "metadata": {},
   "outputs": [
    {
     "name": "stdout",
     "output_type": "stream",
     "text": [
      "625/625 [==============================] - 4s 7ms/step - loss: 0.4886 - acc: 0.8349 - f1_m: 0.4697 - precision_m: 0.5005 - recall_m: 0.4434\n",
      "acc: 83.49%\n"
     ]
    },
    {
     "name": "stderr",
     "output_type": "stream",
     "text": [
      "/home/andres/anaconda3/lib/python3.8/site-packages/keras/engine/sequential.py:425: UserWarning: `model.predict_proba()` is deprecated and will be removed after 2021-01-01. Please use `model.predict()` instead.\n",
      "  warnings.warn('`model.predict_proba()` is deprecated and '\n"
     ]
    },
    {
     "name": "stdout",
     "output_type": "stream",
     "text": [
      "Logistic: f1=0.843 auc=0.9183301\n"
     ]
    },
    {
     "data": {
      "image/png": "[encoded data removed]",
      "text/plain": [
       "<Figure size 432x288 with 1 Axes>"
      ]
     },
     "metadata": {
      "needs_background": "light"
     },
     "output_type": "display_data"
    },
    {
     "name": "stdout",
     "output_type": "stream",
     "text": [
      "Accuracy: 0.83485\n",
      "Average precision: 0.7692915599164168\n",
      "recall: 0.8852\n",
      "AUC:0.8734077496138821\n",
      "Predicted   0.0   1.0\n",
      "Actual               \n",
      "0.0        7845  2155\n",
      "1.0        1148  8852\n"
     ]
    },
    {
     "data": {
      "image/png": "[encoded data removed]",
      "text/plain": [
       "<Figure size 288x288 with 2 Axes>"
      ]
     },
     "metadata": {
      "needs_background": "light"
     },
     "output_type": "display_data"
    },
    {
     "data": {
      "image/png": "[encoded data removed]",
      "text/plain": [
       "<Figure size 432x288 with 1 Axes>"
      ]
     },
     "metadata": {
      "needs_background": "light"
     },
     "output_type": "display_data"
    },
    {
     "name": "stdout",
     "output_type": "stream",
     "text": [
      "ROC AUC:  0.9214449\n"
     ]
    }
   ],
   "source": [
    "###########################\n",
    "# TEST WITH THE TRAIN SET # just to see\n",
    "###########################\n",
    "\n",
    "# dependencies = {\n",
    "#     'f1_m' : f1_m, \n",
    "#     'precision_m' : precision_m,\n",
    "#     'recall_m': recall_m,\n",
    "# }\n",
    "\n",
    "# model = keras.models.load_model(model_name, custom_objects=dependencies)\n",
    "\n",
    "# model.summary()\n",
    "\n",
    "\n",
    "\n",
    "score = model.evaluate(x_test2, y_test2, verbose=1)\n",
    "print(\"%s: %.2f%%\" % (model.metrics_names[1], score[1]*100))\n",
    "\n",
    "\n",
    "from sklearn.datasets import make_classification\n",
    "from sklearn.linear_model import LogisticRegression\n",
    "from sklearn.model_selection import train_test_split\n",
    "from sklearn.metrics import precision_recall_curve\n",
    "from sklearn.metrics import f1_score\n",
    "from sklearn.metrics import auc\n",
    "from matplotlib import pyplot\n",
    "\n",
    "\n",
    "lr_probs = model.predict_proba(x_test2)    # Predict probabilities\n",
    "yhat = model.predict(x_test2)      # Predict class values\n",
    "yhat_original = yhat\n",
    "yhat = np.round(yhat)\n",
    "lr_precision, lr_recall, _ = precision_recall_curve(y_test2, lr_probs)\n",
    "lr_f1, lr_auc = f1_score(y_test2, yhat), auc(lr_recall, lr_precision)\n",
    "print('Logistic: f1=%.3f auc=%.7f' % (lr_f1, lr_auc))   # Summarise scores\n",
    "''' plot the precision-recall curves '''\n",
    "no_skill = len(y_test2[y_test2==1]) / len(y_test2)\n",
    "pyplot.plot(lr_recall, lr_precision, 'r-', label='F1 = %0.2f' %(lr_f1))\n",
    "pyplot.xlabel('Recall')\n",
    "pyplot.ylabel('Precision')\n",
    "pyplot.legend(loc='lower left')\n",
    "plt.title('Precision-Recall (PR) Curve')\n",
    "pyplot.show()\n",
    "\n",
    "## Save precision and recall data to plot PR curve seperately\n",
    "#np.savetxt(\"/content/drive/My Drive/Colab Notebooks/precision_HP.txt\",lr_precision)\n",
    "#np.savetxt(\"/content/drive/My Drive/Colab Notebooks/recall_HP.txt\",lr_recall)\n",
    "\n",
    "\n",
    "test_predictions = yhat             # Make a prediction on the test set\n",
    "accuracy = accuracy_score(y_test2, test_predictions)\n",
    "print(\"Accuracy: \" + str(accuracy))\n",
    "average_precision = average_precision_score(y_test2, test_predictions)\n",
    "print(\"Average precision: \" + str(average_precision))\n",
    "\n",
    "from sklearn.metrics import precision_recall_curve\n",
    "\n",
    "precision, recall, threshold = precision_recall_curve(y_test2, test_predictions)\n",
    "auc = auc(recall, precision)\n",
    "recall1 = recall_score(y_test2, np.round(test_predictions))\n",
    "print(\"recall: \" + str(recall1))\n",
    "print('AUC:' +str(auc))\n",
    "\n",
    "\n",
    "# Report Confusion Matrix\n",
    "y_actu = pd.Series(y_test2.ravel(), name='Actual')\n",
    "y_pred = pd.Series(np.round(test_predictions.ravel()), name='Predicted')\n",
    "df_confusion = pd.crosstab(y_actu, y_pred)\n",
    "print(df_confusion)\n",
    "\n",
    "# Plot confusion matrix\n",
    "def plot_confusion_matrix(df_confusion, cmap='YlGn'):\n",
    "    plt.matshow(df_confusion, cmap=cmap) # imshow\n",
    "    plt.colorbar()\n",
    "    tick_marks = np.arange(0,len(df_confusion.columns))\n",
    "    plt.xticks(tick_marks, df_confusion.columns)\n",
    "    plt.yticks(tick_marks, df_confusion.index)\n",
    "    plt.ylabel(df_confusion.index.name)\n",
    "    plt.xlabel(df_confusion.columns.name)\n",
    "    for i in range(len(df_confusion.index)):\n",
    "        for j in range(len(df_confusion.columns)):\n",
    "            plt.text(j,i,str(df_confusion.iloc[i,j]))\n",
    "    plt.show()\n",
    "\n",
    "plot_confusion_matrix(df_confusion)\n",
    "\n",
    "from sklearn.metrics import roc_curve\n",
    "from sklearn.metrics import roc_auc_score\n",
    "\n",
    "def plot_roc_curve(fpr, tpr):\n",
    "    plt.plot(fpr, tpr, color='darkblue', label='AUC = %0.2f' %(auc))\n",
    "    plt.plot([0, 1], [0, 1], color='orange', linestyle='--')\n",
    "    plt.xlabel('False Positive Rate')\n",
    "    plt.ylabel('True Positive Rate')\n",
    "    plt.title('Receiver Operating Characteristic (ROC) Curve')\n",
    "    plt.legend()\n",
    "    plt.show()\n",
    "    \n",
    "    \n",
    "from sklearn.metrics import roc_curve, roc_auc_score, auc\n",
    "\n",
    "fpr, tpr, thresholds = roc_curve(y_test2, yhat_original)\n",
    "auc = auc(fpr, tpr)\n",
    "# Save tpr and fpr to plot seperate ROC curve\n",
    "#np.savetxt(\"/content/drive/My Drive/Colab Notebooks/tpr.txt\",tpr)\n",
    "#np.savetxt(\"/content/drive/My Drive/Colab Notebooks/fpr.txt\",fpr)\n",
    "plot_roc_curve(fpr, tpr)\n",
    "\n",
    "print('ROC AUC: ', auc)"
   ]
  },
  {
   "cell_type": "code",
   "execution_count": null,
   "metadata": {},
   "outputs": [],
   "source": []
  }
 ],
 "metadata": {
  "kernelspec": {
   "display_name": "Python 3",
   "language": "python",
   "name": "python3"
  },
  "language_info": {
   "codemirror_mode": {
    "name": "ipython",
    "version": 3
   },
   "file_extension": ".py",
   "mimetype": "text/x-python",
   "name": "python",
   "nbconvert_exporter": "python",
   "pygments_lexer": "ipython3",
   "version": "3.8.8"
  }
 },
 "nbformat": 4,
 "nbformat_minor": 4
}
