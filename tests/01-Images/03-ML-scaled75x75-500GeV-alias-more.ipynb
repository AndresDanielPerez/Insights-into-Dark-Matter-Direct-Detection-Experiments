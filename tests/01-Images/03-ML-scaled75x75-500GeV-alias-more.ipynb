{
 "cells": [
  {
   "cell_type": "code",
   "execution_count": 1,
   "metadata": {},
   "outputs": [],
   "source": [
    "import numpy as np\n",
    "import pandas as pd\n",
    "import matplotlib.pyplot as plt\n",
    "import seaborn as sns\n",
    "from matplotlib import gridspec\n",
    "from matplotlib import patches\n",
    "from matplotlib import cm\n",
    "from mpl_toolkits.mplot3d import Axes3D\n",
    "\n",
    "import os\n",
    "import math\n",
    "import random\n",
    "\n",
    "import keras\n",
    "from keras.models import Sequential\n",
    "from keras.layers import Input, Dense, Conv2D, Flatten, MaxPooling2D\n",
    "from keras.layers import Dropout\n",
    "from keras.callbacks import EarlyStopping\n",
    "\n",
    "from sklearn.preprocessing import MinMaxScaler\n",
    "from sklearn.model_selection import train_test_split\n",
    "from sklearn.utils import shuffle\n",
    "from sklearn import preprocessing\n",
    "from sklearn.metrics import roc_curve, roc_auc_score, auc\n",
    "\n",
    "import scipy.stats as st\n",
    "from scipy.stats import poisson\n",
    "from scipy.interpolate import interp1d\n",
    "from scipy.stats import norm"
   ]
  },
  {
   "cell_type": "code",
   "execution_count": 2,
   "metadata": {},
   "outputs": [],
   "source": [
    "from sklearn.neighbors import KernelDensity # paquete necesario\n",
    "from sklearn.model_selection import GridSearchCV\n",
    "\n",
    "import scipy.integrate as integrate"
   ]
  },
  {
   "cell_type": "code",
   "execution_count": 3,
   "metadata": {},
   "outputs": [
    {
     "name": "stdout",
     "output_type": "stream",
     "text": [
      "Requirement already satisfied: xgboost in /home/andres/anaconda3/lib/python3.8/site-packages (1.5.1)\n",
      "Requirement already satisfied: scipy in /home/andres/.local/lib/python3.8/site-packages (from xgboost) (1.9.3)\n",
      "Requirement already satisfied: numpy in /home/andres/.local/lib/python3.8/site-packages (from xgboost) (1.22.4)\n",
      "\u001b[33mWARNING: You are using pip version 21.3.1; however, version 23.2.1 is available.\n",
      "You should consider upgrading via the '/home/andres/anaconda3/bin/python -m pip install --upgrade pip' command.\u001b[0m\n"
     ]
    }
   ],
   "source": [
    "!pip install xgboost\n",
    "\n",
    "import xgboost\n",
    "from xgboost import XGBRegressor, XGBClassifier"
   ]
  },
  {
   "cell_type": "code",
   "execution_count": 4,
   "metadata": {},
   "outputs": [],
   "source": [
    "import glob\n",
    "import numpy as np\n",
    "import os.path as path\n",
    "import imageio\n",
    "import matplotlib.pyplot as plt\n",
    "from keras.models import Sequential\n",
    "from keras.layers import Activation, Dropout, Flatten, Dense, Conv2D, MaxPooling2D\n",
    "from keras.callbacks import EarlyStopping, TensorBoard\n",
    "from datetime import datetime\n",
    "import keras\n",
    "from keras import regularizers\n",
    "from sklearn.model_selection import train_test_split\n",
    "import pandas as pd\n",
    "from sklearn.metrics import accuracy_score, f1_score, average_precision_score, precision_recall_curve, auc,recall_score\n",
    "#from keras.optimizers import Adam\n",
    "from keras.regularizers import l2\n",
    "import h5py\n",
    "from sklearn.model_selection import GridSearchCV\n",
    "from keras.backend import cast, greater, clip, floatx,epsilon\n",
    "from keras.wrappers.scikit_learn import KerasClassifier\n",
    "from keras import backend as K\n",
    "from sklearn.model_selection import StratifiedKFold"
   ]
  },
  {
   "cell_type": "markdown",
   "metadata": {},
   "source": [
    "### Load images"
   ]
  },
  {
   "cell_type": "code",
   "execution_count": 7,
   "metadata": {},
   "outputs": [],
   "source": [
    "folderimages_ER = '/media/andres/disco1tera/ubuntu/Trabajo/Direct-Detection/xenon1t-classifier/data/images/ER/img-75x75-alias/'\n",
    "folderimages_WP = '/media/andres/disco1tera/ubuntu/Trabajo/Direct-Detection/xenon1t-classifier/data/images/WP-500GeV-sig1e-45/img-75x75-alias/'\n",
    "\n",
    "model_name = 'saved-models/03_model_CNN_75x75_500GeV_alias_more.h5'\n",
    "model_paper = 'paper-model/final_model.h5'"
   ]
  },
  {
   "cell_type": "code",
   "execution_count": null,
   "metadata": {},
   "outputs": [],
   "source": []
  },
  {
   "cell_type": "code",
   "execution_count": 8,
   "metadata": {},
   "outputs": [],
   "source": [
    "from keras import backend as K\n",
    "np.random.seed(0)\n",
    "\n",
    "# Define recall, precision and f1 functions\n",
    "def recall_m(y_true, y_pred):\n",
    "    true_positives = K.sum(K.round(K.clip(y_true * y_pred, 0, 1)))\n",
    "    possible_positives = K.sum(K.round(K.clip(y_true, 0, 1)))\n",
    "    recall = true_positives / (possible_positives + K.epsilon())\n",
    "    return recall\n",
    "\n",
    "def precision_m(y_true, y_pred):\n",
    "    true_positives = K.sum(K.round(K.clip(y_true * y_pred, 0, 1)))\n",
    "    predicted_positives = K.sum(K.round(K.clip(y_pred, 0, 1)))\n",
    "    precision = true_positives / (predicted_positives + K.epsilon())\n",
    "    return precision\n",
    "\n",
    "def f1_m(y_true, y_pred):\n",
    "    precision = precision_m(y_true, y_pred)\n",
    "    recall = recall_m(y_true, y_pred)\n",
    "    return 2*((precision*recall)/(precision+recall+K.epsilon()))"
   ]
  },
  {
   "cell_type": "code",
   "execution_count": null,
   "metadata": {},
   "outputs": [],
   "source": []
  },
  {
   "cell_type": "markdown",
   "metadata": {},
   "source": [
    "##### TEST-VAL SET"
   ]
  },
  {
   "cell_type": "code",
   "execution_count": 9,
   "metadata": {},
   "outputs": [
    {
     "name": "stdout",
     "output_type": "stream",
     "text": [
      "(75, 75, 4)\n",
      "(75, 75, 4)\n",
      "(75, 75, 4)\n",
      "(75, 75, 4)\n"
     ]
    }
   ],
   "source": [
    "# test\n",
    "from PIL import Image\n",
    "\n",
    "for i in range(2):\n",
    "    img = Image.open( folderimages_WP+'WP' + str(i) + '.png' )\n",
    "    data = np.asarray( img, dtype=\"int32\" )\n",
    "    print(data.shape)\n",
    "    \n",
    "for i in range(2):\n",
    "    img = Image.open( folderimages_ER+'ER' + str(i) + '.png' )\n",
    "    data = np.asarray( img, dtype=\"int32\" )\n",
    "    print(data.shape)"
   ]
  },
  {
   "cell_type": "code",
   "execution_count": 10,
   "metadata": {},
   "outputs": [
    {
     "name": "stdout",
     "output_type": "stream",
     "text": [
      "images.shape:  (34000, 75, 75, 4)\n",
      "labels.shape:  (34000,)\n",
      "[75 75  4]\n"
     ]
    }
   ],
   "source": [
    "##########\n",
    "# SIGNAL #\n",
    "##########\n",
    "num_signal = 17000\n",
    "\n",
    "file_pathsWP = glob.glob(path.join(folderimages_WP, 'WP*.png'))\n",
    "\n",
    "# Load the images into a single variable and convert to a numpy array\n",
    "imagesWP = [imageio.imread(file_pathsWP[jj]) for jj in range(num_signal)]\n",
    "imagesWP = np.asarray(imagesWP)\n",
    "\n",
    "labelsWP = np.ones(num_signal)\n",
    "\n",
    "\n",
    "##############\n",
    "# BACKGROUND #\n",
    "##############\n",
    "num_back = 17000\n",
    "\n",
    "file_pathsER = glob.glob(path.join(folderimages_ER, 'ER*.png'))\n",
    "\n",
    "# Load the images into a single variable and convert to a numpy array\n",
    "imagesER = [imageio.imread(file_pathsER[jj]) for jj in range(num_back)]\n",
    "imagesER = np.asarray(imagesER)\n",
    "\n",
    "labelsER = np.zeros(num_back)\n",
    "\n",
    "\n",
    "\n",
    "images = np.concatenate([imagesWP,imagesER])\n",
    "del imagesWP\n",
    "del imagesER\n",
    "\n",
    "labels = np.concatenate([labelsWP,labelsER])\n",
    "del labelsWP\n",
    "del labelsER\n",
    "\n",
    "\n",
    "\n",
    "print('images.shape: ', images.shape)\n",
    "print('labels.shape: ', labels.shape)\n",
    "\n",
    "# Get image size\n",
    "image_size = np.asarray([images.shape[1], images.shape[2], images.shape[3]])\n",
    "print(image_size)\n",
    "\n",
    "# Scale images so values are between 0 and 1\n",
    "images = images / 255\n",
    "\n",
    "n_images = images.shape[0]"
   ]
  },
  {
   "cell_type": "code",
   "execution_count": 11,
   "metadata": {},
   "outputs": [
    {
     "data": {
      "text/plain": [
       "17000.0"
      ]
     },
     "execution_count": 11,
     "metadata": {},
     "output_type": "execute_result"
    }
   ],
   "source": [
    "sum(labels)"
   ]
  },
  {
   "cell_type": "code",
   "execution_count": 12,
   "metadata": {},
   "outputs": [
    {
     "data": {
      "text/plain": [
       "(34000,)"
      ]
     },
     "execution_count": 12,
     "metadata": {},
     "output_type": "execute_result"
    }
   ],
   "source": [
    "labels.shape"
   ]
  },
  {
   "cell_type": "code",
   "execution_count": 13,
   "metadata": {},
   "outputs": [
    {
     "name": "stdout",
     "output_type": "stream",
     "text": [
      "(28900, 75, 75, 4)\n",
      "(28900,)\n",
      "(5100, 75, 75, 4)\n",
      "(5100,)\n"
     ]
    }
   ],
   "source": [
    "# Split into test and training sets\n",
    "\n",
    "TRAIN_TEST_SPLIT = 0.85            \n",
    "\n",
    "# Split at the given index\n",
    "split_index = int(TRAIN_TEST_SPLIT * n_images)\n",
    "shuffled_indices = np.random.permutation(n_images)\n",
    "train_indices = shuffled_indices[0:split_index]\n",
    "test_indices = shuffled_indices[split_index:]\n",
    "\n",
    "# Split the images and the labels\n",
    "x_train = images[train_indices, :, :, :]\n",
    "y_train = labels[train_indices]\n",
    "x_val = images[test_indices, :, :, :]\n",
    "y_val = labels[test_indices]\n",
    "\n",
    "#x_train = images\n",
    "#y_train = labels\n",
    "\n",
    "print(x_train.shape)\n",
    "print(y_train.shape)\n",
    "print(x_val.shape)\n",
    "print(y_val.shape)"
   ]
  },
  {
   "cell_type": "markdown",
   "metadata": {},
   "source": [
    "##### TRAIN THE MODEL"
   ]
  },
  {
   "cell_type": "code",
   "execution_count": 14,
   "metadata": {
    "scrolled": false
   },
   "outputs": [
    {
     "name": "stdout",
     "output_type": "stream",
     "text": [
      "Epoch 1/50\n",
      "289/289 [==============================] - 38s 98ms/step - loss: 2.0142 - acc: 0.5449 - f1_m: 0.5102 - precision_m: 0.5294 - recall_m: 0.5200 - val_loss: 0.6010 - val_acc: 0.7737 - val_f1_m: 0.7663 - val_precision_m: 0.7747 - val_recall_m: 0.7616\n",
      "Epoch 2/50\n",
      "289/289 [==============================] - 28s 95ms/step - loss: 0.6227 - acc: 0.7471 - f1_m: 0.7392 - precision_m: 0.7528 - recall_m: 0.7342 - val_loss: 0.5242 - val_acc: 0.8022 - val_f1_m: 0.8033 - val_precision_m: 0.7798 - val_recall_m: 0.8312\n",
      "Epoch 3/50\n",
      "289/289 [==============================] - 28s 96ms/step - loss: 0.5571 - acc: 0.7822 - f1_m: 0.7809 - precision_m: 0.7808 - recall_m: 0.7892 - val_loss: 0.5033 - val_acc: 0.8088 - val_f1_m: 0.8001 - val_precision_m: 0.8187 - val_recall_m: 0.7862\n",
      "Epoch 4/50\n",
      "289/289 [==============================] - 28s 96ms/step - loss: 0.5395 - acc: 0.7964 - f1_m: 0.7948 - precision_m: 0.7991 - recall_m: 0.7989 - val_loss: 0.4843 - val_acc: 0.8200 - val_f1_m: 0.8189 - val_precision_m: 0.8064 - val_recall_m: 0.8351\n",
      "Epoch 5/50\n",
      "289/289 [==============================] - 28s 96ms/step - loss: 0.5174 - acc: 0.8051 - f1_m: 0.8057 - precision_m: 0.8059 - recall_m: 0.8119 - val_loss: 0.4862 - val_acc: 0.8190 - val_f1_m: 0.8168 - val_precision_m: 0.8066 - val_recall_m: 0.8304\n",
      "Epoch 6/50\n",
      "289/289 [==============================] - 28s 96ms/step - loss: 0.5248 - acc: 0.8014 - f1_m: 0.7983 - precision_m: 0.8018 - recall_m: 0.8017 - val_loss: 0.4916 - val_acc: 0.8176 - val_f1_m: 0.8220 - val_precision_m: 0.7845 - val_recall_m: 0.8670\n",
      "Epoch 7/50\n",
      "289/289 [==============================] - 28s 96ms/step - loss: 0.5075 - acc: 0.8137 - f1_m: 0.8148 - precision_m: 0.8142 - recall_m: 0.8219 - val_loss: 0.4843 - val_acc: 0.8192 - val_f1_m: 0.8209 - val_precision_m: 0.7961 - val_recall_m: 0.8506\n",
      "Epoch 8/50\n",
      "289/289 [==============================] - 28s 96ms/step - loss: 0.5191 - acc: 0.8100 - f1_m: 0.8075 - precision_m: 0.8069 - recall_m: 0.8148 - val_loss: 0.4883 - val_acc: 0.8284 - val_f1_m: 0.8295 - val_precision_m: 0.8040 - val_recall_m: 0.8594\n",
      "Epoch 9/50\n",
      "289/289 [==============================] - 28s 97ms/step - loss: 0.5115 - acc: 0.8133 - f1_m: 0.8135 - precision_m: 0.8135 - recall_m: 0.8205 - val_loss: 0.4736 - val_acc: 0.8265 - val_f1_m: 0.8224 - val_precision_m: 0.8224 - val_recall_m: 0.8260\n",
      "Epoch 10/50\n",
      "289/289 [==============================] - 28s 99ms/step - loss: 0.5106 - acc: 0.8124 - f1_m: 0.8124 - precision_m: 0.8114 - recall_m: 0.8214 - val_loss: 0.4809 - val_acc: 0.8282 - val_f1_m: 0.8309 - val_precision_m: 0.8003 - val_recall_m: 0.8671\n",
      "Epoch 11/50\n",
      "289/289 [==============================] - 28s 98ms/step - loss: 0.5192 - acc: 0.8113 - f1_m: 0.8126 - precision_m: 0.8080 - recall_m: 0.8259 - val_loss: 0.4872 - val_acc: 0.8225 - val_f1_m: 0.8200 - val_precision_m: 0.8131 - val_recall_m: 0.8298\n",
      "Epoch 12/50\n",
      "289/289 [==============================] - 28s 98ms/step - loss: 0.5181 - acc: 0.8118 - f1_m: 0.8119 - precision_m: 0.8083 - recall_m: 0.8237 - val_loss: 0.5054 - val_acc: 0.8125 - val_f1_m: 0.8235 - val_precision_m: 0.7630 - val_recall_m: 0.8989\n",
      "Epoch 13/50\n",
      "289/289 [==============================] - 29s 99ms/step - loss: 0.5076 - acc: 0.8178 - f1_m: 0.8204 - precision_m: 0.8098 - recall_m: 0.8381 - val_loss: 0.4982 - val_acc: 0.8269 - val_f1_m: 0.8311 - val_precision_m: 0.7930 - val_recall_m: 0.8766\n",
      "Epoch 14/50\n",
      "289/289 [==============================] - 28s 96ms/step - loss: 0.5125 - acc: 0.8158 - f1_m: 0.8159 - precision_m: 0.8151 - recall_m: 0.8249 - val_loss: 0.4829 - val_acc: 0.8316 - val_f1_m: 0.8257 - val_precision_m: 0.8346 - val_recall_m: 0.8201\n",
      "Epoch 15/50\n",
      "289/289 [==============================] - 29s 99ms/step - loss: 0.5110 - acc: 0.8178 - f1_m: 0.8193 - precision_m: 0.8099 - recall_m: 0.8349 - val_loss: 0.4967 - val_acc: 0.8165 - val_f1_m: 0.8312 - val_precision_m: 0.7561 - val_recall_m: 0.9268\n",
      "Epoch 16/50\n",
      "289/289 [==============================] - 29s 100ms/step - loss: 0.5215 - acc: 0.8139 - f1_m: 0.8155 - precision_m: 0.8064 - recall_m: 0.8329 - val_loss: 0.4964 - val_acc: 0.8169 - val_f1_m: 0.8037 - val_precision_m: 0.8471 - val_recall_m: 0.7675\n",
      "Epoch 17/50\n",
      "289/289 [==============================] - 29s 99ms/step - loss: 0.4962 - acc: 0.8257 - f1_m: 0.8264 - precision_m: 0.8195 - recall_m: 0.8395 - val_loss: 0.5022 - val_acc: 0.8176 - val_f1_m: 0.8015 - val_precision_m: 0.8600 - val_recall_m: 0.7541\n",
      "Epoch 18/50\n",
      "289/289 [==============================] - 29s 99ms/step - loss: 0.5022 - acc: 0.8220 - f1_m: 0.8238 - precision_m: 0.8161 - recall_m: 0.8376 - val_loss: 0.5210 - val_acc: 0.8204 - val_f1_m: 0.8288 - val_precision_m: 0.7736 - val_recall_m: 0.8959\n",
      "Epoch 19/50\n",
      "289/289 [==============================] - 28s 98ms/step - loss: 0.5247 - acc: 0.8145 - f1_m: 0.8138 - precision_m: 0.8063 - recall_m: 0.8316 - val_loss: 0.4698 - val_acc: 0.8333 - val_f1_m: 0.8377 - val_precision_m: 0.7974 - val_recall_m: 0.8854\n",
      "Epoch 20/50\n",
      "289/289 [==============================] - 28s 98ms/step - loss: 0.5043 - acc: 0.8218 - f1_m: 0.8232 - precision_m: 0.8147 - recall_m: 0.8396 - val_loss: 0.4795 - val_acc: 0.8294 - val_f1_m: 0.8205 - val_precision_m: 0.8442 - val_recall_m: 0.8011\n",
      "Epoch 21/50\n",
      "289/289 [==============================] - 29s 99ms/step - loss: 0.5006 - acc: 0.8198 - f1_m: 0.8236 - precision_m: 0.8118 - recall_m: 0.8430 - val_loss: 0.5073 - val_acc: 0.8231 - val_f1_m: 0.8131 - val_precision_m: 0.8389 - val_recall_m: 0.7925\n",
      "Epoch 22/50\n",
      "289/289 [==============================] - 28s 98ms/step - loss: 0.5152 - acc: 0.8226 - f1_m: 0.8254 - precision_m: 0.8083 - recall_m: 0.8500 - val_loss: 0.4928 - val_acc: 0.8192 - val_f1_m: 0.8302 - val_precision_m: 0.7673 - val_recall_m: 0.9081\n",
      "Epoch 23/50\n",
      "289/289 [==============================] - 28s 98ms/step - loss: 0.5002 - acc: 0.8252 - f1_m: 0.8284 - precision_m: 0.8151 - recall_m: 0.8492 - val_loss: 0.4682 - val_acc: 0.8300 - val_f1_m: 0.8240 - val_precision_m: 0.8328 - val_recall_m: 0.8180\n",
      "Epoch 24/50\n",
      "289/289 [==============================] - 29s 99ms/step - loss: 0.5014 - acc: 0.8255 - f1_m: 0.8292 - precision_m: 0.8165 - recall_m: 0.8500 - val_loss: 0.4707 - val_acc: 0.8316 - val_f1_m: 0.8400 - val_precision_m: 0.7838 - val_recall_m: 0.9086\n",
      "Epoch 25/50\n",
      "289/289 [==============================] - 29s 99ms/step - loss: 0.4963 - acc: 0.8248 - f1_m: 0.8302 - precision_m: 0.8145 - recall_m: 0.8525 - val_loss: 0.4869 - val_acc: 0.8312 - val_f1_m: 0.8250 - val_precision_m: 0.8335 - val_recall_m: 0.8199\n",
      "Epoch 26/50\n",
      "289/289 [==============================] - 29s 99ms/step - loss: 0.5003 - acc: 0.8239 - f1_m: 0.8264 - precision_m: 0.8099 - recall_m: 0.8489 - val_loss: 0.4835 - val_acc: 0.8275 - val_f1_m: 0.8350 - val_precision_m: 0.7850 - val_recall_m: 0.8958\n",
      "Epoch 27/50\n",
      "289/289 [==============================] - 28s 98ms/step - loss: 0.5003 - acc: 0.8215 - f1_m: 0.8249 - precision_m: 0.8123 - recall_m: 0.8473 - val_loss: 0.5357 - val_acc: 0.7786 - val_f1_m: 0.7312 - val_precision_m: 0.9019 - val_recall_m: 0.6185\n",
      "Epoch 28/50\n",
      "289/289 [==============================] - 29s 99ms/step - loss: 0.5124 - acc: 0.8132 - f1_m: 0.8175 - precision_m: 0.8053 - recall_m: 0.8407 - val_loss: 0.4652 - val_acc: 0.8369 - val_f1_m: 0.8342 - val_precision_m: 0.8253 - val_recall_m: 0.8459\n",
      "Epoch 29/50\n",
      "289/289 [==============================] - 29s 99ms/step - loss: 0.5366 - acc: 0.8075 - f1_m: 0.8128 - precision_m: 0.7951 - recall_m: 0.8402 - val_loss: 0.4854 - val_acc: 0.8180 - val_f1_m: 0.8310 - val_precision_m: 0.7614 - val_recall_m: 0.9179\n",
      "Epoch 30/50\n",
      "289/289 [==============================] - 28s 97ms/step - loss: 0.5124 - acc: 0.8184 - f1_m: 0.8218 - precision_m: 0.8058 - recall_m: 0.8484 - val_loss: 0.4620 - val_acc: 0.8353 - val_f1_m: 0.8357 - val_precision_m: 0.8126 - val_recall_m: 0.8633\n",
      "Epoch 31/50\n",
      "289/289 [==============================] - 28s 97ms/step - loss: 0.4931 - acc: 0.8250 - f1_m: 0.8290 - precision_m: 0.8108 - recall_m: 0.8546 - val_loss: 0.4848 - val_acc: 0.8190 - val_f1_m: 0.8043 - val_precision_m: 0.8555 - val_recall_m: 0.7620\n",
      "Epoch 32/50\n",
      "289/289 [==============================] - 28s 97ms/step - loss: 0.4818 - acc: 0.8260 - f1_m: 0.8306 - precision_m: 0.8126 - recall_m: 0.8571 - val_loss: 0.4647 - val_acc: 0.8320 - val_f1_m: 0.8343 - val_precision_m: 0.8036 - val_recall_m: 0.8710\n"
     ]
    },
    {
     "name": "stdout",
     "output_type": "stream",
     "text": [
      "Epoch 33/50\n",
      "289/289 [==============================] - 28s 97ms/step - loss: 0.5540 - acc: 0.8007 - f1_m: 0.8032 - precision_m: 0.7915 - recall_m: 0.8318 - val_loss: 0.5155 - val_acc: 0.8020 - val_f1_m: 0.7772 - val_precision_m: 0.8692 - val_recall_m: 0.7062\n",
      "Epoch 34/50\n",
      "289/289 [==============================] - 28s 97ms/step - loss: 0.5304 - acc: 0.8057 - f1_m: 0.8102 - precision_m: 0.7915 - recall_m: 0.8388 - val_loss: 0.4804 - val_acc: 0.8353 - val_f1_m: 0.8369 - val_precision_m: 0.8088 - val_recall_m: 0.8697\n",
      "Epoch 35/50\n",
      "289/289 [==============================] - 28s 96ms/step - loss: 0.5601 - acc: 0.7985 - f1_m: 0.7996 - precision_m: 0.7926 - recall_m: 0.8234 - val_loss: 0.4783 - val_acc: 0.8235 - val_f1_m: 0.8164 - val_precision_m: 0.8313 - val_recall_m: 0.8055\n",
      "Epoch 36/50\n",
      "289/289 [==============================] - 28s 97ms/step - loss: 0.4972 - acc: 0.8206 - f1_m: 0.8245 - precision_m: 0.8029 - recall_m: 0.8541 - val_loss: 0.4566 - val_acc: 0.8365 - val_f1_m: 0.8379 - val_precision_m: 0.8091 - val_recall_m: 0.8719\n",
      "Epoch 37/50\n",
      "289/289 [==============================] - 28s 97ms/step - loss: 0.4881 - acc: 0.8227 - f1_m: 0.8259 - precision_m: 0.8100 - recall_m: 0.8492 - val_loss: 0.4750 - val_acc: 0.8312 - val_f1_m: 0.8266 - val_precision_m: 0.8305 - val_recall_m: 0.8261\n",
      "Epoch 38/50\n",
      "289/289 [==============================] - 28s 97ms/step - loss: 0.4971 - acc: 0.8230 - f1_m: 0.8271 - precision_m: 0.8083 - recall_m: 0.8531 - val_loss: 0.4619 - val_acc: 0.8324 - val_f1_m: 0.8356 - val_precision_m: 0.8000 - val_recall_m: 0.8776\n",
      "Epoch 39/50\n",
      "289/289 [==============================] - 28s 97ms/step - loss: 0.4904 - acc: 0.8265 - f1_m: 0.8281 - precision_m: 0.8117 - recall_m: 0.8536 - val_loss: 0.4901 - val_acc: 0.8300 - val_f1_m: 0.8360 - val_precision_m: 0.7896 - val_recall_m: 0.8913\n",
      "Epoch 40/50\n",
      "289/289 [==============================] - 28s 97ms/step - loss: 0.4950 - acc: 0.8247 - f1_m: 0.8287 - precision_m: 0.8068 - recall_m: 0.8587 - val_loss: 0.4642 - val_acc: 0.8337 - val_f1_m: 0.8299 - val_precision_m: 0.8278 - val_recall_m: 0.8357\n",
      "Epoch 41/50\n",
      "289/289 [==============================] - 28s 97ms/step - loss: 0.4952 - acc: 0.8241 - f1_m: 0.8265 - precision_m: 0.8093 - recall_m: 0.8508 - val_loss: 0.4849 - val_acc: 0.8202 - val_f1_m: 0.8362 - val_precision_m: 0.7555 - val_recall_m: 0.9403\n",
      "Epoch 42/50\n",
      "289/289 [==============================] - 28s 97ms/step - loss: 0.4928 - acc: 0.8213 - f1_m: 0.8253 - precision_m: 0.8035 - recall_m: 0.8557 - val_loss: 0.4800 - val_acc: 0.8337 - val_f1_m: 0.8349 - val_precision_m: 0.8090 - val_recall_m: 0.8658\n",
      "Epoch 43/50\n",
      "289/289 [==============================] - 28s 97ms/step - loss: 0.5045 - acc: 0.8229 - f1_m: 0.8289 - precision_m: 0.8044 - recall_m: 0.8624 - val_loss: 0.4915 - val_acc: 0.8186 - val_f1_m: 0.8342 - val_precision_m: 0.7563 - val_recall_m: 0.9343\n",
      "Epoch 44/50\n",
      "289/289 [==============================] - 28s 97ms/step - loss: 0.4749 - acc: 0.8312 - f1_m: 0.8342 - precision_m: 0.8144 - recall_m: 0.8610 - val_loss: 0.4624 - val_acc: 0.8331 - val_f1_m: 0.8356 - val_precision_m: 0.8040 - val_recall_m: 0.8727\n",
      "Epoch 45/50\n",
      "289/289 [==============================] - 28s 97ms/step - loss: 0.5054 - acc: 0.8187 - f1_m: 0.8231 - precision_m: 0.8052 - recall_m: 0.8512 - val_loss: 0.5108 - val_acc: 0.8310 - val_f1_m: 0.8335 - val_precision_m: 0.8033 - val_recall_m: 0.8690\n",
      "Epoch 46/50\n",
      "289/289 [==============================] - 28s 97ms/step - loss: 0.5040 - acc: 0.8155 - f1_m: 0.8213 - precision_m: 0.7983 - recall_m: 0.8539 - val_loss: 0.4517 - val_acc: 0.8320 - val_f1_m: 0.8270 - val_precision_m: 0.8308 - val_recall_m: 0.8261\n",
      "Epoch 47/50\n",
      "289/289 [==============================] - 28s 97ms/step - loss: 0.4882 - acc: 0.8223 - f1_m: 0.8237 - precision_m: 0.8040 - recall_m: 0.8513 - val_loss: 0.4732 - val_acc: 0.8255 - val_f1_m: 0.8368 - val_precision_m: 0.7708 - val_recall_m: 0.9186\n",
      "Epoch 48/50\n",
      "289/289 [==============================] - 28s 97ms/step - loss: 0.4963 - acc: 0.8233 - f1_m: 0.8283 - precision_m: 0.8075 - recall_m: 0.8584 - val_loss: 0.4462 - val_acc: 0.8371 - val_f1_m: 0.8338 - val_precision_m: 0.8314 - val_recall_m: 0.8395\n",
      "Epoch 49/50\n",
      "289/289 [==============================] - 28s 96ms/step - loss: 0.6320 - acc: 0.7694 - f1_m: 0.7725 - precision_m: 0.7573 - recall_m: 0.8076 - val_loss: 0.6636 - val_acc: 0.7794 - val_f1_m: 0.7634 - val_precision_m: 0.8013 - val_recall_m: 0.7324\n",
      "Epoch 50/50\n",
      "289/289 [==============================] - 28s 97ms/step - loss: 0.6105 - acc: 0.7738 - f1_m: 0.7793 - precision_m: 0.7603 - recall_m: 0.8098 - val_loss: 0.4773 - val_acc: 0.8261 - val_f1_m: 0.8184 - val_precision_m: 0.8357 - val_recall_m: 0.8051\n",
      "160/160 [==============================] - 1s 6ms/step - loss: 0.4773 - acc: 0.8261 - f1_m: 0.8164 - precision_m: 0.8379 - recall_m: 0.8070\n",
      "Test loss: 0.4773482084274292\n",
      "Test accuracy: 0.8260784149169922\n",
      "Test f1: 0.8164215087890625\n",
      "Test precision: 0.8378962278366089\n",
      "Test recall: 0.8070050477981567\n"
     ]
    }
   ],
   "source": [
    "# 1 conv layer / 100 bs / 50 epoch HitPeak images\n",
    "def CNN_model():\n",
    "    shape = (image_size[0], image_size[1], image_size[2])\n",
    "    model = Sequential()\n",
    "    \n",
    "    # 1 conv layer\n",
    "    model.add(Conv2D(16, (3,3), strides = (1,1), input_shape=shape,kernel_regularizer=l2(0.005)))\n",
    "    model.add(keras.layers.LeakyReLU(alpha=0.05))\n",
    "    model.add(MaxPooling2D(pool_size=(2, 2), strides = (1,1)))\n",
    "\n",
    "    # 2 conv layers\n",
    "    #model.add(Conv2D(16,(3,3),kernel_regularizer=l2(0.005)))\n",
    "    #model.add(keras.layers.LeakyReLU(alpha=0.05))\n",
    "    #model.add(MaxPooling2D(pool_size=(2, 2)))\n",
    "\n",
    "    # 3 conv layers\n",
    "    #model.add(Conv2D(16,(3,3),kernel_regularizer=l2(0.005)))\n",
    "    #model.add(keras.layers.LeakyReLU(alpha=0.05))\n",
    "    #model.add(MaxPooling2D(pool_size=(2, 2)))\n",
    "    \n",
    "    model.add(Dropout(0.25)) \n",
    "    model.add(Flatten())\n",
    "\n",
    "    model.add(Dense(32, bias_regularizer=regularizers.l2(0.001),kernel_regularizer=regularizers.l2(0.001)))\n",
    "    model.add(keras.layers.LeakyReLU(alpha=0.05))    \n",
    "    model.add(Dropout(0.5)) \n",
    "\n",
    "    # Output layer\n",
    "    model.add(Dense(1))\n",
    "    model.add(Activation('sigmoid'))\n",
    "\n",
    "    # Compile the model\n",
    "    model.compile(loss='binary_crossentropy',\n",
    "                    optimizer='adam',\n",
    "                    metrics=['acc', f1_m, precision_m, recall_m])\n",
    "    return model\n",
    "\n",
    "def run_CNN():\n",
    "    model = CNN_model()\n",
    "    model.fit(x_train, y_train, epochs=50, batch_size=100, verbose=1, validation_data=(x_val, y_val))\n",
    "    model.save(model_name)\n",
    "    #model.save_weights('final_weights.h5')\n",
    "    score = model.evaluate(x_val, y_val, verbose=1)\n",
    "    print('Test loss:', score[0])\n",
    "    print('Test accuracy:', score[1])\n",
    "    print('Test f1:', score[2])\n",
    "    print('Test precision:', score[3])\n",
    "    print('Test recall:', score[4])\n",
    "\n",
    "run_CNN()"
   ]
  },
  {
   "cell_type": "markdown",
   "metadata": {},
   "source": [
    "##### Test with the validation set (just to see)"
   ]
  },
  {
   "cell_type": "code",
   "execution_count": 15,
   "metadata": {},
   "outputs": [],
   "source": [
    "##################################\n",
    "# USING TO TEST THE TRAINING SET # THIS IS WRONG! but to see\n",
    "##################################\n",
    "\n",
    "x_test2 = x_val\n",
    "y_test2 = y_val"
   ]
  },
  {
   "cell_type": "code",
   "execution_count": 16,
   "metadata": {
    "scrolled": false
   },
   "outputs": [
    {
     "name": "stdout",
     "output_type": "stream",
     "text": [
      "Model: \"sequential\"\n",
      "_________________________________________________________________\n",
      "Layer (type)                 Output Shape              Param #   \n",
      "=================================================================\n",
      "conv2d (Conv2D)              (None, 73, 73, 16)        592       \n",
      "_________________________________________________________________\n",
      "leaky_re_lu (LeakyReLU)      (None, 73, 73, 16)        0         \n",
      "_________________________________________________________________\n",
      "max_pooling2d (MaxPooling2D) (None, 72, 72, 16)        0         \n",
      "_________________________________________________________________\n",
      "dropout (Dropout)            (None, 72, 72, 16)        0         \n",
      "_________________________________________________________________\n",
      "flatten (Flatten)            (None, 82944)             0         \n",
      "_________________________________________________________________\n",
      "dense (Dense)                (None, 32)                2654240   \n",
      "_________________________________________________________________\n",
      "leaky_re_lu_1 (LeakyReLU)    (None, 32)                0         \n",
      "_________________________________________________________________\n",
      "dropout_1 (Dropout)          (None, 32)                0         \n",
      "_________________________________________________________________\n",
      "dense_1 (Dense)              (None, 1)                 33        \n",
      "_________________________________________________________________\n",
      "activation (Activation)      (None, 1)                 0         \n",
      "=================================================================\n",
      "Total params: 2,654,865\n",
      "Trainable params: 2,654,865\n",
      "Non-trainable params: 0\n",
      "_________________________________________________________________\n",
      "160/160 [==============================] - 2s 6ms/step - loss: 0.4700 - acc: 0.8272 - f1_m: 0.8148 - precision_m: 0.8330 - recall_m: 0.8090\n",
      "acc: 82.61%\n"
     ]
    },
    {
     "name": "stderr",
     "output_type": "stream",
     "text": [
      "/home/andres/anaconda3/lib/python3.8/site-packages/keras/engine/sequential.py:425: UserWarning: `model.predict_proba()` is deprecated and will be removed after 2021-01-01. Please use `model.predict()` instead.\n",
      "  warnings.warn('`model.predict_proba()` is deprecated and '\n"
     ]
    },
    {
     "name": "stdout",
     "output_type": "stream",
     "text": [
      "Logistic: f1=0.820 auc=0.8985699\n"
     ]
    },
    {
     "data": {
      "image/png": "[encoded data removed]",
      "text/plain": [
       "<Figure size 432x288 with 1 Axes>"
      ]
     },
     "metadata": {
      "needs_background": "light"
     },
     "output_type": "display_data"
    },
    {
     "name": "stdout",
     "output_type": "stream",
     "text": [
      "Accuracy: 0.826078431372549\n",
      "Average precision: 0.7695072015439642\n",
      "recall: 0.8053237981724275\n",
      "AUC:0.8688116758285939\n",
      "Predicted   0.0   1.0\n",
      "Actual               \n",
      "0.0        2186   397\n",
      "1.0         490  2027\n"
     ]
    },
    {
     "data": {
      "image/png": "[encoded data removed]",
      "text/plain": [
       "<Figure size 288x288 with 2 Axes>"
      ]
     },
     "metadata": {
      "needs_background": "light"
     },
     "output_type": "display_data"
    },
    {
     "data": {
      "image/png": "[encoded data removed]",
      "text/plain": [
       "<Figure size 432x288 with 1 Axes>"
      ]
     },
     "metadata": {
      "needs_background": "light"
     },
     "output_type": "display_data"
    },
    {
     "name": "stdout",
     "output_type": "stream",
     "text": [
      "ROC AUC:  0.9088843944799059\n"
     ]
    }
   ],
   "source": [
    "###########################\n",
    "# TEST WITH THE TRAIN SET # just to see\n",
    "###########################\n",
    "\n",
    "dependencies = {\n",
    "    'f1_m' : f1_m, \n",
    "    'precision_m' : precision_m,\n",
    "    'recall_m': recall_m,\n",
    "}\n",
    "\n",
    "model = keras.models.load_model(model_name, custom_objects=dependencies)\n",
    "\n",
    "model.compile(loss='binary_crossentropy',\n",
    "                    optimizer='adam',\n",
    "                    metrics=['acc', f1_m, precision_m, recall_m])\n",
    "\n",
    "model.summary()\n",
    "\n",
    "\n",
    "\n",
    "score = model.evaluate(x_test2, y_test2, verbose=1)\n",
    "print(\"%s: %.2f%%\" % (model.metrics_names[1], score[1]*100))\n",
    "\n",
    "\n",
    "from sklearn.datasets import make_classification\n",
    "from sklearn.linear_model import LogisticRegression\n",
    "from sklearn.model_selection import train_test_split\n",
    "from sklearn.metrics import precision_recall_curve\n",
    "from sklearn.metrics import f1_score\n",
    "from sklearn.metrics import auc\n",
    "from matplotlib import pyplot\n",
    "\n",
    "\n",
    "lr_probs = model.predict_proba(x_test2)    # Predict probabilities\n",
    "yhat = model.predict(x_test2)      # Predict class values\n",
    "yhat_original = yhat\n",
    "yhat = np.round(yhat)\n",
    "lr_precision, lr_recall, _ = precision_recall_curve(y_test2, lr_probs)\n",
    "lr_f1, lr_auc = f1_score(y_test2, yhat), auc(lr_recall, lr_precision)\n",
    "print('Logistic: f1=%.3f auc=%.7f' % (lr_f1, lr_auc))   # Summarise scores\n",
    "''' plot the precision-recall curves '''\n",
    "no_skill = len(y_test2[y_test2==1]) / len(y_test2)\n",
    "pyplot.plot(lr_recall, lr_precision, 'r-', label='F1 = %0.2f' %(lr_f1))\n",
    "pyplot.xlabel('Recall')\n",
    "pyplot.ylabel('Precision')\n",
    "pyplot.legend(loc='lower left')\n",
    "plt.title('Precision-Recall (PR) Curve')\n",
    "pyplot.show()\n",
    "\n",
    "## Save precision and recall data to plot PR curve seperately\n",
    "#np.savetxt(\"/content/drive/My Drive/Colab Notebooks/precision_HP.txt\",lr_precision)\n",
    "#np.savetxt(\"/content/drive/My Drive/Colab Notebooks/recall_HP.txt\",lr_recall)\n",
    "\n",
    "\n",
    "test_predictions = yhat             # Make a prediction on the test set\n",
    "accuracy = accuracy_score(y_test2, test_predictions)\n",
    "print(\"Accuracy: \" + str(accuracy))\n",
    "average_precision = average_precision_score(y_test2, test_predictions)\n",
    "print(\"Average precision: \" + str(average_precision))\n",
    "\n",
    "from sklearn.metrics import precision_recall_curve\n",
    "\n",
    "precision, recall, threshold = precision_recall_curve(y_test2, test_predictions)\n",
    "auc = auc(recall, precision)\n",
    "recall1 = recall_score(y_test2, np.round(test_predictions))\n",
    "print(\"recall: \" + str(recall1))\n",
    "print('AUC:' +str(auc))\n",
    "\n",
    "\n",
    "# Report Confusion Matrix\n",
    "y_actu = pd.Series(y_test2.ravel(), name='Actual')\n",
    "y_pred = pd.Series(np.round(test_predictions.ravel()), name='Predicted')\n",
    "df_confusion = pd.crosstab(y_actu, y_pred)\n",
    "print(df_confusion)\n",
    "\n",
    "# Plot confusion matrix\n",
    "def plot_confusion_matrix(df_confusion, cmap='YlGn'):\n",
    "    plt.matshow(df_confusion, cmap=cmap) # imshow\n",
    "    plt.colorbar()\n",
    "    tick_marks = np.arange(0,len(df_confusion.columns))\n",
    "    plt.xticks(tick_marks, df_confusion.columns)\n",
    "    plt.yticks(tick_marks, df_confusion.index)\n",
    "    plt.ylabel(df_confusion.index.name)\n",
    "    plt.xlabel(df_confusion.columns.name)\n",
    "    for i in range(len(df_confusion.index)):\n",
    "        for j in range(len(df_confusion.columns)):\n",
    "            plt.text(j,i,str(df_confusion.iloc[i,j]))\n",
    "    plt.show()\n",
    "\n",
    "plot_confusion_matrix(df_confusion)\n",
    "\n",
    "from sklearn.metrics import roc_curve\n",
    "from sklearn.metrics import roc_auc_score\n",
    "\n",
    "def plot_roc_curve(fpr, tpr):\n",
    "    plt.plot(fpr, tpr, color='darkblue', label='AUC = %0.2f' %(auc))\n",
    "    plt.plot([0, 1], [0, 1], color='orange', linestyle='--')\n",
    "    plt.xlabel('False Positive Rate')\n",
    "    plt.ylabel('True Positive Rate')\n",
    "    plt.title('Receiver Operating Characteristic (ROC) Curve')\n",
    "    plt.legend()\n",
    "    plt.show()\n",
    "    \n",
    "    \n",
    "from sklearn.metrics import roc_curve, roc_auc_score, auc\n",
    "\n",
    "fpr, tpr, thresholds = roc_curve(y_test2, yhat_original)\n",
    "auc = auc(fpr, tpr)\n",
    "# Save tpr and fpr to plot seperate ROC curve\n",
    "#np.savetxt(\"/content/drive/My Drive/Colab Notebooks/tpr.txt\",tpr)\n",
    "#np.savetxt(\"/content/drive/My Drive/Colab Notebooks/fpr.txt\",fpr)\n",
    "plot_roc_curve(fpr, tpr)\n",
    "\n",
    "print('ROC AUC: ', auc)"
   ]
  },
  {
   "cell_type": "code",
   "execution_count": 17,
   "metadata": {},
   "outputs": [
    {
     "name": "stdout",
     "output_type": "stream",
     "text": [
      "Model: \"sequential_18\"\n",
      "_________________________________________________________________\n",
      "Layer (type)                 Output Shape              Param #   \n",
      "=================================================================\n",
      "conv2d_28 (Conv2D)           (None, 73, 73, 16)        592       \n",
      "_________________________________________________________________\n",
      "leaky_re_lu_45 (LeakyReLU)   (None, 73, 73, 16)        0         \n",
      "_________________________________________________________________\n",
      "max_pooling2d_28 (MaxPooling (None, 72, 72, 16)        0         \n",
      "_________________________________________________________________\n",
      "dropout_35 (Dropout)         (None, 72, 72, 16)        0         \n",
      "_________________________________________________________________\n",
      "flatten_18 (Flatten)         (None, 82944)             0         \n",
      "_________________________________________________________________\n",
      "dense_35 (Dense)             (None, 32)                2654240   \n",
      "_________________________________________________________________\n",
      "leaky_re_lu_46 (LeakyReLU)   (None, 32)                0         \n",
      "_________________________________________________________________\n",
      "dropout_36 (Dropout)         (None, 32)                0         \n",
      "_________________________________________________________________\n",
      "dense_36 (Dense)             (None, 1)                 33        \n",
      "_________________________________________________________________\n",
      "activation_18 (Activation)   (None, 1)                 0         \n",
      "=================================================================\n",
      "Total params: 2,654,865\n",
      "Trainable params: 2,654,865\n",
      "Non-trainable params: 0\n",
      "_________________________________________________________________\n"
     ]
    },
    {
     "data": {
      "image/png": "[encoded data removed]",
      "text/plain": [
       "<Figure size 432x288 with 1 Axes>"
      ]
     },
     "metadata": {
      "needs_background": "light"
     },
     "output_type": "display_data"
    },
    {
     "name": "stdout",
     "output_type": "stream",
     "text": [
      "ROC AUC:  0.5383723625532981\n"
     ]
    }
   ],
   "source": [
    "###############\n",
    "# PAPER MODEL #\n",
    "###############\n",
    "\n",
    "dependencies = {\n",
    "    'f1_m' : f1_m, \n",
    "    'precision_m' : precision_m,\n",
    "    'recall_m': recall_m,\n",
    "}\n",
    "\n",
    "model = keras.models.load_model(model_paper, custom_objects=dependencies)\n",
    "\n",
    "model.compile(loss='binary_crossentropy',\n",
    "                    optimizer='adam',\n",
    "                    metrics=['acc', f1_m, precision_m, recall_m])\n",
    "\n",
    "model.summary()\n",
    "\n",
    "\n",
    "from sklearn.metrics import roc_curve, roc_auc_score, auc\n",
    "\n",
    "yhat2 = model.predict(x_test2)      # Predict class values\n",
    "fpr, tpr, thresholds = roc_curve(y_test2, yhat2)\n",
    "auc = auc(fpr, tpr)\n",
    "plot_roc_curve(fpr, tpr)\n",
    "\n",
    "print('ROC AUC: ', auc)"
   ]
  },
  {
   "cell_type": "markdown",
   "metadata": {},
   "source": [
    "##### Test with the train set (just to see)"
   ]
  },
  {
   "cell_type": "code",
   "execution_count": 18,
   "metadata": {},
   "outputs": [],
   "source": [
    "##################################\n",
    "# USING TO TEST THE TRAINING SET # THIS IS WRONG! but to see\n",
    "##################################\n",
    "\n",
    "x_test2 = images\n",
    "del images\n",
    "\n",
    "y_test2 = labels\n",
    "del labels"
   ]
  },
  {
   "cell_type": "code",
   "execution_count": 19,
   "metadata": {
    "scrolled": false
   },
   "outputs": [
    {
     "name": "stdout",
     "output_type": "stream",
     "text": [
      "Model: \"sequential\"\n",
      "_________________________________________________________________\n",
      "Layer (type)                 Output Shape              Param #   \n",
      "=================================================================\n",
      "conv2d (Conv2D)              (None, 73, 73, 16)        592       \n",
      "_________________________________________________________________\n",
      "leaky_re_lu (LeakyReLU)      (None, 73, 73, 16)        0         \n",
      "_________________________________________________________________\n",
      "max_pooling2d (MaxPooling2D) (None, 72, 72, 16)        0         \n",
      "_________________________________________________________________\n",
      "dropout (Dropout)            (None, 72, 72, 16)        0         \n",
      "_________________________________________________________________\n",
      "flatten (Flatten)            (None, 82944)             0         \n",
      "_________________________________________________________________\n",
      "dense (Dense)                (None, 32)                2654240   \n",
      "_________________________________________________________________\n",
      "leaky_re_lu_1 (LeakyReLU)    (None, 32)                0         \n",
      "_________________________________________________________________\n",
      "dropout_1 (Dropout)          (None, 32)                0         \n",
      "_________________________________________________________________\n",
      "dense_1 (Dense)              (None, 1)                 33        \n",
      "_________________________________________________________________\n",
      "activation (Activation)      (None, 1)                 0         \n",
      "=================================================================\n",
      "Total params: 2,654,865\n",
      "Trainable params: 2,654,865\n",
      "Non-trainable params: 0\n",
      "_________________________________________________________________\n",
      "1063/1063 [==============================] - 7s 6ms/step - loss: 0.5188 - acc: 0.8155 - f1_m: 0.7548 - precision_m: 0.8461 - recall_m: 0.6837\n",
      "acc: 83.50%\n"
     ]
    },
    {
     "name": "stderr",
     "output_type": "stream",
     "text": [
      "/home/andres/anaconda3/lib/python3.8/site-packages/keras/engine/sequential.py:425: UserWarning: `model.predict_proba()` is deprecated and will be removed after 2021-01-01. Please use `model.predict()` instead.\n",
      "  warnings.warn('`model.predict_proba()` is deprecated and '\n"
     ]
    },
    {
     "name": "stdout",
     "output_type": "stream",
     "text": [
      "Logistic: f1=0.831 auc=0.9102926\n"
     ]
    },
    {
     "data": {
      "image/png": "[encoded data removed]",
      "text/plain": [
       "<Figure size 432x288 with 1 Axes>"
      ]
     },
     "metadata": {
      "needs_background": "light"
     },
     "output_type": "display_data"
    },
    {
     "name": "stdout",
     "output_type": "stream",
     "text": [
      "Accuracy: 0.835\n",
      "Average precision: 0.7852379042211799\n",
      "recall: 0.8115882352941176\n",
      "AUC:0.8786252740790219\n",
      "Predicted    0.0    1.0\n",
      "Actual                 \n",
      "0.0        14593   2407\n",
      "1.0         3203  13797\n"
     ]
    },
    {
     "data": {
      "image/png": "[encoded data removed]",
      "text/plain": [
       "<Figure size 288x288 with 2 Axes>"
      ]
     },
     "metadata": {
      "needs_background": "light"
     },
     "output_type": "display_data"
    },
    {
     "data": {
      "image/png": "[encoded data removed]",
      "text/plain": [
       "<Figure size 432x288 with 1 Axes>"
      ]
     },
     "metadata": {
      "needs_background": "light"
     },
     "output_type": "display_data"
    },
    {
     "name": "stdout",
     "output_type": "stream",
     "text": [
      "ROC AUC:  0.917647785467128\n"
     ]
    }
   ],
   "source": [
    "###########################\n",
    "# TEST WITH THE TRAIN SET # just to see\n",
    "###########################\n",
    "\n",
    "dependencies = {\n",
    "    'f1_m' : f1_m, \n",
    "    'precision_m' : precision_m,\n",
    "    'recall_m': recall_m,\n",
    "}\n",
    "\n",
    "model = keras.models.load_model(model_name, custom_objects=dependencies)\n",
    "\n",
    "model.compile(loss='binary_crossentropy',\n",
    "                    optimizer='adam',\n",
    "                    metrics=['acc', f1_m, precision_m, recall_m])\n",
    "\n",
    "model.summary()\n",
    "\n",
    "\n",
    "\n",
    "score = model.evaluate(x_test2, y_test2, verbose=1)\n",
    "print(\"%s: %.2f%%\" % (model.metrics_names[1], score[1]*100))\n",
    "\n",
    "\n",
    "from sklearn.datasets import make_classification\n",
    "from sklearn.linear_model import LogisticRegression\n",
    "from sklearn.model_selection import train_test_split\n",
    "from sklearn.metrics import precision_recall_curve\n",
    "from sklearn.metrics import f1_score\n",
    "from sklearn.metrics import auc\n",
    "from matplotlib import pyplot\n",
    "\n",
    "\n",
    "lr_probs = model.predict_proba(x_test2)    # Predict probabilities\n",
    "yhat = model.predict(x_test2)      # Predict class values\n",
    "yhat_original = yhat\n",
    "yhat = np.round(yhat)\n",
    "lr_precision, lr_recall, _ = precision_recall_curve(y_test2, lr_probs)\n",
    "lr_f1, lr_auc = f1_score(y_test2, yhat), auc(lr_recall, lr_precision)\n",
    "print('Logistic: f1=%.3f auc=%.7f' % (lr_f1, lr_auc))   # Summarise scores\n",
    "''' plot the precision-recall curves '''\n",
    "no_skill = len(y_test2[y_test2==1]) / len(y_test2)\n",
    "pyplot.plot(lr_recall, lr_precision, 'r-', label='F1 = %0.2f' %(lr_f1))\n",
    "pyplot.xlabel('Recall')\n",
    "pyplot.ylabel('Precision')\n",
    "pyplot.legend(loc='lower left')\n",
    "plt.title('Precision-Recall (PR) Curve')\n",
    "pyplot.show()\n",
    "\n",
    "## Save precision and recall data to plot PR curve seperately\n",
    "#np.savetxt(\"/content/drive/My Drive/Colab Notebooks/precision_HP.txt\",lr_precision)\n",
    "#np.savetxt(\"/content/drive/My Drive/Colab Notebooks/recall_HP.txt\",lr_recall)\n",
    "\n",
    "\n",
    "test_predictions = yhat             # Make a prediction on the test set\n",
    "accuracy = accuracy_score(y_test2, test_predictions)\n",
    "print(\"Accuracy: \" + str(accuracy))\n",
    "average_precision = average_precision_score(y_test2, test_predictions)\n",
    "print(\"Average precision: \" + str(average_precision))\n",
    "\n",
    "from sklearn.metrics import precision_recall_curve\n",
    "\n",
    "precision, recall, threshold = precision_recall_curve(y_test2, test_predictions)\n",
    "auc = auc(recall, precision)\n",
    "recall1 = recall_score(y_test2, np.round(test_predictions))\n",
    "print(\"recall: \" + str(recall1))\n",
    "print('AUC:' +str(auc))\n",
    "\n",
    "\n",
    "# Report Confusion Matrix\n",
    "y_actu = pd.Series(y_test2.ravel(), name='Actual')\n",
    "y_pred = pd.Series(np.round(test_predictions.ravel()), name='Predicted')\n",
    "df_confusion = pd.crosstab(y_actu, y_pred)\n",
    "print(df_confusion)\n",
    "\n",
    "# Plot confusion matrix\n",
    "def plot_confusion_matrix(df_confusion, cmap='YlGn'):\n",
    "    plt.matshow(df_confusion, cmap=cmap) # imshow\n",
    "    plt.colorbar()\n",
    "    tick_marks = np.arange(0,len(df_confusion.columns))\n",
    "    plt.xticks(tick_marks, df_confusion.columns)\n",
    "    plt.yticks(tick_marks, df_confusion.index)\n",
    "    plt.ylabel(df_confusion.index.name)\n",
    "    plt.xlabel(df_confusion.columns.name)\n",
    "    for i in range(len(df_confusion.index)):\n",
    "        for j in range(len(df_confusion.columns)):\n",
    "            plt.text(j,i,str(df_confusion.iloc[i,j]))\n",
    "    plt.show()\n",
    "\n",
    "plot_confusion_matrix(df_confusion)\n",
    "\n",
    "from sklearn.metrics import roc_curve\n",
    "from sklearn.metrics import roc_auc_score\n",
    "\n",
    "def plot_roc_curve(fpr, tpr):\n",
    "    plt.plot(fpr, tpr, color='darkblue', label='AUC = %0.2f' %(auc))\n",
    "    plt.plot([0, 1], [0, 1], color='orange', linestyle='--')\n",
    "    plt.xlabel('False Positive Rate')\n",
    "    plt.ylabel('True Positive Rate')\n",
    "    plt.title('Receiver Operating Characteristic (ROC) Curve')\n",
    "    plt.legend()\n",
    "    plt.show()\n",
    "    \n",
    "    \n",
    "from sklearn.metrics import roc_curve, roc_auc_score, auc\n",
    "\n",
    "fpr, tpr, thresholds = roc_curve(y_test2, yhat_original)\n",
    "auc = auc(fpr, tpr)\n",
    "# Save tpr and fpr to plot seperate ROC curve\n",
    "#np.savetxt(\"/content/drive/My Drive/Colab Notebooks/tpr.txt\",tpr)\n",
    "#np.savetxt(\"/content/drive/My Drive/Colab Notebooks/fpr.txt\",fpr)\n",
    "plot_roc_curve(fpr, tpr)\n",
    "\n",
    "print('ROC AUC: ', auc)"
   ]
  },
  {
   "cell_type": "code",
   "execution_count": 20,
   "metadata": {
    "scrolled": false
   },
   "outputs": [
    {
     "name": "stdout",
     "output_type": "stream",
     "text": [
      "Model: \"sequential_18\"\n",
      "_________________________________________________________________\n",
      "Layer (type)                 Output Shape              Param #   \n",
      "=================================================================\n",
      "conv2d_28 (Conv2D)           (None, 73, 73, 16)        592       \n",
      "_________________________________________________________________\n",
      "leaky_re_lu_45 (LeakyReLU)   (None, 73, 73, 16)        0         \n",
      "_________________________________________________________________\n",
      "max_pooling2d_28 (MaxPooling (None, 72, 72, 16)        0         \n",
      "_________________________________________________________________\n",
      "dropout_35 (Dropout)         (None, 72, 72, 16)        0         \n",
      "_________________________________________________________________\n",
      "flatten_18 (Flatten)         (None, 82944)             0         \n",
      "_________________________________________________________________\n",
      "dense_35 (Dense)             (None, 32)                2654240   \n",
      "_________________________________________________________________\n",
      "leaky_re_lu_46 (LeakyReLU)   (None, 32)                0         \n",
      "_________________________________________________________________\n",
      "dropout_36 (Dropout)         (None, 32)                0         \n",
      "_________________________________________________________________\n",
      "dense_36 (Dense)             (None, 1)                 33        \n",
      "_________________________________________________________________\n",
      "activation_18 (Activation)   (None, 1)                 0         \n",
      "=================================================================\n",
      "Total params: 2,654,865\n",
      "Trainable params: 2,654,865\n",
      "Non-trainable params: 0\n",
      "_________________________________________________________________\n"
     ]
    },
    {
     "data": {
      "image/png": "[encoded data removed]",
      "text/plain": [
       "<Figure size 432x288 with 1 Axes>"
      ]
     },
     "metadata": {
      "needs_background": "light"
     },
     "output_type": "display_data"
    },
    {
     "name": "stdout",
     "output_type": "stream",
     "text": [
      "ROC AUC:  0.5260199394463667\n"
     ]
    }
   ],
   "source": [
    "###############\n",
    "# PAPER MODEL #\n",
    "###############\n",
    "\n",
    "dependencies = {\n",
    "    'f1_m' : f1_m, \n",
    "    'precision_m' : precision_m,\n",
    "    'recall_m': recall_m,\n",
    "}\n",
    "\n",
    "model = keras.models.load_model(model_paper, custom_objects=dependencies)\n",
    "\n",
    "model.compile(loss='binary_crossentropy',\n",
    "                    optimizer='adam',\n",
    "                    metrics=['acc', f1_m, precision_m, recall_m])\n",
    "\n",
    "model.summary()\n",
    "\n",
    "from sklearn.metrics import roc_curve, roc_auc_score, auc\n",
    "\n",
    "yhat2 = model.predict(x_test2)      # Predict class values\n",
    "fpr, tpr, thresholds = roc_curve(y_test2, yhat2)\n",
    "auc = auc(fpr, tpr)\n",
    "plot_roc_curve(fpr, tpr)\n",
    "\n",
    "print('ROC AUC: ', auc)"
   ]
  },
  {
   "cell_type": "markdown",
   "metadata": {},
   "source": [
    "##### TESTSET"
   ]
  },
  {
   "cell_type": "code",
   "execution_count": 21,
   "metadata": {},
   "outputs": [
    {
     "name": "stdout",
     "output_type": "stream",
     "text": [
      "images_test.shape:  (6000, 75, 75, 4)\n",
      "labels_test.shape:  (6000,)\n",
      "[75 75  4]\n"
     ]
    }
   ],
   "source": [
    "##########\n",
    "# SIGNAL #\n",
    "##########\n",
    "num_signal_test = 3000\n",
    "\n",
    "file_pathsWP = glob.glob(path.join(folderimages_WP, 'WP*.png'))\n",
    "\n",
    "# Load the images into a single variable and convert to a numpy array\n",
    "imagesWP = [imageio.imread(file_pathsWP[jj]) for jj in range(num_signal,num_signal+num_signal_test)]\n",
    "imagesWP = np.asarray(imagesWP)\n",
    "\n",
    "labelsWP = np.ones(num_signal_test)\n",
    "\n",
    "\n",
    "##############\n",
    "# BACKGROUND #\n",
    "##############\n",
    "num_back_test = 3000\n",
    "\n",
    "file_pathsER = glob.glob(path.join(folderimages_ER, 'ER*.png'))\n",
    "\n",
    "# Load the images into a single variable and convert to a numpy array\n",
    "imagesER = [imageio.imread(file_pathsER[jj]) for jj in range(num_back,num_back+num_back_test)]\n",
    "imagesER = np.asarray(imagesER)\n",
    "\n",
    "labelsER = np.zeros(num_back_test)\n",
    "\n",
    "\n",
    "\n",
    "images_test = np.concatenate([imagesWP,imagesER])\n",
    "del imagesWP\n",
    "del imagesER\n",
    "\n",
    "labels_test = np.concatenate([labelsWP,labelsER])\n",
    "del labelsWP\n",
    "del labelsER\n",
    "\n",
    "\n",
    "print('images_test.shape: ', images_test.shape)\n",
    "print('labels_test.shape: ', labels_test.shape)\n",
    "\n",
    "# Get image size\n",
    "image_size_test = np.asarray([images_test.shape[1], images_test.shape[2], images_test.shape[3]])\n",
    "print(image_size_test)\n",
    "\n",
    "# Scale images so values are between 0 and 1\n",
    "images_test = images_test / 255\n",
    "\n",
    "n_images_test = images_test.shape[0]\n",
    "\n",
    "\n",
    "\n",
    "x_test = images_test\n",
    "del images_test\n",
    "\n",
    "y_test = labels_test\n",
    "del labels_test"
   ]
  },
  {
   "cell_type": "code",
   "execution_count": 22,
   "metadata": {
    "scrolled": false
   },
   "outputs": [
    {
     "name": "stdout",
     "output_type": "stream",
     "text": [
      "Model: \"sequential\"\n",
      "_________________________________________________________________\n",
      "Layer (type)                 Output Shape              Param #   \n",
      "=================================================================\n",
      "conv2d (Conv2D)              (None, 73, 73, 16)        592       \n",
      "_________________________________________________________________\n",
      "leaky_re_lu (LeakyReLU)      (None, 73, 73, 16)        0         \n",
      "_________________________________________________________________\n",
      "max_pooling2d (MaxPooling2D) (None, 72, 72, 16)        0         \n",
      "_________________________________________________________________\n",
      "dropout (Dropout)            (None, 72, 72, 16)        0         \n",
      "_________________________________________________________________\n",
      "flatten (Flatten)            (None, 82944)             0         \n",
      "_________________________________________________________________\n",
      "dense (Dense)                (None, 32)                2654240   \n",
      "_________________________________________________________________\n",
      "leaky_re_lu_1 (LeakyReLU)    (None, 32)                0         \n",
      "_________________________________________________________________\n",
      "dropout_1 (Dropout)          (None, 32)                0         \n",
      "_________________________________________________________________\n",
      "dense_1 (Dense)              (None, 1)                 33        \n",
      "_________________________________________________________________\n",
      "activation (Activation)      (None, 1)                 0         \n",
      "=================================================================\n",
      "Total params: 2,654,865\n",
      "Trainable params: 2,654,865\n",
      "Non-trainable params: 0\n",
      "_________________________________________________________________\n",
      "188/188 [==============================] - 2s 6ms/step - loss: 0.5477 - acc: 0.7978 - f1_m: 0.7411 - precision_m: 0.8432 - recall_m: 0.6632\n",
      "acc: 82.40%\n"
     ]
    },
    {
     "name": "stderr",
     "output_type": "stream",
     "text": [
      "/home/andres/anaconda3/lib/python3.8/site-packages/keras/engine/sequential.py:425: UserWarning: `model.predict_proba()` is deprecated and will be removed after 2021-01-01. Please use `model.predict()` instead.\n",
      "  warnings.warn('`model.predict_proba()` is deprecated and '\n"
     ]
    },
    {
     "name": "stdout",
     "output_type": "stream",
     "text": [
      "Logistic: f1=0.818 auc=0.8998368\n"
     ]
    },
    {
     "data": {
      "image/png": "[encoded data removed]",
      "text/plain": [
       "<Figure size 432x288 with 1 Axes>"
      ]
     },
     "metadata": {
      "needs_background": "light"
     },
     "output_type": "display_data"
    },
    {
     "name": "stdout",
     "output_type": "stream",
     "text": [
      "Accuracy: 0.824\n",
      "Average precision: 0.774554681915654\n",
      "recall: 0.7903333333333333\n",
      "AUC:0.8712788301167501\n",
      "Predicted   0.0   1.0\n",
      "Actual               \n",
      "0.0        2573   427\n",
      "1.0         629  2371\n"
     ]
    },
    {
     "data": {
      "image/png": "[encoded data removed]",
      "text/plain": [
       "<Figure size 288x288 with 2 Axes>"
      ]
     },
     "metadata": {
      "needs_background": "light"
     },
     "output_type": "display_data"
    },
    {
     "data": {
      "image/png": "[encoded data removed]",
      "text/plain": [
       "<Figure size 432x288 with 1 Axes>"
      ]
     },
     "metadata": {
      "needs_background": "light"
     },
     "output_type": "display_data"
    },
    {
     "name": "stdout",
     "output_type": "stream",
     "text": [
      "ROC AUC:  0.9082551111111112\n"
     ]
    }
   ],
   "source": [
    "##########################\n",
    "# TEST WITH THE TEST SET #\n",
    "##########################\n",
    "\n",
    "dependencies = {\n",
    "    'f1_m' : f1_m, \n",
    "    'precision_m' : precision_m,\n",
    "    'recall_m': recall_m,\n",
    "}\n",
    "\n",
    "model = keras.models.load_model(model_name, custom_objects=dependencies)\n",
    "\n",
    "model.compile(loss='binary_crossentropy',\n",
    "                    optimizer='adam',\n",
    "                    metrics=['acc', f1_m, precision_m, recall_m])\n",
    "\n",
    "model.summary()\n",
    "\n",
    "\n",
    "\n",
    "score = model.evaluate(x_test, y_test, verbose=1)\n",
    "print(\"%s: %.2f%%\" % (model.metrics_names[1], score[1]*100))\n",
    "\n",
    "\n",
    "from sklearn.datasets import make_classification\n",
    "from sklearn.linear_model import LogisticRegression\n",
    "from sklearn.model_selection import train_test_split\n",
    "from sklearn.metrics import precision_recall_curve\n",
    "from sklearn.metrics import f1_score\n",
    "from sklearn.metrics import auc\n",
    "from matplotlib import pyplot\n",
    "\n",
    "\n",
    "lr_probs = model.predict_proba(x_test)    # Predict probabilities\n",
    "yhat = model.predict(x_test)      # Predict class values\n",
    "yhat_original = yhat\n",
    "yhat = np.round(yhat)\n",
    "lr_precision, lr_recall, _ = precision_recall_curve(y_test, lr_probs)\n",
    "lr_f1, lr_auc = f1_score(y_test, yhat), auc(lr_recall, lr_precision)\n",
    "print('Logistic: f1=%.3f auc=%.7f' % (lr_f1, lr_auc))   # Summarise scores\n",
    "''' plot the precision-recall curves '''\n",
    "no_skill = len(y_test[y_test==1]) / len(y_test)\n",
    "pyplot.plot(lr_recall, lr_precision, 'r-', label='F1 = %0.2f' %(lr_f1))\n",
    "pyplot.xlabel('Recall')\n",
    "pyplot.ylabel('Precision')\n",
    "pyplot.legend(loc='lower left')\n",
    "plt.title('Precision-Recall (PR) Curve')\n",
    "pyplot.show()\n",
    "\n",
    "## Save precision and recall data to plot PR curve seperately\n",
    "#np.savetxt(\"/content/drive/My Drive/Colab Notebooks/precision_HP.txt\",lr_precision)\n",
    "#np.savetxt(\"/content/drive/My Drive/Colab Notebooks/recall_HP.txt\",lr_recall)\n",
    "\n",
    "\n",
    "test_predictions = yhat             # Make a prediction on the test set\n",
    "accuracy = accuracy_score(y_test, test_predictions)\n",
    "print(\"Accuracy: \" + str(accuracy))\n",
    "average_precision = average_precision_score(y_test, test_predictions)\n",
    "print(\"Average precision: \" + str(average_precision))\n",
    "\n",
    "from sklearn.metrics import precision_recall_curve\n",
    "\n",
    "precision, recall, threshold = precision_recall_curve(y_test, test_predictions)\n",
    "auc = auc(recall, precision)\n",
    "recall1 = recall_score(y_test, np.round(test_predictions))\n",
    "print(\"recall: \" + str(recall1))\n",
    "print('AUC:' +str(auc))\n",
    "\n",
    "\n",
    "# Report Confusion Matrix\n",
    "y_actu = pd.Series(y_test.ravel(), name='Actual')\n",
    "y_pred = pd.Series(np.round(test_predictions.ravel()), name='Predicted')\n",
    "df_confusion = pd.crosstab(y_actu, y_pred)\n",
    "print(df_confusion)\n",
    "\n",
    "# Plot confusion matrix\n",
    "def plot_confusion_matrix(df_confusion, cmap='YlGn'):\n",
    "    plt.matshow(df_confusion, cmap=cmap) # imshow\n",
    "    plt.colorbar()\n",
    "    tick_marks = np.arange(0,len(df_confusion.columns))\n",
    "    plt.xticks(tick_marks, df_confusion.columns)\n",
    "    plt.yticks(tick_marks, df_confusion.index)\n",
    "    plt.ylabel(df_confusion.index.name)\n",
    "    plt.xlabel(df_confusion.columns.name)\n",
    "    for i in range(len(df_confusion.index)):\n",
    "        for j in range(len(df_confusion.columns)):\n",
    "            plt.text(j,i,str(df_confusion.iloc[i,j]))\n",
    "    plt.show()\n",
    "\n",
    "plot_confusion_matrix(df_confusion)\n",
    "\n",
    "from sklearn.metrics import roc_curve\n",
    "from sklearn.metrics import roc_auc_score\n",
    "\n",
    "def plot_roc_curve(fpr, tpr):\n",
    "    plt.plot(fpr, tpr, color='darkblue', label='AUC = %0.2f' %(auc))\n",
    "    plt.plot([0, 1], [0, 1], color='orange', linestyle='--')\n",
    "    plt.xlabel('False Positive Rate')\n",
    "    plt.ylabel('True Positive Rate')\n",
    "    plt.title('Receiver Operating Characteristic (ROC) Curve')\n",
    "    plt.legend()\n",
    "    plt.show()\n",
    "    \n",
    "    \n",
    "from sklearn.metrics import roc_curve, roc_auc_score, auc\n",
    "\n",
    "fpr, tpr, thresholds = roc_curve(y_test, yhat_original)\n",
    "auc = auc(fpr, tpr)\n",
    "# Save tpr and fpr to plot seperate ROC curve\n",
    "#np.savetxt(\"/content/drive/My Drive/Colab Notebooks/tpr.txt\",tpr)\n",
    "#np.savetxt(\"/content/drive/My Drive/Colab Notebooks/fpr.txt\",fpr)\n",
    "plot_roc_curve(fpr, tpr)\n",
    "\n",
    "print('ROC AUC: ', auc)"
   ]
  },
  {
   "cell_type": "code",
   "execution_count": 23,
   "metadata": {},
   "outputs": [
    {
     "name": "stdout",
     "output_type": "stream",
     "text": [
      "Model: \"sequential_18\"\n",
      "_________________________________________________________________\n",
      "Layer (type)                 Output Shape              Param #   \n",
      "=================================================================\n",
      "conv2d_28 (Conv2D)           (None, 73, 73, 16)        592       \n",
      "_________________________________________________________________\n",
      "leaky_re_lu_45 (LeakyReLU)   (None, 73, 73, 16)        0         \n",
      "_________________________________________________________________\n",
      "max_pooling2d_28 (MaxPooling (None, 72, 72, 16)        0         \n",
      "_________________________________________________________________\n",
      "dropout_35 (Dropout)         (None, 72, 72, 16)        0         \n",
      "_________________________________________________________________\n",
      "flatten_18 (Flatten)         (None, 82944)             0         \n",
      "_________________________________________________________________\n",
      "dense_35 (Dense)             (None, 32)                2654240   \n",
      "_________________________________________________________________\n",
      "leaky_re_lu_46 (LeakyReLU)   (None, 32)                0         \n",
      "_________________________________________________________________\n",
      "dropout_36 (Dropout)         (None, 32)                0         \n",
      "_________________________________________________________________\n",
      "dense_36 (Dense)             (None, 1)                 33        \n",
      "_________________________________________________________________\n",
      "activation_18 (Activation)   (None, 1)                 0         \n",
      "=================================================================\n",
      "Total params: 2,654,865\n",
      "Trainable params: 2,654,865\n",
      "Non-trainable params: 0\n",
      "_________________________________________________________________\n"
     ]
    },
    {
     "data": {
      "image/png": "[encoded data removed]",
      "text/plain": [
       "<Figure size 432x288 with 1 Axes>"
      ]
     },
     "metadata": {
      "needs_background": "light"
     },
     "output_type": "display_data"
    },
    {
     "name": "stdout",
     "output_type": "stream",
     "text": [
      "ROC AUC:  0.5427231111111112\n"
     ]
    }
   ],
   "source": [
    "###############\n",
    "# PAPER MODEL #\n",
    "###############\n",
    "\n",
    "dependencies = {\n",
    "    'f1_m' : f1_m, \n",
    "    'precision_m' : precision_m,\n",
    "    'recall_m': recall_m,\n",
    "}\n",
    "\n",
    "model = keras.models.load_model(model_paper, custom_objects=dependencies)\n",
    "\n",
    "model.compile(loss='binary_crossentropy',\n",
    "                    optimizer='adam',\n",
    "                    metrics=['acc', f1_m, precision_m, recall_m])\n",
    "\n",
    "model.summary()\n",
    "\n",
    "\n",
    "from sklearn.metrics import roc_curve, roc_auc_score, auc\n",
    "\n",
    "yhat = model.predict(x_test)      # Predict class values\n",
    "fpr, tpr, thresholds = roc_curve(y_test, yhat)\n",
    "auc = auc(fpr, tpr)\n",
    "plot_roc_curve(fpr, tpr)\n",
    "\n",
    "print('ROC AUC: ', auc)"
   ]
  },
  {
   "cell_type": "code",
   "execution_count": null,
   "metadata": {},
   "outputs": [],
   "source": []
  }
 ],
 "metadata": {
  "kernelspec": {
   "display_name": "Python 3",
   "language": "python",
   "name": "python3"
  },
  "language_info": {
   "codemirror_mode": {
    "name": "ipython",
    "version": 3
   },
   "file_extension": ".py",
   "mimetype": "text/x-python",
   "name": "python",
   "nbconvert_exporter": "python",
   "pygments_lexer": "ipython3",
   "version": "3.8.8"
  }
 },
 "nbformat": 4,
 "nbformat_minor": 4
}
