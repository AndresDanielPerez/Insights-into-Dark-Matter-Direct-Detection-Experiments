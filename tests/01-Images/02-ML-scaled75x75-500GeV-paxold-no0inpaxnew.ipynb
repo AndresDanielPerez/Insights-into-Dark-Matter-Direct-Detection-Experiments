{
 "cells": [
  {
   "cell_type": "code",
   "execution_count": 1,
   "metadata": {},
   "outputs": [],
   "source": [
    "import numpy as np\n",
    "import pandas as pd\n",
    "import matplotlib.pyplot as plt\n",
    "import seaborn as sns\n",
    "from matplotlib import gridspec\n",
    "from matplotlib import patches\n",
    "from matplotlib import cm\n",
    "from mpl_toolkits.mplot3d import Axes3D\n",
    "\n",
    "import os\n",
    "import math\n",
    "import random\n",
    "\n",
    "import keras\n",
    "from keras.models import Sequential\n",
    "from keras.layers import Input, Dense, Conv2D, Flatten, MaxPooling2D\n",
    "from keras.layers import Dropout\n",
    "from keras.callbacks import EarlyStopping\n",
    "\n",
    "from sklearn.preprocessing import MinMaxScaler\n",
    "from sklearn.model_selection import train_test_split\n",
    "from sklearn.utils import shuffle\n",
    "from sklearn import preprocessing\n",
    "from sklearn.metrics import roc_curve, roc_auc_score, auc\n",
    "\n",
    "import scipy.stats as st\n",
    "from scipy.stats import poisson\n",
    "from scipy.interpolate import interp1d\n",
    "from scipy.stats import norm"
   ]
  },
  {
   "cell_type": "code",
   "execution_count": 2,
   "metadata": {},
   "outputs": [],
   "source": [
    "from sklearn.neighbors import KernelDensity # paquete necesario\n",
    "from sklearn.model_selection import GridSearchCV\n",
    "\n",
    "import scipy.integrate as integrate"
   ]
  },
  {
   "cell_type": "code",
   "execution_count": 3,
   "metadata": {},
   "outputs": [
    {
     "name": "stdout",
     "output_type": "stream",
     "text": [
      "Requirement already satisfied: xgboost in /home/perez/anaconda3/lib/python3.7/site-packages (1.5.1)\n",
      "Requirement already satisfied: numpy in /home/perez/anaconda3/lib/python3.7/site-packages (from xgboost) (1.18.5)\n",
      "Requirement already satisfied: scipy in /home/perez/anaconda3/lib/python3.7/site-packages (from xgboost) (1.4.1)\n",
      "\n",
      "\u001b[1m[\u001b[0m\u001b[34;49mnotice\u001b[0m\u001b[1;39;49m]\u001b[0m\u001b[39;49m A new release of pip is available: \u001b[0m\u001b[31;49m23.0\u001b[0m\u001b[39;49m -> \u001b[0m\u001b[32;49m23.2.1\u001b[0m\n",
      "\u001b[1m[\u001b[0m\u001b[34;49mnotice\u001b[0m\u001b[1;39;49m]\u001b[0m\u001b[39;49m To update, run: \u001b[0m\u001b[32;49mpip install --upgrade pip\u001b[0m\n"
     ]
    }
   ],
   "source": [
    "!pip install xgboost\n",
    "\n",
    "import xgboost\n",
    "from xgboost import XGBRegressor, XGBClassifier"
   ]
  },
  {
   "cell_type": "code",
   "execution_count": 4,
   "metadata": {},
   "outputs": [],
   "source": [
    "import glob\n",
    "import numpy as np\n",
    "import os.path as path\n",
    "import imageio\n",
    "import matplotlib.pyplot as plt\n",
    "from keras.models import Sequential\n",
    "from keras.layers import Activation, Dropout, Flatten, Dense, Conv2D, MaxPooling2D\n",
    "from keras.callbacks import EarlyStopping, TensorBoard\n",
    "from datetime import datetime\n",
    "import keras\n",
    "from keras import regularizers\n",
    "from sklearn.model_selection import train_test_split\n",
    "import pandas as pd\n",
    "from sklearn.metrics import accuracy_score, f1_score, average_precision_score, precision_recall_curve, auc,recall_score\n",
    "from keras.optimizers import Adam\n",
    "from keras.regularizers import l2\n",
    "import h5py\n",
    "from sklearn.model_selection import GridSearchCV\n",
    "from keras.backend import cast, greater, clip, floatx,epsilon\n",
    "from keras.wrappers.scikit_learn import KerasClassifier\n",
    "from keras import backend as K\n",
    "from sklearn.model_selection import StratifiedKFold"
   ]
  },
  {
   "cell_type": "markdown",
   "metadata": {},
   "source": [
    "### Load images"
   ]
  },
  {
   "cell_type": "code",
   "execution_count": 16,
   "metadata": {},
   "outputs": [],
   "source": [
    "folderimages_scaled_old = '/home/perez/CompuTools/Direct-Detection/data-old-pax/out-images-scaled/'\n",
    "folderimages_scaled_new = '/home/perez/CompuTools/Direct-Detection/new/out-images-scaled-no0/'\n",
    "\n",
    "model_name_old = 'saved-models/model_CNN_75x75_500GeV_paxold.h5'\n",
    "model_name_new = 'saved-models/model_CNN_75x75_500GeV_v3_no0.h5'\n",
    "model_paper = 'paper-model/final_model.h5'"
   ]
  },
  {
   "cell_type": "code",
   "execution_count": null,
   "metadata": {},
   "outputs": [],
   "source": []
  },
  {
   "cell_type": "code",
   "execution_count": 6,
   "metadata": {},
   "outputs": [],
   "source": [
    "from keras import backend as K\n",
    "np.random.seed(0)\n",
    "\n",
    "# Define recall, precision and f1 functions\n",
    "def recall_m(y_true, y_pred):\n",
    "    true_positives = K.sum(K.round(K.clip(y_true * y_pred, 0, 1)))\n",
    "    possible_positives = K.sum(K.round(K.clip(y_true, 0, 1)))\n",
    "    recall = true_positives / (possible_positives + K.epsilon())\n",
    "    return recall\n",
    "\n",
    "def precision_m(y_true, y_pred):\n",
    "    true_positives = K.sum(K.round(K.clip(y_true * y_pred, 0, 1)))\n",
    "    predicted_positives = K.sum(K.round(K.clip(y_pred, 0, 1)))\n",
    "    precision = true_positives / (predicted_positives + K.epsilon())\n",
    "    return precision\n",
    "\n",
    "def f1_m(y_true, y_pred):\n",
    "    precision = precision_m(y_true, y_pred)\n",
    "    recall = recall_m(y_true, y_pred)\n",
    "    return 2*((precision*recall)/(precision+recall+K.epsilon()))"
   ]
  },
  {
   "cell_type": "code",
   "execution_count": null,
   "metadata": {},
   "outputs": [],
   "source": []
  },
  {
   "cell_type": "markdown",
   "metadata": {},
   "source": [
    "##### TEST-VAL SET"
   ]
  },
  {
   "cell_type": "code",
   "execution_count": 7,
   "metadata": {},
   "outputs": [
    {
     "name": "stdout",
     "output_type": "stream",
     "text": [
      "(75, 75, 4)\n",
      "(75, 75, 4)\n",
      "(75, 75, 4)\n",
      "(75, 75, 4)\n"
     ]
    }
   ],
   "source": [
    "# test\n",
    "from PIL import Image\n",
    "\n",
    "for i in range(2):\n",
    "    img = Image.open( folderimages_scaled+'WP' + str(i) + '.png' )\n",
    "    data = np.asarray( img, dtype=\"int32\" )\n",
    "    print(data.shape)\n",
    "    \n",
    "for i in range(2):\n",
    "    img = Image.open( folderimages_scaled+'ER' + str(i) + '.png' )\n",
    "    data = np.asarray( img, dtype=\"int32\" )\n",
    "    print(data.shape)"
   ]
  },
  {
   "cell_type": "code",
   "execution_count": 8,
   "metadata": {},
   "outputs": [
    {
     "name": "stdout",
     "output_type": "stream",
     "text": [
      "images.shape:  (10000, 75, 75, 4)\n",
      "labels.shape:  (10000,)\n",
      "[75 75  4]\n"
     ]
    }
   ],
   "source": [
    "##########\n",
    "# SIGNAL #\n",
    "##########\n",
    "num_signal = 5000\n",
    "\n",
    "file_pathsWP = glob.glob(path.join(folderimages_scaled_new, 'WP*.png'))\n",
    "\n",
    "# Load the images into a single variable and convert to a numpy array\n",
    "imagesWP = [imageio.imread(file_pathsWP[jj]) for jj in range(num_signal)]\n",
    "imagesWP = np.asarray(imagesWP)\n",
    "\n",
    "labelsWP = np.ones(num_signal)\n",
    "\n",
    "\n",
    "##############\n",
    "# BACKGROUND #\n",
    "##############\n",
    "num_back = 5000\n",
    "\n",
    "file_pathsER = glob.glob(path.join(folderimages_scaled_new, 'ER*.png'))\n",
    "\n",
    "# Load the images into a single variable and convert to a numpy array\n",
    "imagesER = [imageio.imread(file_pathsER[jj]) for jj in range(num_back)]\n",
    "imagesER = np.asarray(imagesER)\n",
    "\n",
    "labelsER = np.zeros(num_back)\n",
    "\n",
    "\n",
    "\n",
    "images = np.concatenate([imagesWP,imagesER])\n",
    "del imagesWP\n",
    "del imagesER\n",
    "\n",
    "labels = np.concatenate([labelsWP,labelsER])\n",
    "del labelsWP\n",
    "del labelsER\n",
    "\n",
    "\n",
    "\n",
    "print('images.shape: ', images.shape)\n",
    "print('labels.shape: ', labels.shape)\n",
    "\n",
    "# Get image size\n",
    "image_size = np.asarray([images.shape[1], images.shape[2], images.shape[3]])\n",
    "print(image_size)\n",
    "\n",
    "# Scale images so values are between 0 and 1\n",
    "images = images / 255\n",
    "\n",
    "n_images = images.shape[0]"
   ]
  },
  {
   "cell_type": "code",
   "execution_count": 9,
   "metadata": {},
   "outputs": [
    {
     "data": {
      "text/plain": [
       "5000.0"
      ]
     },
     "execution_count": 9,
     "metadata": {},
     "output_type": "execute_result"
    }
   ],
   "source": [
    "sum(labels)"
   ]
  },
  {
   "cell_type": "code",
   "execution_count": 10,
   "metadata": {},
   "outputs": [
    {
     "data": {
      "text/plain": [
       "(10000,)"
      ]
     },
     "execution_count": 10,
     "metadata": {},
     "output_type": "execute_result"
    }
   ],
   "source": [
    "labels.shape"
   ]
  },
  {
   "cell_type": "code",
   "execution_count": 29,
   "metadata": {},
   "outputs": [],
   "source": [
    "# file_paths = glob.glob(path.join(folderimages_scaled, '*.png'))\n",
    "\n",
    "# # Load the images into a single variable and convert to a numpy array\n",
    "# images = [imageio.imread(file_paths[jj]) for jj in range(20000)]\n",
    "# images = np.asarray(images)\n",
    "# print(images.shape)\n",
    "\n",
    "# # Get image size\n",
    "# image_size = np.asarray([images.shape[1], images.shape[2], images.shape[3]])\n",
    "# print(image_size)\n",
    "\n",
    "# # Scale images so values are between 0 and 1\n",
    "# images = images / 255"
   ]
  },
  {
   "cell_type": "code",
   "execution_count": 26,
   "metadata": {},
   "outputs": [],
   "source": [
    "# # Read the labels from the filenames\n",
    "\n",
    "# n_images = images.shape[0]\n",
    "# labels = np.zeros(n_images)\n",
    "# for i in range(n_images):\n",
    "#     filename = path.basename(file_paths[i])[0]\n",
    "#     if filename[0] == 'W':                          #Every file that begins with W is assigned a 1\n",
    "#         labels[i] = 1\n",
    "#     else:\n",
    "#         labels[i] = 0\n",
    "\n",
    "# # Background = 0 = FALSE\n",
    "# # WIMPS = 1 = TRUE"
   ]
  },
  {
   "cell_type": "code",
   "execution_count": 11,
   "metadata": {},
   "outputs": [
    {
     "name": "stdout",
     "output_type": "stream",
     "text": [
      "(7500, 75, 75, 4)\n",
      "(7500,)\n",
      "(2500, 75, 75, 4)\n",
      "(2500,)\n"
     ]
    }
   ],
   "source": [
    "# Split into test and training sets\n",
    "\n",
    "TRAIN_TEST_SPLIT = 0.75            \n",
    "\n",
    "# Split at the given index\n",
    "split_index = int(TRAIN_TEST_SPLIT * n_images)\n",
    "shuffled_indices = np.random.permutation(n_images)\n",
    "train_indices = shuffled_indices[0:split_index]\n",
    "test_indices = shuffled_indices[split_index:]\n",
    "\n",
    "# Split the images and the labels\n",
    "x_train = images[train_indices, :, :, :]\n",
    "y_train = labels[train_indices]\n",
    "x_val = images[test_indices, :, :, :]\n",
    "y_val = labels[test_indices]\n",
    "\n",
    "#x_train = images\n",
    "#y_train = labels\n",
    "\n",
    "print(x_train.shape)\n",
    "print(y_train.shape)\n",
    "print(x_val.shape)\n",
    "print(y_val.shape)"
   ]
  },
  {
   "cell_type": "markdown",
   "metadata": {},
   "source": [
    "##### TRAIN THE MODEL"
   ]
  },
  {
   "cell_type": "code",
   "execution_count": 12,
   "metadata": {},
   "outputs": [
    {
     "name": "stdout",
     "output_type": "stream",
     "text": [
      "Epoch 1/50\n",
      "75/75 [==============================] - 23s 313ms/step - loss: 0.8770 - acc: 0.5959 - f1_m: 0.5769 - precision_m: 0.5972 - recall_m: 0.6019 - val_loss: 0.6249 - val_acc: 0.7312 - val_f1_m: 0.7423 - val_precision_m: 0.7184 - val_recall_m: 0.7697\n",
      "Epoch 2/50\n",
      "75/75 [==============================] - 23s 307ms/step - loss: 0.6470 - acc: 0.7147 - f1_m: 0.7211 - precision_m: 0.7039 - recall_m: 0.7549 - val_loss: 0.5914 - val_acc: 0.7524 - val_f1_m: 0.7667 - val_precision_m: 0.7313 - val_recall_m: 0.8082\n",
      "Epoch 3/50\n",
      "75/75 [==============================] - 22s 291ms/step - loss: 0.5833 - acc: 0.7647 - f1_m: 0.7703 - precision_m: 0.7472 - recall_m: 0.8014 - val_loss: 0.5834 - val_acc: 0.7552 - val_f1_m: 0.7418 - val_precision_m: 0.7906 - val_recall_m: 0.7021\n",
      "Epoch 4/50\n",
      "75/75 [==============================] - 22s 292ms/step - loss: 0.5631 - acc: 0.7748 - f1_m: 0.7793 - precision_m: 0.7591 - recall_m: 0.8093 - val_loss: 0.5544 - val_acc: 0.7848 - val_f1_m: 0.7931 - val_precision_m: 0.7679 - val_recall_m: 0.8227\n",
      "Epoch 5/50\n",
      "75/75 [==============================] - 21s 282ms/step - loss: 0.5535 - acc: 0.7863 - f1_m: 0.7882 - precision_m: 0.7784 - recall_m: 0.8071 - val_loss: 0.5531 - val_acc: 0.7760 - val_f1_m: 0.7968 - val_precision_m: 0.7352 - val_recall_m: 0.8719\n",
      "Epoch 6/50\n",
      "75/75 [==============================] - 23s 302ms/step - loss: 0.5472 - acc: 0.7891 - f1_m: 0.7922 - precision_m: 0.7756 - recall_m: 0.8163 - val_loss: 0.5472 - val_acc: 0.7816 - val_f1_m: 0.7957 - val_precision_m: 0.7536 - val_recall_m: 0.8460\n",
      "Epoch 7/50\n",
      "75/75 [==============================] - 22s 294ms/step - loss: 0.5424 - acc: 0.7944 - f1_m: 0.7978 - precision_m: 0.7760 - recall_m: 0.8289 - val_loss: 0.5527 - val_acc: 0.7852 - val_f1_m: 0.7779 - val_precision_m: 0.8132 - val_recall_m: 0.7494\n",
      "Epoch 8/50\n",
      "75/75 [==============================] - 22s 295ms/step - loss: 0.5334 - acc: 0.7969 - f1_m: 0.7976 - precision_m: 0.7890 - recall_m: 0.8176 - val_loss: 0.5479 - val_acc: 0.7844 - val_f1_m: 0.8052 - val_precision_m: 0.7409 - val_recall_m: 0.8834\n",
      "Epoch 9/50\n",
      "75/75 [==============================] - 22s 291ms/step - loss: 0.5318 - acc: 0.8013 - f1_m: 0.8039 - precision_m: 0.7881 - recall_m: 0.8295 - val_loss: 0.5455 - val_acc: 0.7872 - val_f1_m: 0.7746 - val_precision_m: 0.8295 - val_recall_m: 0.7297\n",
      "Epoch 10/50\n",
      "75/75 [==============================] - 22s 299ms/step - loss: 0.5183 - acc: 0.8057 - f1_m: 0.8069 - precision_m: 0.7958 - recall_m: 0.8258 - val_loss: 0.5316 - val_acc: 0.7996 - val_f1_m: 0.7973 - val_precision_m: 0.8152 - val_recall_m: 0.7835\n",
      "Epoch 11/50\n",
      "75/75 [==============================] - 22s 296ms/step - loss: 0.5173 - acc: 0.8072 - f1_m: 0.8091 - precision_m: 0.7957 - recall_m: 0.8283 - val_loss: 0.5337 - val_acc: 0.8028 - val_f1_m: 0.8128 - val_precision_m: 0.7801 - val_recall_m: 0.8508\n",
      "Epoch 12/50\n",
      "75/75 [==============================] - 23s 305ms/step - loss: 0.5261 - acc: 0.8060 - f1_m: 0.8057 - precision_m: 0.7978 - recall_m: 0.8240 - val_loss: 0.5365 - val_acc: 0.8044 - val_f1_m: 0.8082 - val_precision_m: 0.7979 - val_recall_m: 0.8222\n",
      "Epoch 13/50\n",
      "75/75 [==============================] - 22s 298ms/step - loss: 0.5264 - acc: 0.8056 - f1_m: 0.8075 - precision_m: 0.7914 - recall_m: 0.8314 - val_loss: 0.5517 - val_acc: 0.7992 - val_f1_m: 0.8083 - val_precision_m: 0.7790 - val_recall_m: 0.8432\n",
      "Epoch 14/50\n",
      "75/75 [==============================] - 21s 283ms/step - loss: 0.5258 - acc: 0.8133 - f1_m: 0.8141 - precision_m: 0.7984 - recall_m: 0.8348 - val_loss: 0.5406 - val_acc: 0.7980 - val_f1_m: 0.8144 - val_precision_m: 0.7591 - val_recall_m: 0.8814\n",
      "Epoch 15/50\n",
      "75/75 [==============================] - 21s 282ms/step - loss: 0.5155 - acc: 0.8108 - f1_m: 0.8129 - precision_m: 0.7969 - recall_m: 0.8393 - val_loss: 0.5711 - val_acc: 0.7728 - val_f1_m: 0.7480 - val_precision_m: 0.8494 - val_recall_m: 0.6724\n",
      "Epoch 16/50\n",
      "75/75 [==============================] - 21s 285ms/step - loss: 0.5179 - acc: 0.8172 - f1_m: 0.8185 - precision_m: 0.8080 - recall_m: 0.8397 - val_loss: 0.5346 - val_acc: 0.7992 - val_f1_m: 0.8083 - val_precision_m: 0.7796 - val_recall_m: 0.8416\n",
      "Epoch 17/50\n",
      "75/75 [==============================] - 21s 282ms/step - loss: 0.5308 - acc: 0.8160 - f1_m: 0.8163 - precision_m: 0.8128 - recall_m: 0.8291 - val_loss: 0.5411 - val_acc: 0.8052 - val_f1_m: 0.8155 - val_precision_m: 0.7814 - val_recall_m: 0.8553\n",
      "Epoch 18/50\n",
      "75/75 [==============================] - 21s 281ms/step - loss: 0.5255 - acc: 0.8104 - f1_m: 0.8116 - precision_m: 0.8008 - recall_m: 0.8286 - val_loss: 0.5519 - val_acc: 0.7936 - val_f1_m: 0.7845 - val_precision_m: 0.8260 - val_recall_m: 0.7508\n",
      "Epoch 19/50\n",
      "75/75 [==============================] - 21s 281ms/step - loss: 0.5065 - acc: 0.8192 - f1_m: 0.8198 - precision_m: 0.8090 - recall_m: 0.8372 - val_loss: 0.5365 - val_acc: 0.8020 - val_f1_m: 0.8144 - val_precision_m: 0.7712 - val_recall_m: 0.8645\n",
      "Epoch 20/50\n",
      "75/75 [==============================] - 21s 282ms/step - loss: 0.5124 - acc: 0.8191 - f1_m: 0.8194 - precision_m: 0.8055 - recall_m: 0.8395 - val_loss: 0.5394 - val_acc: 0.8048 - val_f1_m: 0.8186 - val_precision_m: 0.7716 - val_recall_m: 0.8739\n",
      "Epoch 21/50\n",
      "75/75 [==============================] - 21s 283ms/step - loss: 0.5117 - acc: 0.8184 - f1_m: 0.8186 - precision_m: 0.8124 - recall_m: 0.8316 - val_loss: 0.5534 - val_acc: 0.7876 - val_f1_m: 0.7746 - val_precision_m: 0.8329 - val_recall_m: 0.7281\n",
      "Epoch 22/50\n",
      "75/75 [==============================] - 21s 282ms/step - loss: 0.5053 - acc: 0.8209 - f1_m: 0.8211 - precision_m: 0.8127 - recall_m: 0.8368 - val_loss: 0.5419 - val_acc: 0.8008 - val_f1_m: 0.8122 - val_precision_m: 0.7740 - val_recall_m: 0.8566\n",
      "Epoch 23/50\n",
      "75/75 [==============================] - 21s 282ms/step - loss: 0.5120 - acc: 0.8187 - f1_m: 0.8196 - precision_m: 0.8080 - recall_m: 0.8378 - val_loss: 0.5337 - val_acc: 0.8024 - val_f1_m: 0.8123 - val_precision_m: 0.7803 - val_recall_m: 0.8492\n",
      "Epoch 24/50\n",
      "75/75 [==============================] - 21s 281ms/step - loss: 0.5030 - acc: 0.8211 - f1_m: 0.8221 - precision_m: 0.8130 - recall_m: 0.8364 - val_loss: 0.5429 - val_acc: 0.8024 - val_f1_m: 0.8015 - val_precision_m: 0.8124 - val_recall_m: 0.7931\n",
      "Epoch 25/50\n",
      "75/75 [==============================] - 21s 282ms/step - loss: 0.5034 - acc: 0.8275 - f1_m: 0.8290 - precision_m: 0.8131 - recall_m: 0.8507 - val_loss: 0.5376 - val_acc: 0.8056 - val_f1_m: 0.8145 - val_precision_m: 0.7843 - val_recall_m: 0.8500\n",
      "Epoch 26/50\n",
      "75/75 [==============================] - 21s 282ms/step - loss: 0.5169 - acc: 0.8125 - f1_m: 0.8142 - precision_m: 0.8009 - recall_m: 0.8359 - val_loss: 0.5649 - val_acc: 0.7824 - val_f1_m: 0.7681 - val_precision_m: 0.8309 - val_recall_m: 0.7180\n",
      "Epoch 27/50\n",
      "75/75 [==============================] - 21s 286ms/step - loss: 0.5215 - acc: 0.8223 - f1_m: 0.8245 - precision_m: 0.8100 - recall_m: 0.8467 - val_loss: 0.5423 - val_acc: 0.8064 - val_f1_m: 0.8164 - val_precision_m: 0.7817 - val_recall_m: 0.8579\n",
      "Epoch 28/50\n",
      "75/75 [==============================] - 23s 302ms/step - loss: 0.5359 - acc: 0.8127 - f1_m: 0.8130 - precision_m: 0.8029 - recall_m: 0.8316 - val_loss: 0.5441 - val_acc: 0.7960 - val_f1_m: 0.8072 - val_precision_m: 0.7726 - val_recall_m: 0.8469\n",
      "Epoch 29/50\n",
      "75/75 [==============================] - 22s 292ms/step - loss: 0.5186 - acc: 0.8135 - f1_m: 0.8174 - precision_m: 0.7955 - recall_m: 0.8449 - val_loss: 0.5655 - val_acc: 0.7932 - val_f1_m: 0.7815 - val_precision_m: 0.8355 - val_recall_m: 0.7370\n",
      "Epoch 30/50\n",
      "75/75 [==============================] - 22s 290ms/step - loss: 0.5004 - acc: 0.8252 - f1_m: 0.8267 - precision_m: 0.8161 - recall_m: 0.8437 - val_loss: 0.5335 - val_acc: 0.8096 - val_f1_m: 0.8232 - val_precision_m: 0.7758 - val_recall_m: 0.8791\n",
      "Epoch 31/50\n",
      "75/75 [==============================] - 24s 317ms/step - loss: 0.5079 - acc: 0.8209 - f1_m: 0.8223 - precision_m: 0.8108 - recall_m: 0.8417 - val_loss: 0.5441 - val_acc: 0.8008 - val_f1_m: 0.8113 - val_precision_m: 0.7771 - val_recall_m: 0.8516\n",
      "Epoch 32/50\n",
      "75/75 [==============================] - 23s 307ms/step - loss: 0.4965 - acc: 0.8251 - f1_m: 0.8258 - precision_m: 0.8107 - recall_m: 0.8505 - val_loss: 0.5383 - val_acc: 0.8104 - val_f1_m: 0.8255 - val_precision_m: 0.7737 - val_recall_m: 0.8871\n"
     ]
    },
    {
     "name": "stdout",
     "output_type": "stream",
     "text": [
      "Epoch 33/50\n",
      "75/75 [==============================] - 24s 317ms/step - loss: 0.4979 - acc: 0.8215 - f1_m: 0.8230 - precision_m: 0.8089 - recall_m: 0.8435 - val_loss: 0.5313 - val_acc: 0.8140 - val_f1_m: 0.8215 - val_precision_m: 0.7989 - val_recall_m: 0.8473\n",
      "Epoch 34/50\n",
      "75/75 [==============================] - 23s 304ms/step - loss: 0.5179 - acc: 0.8223 - f1_m: 0.8230 - precision_m: 0.8121 - recall_m: 0.8434 - val_loss: 0.5545 - val_acc: 0.7904 - val_f1_m: 0.8138 - val_precision_m: 0.7397 - val_recall_m: 0.9062\n",
      "Epoch 35/50\n",
      "75/75 [==============================] - 23s 308ms/step - loss: 0.5200 - acc: 0.8207 - f1_m: 0.8220 - precision_m: 0.8067 - recall_m: 0.8455 - val_loss: 0.5515 - val_acc: 0.8052 - val_f1_m: 0.8221 - val_precision_m: 0.7628 - val_recall_m: 0.8929\n",
      "Epoch 36/50\n",
      "75/75 [==============================] - 23s 307ms/step - loss: 0.5198 - acc: 0.8168 - f1_m: 0.8166 - precision_m: 0.8113 - recall_m: 0.8315 - val_loss: 0.5485 - val_acc: 0.8000 - val_f1_m: 0.8031 - val_precision_m: 0.7984 - val_recall_m: 0.8113\n",
      "Epoch 37/50\n",
      "75/75 [==============================] - 24s 317ms/step - loss: 0.5057 - acc: 0.8256 - f1_m: 0.8274 - precision_m: 0.8109 - recall_m: 0.8510 - val_loss: 0.5542 - val_acc: 0.8024 - val_f1_m: 0.8108 - val_precision_m: 0.7851 - val_recall_m: 0.8407\n",
      "Epoch 38/50\n",
      "75/75 [==============================] - 23s 303ms/step - loss: 0.5154 - acc: 0.8208 - f1_m: 0.8241 - precision_m: 0.8020 - recall_m: 0.8520 - val_loss: 0.5342 - val_acc: 0.8036 - val_f1_m: 0.8077 - val_precision_m: 0.7977 - val_recall_m: 0.8206\n",
      "Epoch 39/50\n",
      "75/75 [==============================] - 22s 293ms/step - loss: 0.4933 - acc: 0.8295 - f1_m: 0.8313 - precision_m: 0.8182 - recall_m: 0.8509 - val_loss: 0.5450 - val_acc: 0.7936 - val_f1_m: 0.7836 - val_precision_m: 0.8309 - val_recall_m: 0.7452\n",
      "Epoch 40/50\n",
      "75/75 [==============================] - 22s 293ms/step - loss: 0.4967 - acc: 0.8288 - f1_m: 0.8287 - precision_m: 0.8169 - recall_m: 0.8443 - val_loss: 0.5443 - val_acc: 0.8076 - val_f1_m: 0.8131 - val_precision_m: 0.7989 - val_recall_m: 0.8301\n",
      "Epoch 41/50\n",
      "75/75 [==============================] - 22s 294ms/step - loss: 0.5537 - acc: 0.8145 - f1_m: 0.8157 - precision_m: 0.8049 - recall_m: 0.8413 - val_loss: 0.5669 - val_acc: 0.8000 - val_f1_m: 0.8062 - val_precision_m: 0.7890 - val_recall_m: 0.8276\n",
      "Epoch 42/50\n",
      "75/75 [==============================] - 22s 294ms/step - loss: 0.5301 - acc: 0.8165 - f1_m: 0.8215 - precision_m: 0.7944 - recall_m: 0.8572 - val_loss: 0.5471 - val_acc: 0.8036 - val_f1_m: 0.8167 - val_precision_m: 0.7722 - val_recall_m: 0.8687\n",
      "Epoch 43/50\n",
      "75/75 [==============================] - 22s 293ms/step - loss: 0.5088 - acc: 0.8233 - f1_m: 0.8244 - precision_m: 0.8098 - recall_m: 0.8457 - val_loss: 0.5804 - val_acc: 0.7940 - val_f1_m: 0.7838 - val_precision_m: 0.8329 - val_recall_m: 0.7438\n",
      "Epoch 44/50\n",
      "75/75 [==============================] - 22s 291ms/step - loss: 0.5022 - acc: 0.8252 - f1_m: 0.8275 - precision_m: 0.8085 - recall_m: 0.8540 - val_loss: 0.5841 - val_acc: 0.7900 - val_f1_m: 0.8175 - val_precision_m: 0.7298 - val_recall_m: 0.9309\n",
      "Epoch 45/50\n",
      "75/75 [==============================] - 22s 290ms/step - loss: 0.5060 - acc: 0.8248 - f1_m: 0.8273 - precision_m: 0.8047 - recall_m: 0.8606 - val_loss: 0.5500 - val_acc: 0.8008 - val_f1_m: 0.7980 - val_precision_m: 0.8190 - val_recall_m: 0.7809\n",
      "Epoch 46/50\n",
      "75/75 [==============================] - 22s 292ms/step - loss: 0.4867 - acc: 0.8331 - f1_m: 0.8348 - precision_m: 0.8200 - recall_m: 0.8561 - val_loss: 0.5221 - val_acc: 0.8028 - val_f1_m: 0.8042 - val_precision_m: 0.8076 - val_recall_m: 0.8047\n",
      "Epoch 47/50\n",
      "75/75 [==============================] - 22s 291ms/step - loss: 0.4834 - acc: 0.8276 - f1_m: 0.8305 - precision_m: 0.8106 - recall_m: 0.8574 - val_loss: 0.5296 - val_acc: 0.7980 - val_f1_m: 0.7947 - val_precision_m: 0.8156 - val_recall_m: 0.7786\n",
      "Epoch 48/50\n",
      "75/75 [==============================] - 22s 290ms/step - loss: 0.4942 - acc: 0.8291 - f1_m: 0.8325 - precision_m: 0.8109 - recall_m: 0.8603 - val_loss: 0.5342 - val_acc: 0.7948 - val_f1_m: 0.7886 - val_precision_m: 0.8240 - val_recall_m: 0.7603\n",
      "Epoch 49/50\n",
      "75/75 [==============================] - 23s 301ms/step - loss: 0.4818 - acc: 0.8312 - f1_m: 0.8337 - precision_m: 0.8128 - recall_m: 0.8595 - val_loss: 0.5216 - val_acc: 0.8072 - val_f1_m: 0.8100 - val_precision_m: 0.8069 - val_recall_m: 0.8166\n",
      "Epoch 50/50\n",
      "75/75 [==============================] - 22s 299ms/step - loss: 0.4891 - acc: 0.8272 - f1_m: 0.8308 - precision_m: 0.8074 - recall_m: 0.8615 - val_loss: 0.5315 - val_acc: 0.8076 - val_f1_m: 0.8171 - val_precision_m: 0.7854 - val_recall_m: 0.8541\n",
      "79/79 [==============================] - 2s 23ms/step - loss: 0.5315 - acc: 0.8076 - f1_m: 0.8136 - precision_m: 0.7863 - recall_m: 0.8535\n",
      "Test loss: 0.5315383076667786\n",
      "Test accuracy: 0.8076000213623047\n",
      "Test f1: 0.813600480556488\n",
      "Test precision: 0.7862690091133118\n",
      "Test recall: 0.8535444140434265\n"
     ]
    }
   ],
   "source": [
    "# 1 conv layer / 100 bs / 50 epoch HitPeak images\n",
    "def CNN_model():\n",
    "    shape = (image_size[0], image_size[1], image_size[2])\n",
    "    model = Sequential()\n",
    "    \n",
    "    # 1 conv layer\n",
    "    model.add(Conv2D(16, (3,3), strides = (1,1), input_shape=shape,kernel_regularizer=l2(0.005)))\n",
    "    model.add(keras.layers.LeakyReLU(alpha=0.05))\n",
    "    model.add(MaxPooling2D(pool_size=(2, 2), strides = (1,1)))\n",
    "\n",
    "    # 2 conv layers\n",
    "    #model.add(Conv2D(16,(3,3),kernel_regularizer=l2(0.005)))\n",
    "    #model.add(keras.layers.LeakyReLU(alpha=0.05))\n",
    "    #model.add(MaxPooling2D(pool_size=(2, 2)))\n",
    "\n",
    "    # 3 conv layers\n",
    "    #model.add(Conv2D(16,(3,3),kernel_regularizer=l2(0.005)))\n",
    "    #model.add(keras.layers.LeakyReLU(alpha=0.05))\n",
    "    #model.add(MaxPooling2D(pool_size=(2, 2)))\n",
    "    \n",
    "    model.add(Dropout(0.25)) \n",
    "    model.add(Flatten())\n",
    "\n",
    "    model.add(Dense(32, bias_regularizer=regularizers.l2(0.001),kernel_regularizer=regularizers.l2(0.001)))\n",
    "    model.add(keras.layers.LeakyReLU(alpha=0.05))    \n",
    "    model.add(Dropout(0.5)) \n",
    "\n",
    "    # Output layer\n",
    "    model.add(Dense(1))\n",
    "    model.add(Activation('sigmoid'))\n",
    "\n",
    "    # Compile the model\n",
    "    model.compile(loss='binary_crossentropy',\n",
    "                    optimizer='adam',\n",
    "                    metrics=['acc', f1_m, precision_m, recall_m])\n",
    "    return model\n",
    "\n",
    "def run_CNN():\n",
    "    model = CNN_model()\n",
    "    model.fit(x_train, y_train, epochs=50, batch_size=100, verbose=1, validation_data=(x_val, y_val))\n",
    "    model.save(model_name_new)\n",
    "    #model.save_weights('final_weights.h5')\n",
    "    score = model.evaluate(x_val, y_val, verbose=1)\n",
    "    print('Test loss:', score[0])\n",
    "    print('Test accuracy:', score[1])\n",
    "    print('Test f1:', score[2])\n",
    "    print('Test precision:', score[3])\n",
    "    print('Test recall:', score[4])\n",
    "\n",
    "run_CNN()"
   ]
  },
  {
   "cell_type": "markdown",
   "metadata": {},
   "source": [
    "##### TESTSET"
   ]
  },
  {
   "cell_type": "code",
   "execution_count": 64,
   "metadata": {},
   "outputs": [
    {
     "name": "stdout",
     "output_type": "stream",
     "text": [
      "(10000, 75, 75, 4)\n",
      "[75 75  4]\n"
     ]
    }
   ],
   "source": [
    "# ############\n",
    "# # TEST SET #\n",
    "# ############\n",
    "\n",
    "# file_paths = glob.glob(path.join(folderimages_scaled, '*.png'))\n",
    "\n",
    "# # Load the images into a single variable and convert to a numpy array\n",
    "# images_test = [imageio.imread(file_paths[jj]) for jj in range(10000,20000)]\n",
    "# images_test = np.asarray(images_test)\n",
    "# print(images_test.shape)\n",
    "\n",
    "# # Get image size\n",
    "# image_size = np.asarray([images_test.shape[1], images_test.shape[2], images_test.shape[3]])\n",
    "# print(image_size)\n",
    "\n",
    "# # Scale images so values are between 0 and 1\n",
    "# images_test = images_test / 255\n",
    "\n",
    "\n",
    "# # Read the labels from the filenames\n",
    "\n",
    "# n_images_test = images_test.shape[0]\n",
    "# labels_test = np.zeros(n_images_test)\n",
    "# for i in range(n_images_test):\n",
    "#     filename = path.basename(file_paths[10000+i])[0]     # STARTS AT THE END OF THE OTHER (TO ASSIGN CORRECT LABELS)\n",
    "#     if filename[0] == 'W':                          #Every file that begins with W is assigned a 1\n",
    "#         labels_test[i] = 1\n",
    "#     else:\n",
    "#         labels_test[i] = 0\n",
    "        \n",
    "        \n",
    "        \n",
    "# x_test = images_test\n",
    "# y_test = labels_test"
   ]
  },
  {
   "cell_type": "code",
   "execution_count": 13,
   "metadata": {},
   "outputs": [],
   "source": [
    "# only here\n",
    "x_test = x_val\n",
    "y_test = y_val"
   ]
  },
  {
   "cell_type": "code",
   "execution_count": 14,
   "metadata": {
    "scrolled": false
   },
   "outputs": [
    {
     "name": "stdout",
     "output_type": "stream",
     "text": [
      "Model: \"sequential\"\n",
      "_________________________________________________________________\n",
      "Layer (type)                 Output Shape              Param #   \n",
      "=================================================================\n",
      "conv2d (Conv2D)              (None, 73, 73, 16)        592       \n",
      "_________________________________________________________________\n",
      "leaky_re_lu (LeakyReLU)      (None, 73, 73, 16)        0         \n",
      "_________________________________________________________________\n",
      "max_pooling2d (MaxPooling2D) (None, 72, 72, 16)        0         \n",
      "_________________________________________________________________\n",
      "dropout (Dropout)            (None, 72, 72, 16)        0         \n",
      "_________________________________________________________________\n",
      "flatten (Flatten)            (None, 82944)             0         \n",
      "_________________________________________________________________\n",
      "dense (Dense)                (None, 32)                2654240   \n",
      "_________________________________________________________________\n",
      "leaky_re_lu_1 (LeakyReLU)    (None, 32)                0         \n",
      "_________________________________________________________________\n",
      "dropout_1 (Dropout)          (None, 32)                0         \n",
      "_________________________________________________________________\n",
      "dense_1 (Dense)              (None, 1)                 33        \n",
      "_________________________________________________________________\n",
      "activation (Activation)      (None, 1)                 0         \n",
      "=================================================================\n",
      "Total params: 2,654,865\n",
      "Trainable params: 2,654,865\n",
      "Non-trainable params: 0\n",
      "_________________________________________________________________\n",
      "79/79 [==============================] - 2s 23ms/step - loss: 0.5315 - acc: 0.8076 - f1_m: 0.8136 - precision_m: 0.7863 - recall_m: 0.8535\n",
      "acc: 80.76%\n",
      "WARNING:tensorflow:From <ipython-input-14-7c5453f4780b>:30: Sequential.predict_proba (from tensorflow.python.keras.engine.sequential) is deprecated and will be removed after 2021-01-01.\n",
      "Instructions for updating:\n",
      "Please use `model.predict()` instead.\n",
      "Logistic: f1=0.818 auc=0.8811955\n"
     ]
    },
    {
     "data": {
      "image/png": "[encoded data removed]",
      "text/plain": [
       "<Figure size 432x288 with 1 Axes>"
      ]
     },
     "metadata": {
      "needs_background": "light"
     },
     "output_type": "display_data"
    },
    {
     "name": "stdout",
     "output_type": "stream",
     "text": [
      "Accuracy: 0.8076\n",
      "Average precision: 0.743873993095512\n",
      "recall: 0.8536392405063291\n",
      "AUC:0.8561832566168008\n",
      "Predicted  0.0   1.0\n",
      "Actual              \n",
      "0.0        940   296\n",
      "1.0        185  1079\n"
     ]
    },
    {
     "data": {
      "image/png": "[encoded data removed]",
      "text/plain": [
       "<Figure size 288x288 with 2 Axes>"
      ]
     },
     "metadata": {
      "needs_background": "light"
     },
     "output_type": "display_data"
    },
    {
     "data": {
      "image/png": "[encoded data removed]",
      "text/plain": [
       "<Figure size 432x288 with 1 Axes>"
      ]
     },
     "metadata": {
      "needs_background": "light"
     },
     "output_type": "display_data"
    },
    {
     "name": "stdout",
     "output_type": "stream",
     "text": [
      "ROC AUC:  0.891325247839089\n"
     ]
    }
   ],
   "source": [
    "##########################\n",
    "# TEST WITH THE TEST SET #\n",
    "##########################\n",
    "\n",
    "dependencies = {\n",
    "    'f1_m' : f1_m, \n",
    "    'precision_m' : precision_m,\n",
    "    'recall_m': recall_m,\n",
    "}\n",
    "\n",
    "model = keras.models.load_model(model_name_new, custom_objects=dependencies)\n",
    "\n",
    "model.summary()\n",
    "\n",
    "\n",
    "\n",
    "score = model.evaluate(x_test, y_test, verbose=1)\n",
    "print(\"%s: %.2f%%\" % (model.metrics_names[1], score[1]*100))\n",
    "\n",
    "\n",
    "from sklearn.datasets import make_classification\n",
    "from sklearn.linear_model import LogisticRegression\n",
    "from sklearn.model_selection import train_test_split\n",
    "from sklearn.metrics import precision_recall_curve\n",
    "from sklearn.metrics import f1_score\n",
    "from sklearn.metrics import auc\n",
    "from matplotlib import pyplot\n",
    "\n",
    "\n",
    "lr_probs = model.predict_proba(x_test)    # Predict probabilities\n",
    "yhat = model.predict(x_test)      # Predict class values\n",
    "yhat_original = yhat\n",
    "yhat = np.round(yhat)\n",
    "lr_precision, lr_recall, _ = precision_recall_curve(y_test, lr_probs)\n",
    "lr_f1, lr_auc = f1_score(y_test, yhat), auc(lr_recall, lr_precision)\n",
    "print('Logistic: f1=%.3f auc=%.7f' % (lr_f1, lr_auc))   # Summarise scores\n",
    "''' plot the precision-recall curves '''\n",
    "no_skill = len(y_test[y_test==1]) / len(y_test)\n",
    "pyplot.plot(lr_recall, lr_precision, 'r-', label='F1 = %0.2f' %(lr_f1))\n",
    "pyplot.xlabel('Recall')\n",
    "pyplot.ylabel('Precision')\n",
    "pyplot.legend(loc='lower left')\n",
    "plt.title('Precision-Recall (PR) Curve')\n",
    "pyplot.show()\n",
    "\n",
    "## Save precision and recall data to plot PR curve seperately\n",
    "#np.savetxt(\"/content/drive/My Drive/Colab Notebooks/precision_HP.txt\",lr_precision)\n",
    "#np.savetxt(\"/content/drive/My Drive/Colab Notebooks/recall_HP.txt\",lr_recall)\n",
    "\n",
    "\n",
    "test_predictions = yhat             # Make a prediction on the test set\n",
    "accuracy = accuracy_score(y_test, test_predictions)\n",
    "print(\"Accuracy: \" + str(accuracy))\n",
    "average_precision = average_precision_score(y_test, test_predictions)\n",
    "print(\"Average precision: \" + str(average_precision))\n",
    "\n",
    "from sklearn.metrics import precision_recall_curve\n",
    "\n",
    "precision, recall, threshold = precision_recall_curve(y_test, test_predictions)\n",
    "auc = auc(recall, precision)\n",
    "recall1 = recall_score(y_test, np.round(test_predictions))\n",
    "print(\"recall: \" + str(recall1))\n",
    "print('AUC:' +str(auc))\n",
    "\n",
    "\n",
    "# Report Confusion Matrix\n",
    "y_actu = pd.Series(y_test.ravel(), name='Actual')\n",
    "y_pred = pd.Series(np.round(test_predictions.ravel()), name='Predicted')\n",
    "df_confusion = pd.crosstab(y_actu, y_pred)\n",
    "print(df_confusion)\n",
    "\n",
    "# Plot confusion matrix\n",
    "def plot_confusion_matrix(df_confusion, cmap='YlGn'):\n",
    "    plt.matshow(df_confusion, cmap=cmap) # imshow\n",
    "    plt.colorbar()\n",
    "    tick_marks = np.arange(0,len(df_confusion.columns))\n",
    "    plt.xticks(tick_marks, df_confusion.columns)\n",
    "    plt.yticks(tick_marks, df_confusion.index)\n",
    "    plt.ylabel(df_confusion.index.name)\n",
    "    plt.xlabel(df_confusion.columns.name)\n",
    "    for i in range(len(df_confusion.index)):\n",
    "        for j in range(len(df_confusion.columns)):\n",
    "            plt.text(j,i,str(df_confusion.iloc[i,j]))\n",
    "    plt.show()\n",
    "\n",
    "plot_confusion_matrix(df_confusion)\n",
    "\n",
    "from sklearn.metrics import roc_curve\n",
    "from sklearn.metrics import roc_auc_score\n",
    "\n",
    "def plot_roc_curve(fpr, tpr):\n",
    "    plt.plot(fpr, tpr, color='darkblue', label='AUC = %0.2f' %(auc))\n",
    "    plt.plot([0, 1], [0, 1], color='orange', linestyle='--')\n",
    "    plt.xlabel('False Positive Rate')\n",
    "    plt.ylabel('True Positive Rate')\n",
    "    plt.title('Receiver Operating Characteristic (ROC) Curve')\n",
    "    plt.legend()\n",
    "    plt.show()\n",
    "    \n",
    "    \n",
    "from sklearn.metrics import roc_curve, roc_auc_score, auc\n",
    "\n",
    "fpr, tpr, thresholds = roc_curve(y_test, yhat_original)\n",
    "auc = auc(fpr, tpr)\n",
    "# Save tpr and fpr to plot seperate ROC curve\n",
    "#np.savetxt(\"/content/drive/My Drive/Colab Notebooks/tpr.txt\",tpr)\n",
    "#np.savetxt(\"/content/drive/My Drive/Colab Notebooks/fpr.txt\",fpr)\n",
    "plot_roc_curve(fpr, tpr)\n",
    "\n",
    "print('ROC AUC: ', auc)"
   ]
  },
  {
   "cell_type": "code",
   "execution_count": 15,
   "metadata": {},
   "outputs": [
    {
     "name": "stdout",
     "output_type": "stream",
     "text": [
      "Model: \"sequential_18\"\n",
      "_________________________________________________________________\n",
      "Layer (type)                 Output Shape              Param #   \n",
      "=================================================================\n",
      "conv2d_28 (Conv2D)           (None, 73, 73, 16)        592       \n",
      "_________________________________________________________________\n",
      "leaky_re_lu_45 (LeakyReLU)   (None, 73, 73, 16)        0         \n",
      "_________________________________________________________________\n",
      "max_pooling2d_28 (MaxPooling (None, 72, 72, 16)        0         \n",
      "_________________________________________________________________\n",
      "dropout_35 (Dropout)         (None, 72, 72, 16)        0         \n",
      "_________________________________________________________________\n",
      "flatten_18 (Flatten)         (None, 82944)             0         \n",
      "_________________________________________________________________\n",
      "dense_35 (Dense)             (None, 32)                2654240   \n",
      "_________________________________________________________________\n",
      "leaky_re_lu_46 (LeakyReLU)   (None, 32)                0         \n",
      "_________________________________________________________________\n",
      "dropout_36 (Dropout)         (None, 32)                0         \n",
      "_________________________________________________________________\n",
      "dense_36 (Dense)             (None, 1)                 33        \n",
      "_________________________________________________________________\n",
      "activation_18 (Activation)   (None, 1)                 0         \n",
      "=================================================================\n",
      "Total params: 2,654,865\n",
      "Trainable params: 2,654,865\n",
      "Non-trainable params: 0\n",
      "_________________________________________________________________\n"
     ]
    },
    {
     "data": {
      "image/png": "[encoded data removed]",
      "text/plain": [
       "<Figure size 432x288 with 1 Axes>"
      ]
     },
     "metadata": {
      "needs_background": "light"
     },
     "output_type": "display_data"
    },
    {
     "name": "stdout",
     "output_type": "stream",
     "text": [
      "ROC AUC:  0.5177699090573922\n"
     ]
    }
   ],
   "source": [
    "###############\n",
    "# PAPER MODEL #\n",
    "###############\n",
    "\n",
    "dependencies = {\n",
    "    'f1_m' : f1_m, \n",
    "    'precision_m' : precision_m,\n",
    "    'recall_m': recall_m,\n",
    "}\n",
    "\n",
    "model = keras.models.load_model(model_paper, custom_objects=dependencies)\n",
    "\n",
    "model.summary()\n",
    "\n",
    "\n",
    "from sklearn.metrics import roc_curve, roc_auc_score, auc\n",
    "\n",
    "yhat = model.predict(x_test)      # Predict class values\n",
    "fpr, tpr, thresholds = roc_curve(y_test, yhat)\n",
    "auc = auc(fpr, tpr)\n",
    "plot_roc_curve(fpr, tpr)\n",
    "\n",
    "print('ROC AUC: ', auc)"
   ]
  },
  {
   "cell_type": "code",
   "execution_count": 17,
   "metadata": {},
   "outputs": [
    {
     "name": "stdout",
     "output_type": "stream",
     "text": [
      "Model: \"sequential\"\n",
      "_________________________________________________________________\n",
      "Layer (type)                 Output Shape              Param #   \n",
      "=================================================================\n",
      "conv2d (Conv2D)              (None, 73, 73, 16)        592       \n",
      "_________________________________________________________________\n",
      "leaky_re_lu (LeakyReLU)      (None, 73, 73, 16)        0         \n",
      "_________________________________________________________________\n",
      "max_pooling2d (MaxPooling2D) (None, 72, 72, 16)        0         \n",
      "_________________________________________________________________\n",
      "dropout (Dropout)            (None, 72, 72, 16)        0         \n",
      "_________________________________________________________________\n",
      "flatten (Flatten)            (None, 82944)             0         \n",
      "_________________________________________________________________\n",
      "dense (Dense)                (None, 32)                2654240   \n",
      "_________________________________________________________________\n",
      "leaky_re_lu_1 (LeakyReLU)    (None, 32)                0         \n",
      "_________________________________________________________________\n",
      "dropout_1 (Dropout)          (None, 32)                0         \n",
      "_________________________________________________________________\n",
      "dense_1 (Dense)              (None, 1)                 33        \n",
      "_________________________________________________________________\n",
      "activation (Activation)      (None, 1)                 0         \n",
      "=================================================================\n",
      "Total params: 2,654,865\n",
      "Trainable params: 2,654,865\n",
      "Non-trainable params: 0\n",
      "_________________________________________________________________\n"
     ]
    },
    {
     "data": {
      "image/png": "[encoded data removed]",
      "text/plain": [
       "<Figure size 432x288 with 1 Axes>"
      ]
     },
     "metadata": {
      "needs_background": "light"
     },
     "output_type": "display_data"
    },
    {
     "name": "stdout",
     "output_type": "stream",
     "text": [
      "ROC AUC:  0.8961514532382943\n"
     ]
    }
   ],
   "source": [
    "###################################\n",
    "# TRAINED MODEL WITH NEW PAX DATA # using the old pax images\n",
    "###################################\n",
    "\n",
    "dependencies = {\n",
    "    'f1_m' : f1_m, \n",
    "    'precision_m' : precision_m,\n",
    "    'recall_m': recall_m,\n",
    "}\n",
    "\n",
    "model = keras.models.load_model(model_name_old, custom_objects=dependencies)\n",
    "\n",
    "model.summary()\n",
    "\n",
    "\n",
    "from sklearn.metrics import roc_curve, roc_auc_score, auc\n",
    "\n",
    "yhat = model.predict(x_test)      # Predict class values\n",
    "fpr, tpr, thresholds = roc_curve(y_test, yhat)\n",
    "auc = auc(fpr, tpr)\n",
    "plot_roc_curve(fpr, tpr)\n",
    "\n",
    "print('ROC AUC: ', auc)"
   ]
  },
  {
   "cell_type": "markdown",
   "metadata": {},
   "source": [
    "##### Test with the train set (just to see)"
   ]
  },
  {
   "cell_type": "code",
   "execution_count": 18,
   "metadata": {},
   "outputs": [],
   "source": [
    "##################################\n",
    "# USING TO TEST THE TRAINING SET # THIS IS WRONG! but to see\n",
    "##################################\n",
    "\n",
    "x_test2 = images\n",
    "del images\n",
    "\n",
    "y_test2 = labels\n",
    "del labels"
   ]
  },
  {
   "cell_type": "code",
   "execution_count": 19,
   "metadata": {},
   "outputs": [
    {
     "name": "stdout",
     "output_type": "stream",
     "text": [
      "Model: \"sequential\"\n",
      "_________________________________________________________________\n",
      "Layer (type)                 Output Shape              Param #   \n",
      "=================================================================\n",
      "conv2d (Conv2D)              (None, 73, 73, 16)        592       \n",
      "_________________________________________________________________\n",
      "leaky_re_lu (LeakyReLU)      (None, 73, 73, 16)        0         \n",
      "_________________________________________________________________\n",
      "max_pooling2d (MaxPooling2D) (None, 72, 72, 16)        0         \n",
      "_________________________________________________________________\n",
      "dropout (Dropout)            (None, 72, 72, 16)        0         \n",
      "_________________________________________________________________\n",
      "flatten (Flatten)            (None, 82944)             0         \n",
      "_________________________________________________________________\n",
      "dense (Dense)                (None, 32)                2654240   \n",
      "_________________________________________________________________\n",
      "leaky_re_lu_1 (LeakyReLU)    (None, 32)                0         \n",
      "_________________________________________________________________\n",
      "dropout_1 (Dropout)          (None, 32)                0         \n",
      "_________________________________________________________________\n",
      "dense_1 (Dense)              (None, 1)                 33        \n",
      "_________________________________________________________________\n",
      "activation (Activation)      (None, 1)                 0         \n",
      "=================================================================\n",
      "Total params: 2,654,865\n",
      "Trainable params: 2,654,865\n",
      "Non-trainable params: 0\n",
      "_________________________________________________________________\n",
      "313/313 [==============================] - 7s 23ms/step - loss: 0.4582 - acc: 0.8490 - f1_m: 0.4715 - precision_m: 0.5003 - recall_m: 0.4472\n",
      "acc: 84.90%\n",
      "Logistic: f1=0.855 auc=0.9295711\n"
     ]
    },
    {
     "data": {
      "image/png": "[encoded data removed]",
      "text/plain": [
       "<Figure size 432x288 with 1 Axes>"
      ]
     },
     "metadata": {
      "needs_background": "light"
     },
     "output_type": "display_data"
    },
    {
     "name": "stdout",
     "output_type": "stream",
     "text": [
      "Accuracy: 0.849\n",
      "Average precision: 0.7867382970880944\n",
      "recall: 0.8916\n",
      "AUC:0.8836998525617398\n",
      "Predicted   0.0   1.0\n",
      "Actual               \n",
      "0.0        4032   968\n",
      "1.0         542  4458\n"
     ]
    },
    {
     "data": {
      "image/png": "[encoded data removed]",
      "text/plain": [
       "<Figure size 288x288 with 2 Axes>"
      ]
     },
     "metadata": {
      "needs_background": "light"
     },
     "output_type": "display_data"
    },
    {
     "data": {
      "image/png": "[encoded data removed]",
      "text/plain": [
       "<Figure size 432x288 with 1 Axes>"
      ]
     },
     "metadata": {
      "needs_background": "light"
     },
     "output_type": "display_data"
    },
    {
     "name": "stdout",
     "output_type": "stream",
     "text": [
      "ROC AUC:  0.9328326600000001\n"
     ]
    }
   ],
   "source": [
    "###########################\n",
    "# TEST WITH THE TRAIN SET # just to see\n",
    "###########################\n",
    "\n",
    "dependencies = {\n",
    "    'f1_m' : f1_m, \n",
    "    'precision_m' : precision_m,\n",
    "    'recall_m': recall_m,\n",
    "}\n",
    "\n",
    "model = keras.models.load_model(model_name_new, custom_objects=dependencies)\n",
    "\n",
    "model.summary()\n",
    "\n",
    "\n",
    "\n",
    "score = model.evaluate(x_test2, y_test2, verbose=1)\n",
    "print(\"%s: %.2f%%\" % (model.metrics_names[1], score[1]*100))\n",
    "\n",
    "\n",
    "from sklearn.datasets import make_classification\n",
    "from sklearn.linear_model import LogisticRegression\n",
    "from sklearn.model_selection import train_test_split\n",
    "from sklearn.metrics import precision_recall_curve\n",
    "from sklearn.metrics import f1_score\n",
    "from sklearn.metrics import auc\n",
    "from matplotlib import pyplot\n",
    "\n",
    "\n",
    "lr_probs = model.predict_proba(x_test2)    # Predict probabilities\n",
    "yhat = model.predict(x_test2)      # Predict class values\n",
    "yhat_original = yhat\n",
    "yhat = np.round(yhat)\n",
    "lr_precision, lr_recall, _ = precision_recall_curve(y_test2, lr_probs)\n",
    "lr_f1, lr_auc = f1_score(y_test2, yhat), auc(lr_recall, lr_precision)\n",
    "print('Logistic: f1=%.3f auc=%.7f' % (lr_f1, lr_auc))   # Summarise scores\n",
    "''' plot the precision-recall curves '''\n",
    "no_skill = len(y_test2[y_test2==1]) / len(y_test2)\n",
    "pyplot.plot(lr_recall, lr_precision, 'r-', label='F1 = %0.2f' %(lr_f1))\n",
    "pyplot.xlabel('Recall')\n",
    "pyplot.ylabel('Precision')\n",
    "pyplot.legend(loc='lower left')\n",
    "plt.title('Precision-Recall (PR) Curve')\n",
    "pyplot.show()\n",
    "\n",
    "## Save precision and recall data to plot PR curve seperately\n",
    "#np.savetxt(\"/content/drive/My Drive/Colab Notebooks/precision_HP.txt\",lr_precision)\n",
    "#np.savetxt(\"/content/drive/My Drive/Colab Notebooks/recall_HP.txt\",lr_recall)\n",
    "\n",
    "\n",
    "test_predictions = yhat             # Make a prediction on the test set\n",
    "accuracy = accuracy_score(y_test2, test_predictions)\n",
    "print(\"Accuracy: \" + str(accuracy))\n",
    "average_precision = average_precision_score(y_test2, test_predictions)\n",
    "print(\"Average precision: \" + str(average_precision))\n",
    "\n",
    "from sklearn.metrics import precision_recall_curve\n",
    "\n",
    "precision, recall, threshold = precision_recall_curve(y_test2, test_predictions)\n",
    "auc = auc(recall, precision)\n",
    "recall1 = recall_score(y_test2, np.round(test_predictions))\n",
    "print(\"recall: \" + str(recall1))\n",
    "print('AUC:' +str(auc))\n",
    "\n",
    "\n",
    "# Report Confusion Matrix\n",
    "y_actu = pd.Series(y_test2.ravel(), name='Actual')\n",
    "y_pred = pd.Series(np.round(test_predictions.ravel()), name='Predicted')\n",
    "df_confusion = pd.crosstab(y_actu, y_pred)\n",
    "print(df_confusion)\n",
    "\n",
    "# Plot confusion matrix\n",
    "def plot_confusion_matrix(df_confusion, cmap='YlGn'):\n",
    "    plt.matshow(df_confusion, cmap=cmap) # imshow\n",
    "    plt.colorbar()\n",
    "    tick_marks = np.arange(0,len(df_confusion.columns))\n",
    "    plt.xticks(tick_marks, df_confusion.columns)\n",
    "    plt.yticks(tick_marks, df_confusion.index)\n",
    "    plt.ylabel(df_confusion.index.name)\n",
    "    plt.xlabel(df_confusion.columns.name)\n",
    "    for i in range(len(df_confusion.index)):\n",
    "        for j in range(len(df_confusion.columns)):\n",
    "            plt.text(j,i,str(df_confusion.iloc[i,j]))\n",
    "    plt.show()\n",
    "\n",
    "plot_confusion_matrix(df_confusion)\n",
    "\n",
    "from sklearn.metrics import roc_curve\n",
    "from sklearn.metrics import roc_auc_score\n",
    "\n",
    "def plot_roc_curve(fpr, tpr):\n",
    "    plt.plot(fpr, tpr, color='darkblue', label='AUC = %0.2f' %(auc))\n",
    "    plt.plot([0, 1], [0, 1], color='orange', linestyle='--')\n",
    "    plt.xlabel('False Positive Rate')\n",
    "    plt.ylabel('True Positive Rate')\n",
    "    plt.title('Receiver Operating Characteristic (ROC) Curve')\n",
    "    plt.legend()\n",
    "    plt.show()\n",
    "    \n",
    "    \n",
    "from sklearn.metrics import roc_curve, roc_auc_score, auc\n",
    "\n",
    "fpr, tpr, thresholds = roc_curve(y_test2, yhat_original)\n",
    "auc = auc(fpr, tpr)\n",
    "# Save tpr and fpr to plot seperate ROC curve\n",
    "#np.savetxt(\"/content/drive/My Drive/Colab Notebooks/tpr.txt\",tpr)\n",
    "#np.savetxt(\"/content/drive/My Drive/Colab Notebooks/fpr.txt\",fpr)\n",
    "plot_roc_curve(fpr, tpr)\n",
    "\n",
    "print('ROC AUC: ', auc)"
   ]
  },
  {
   "cell_type": "code",
   "execution_count": 20,
   "metadata": {},
   "outputs": [
    {
     "name": "stdout",
     "output_type": "stream",
     "text": [
      "Model: \"sequential_18\"\n",
      "_________________________________________________________________\n",
      "Layer (type)                 Output Shape              Param #   \n",
      "=================================================================\n",
      "conv2d_28 (Conv2D)           (None, 73, 73, 16)        592       \n",
      "_________________________________________________________________\n",
      "leaky_re_lu_45 (LeakyReLU)   (None, 73, 73, 16)        0         \n",
      "_________________________________________________________________\n",
      "max_pooling2d_28 (MaxPooling (None, 72, 72, 16)        0         \n",
      "_________________________________________________________________\n",
      "dropout_35 (Dropout)         (None, 72, 72, 16)        0         \n",
      "_________________________________________________________________\n",
      "flatten_18 (Flatten)         (None, 82944)             0         \n",
      "_________________________________________________________________\n",
      "dense_35 (Dense)             (None, 32)                2654240   \n",
      "_________________________________________________________________\n",
      "leaky_re_lu_46 (LeakyReLU)   (None, 32)                0         \n",
      "_________________________________________________________________\n",
      "dropout_36 (Dropout)         (None, 32)                0         \n",
      "_________________________________________________________________\n",
      "dense_36 (Dense)             (None, 1)                 33        \n",
      "_________________________________________________________________\n",
      "activation_18 (Activation)   (None, 1)                 0         \n",
      "=================================================================\n",
      "Total params: 2,654,865\n",
      "Trainable params: 2,654,865\n",
      "Non-trainable params: 0\n",
      "_________________________________________________________________\n"
     ]
    },
    {
     "data": {
      "image/png": "[encoded data removed]",
      "text/plain": [
       "<Figure size 432x288 with 1 Axes>"
      ]
     },
     "metadata": {
      "needs_background": "light"
     },
     "output_type": "display_data"
    },
    {
     "name": "stdout",
     "output_type": "stream",
     "text": [
      "ROC AUC:  0.53321324\n"
     ]
    }
   ],
   "source": [
    "###############\n",
    "# PAPER MODEL #\n",
    "###############\n",
    "\n",
    "dependencies = {\n",
    "    'f1_m' : f1_m, \n",
    "    'precision_m' : precision_m,\n",
    "    'recall_m': recall_m,\n",
    "}\n",
    "\n",
    "model = keras.models.load_model(model_paper, custom_objects=dependencies)\n",
    "\n",
    "model.summary()\n",
    "\n",
    "\n",
    "from sklearn.metrics import roc_curve, roc_auc_score, auc\n",
    "\n",
    "yhat2 = model.predict(x_test2)      # Predict class values\n",
    "fpr, tpr, thresholds = roc_curve(y_test2, yhat2)\n",
    "auc = auc(fpr, tpr)\n",
    "plot_roc_curve(fpr, tpr)\n",
    "\n",
    "print('ROC AUC: ', auc)"
   ]
  },
  {
   "cell_type": "code",
   "execution_count": 21,
   "metadata": {},
   "outputs": [
    {
     "name": "stdout",
     "output_type": "stream",
     "text": [
      "Model: \"sequential\"\n",
      "_________________________________________________________________\n",
      "Layer (type)                 Output Shape              Param #   \n",
      "=================================================================\n",
      "conv2d (Conv2D)              (None, 73, 73, 16)        592       \n",
      "_________________________________________________________________\n",
      "leaky_re_lu (LeakyReLU)      (None, 73, 73, 16)        0         \n",
      "_________________________________________________________________\n",
      "max_pooling2d (MaxPooling2D) (None, 72, 72, 16)        0         \n",
      "_________________________________________________________________\n",
      "dropout (Dropout)            (None, 72, 72, 16)        0         \n",
      "_________________________________________________________________\n",
      "flatten (Flatten)            (None, 82944)             0         \n",
      "_________________________________________________________________\n",
      "dense (Dense)                (None, 32)                2654240   \n",
      "_________________________________________________________________\n",
      "leaky_re_lu_1 (LeakyReLU)    (None, 32)                0         \n",
      "_________________________________________________________________\n",
      "dropout_1 (Dropout)          (None, 32)                0         \n",
      "_________________________________________________________________\n",
      "dense_1 (Dense)              (None, 1)                 33        \n",
      "_________________________________________________________________\n",
      "activation (Activation)      (None, 1)                 0         \n",
      "=================================================================\n",
      "Total params: 2,654,865\n",
      "Trainable params: 2,654,865\n",
      "Non-trainable params: 0\n",
      "_________________________________________________________________\n"
     ]
    },
    {
     "data": {
      "image/png": "[encoded data removed]",
      "text/plain": [
       "<Figure size 432x288 with 1 Axes>"
      ]
     },
     "metadata": {
      "needs_background": "light"
     },
     "output_type": "display_data"
    },
    {
     "name": "stdout",
     "output_type": "stream",
     "text": [
      "ROC AUC:  0.90636572\n"
     ]
    }
   ],
   "source": [
    "###################################\n",
    "# TRAINED MODEL WITH NEW PAX DATA # using the old pax images\n",
    "###################################\n",
    "\n",
    "dependencies = {\n",
    "    'f1_m' : f1_m, \n",
    "    'precision_m' : precision_m,\n",
    "    'recall_m': recall_m,\n",
    "}\n",
    "\n",
    "model = keras.models.load_model(model_name_old, custom_objects=dependencies)\n",
    "\n",
    "model.summary()\n",
    "\n",
    "\n",
    "from sklearn.metrics import roc_curve, roc_auc_score, auc\n",
    "\n",
    "yhat2 = model.predict(x_test2)      # Predict class values\n",
    "fpr, tpr, thresholds = roc_curve(y_test2, yhat2)\n",
    "auc = auc(fpr, tpr)\n",
    "plot_roc_curve(fpr, tpr)\n",
    "\n",
    "print('ROC AUC: ', auc)"
   ]
  },
  {
   "cell_type": "code",
   "execution_count": null,
   "metadata": {},
   "outputs": [],
   "source": []
  },
  {
   "cell_type": "markdown",
   "metadata": {},
   "source": [
    "### Test using the images generated with the old pax"
   ]
  },
  {
   "cell_type": "code",
   "execution_count": 22,
   "metadata": {},
   "outputs": [
    {
     "name": "stdout",
     "output_type": "stream",
     "text": [
      "images.shape:  (10000, 75, 75, 4)\n",
      "labels.shape:  (10000,)\n",
      "[75 75  4]\n"
     ]
    }
   ],
   "source": [
    "##########\n",
    "# SIGNAL #\n",
    "##########\n",
    "num_signal = 5000\n",
    "\n",
    "file_pathsWP = glob.glob(path.join(folderimages_scaled_old, 'WP*.png'))\n",
    "\n",
    "# Load the images into a single variable and convert to a numpy array\n",
    "imagesWP = [imageio.imread(file_pathsWP[jj]) for jj in range(num_signal)]\n",
    "imagesWP = np.asarray(imagesWP)\n",
    "\n",
    "labelsWP = np.ones(num_signal)\n",
    "\n",
    "\n",
    "##############\n",
    "# BACKGROUND #\n",
    "##############\n",
    "num_back = 5000\n",
    "\n",
    "file_pathsER = glob.glob(path.join(folderimages_scaled_old, 'ER*.png'))\n",
    "\n",
    "# Load the images into a single variable and convert to a numpy array\n",
    "imagesER = [imageio.imread(file_pathsER[jj]) for jj in range(num_back)]\n",
    "imagesER = np.asarray(imagesER)\n",
    "\n",
    "labelsER = np.zeros(num_back)\n",
    "\n",
    "\n",
    "\n",
    "images = np.concatenate([imagesWP,imagesER])\n",
    "del imagesWP\n",
    "del imagesER\n",
    "\n",
    "labels = np.concatenate([labelsWP,labelsER])\n",
    "del labelsWP\n",
    "del labelsER\n",
    "\n",
    "\n",
    "\n",
    "print('images.shape: ', images.shape)\n",
    "print('labels.shape: ', labels.shape)\n",
    "\n",
    "# Get image size\n",
    "image_size = np.asarray([images.shape[1], images.shape[2], images.shape[3]])\n",
    "print(image_size)\n",
    "\n",
    "# Scale images so values are between 0 and 1\n",
    "images = images / 255\n",
    "\n",
    "n_images = images.shape[0]"
   ]
  },
  {
   "cell_type": "code",
   "execution_count": 23,
   "metadata": {},
   "outputs": [],
   "source": [
    "x_test4 = images\n",
    "del images\n",
    "\n",
    "y_test4 = labels\n",
    "del labels"
   ]
  },
  {
   "cell_type": "code",
   "execution_count": 24,
   "metadata": {},
   "outputs": [
    {
     "name": "stdout",
     "output_type": "stream",
     "text": [
      "Model: \"sequential\"\n",
      "_________________________________________________________________\n",
      "Layer (type)                 Output Shape              Param #   \n",
      "=================================================================\n",
      "conv2d (Conv2D)              (None, 73, 73, 16)        592       \n",
      "_________________________________________________________________\n",
      "leaky_re_lu (LeakyReLU)      (None, 73, 73, 16)        0         \n",
      "_________________________________________________________________\n",
      "max_pooling2d (MaxPooling2D) (None, 72, 72, 16)        0         \n",
      "_________________________________________________________________\n",
      "dropout (Dropout)            (None, 72, 72, 16)        0         \n",
      "_________________________________________________________________\n",
      "flatten (Flatten)            (None, 82944)             0         \n",
      "_________________________________________________________________\n",
      "dense (Dense)                (None, 32)                2654240   \n",
      "_________________________________________________________________\n",
      "leaky_re_lu_1 (LeakyReLU)    (None, 32)                0         \n",
      "_________________________________________________________________\n",
      "dropout_1 (Dropout)          (None, 32)                0         \n",
      "_________________________________________________________________\n",
      "dense_1 (Dense)              (None, 1)                 33        \n",
      "_________________________________________________________________\n",
      "activation (Activation)      (None, 1)                 0         \n",
      "=================================================================\n",
      "Total params: 2,654,865\n",
      "Trainable params: 2,654,865\n",
      "Non-trainable params: 0\n",
      "_________________________________________________________________\n"
     ]
    },
    {
     "data": {
      "image/png": "[encoded data removed]",
      "text/plain": [
       "<Figure size 432x288 with 1 Axes>"
      ]
     },
     "metadata": {
      "needs_background": "light"
     },
     "output_type": "display_data"
    },
    {
     "name": "stdout",
     "output_type": "stream",
     "text": [
      "ROC AUC:  0.9026517399999999\n"
     ]
    }
   ],
   "source": [
    "###################################\n",
    "# TRAINED MODEL WITH OLD PAX DATA # using the NEW pax images\n",
    "###################################\n",
    "\n",
    "dependencies = {\n",
    "    'f1_m' : f1_m, \n",
    "    'precision_m' : precision_m,\n",
    "    'recall_m': recall_m,\n",
    "}\n",
    "\n",
    "model = keras.models.load_model(model_name_new, custom_objects=dependencies)\n",
    "\n",
    "model.summary()\n",
    "\n",
    "\n",
    "from sklearn.metrics import roc_curve, roc_auc_score, auc\n",
    "\n",
    "yhat4 = model.predict(x_test4)      # Predict class values\n",
    "fpr, tpr, thresholds = roc_curve(y_test4, yhat4)\n",
    "auc = auc(fpr, tpr)\n",
    "plot_roc_curve(fpr, tpr)\n",
    "\n",
    "print('ROC AUC: ', auc)"
   ]
  },
  {
   "cell_type": "code",
   "execution_count": 25,
   "metadata": {},
   "outputs": [
    {
     "name": "stdout",
     "output_type": "stream",
     "text": [
      "Model: \"sequential_18\"\n",
      "_________________________________________________________________\n",
      "Layer (type)                 Output Shape              Param #   \n",
      "=================================================================\n",
      "conv2d_28 (Conv2D)           (None, 73, 73, 16)        592       \n",
      "_________________________________________________________________\n",
      "leaky_re_lu_45 (LeakyReLU)   (None, 73, 73, 16)        0         \n",
      "_________________________________________________________________\n",
      "max_pooling2d_28 (MaxPooling (None, 72, 72, 16)        0         \n",
      "_________________________________________________________________\n",
      "dropout_35 (Dropout)         (None, 72, 72, 16)        0         \n",
      "_________________________________________________________________\n",
      "flatten_18 (Flatten)         (None, 82944)             0         \n",
      "_________________________________________________________________\n",
      "dense_35 (Dense)             (None, 32)                2654240   \n",
      "_________________________________________________________________\n",
      "leaky_re_lu_46 (LeakyReLU)   (None, 32)                0         \n",
      "_________________________________________________________________\n",
      "dropout_36 (Dropout)         (None, 32)                0         \n",
      "_________________________________________________________________\n",
      "dense_36 (Dense)             (None, 1)                 33        \n",
      "_________________________________________________________________\n",
      "activation_18 (Activation)   (None, 1)                 0         \n",
      "=================================================================\n",
      "Total params: 2,654,865\n",
      "Trainable params: 2,654,865\n",
      "Non-trainable params: 0\n",
      "_________________________________________________________________\n"
     ]
    },
    {
     "data": {
      "image/png": "[encoded data removed]",
      "text/plain": [
       "<Figure size 432x288 with 1 Axes>"
      ]
     },
     "metadata": {
      "needs_background": "light"
     },
     "output_type": "display_data"
    },
    {
     "name": "stdout",
     "output_type": "stream",
     "text": [
      "ROC AUC:  0.53578718\n"
     ]
    }
   ],
   "source": [
    "###############\n",
    "# PAPER MODEL #\n",
    "###############\n",
    "\n",
    "dependencies = {\n",
    "    'f1_m' : f1_m, \n",
    "    'precision_m' : precision_m,\n",
    "    'recall_m': recall_m,\n",
    "}\n",
    "\n",
    "model = keras.models.load_model(model_paper, custom_objects=dependencies)\n",
    "\n",
    "model.summary()\n",
    "\n",
    "\n",
    "from sklearn.metrics import roc_curve, roc_auc_score, auc\n",
    "\n",
    "yhat4 = model.predict(x_test4)      # Predict class values\n",
    "fpr, tpr, thresholds = roc_curve(y_test4, yhat4)\n",
    "auc = auc(fpr, tpr)\n",
    "plot_roc_curve(fpr, tpr)\n",
    "\n",
    "print('ROC AUC: ', auc)"
   ]
  },
  {
   "cell_type": "code",
   "execution_count": 26,
   "metadata": {},
   "outputs": [
    {
     "name": "stdout",
     "output_type": "stream",
     "text": [
      "Model: \"sequential\"\n",
      "_________________________________________________________________\n",
      "Layer (type)                 Output Shape              Param #   \n",
      "=================================================================\n",
      "conv2d (Conv2D)              (None, 73, 73, 16)        592       \n",
      "_________________________________________________________________\n",
      "leaky_re_lu (LeakyReLU)      (None, 73, 73, 16)        0         \n",
      "_________________________________________________________________\n",
      "max_pooling2d (MaxPooling2D) (None, 72, 72, 16)        0         \n",
      "_________________________________________________________________\n",
      "dropout (Dropout)            (None, 72, 72, 16)        0         \n",
      "_________________________________________________________________\n",
      "flatten (Flatten)            (None, 82944)             0         \n",
      "_________________________________________________________________\n",
      "dense (Dense)                (None, 32)                2654240   \n",
      "_________________________________________________________________\n",
      "leaky_re_lu_1 (LeakyReLU)    (None, 32)                0         \n",
      "_________________________________________________________________\n",
      "dropout_1 (Dropout)          (None, 32)                0         \n",
      "_________________________________________________________________\n",
      "dense_1 (Dense)              (None, 1)                 33        \n",
      "_________________________________________________________________\n",
      "activation (Activation)      (None, 1)                 0         \n",
      "=================================================================\n",
      "Total params: 2,654,865\n",
      "Trainable params: 2,654,865\n",
      "Non-trainable params: 0\n",
      "_________________________________________________________________\n"
     ]
    },
    {
     "data": {
      "image/png": "[encoded data removed]",
      "text/plain": [
       "<Figure size 432x288 with 1 Axes>"
      ]
     },
     "metadata": {
      "needs_background": "light"
     },
     "output_type": "display_data"
    },
    {
     "name": "stdout",
     "output_type": "stream",
     "text": [
      "ROC AUC:  0.9441239000000001\n"
     ]
    }
   ],
   "source": [
    "###################################\n",
    "# TRAINED MODEL WITH NEW PAX DATA # using the NEW pax images\n",
    "###################################\n",
    "\n",
    "dependencies = {\n",
    "    'f1_m' : f1_m, \n",
    "    'precision_m' : precision_m,\n",
    "    'recall_m': recall_m,\n",
    "}\n",
    "\n",
    "model = keras.models.load_model(model_name_old, custom_objects=dependencies)\n",
    "\n",
    "model.summary()\n",
    "\n",
    "\n",
    "from sklearn.metrics import roc_curve, roc_auc_score, auc\n",
    "\n",
    "yhat4 = model.predict(x_test4)      # Predict class values\n",
    "fpr, tpr, thresholds = roc_curve(y_test4, yhat4)\n",
    "auc = auc(fpr, tpr)\n",
    "plot_roc_curve(fpr, tpr)\n",
    "\n",
    "print('ROC AUC: ', auc)"
   ]
  },
  {
   "cell_type": "code",
   "execution_count": null,
   "metadata": {},
   "outputs": [],
   "source": []
  },
  {
   "cell_type": "markdown",
   "metadata": {},
   "source": [
    "##### Solo signal images aplicado al modelo del paper"
   ]
  },
  {
   "cell_type": "code",
   "execution_count": 27,
   "metadata": {},
   "outputs": [
    {
     "name": "stdout",
     "output_type": "stream",
     "text": [
      "images.shape:  (5000, 75, 75, 4)\n",
      "labels.shape:  (5000,)\n",
      "[75 75  4]\n"
     ]
    }
   ],
   "source": [
    "##########\n",
    "# SIGNAL #\n",
    "##########\n",
    "num_signal = 5000\n",
    "\n",
    "file_pathsWP = glob.glob(path.join(folderimages_scaled_new, 'WP*.png'))\n",
    "\n",
    "# Load the images into a single variable and convert to a numpy array\n",
    "imagesWP = [imageio.imread(file_pathsWP[jj]) for jj in range(num_signal)]\n",
    "imagesWP = np.asarray(imagesWP)\n",
    "\n",
    "labelsWP = np.ones(num_signal)\n",
    "\n",
    "\n",
    "\n",
    "\n",
    "images = imagesWP\n",
    "del imagesWP\n",
    "\n",
    "labels = labelsWP\n",
    "del labelsWP\n",
    "\n",
    "\n",
    "\n",
    "print('images.shape: ', images.shape)\n",
    "print('labels.shape: ', labels.shape)\n",
    "\n",
    "# Get image size\n",
    "image_size = np.asarray([images.shape[1], images.shape[2], images.shape[3]])\n",
    "print(image_size)\n",
    "\n",
    "# Scale images so values are between 0 and 1\n",
    "images = images / 255\n",
    "\n",
    "n_images = images.shape[0]\n",
    "\n",
    "\n",
    "x_test_S = images\n",
    "del images\n",
    "\n",
    "y_test_S = labels\n",
    "del labels"
   ]
  },
  {
   "cell_type": "markdown",
   "metadata": {},
   "source": [
    "##### Solo background images aplicado al modelo del paper"
   ]
  },
  {
   "cell_type": "code",
   "execution_count": 28,
   "metadata": {},
   "outputs": [
    {
     "name": "stdout",
     "output_type": "stream",
     "text": [
      "images.shape:  (5000, 75, 75, 4)\n",
      "labels.shape:  (5000,)\n",
      "[75 75  4]\n"
     ]
    }
   ],
   "source": [
    "##############\n",
    "# BACKGROUND #\n",
    "##############\n",
    "num_back = 5000\n",
    "\n",
    "file_pathsER = glob.glob(path.join(folderimages_scaled_new, 'ER*.png'))\n",
    "\n",
    "# Load the images into a single variable and convert to a numpy array\n",
    "imagesER = [imageio.imread(file_pathsER[jj]) for jj in range(num_back)]\n",
    "imagesER = np.asarray(imagesER)\n",
    "\n",
    "labelsER = np.zeros(num_back)\n",
    "\n",
    "\n",
    "\n",
    "images = imagesER\n",
    "del imagesER\n",
    "\n",
    "labels = labelsER\n",
    "del labelsER\n",
    "\n",
    "\n",
    "\n",
    "print('images.shape: ', images.shape)\n",
    "print('labels.shape: ', labels.shape)\n",
    "\n",
    "# Get image size\n",
    "image_size = np.asarray([images.shape[1], images.shape[2], images.shape[3]])\n",
    "print(image_size)\n",
    "\n",
    "# Scale images so values are between 0 and 1\n",
    "images = images / 255\n",
    "\n",
    "n_images = images.shape[0]\n",
    "\n",
    "x_test_B = images\n",
    "del images\n",
    "\n",
    "y_test_B = labels\n",
    "del labels"
   ]
  },
  {
   "cell_type": "code",
   "execution_count": 29,
   "metadata": {},
   "outputs": [
    {
     "name": "stdout",
     "output_type": "stream",
     "text": [
      "Model: \"sequential\"\n",
      "_________________________________________________________________\n",
      "Layer (type)                 Output Shape              Param #   \n",
      "=================================================================\n",
      "conv2d (Conv2D)              (None, 73, 73, 16)        592       \n",
      "_________________________________________________________________\n",
      "leaky_re_lu (LeakyReLU)      (None, 73, 73, 16)        0         \n",
      "_________________________________________________________________\n",
      "max_pooling2d (MaxPooling2D) (None, 72, 72, 16)        0         \n",
      "_________________________________________________________________\n",
      "dropout (Dropout)            (None, 72, 72, 16)        0         \n",
      "_________________________________________________________________\n",
      "flatten (Flatten)            (None, 82944)             0         \n",
      "_________________________________________________________________\n",
      "dense (Dense)                (None, 32)                2654240   \n",
      "_________________________________________________________________\n",
      "leaky_re_lu_1 (LeakyReLU)    (None, 32)                0         \n",
      "_________________________________________________________________\n",
      "dropout_1 (Dropout)          (None, 32)                0         \n",
      "_________________________________________________________________\n",
      "dense_1 (Dense)              (None, 1)                 33        \n",
      "_________________________________________________________________\n",
      "activation (Activation)      (None, 1)                 0         \n",
      "=================================================================\n",
      "Total params: 2,654,865\n",
      "Trainable params: 2,654,865\n",
      "Non-trainable params: 0\n",
      "_________________________________________________________________\n"
     ]
    },
    {
     "data": {
      "image/png": "[encoded data removed]",
      "text/plain": [
       "<Figure size 432x288 with 1 Axes>"
      ]
     },
     "metadata": {
      "needs_background": "light"
     },
     "output_type": "display_data"
    }
   ],
   "source": [
    "###################################\n",
    "# TRAINED MODEL WITH OLD PAX DATA # using the OLD pax images\n",
    "###################################\n",
    "\n",
    "dependencies = {\n",
    "    'f1_m' : f1_m, \n",
    "    'precision_m' : precision_m,\n",
    "    'recall_m': recall_m,\n",
    "}\n",
    "\n",
    "model = keras.models.load_model(model_name_new, custom_objects=dependencies)\n",
    "\n",
    "model.summary()\n",
    "\n",
    "\n",
    "from sklearn.metrics import roc_curve, roc_auc_score, auc\n",
    "\n",
    "yhat_S = model.predict(x_test_S)      # Predict class values\n",
    "yhat_B = model.predict(x_test_B)\n",
    "\n",
    "plt.hist(yhat_S, density='True', bins=20, color='red', edgecolor='red', alpha=0.4, label='Signal')\n",
    "plt.hist(yhat_B, density='True', bins=20, color='blue', edgecolor='blue', alpha=0.4, label='Backgroud')\n",
    "plt.xlabel('Output', fontsize=14)\n",
    "plt.ylabel('Density events', fontsize=14)\n",
    "plt.legend()\n",
    "plt.show()"
   ]
  },
  {
   "cell_type": "code",
   "execution_count": 30,
   "metadata": {},
   "outputs": [
    {
     "name": "stdout",
     "output_type": "stream",
     "text": [
      "Model: \"sequential_18\"\n",
      "_________________________________________________________________\n",
      "Layer (type)                 Output Shape              Param #   \n",
      "=================================================================\n",
      "conv2d_28 (Conv2D)           (None, 73, 73, 16)        592       \n",
      "_________________________________________________________________\n",
      "leaky_re_lu_45 (LeakyReLU)   (None, 73, 73, 16)        0         \n",
      "_________________________________________________________________\n",
      "max_pooling2d_28 (MaxPooling (None, 72, 72, 16)        0         \n",
      "_________________________________________________________________\n",
      "dropout_35 (Dropout)         (None, 72, 72, 16)        0         \n",
      "_________________________________________________________________\n",
      "flatten_18 (Flatten)         (None, 82944)             0         \n",
      "_________________________________________________________________\n",
      "dense_35 (Dense)             (None, 32)                2654240   \n",
      "_________________________________________________________________\n",
      "leaky_re_lu_46 (LeakyReLU)   (None, 32)                0         \n",
      "_________________________________________________________________\n",
      "dropout_36 (Dropout)         (None, 32)                0         \n",
      "_________________________________________________________________\n",
      "dense_36 (Dense)             (None, 1)                 33        \n",
      "_________________________________________________________________\n",
      "activation_18 (Activation)   (None, 1)                 0         \n",
      "=================================================================\n",
      "Total params: 2,654,865\n",
      "Trainable params: 2,654,865\n",
      "Non-trainable params: 0\n",
      "_________________________________________________________________\n"
     ]
    },
    {
     "data": {
      "image/png": "[encoded data removed]",
      "text/plain": [
       "<Figure size 432x288 with 1 Axes>"
      ]
     },
     "metadata": {
      "needs_background": "light"
     },
     "output_type": "display_data"
    }
   ],
   "source": [
    "###############\n",
    "# PAPER MODEL #\n",
    "###############\n",
    "\n",
    "dependencies = {\n",
    "    'f1_m' : f1_m, \n",
    "    'precision_m' : precision_m,\n",
    "    'recall_m': recall_m,\n",
    "}\n",
    "\n",
    "model = keras.models.load_model(model_paper, custom_objects=dependencies)\n",
    "\n",
    "model.summary()\n",
    "\n",
    "\n",
    "from sklearn.metrics import roc_curve, roc_auc_score, auc\n",
    "\n",
    "yhat_S = model.predict(x_test_S)      # Predict class values\n",
    "yhat_B = model.predict(x_test_B)\n",
    "\n",
    "plt.hist(yhat_S, density='True', bins=20, color='red', edgecolor='red', alpha=0.4, label='Signal')\n",
    "plt.hist(yhat_B, density='True', bins=20, color='blue', edgecolor='blue', alpha=0.4, label='Backgroud')\n",
    "plt.xlabel('Output', fontsize=14)\n",
    "plt.ylabel('Density events', fontsize=14)\n",
    "plt.legend()\n",
    "plt.show()"
   ]
  },
  {
   "cell_type": "code",
   "execution_count": 31,
   "metadata": {},
   "outputs": [
    {
     "name": "stdout",
     "output_type": "stream",
     "text": [
      "Model: \"sequential\"\n",
      "_________________________________________________________________\n",
      "Layer (type)                 Output Shape              Param #   \n",
      "=================================================================\n",
      "conv2d (Conv2D)              (None, 73, 73, 16)        592       \n",
      "_________________________________________________________________\n",
      "leaky_re_lu (LeakyReLU)      (None, 73, 73, 16)        0         \n",
      "_________________________________________________________________\n",
      "max_pooling2d (MaxPooling2D) (None, 72, 72, 16)        0         \n",
      "_________________________________________________________________\n",
      "dropout (Dropout)            (None, 72, 72, 16)        0         \n",
      "_________________________________________________________________\n",
      "flatten (Flatten)            (None, 82944)             0         \n",
      "_________________________________________________________________\n",
      "dense (Dense)                (None, 32)                2654240   \n",
      "_________________________________________________________________\n",
      "leaky_re_lu_1 (LeakyReLU)    (None, 32)                0         \n",
      "_________________________________________________________________\n",
      "dropout_1 (Dropout)          (None, 32)                0         \n",
      "_________________________________________________________________\n",
      "dense_1 (Dense)              (None, 1)                 33        \n",
      "_________________________________________________________________\n",
      "activation (Activation)      (None, 1)                 0         \n",
      "=================================================================\n",
      "Total params: 2,654,865\n",
      "Trainable params: 2,654,865\n",
      "Non-trainable params: 0\n",
      "_________________________________________________________________\n"
     ]
    },
    {
     "data": {
      "image/png": "[encoded data removed]",
      "text/plain": [
       "<Figure size 432x288 with 1 Axes>"
      ]
     },
     "metadata": {
      "needs_background": "light"
     },
     "output_type": "display_data"
    }
   ],
   "source": [
    "###################################\n",
    "# TRAINED MODEL WITH NEW PAX DATA # using the OLD pax images\n",
    "###################################\n",
    "\n",
    "dependencies = {\n",
    "    'f1_m' : f1_m, \n",
    "    'precision_m' : precision_m,\n",
    "    'recall_m': recall_m,\n",
    "}\n",
    "\n",
    "model = keras.models.load_model(model_name_old, custom_objects=dependencies)\n",
    "\n",
    "model.summary()\n",
    "\n",
    "\n",
    "from sklearn.metrics import roc_curve, roc_auc_score, auc\n",
    "\n",
    "yhat_S = model.predict(x_test_S)      # Predict class values\n",
    "yhat_B = model.predict(x_test_B)\n",
    "\n",
    "plt.hist(yhat_S, density='True', bins=20, color='red', edgecolor='red', alpha=0.4, label='Signal')\n",
    "plt.hist(yhat_B, density='True', bins=20, color='blue', edgecolor='blue', alpha=0.4, label='Backgroud')\n",
    "plt.xlabel('Output', fontsize=14)\n",
    "plt.ylabel('Density events', fontsize=14)\n",
    "plt.legend()\n",
    "plt.show()"
   ]
  },
  {
   "cell_type": "code",
   "execution_count": null,
   "metadata": {},
   "outputs": [],
   "source": []
  }
 ],
 "metadata": {
  "kernelspec": {
   "display_name": "Python 3",
   "language": "python",
   "name": "python3"
  },
  "language_info": {
   "codemirror_mode": {
    "name": "ipython",
    "version": 3
   },
   "file_extension": ".py",
   "mimetype": "text/x-python",
   "name": "python",
   "nbconvert_exporter": "python",
   "pygments_lexer": "ipython3",
   "version": "3.8.8"
  }
 },
 "nbformat": 4,
 "nbformat_minor": 4
}
