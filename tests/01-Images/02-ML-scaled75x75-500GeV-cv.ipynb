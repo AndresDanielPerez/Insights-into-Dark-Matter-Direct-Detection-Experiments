{
 "cells": [
  {
   "cell_type": "code",
   "execution_count": 1,
   "metadata": {},
   "outputs": [],
   "source": [
    "import numpy as np\n",
    "import pandas as pd\n",
    "import matplotlib.pyplot as plt\n",
    "import seaborn as sns\n",
    "from matplotlib import gridspec\n",
    "from matplotlib import patches\n",
    "from matplotlib import cm\n",
    "from mpl_toolkits.mplot3d import Axes3D\n",
    "\n",
    "import os\n",
    "import math\n",
    "import random\n",
    "\n",
    "import keras\n",
    "from keras.models import Sequential\n",
    "from keras.layers import Input, Dense, Conv2D, Flatten, MaxPooling2D\n",
    "from keras.layers import Dropout\n",
    "from keras.callbacks import EarlyStopping\n",
    "\n",
    "from sklearn.preprocessing import MinMaxScaler\n",
    "from sklearn.model_selection import train_test_split\n",
    "from sklearn.utils import shuffle\n",
    "from sklearn import preprocessing\n",
    "from sklearn.metrics import roc_curve, roc_auc_score, auc\n",
    "\n",
    "import scipy.stats as st\n",
    "from scipy.stats import poisson\n",
    "from scipy.interpolate import interp1d\n",
    "from scipy.stats import norm"
   ]
  },
  {
   "cell_type": "code",
   "execution_count": 2,
   "metadata": {},
   "outputs": [],
   "source": [
    "from sklearn.neighbors import KernelDensity # paquete necesario\n",
    "from sklearn.model_selection import GridSearchCV\n",
    "\n",
    "import scipy.integrate as integrate"
   ]
  },
  {
   "cell_type": "code",
   "execution_count": 3,
   "metadata": {},
   "outputs": [
    {
     "name": "stdout",
     "output_type": "stream",
     "text": [
      "Requirement already satisfied: xgboost in /home/perez/anaconda3/lib/python3.7/site-packages (1.5.1)\n",
      "Requirement already satisfied: numpy in /home/perez/anaconda3/lib/python3.7/site-packages (from xgboost) (1.18.5)\n",
      "Requirement already satisfied: scipy in /home/perez/anaconda3/lib/python3.7/site-packages (from xgboost) (1.4.1)\n",
      "\n",
      "\u001b[1m[\u001b[0m\u001b[34;49mnotice\u001b[0m\u001b[1;39;49m]\u001b[0m\u001b[39;49m A new release of pip is available: \u001b[0m\u001b[31;49m23.0\u001b[0m\u001b[39;49m -> \u001b[0m\u001b[32;49m23.2.1\u001b[0m\n",
      "\u001b[1m[\u001b[0m\u001b[34;49mnotice\u001b[0m\u001b[1;39;49m]\u001b[0m\u001b[39;49m To update, run: \u001b[0m\u001b[32;49mpip install --upgrade pip\u001b[0m\n"
     ]
    }
   ],
   "source": [
    "!pip install xgboost\n",
    "\n",
    "import xgboost\n",
    "from xgboost import XGBRegressor, XGBClassifier"
   ]
  },
  {
   "cell_type": "code",
   "execution_count": 4,
   "metadata": {},
   "outputs": [],
   "source": [
    "import glob\n",
    "import numpy as np\n",
    "import os.path as path\n",
    "import imageio\n",
    "import matplotlib.pyplot as plt\n",
    "from keras.models import Sequential\n",
    "from keras.layers import Activation, Dropout, Flatten, Dense, Conv2D, MaxPooling2D\n",
    "from keras.callbacks import EarlyStopping, TensorBoard\n",
    "from datetime import datetime\n",
    "import keras\n",
    "from keras import regularizers\n",
    "from sklearn.model_selection import train_test_split\n",
    "import pandas as pd\n",
    "from sklearn.metrics import accuracy_score, f1_score, average_precision_score, precision_recall_curve, auc,recall_score\n",
    "from keras.optimizers import Adam\n",
    "from keras.regularizers import l2\n",
    "import h5py\n",
    "from sklearn.model_selection import GridSearchCV\n",
    "from keras.backend import cast, greater, clip, floatx,epsilon\n",
    "from keras.wrappers.scikit_learn import KerasClassifier\n",
    "from keras import backend as K\n",
    "from sklearn.model_selection import StratifiedKFold"
   ]
  },
  {
   "cell_type": "markdown",
   "metadata": {},
   "source": [
    "### Load images"
   ]
  },
  {
   "cell_type": "code",
   "execution_count": 5,
   "metadata": {},
   "outputs": [],
   "source": [
    "folderimages_scaled = '/home/perez/CompuTools/Direct-Detection/new/out-images-scaled-cv/'\n",
    "\n",
    "model_name = 'saved-models/model_CNN_75x75_500GeV_cv_v3.h5'\n",
    "model_paper = 'paper-model/final_model.h5'"
   ]
  },
  {
   "cell_type": "code",
   "execution_count": null,
   "metadata": {},
   "outputs": [],
   "source": []
  },
  {
   "cell_type": "code",
   "execution_count": 6,
   "metadata": {},
   "outputs": [],
   "source": [
    "from keras import backend as K\n",
    "np.random.seed(0)\n",
    "\n",
    "# Define recall, precision and f1 functions\n",
    "def recall_m(y_true, y_pred):\n",
    "    true_positives = K.sum(K.round(K.clip(y_true * y_pred, 0, 1)))\n",
    "    possible_positives = K.sum(K.round(K.clip(y_true, 0, 1)))\n",
    "    recall = true_positives / (possible_positives + K.epsilon())\n",
    "    return recall\n",
    "\n",
    "def precision_m(y_true, y_pred):\n",
    "    true_positives = K.sum(K.round(K.clip(y_true * y_pred, 0, 1)))\n",
    "    predicted_positives = K.sum(K.round(K.clip(y_pred, 0, 1)))\n",
    "    precision = true_positives / (predicted_positives + K.epsilon())\n",
    "    return precision\n",
    "\n",
    "def f1_m(y_true, y_pred):\n",
    "    precision = precision_m(y_true, y_pred)\n",
    "    recall = recall_m(y_true, y_pred)\n",
    "    return 2*((precision*recall)/(precision+recall+K.epsilon()))"
   ]
  },
  {
   "cell_type": "code",
   "execution_count": null,
   "metadata": {},
   "outputs": [],
   "source": []
  },
  {
   "cell_type": "markdown",
   "metadata": {},
   "source": [
    "##### TEST-VAL SET"
   ]
  },
  {
   "cell_type": "code",
   "execution_count": 7,
   "metadata": {},
   "outputs": [
    {
     "name": "stdout",
     "output_type": "stream",
     "text": [
      "(75, 75, 4)\n",
      "(75, 75, 4)\n",
      "(75, 75, 4)\n",
      "(75, 75, 4)\n"
     ]
    }
   ],
   "source": [
    "# test\n",
    "from PIL import Image\n",
    "\n",
    "for i in range(2):\n",
    "    img = Image.open( folderimages_scaled+'WP' + str(i) + '.png' )\n",
    "    data = np.asarray( img, dtype=\"int32\" )\n",
    "    print(data.shape)\n",
    "    \n",
    "for i in range(2):\n",
    "    img = Image.open( folderimages_scaled+'ER' + str(i) + '.png' )\n",
    "    data = np.asarray( img, dtype=\"int32\" )\n",
    "    print(data.shape)"
   ]
  },
  {
   "cell_type": "code",
   "execution_count": 9,
   "metadata": {},
   "outputs": [
    {
     "name": "stdout",
     "output_type": "stream",
     "text": [
      "images.shape:  (10000, 75, 75, 4)\n",
      "labels.shape:  (10000,)\n",
      "[75 75  4]\n"
     ]
    }
   ],
   "source": [
    "##########\n",
    "# SIGNAL #\n",
    "##########\n",
    "num_signal = 5000\n",
    "\n",
    "file_pathsWP = glob.glob(path.join(folderimages_scaled, 'WP*.png'))\n",
    "\n",
    "# Load the images into a single variable and convert to a numpy array\n",
    "imagesWP = [imageio.imread(file_pathsWP[jj]) for jj in range(num_signal)]\n",
    "imagesWP = np.asarray(imagesWP)\n",
    "\n",
    "labelsWP = np.ones(num_signal)\n",
    "\n",
    "\n",
    "##############\n",
    "# BACKGROUND #\n",
    "##############\n",
    "num_back = 5000\n",
    "\n",
    "file_pathsER = glob.glob(path.join(folderimages_scaled, 'ER*.png'))\n",
    "\n",
    "# Load the images into a single variable and convert to a numpy array\n",
    "imagesER = [imageio.imread(file_pathsER[jj]) for jj in range(num_back)]\n",
    "imagesER = np.asarray(imagesER)\n",
    "\n",
    "labelsER = np.zeros(num_back)\n",
    "\n",
    "\n",
    "\n",
    "images = np.concatenate([imagesWP,imagesER])\n",
    "del imagesWP\n",
    "del imagesER\n",
    "\n",
    "labels = np.concatenate([labelsWP,labelsER])\n",
    "del labelsWP\n",
    "del labelsER\n",
    "\n",
    "\n",
    "\n",
    "print('images.shape: ', images.shape)\n",
    "print('labels.shape: ', labels.shape)\n",
    "\n",
    "# Get image size\n",
    "image_size = np.asarray([images.shape[1], images.shape[2], images.shape[3]])\n",
    "print(image_size)\n",
    "\n",
    "# Scale images so values are between 0 and 1\n",
    "images = images / 255\n",
    "\n",
    "n_images = images.shape[0]"
   ]
  },
  {
   "cell_type": "code",
   "execution_count": 10,
   "metadata": {},
   "outputs": [
    {
     "data": {
      "text/plain": [
       "5000.0"
      ]
     },
     "execution_count": 10,
     "metadata": {},
     "output_type": "execute_result"
    }
   ],
   "source": [
    "sum(labels)"
   ]
  },
  {
   "cell_type": "code",
   "execution_count": 11,
   "metadata": {},
   "outputs": [
    {
     "data": {
      "text/plain": [
       "(10000,)"
      ]
     },
     "execution_count": 11,
     "metadata": {},
     "output_type": "execute_result"
    }
   ],
   "source": [
    "labels.shape"
   ]
  },
  {
   "cell_type": "code",
   "execution_count": 29,
   "metadata": {},
   "outputs": [],
   "source": [
    "# file_paths = glob.glob(path.join(folderimages_scaled, '*.png'))\n",
    "\n",
    "# # Load the images into a single variable and convert to a numpy array\n",
    "# images = [imageio.imread(file_paths[jj]) for jj in range(20000)]\n",
    "# images = np.asarray(images)\n",
    "# print(images.shape)\n",
    "\n",
    "# # Get image size\n",
    "# image_size = np.asarray([images.shape[1], images.shape[2], images.shape[3]])\n",
    "# print(image_size)\n",
    "\n",
    "# # Scale images so values are between 0 and 1\n",
    "# images = images / 255"
   ]
  },
  {
   "cell_type": "code",
   "execution_count": 26,
   "metadata": {},
   "outputs": [],
   "source": [
    "# # Read the labels from the filenames\n",
    "\n",
    "# n_images = images.shape[0]\n",
    "# labels = np.zeros(n_images)\n",
    "# for i in range(n_images):\n",
    "#     filename = path.basename(file_paths[i])[0]\n",
    "#     if filename[0] == 'W':                          #Every file that begins with W is assigned a 1\n",
    "#         labels[i] = 1\n",
    "#     else:\n",
    "#         labels[i] = 0\n",
    "\n",
    "# # Background = 0 = FALSE\n",
    "# # WIMPS = 1 = TRUE"
   ]
  },
  {
   "cell_type": "code",
   "execution_count": 12,
   "metadata": {},
   "outputs": [
    {
     "name": "stdout",
     "output_type": "stream",
     "text": [
      "(7000, 75, 75, 4)\n",
      "(7000,)\n",
      "(3000, 75, 75, 4)\n",
      "(3000,)\n"
     ]
    }
   ],
   "source": [
    "# Split into test and training sets\n",
    "\n",
    "TRAIN_TEST_SPLIT = 0.7            \n",
    "\n",
    "# Split at the given index\n",
    "split_index = int(TRAIN_TEST_SPLIT * n_images)\n",
    "shuffled_indices = np.random.permutation(n_images)\n",
    "train_indices = shuffled_indices[0:split_index]\n",
    "test_indices = shuffled_indices[split_index:]\n",
    "\n",
    "# Split the images and the labels\n",
    "x_train = images[train_indices, :, :, :]\n",
    "y_train = labels[train_indices]\n",
    "x_val = images[test_indices, :, :, :]\n",
    "y_val = labels[test_indices]\n",
    "\n",
    "#x_train = images\n",
    "#y_train = labels\n",
    "\n",
    "print(x_train.shape)\n",
    "print(y_train.shape)\n",
    "print(x_val.shape)\n",
    "print(y_val.shape)"
   ]
  },
  {
   "cell_type": "markdown",
   "metadata": {},
   "source": [
    "##### TRAIN THE MODEL"
   ]
  },
  {
   "cell_type": "code",
   "execution_count": 13,
   "metadata": {},
   "outputs": [
    {
     "name": "stdout",
     "output_type": "stream",
     "text": [
      "Epoch 1/50\n",
      "70/70 [==============================] - 23s 330ms/step - loss: 1.3270 - acc: 0.5137 - f1_m: 0.5113 - precision_m: 0.4968 - recall_m: 0.5553 - val_loss: 0.7736 - val_acc: 0.6070 - val_f1_m: 0.7204 - val_precision_m: 0.5655 - val_recall_m: 0.9953\n",
      "Epoch 2/50\n",
      "70/70 [==============================] - 23s 322ms/step - loss: 0.7502 - acc: 0.6293 - f1_m: 0.6099 - precision_m: 0.6333 - recall_m: 0.6231 - val_loss: 0.6204 - val_acc: 0.7503 - val_f1_m: 0.7776 - val_precision_m: 0.7113 - val_recall_m: 0.8591\n",
      "Epoch 3/50\n",
      "70/70 [==============================] - 23s 327ms/step - loss: 0.6494 - acc: 0.7260 - f1_m: 0.7153 - precision_m: 0.7326 - recall_m: 0.7155 - val_loss: 0.5762 - val_acc: 0.7830 - val_f1_m: 0.7980 - val_precision_m: 0.7589 - val_recall_m: 0.8428\n",
      "Epoch 4/50\n",
      "70/70 [==============================] - 23s 324ms/step - loss: 0.5924 - acc: 0.7646 - f1_m: 0.7631 - precision_m: 0.7583 - recall_m: 0.7761 - val_loss: 0.5508 - val_acc: 0.7890 - val_f1_m: 0.7797 - val_precision_m: 0.8288 - val_recall_m: 0.7384\n",
      "Epoch 5/50\n",
      "70/70 [==============================] - 23s 324ms/step - loss: 0.5778 - acc: 0.7774 - f1_m: 0.7748 - precision_m: 0.7773 - recall_m: 0.7811 - val_loss: 0.5516 - val_acc: 0.8037 - val_f1_m: 0.8014 - val_precision_m: 0.8263 - val_recall_m: 0.7802\n",
      "Epoch 6/50\n",
      "70/70 [==============================] - 23s 331ms/step - loss: 0.5528 - acc: 0.7889 - f1_m: 0.7848 - precision_m: 0.7906 - recall_m: 0.7876 - val_loss: 0.5253 - val_acc: 0.8063 - val_f1_m: 0.8217 - val_precision_m: 0.7726 - val_recall_m: 0.8787\n",
      "Epoch 7/50\n",
      "70/70 [==============================] - 23s 332ms/step - loss: 0.5550 - acc: 0.7904 - f1_m: 0.7888 - precision_m: 0.7894 - recall_m: 0.7994 - val_loss: 0.5150 - val_acc: 0.8163 - val_f1_m: 0.8262 - val_precision_m: 0.7972 - val_recall_m: 0.8590\n",
      "Epoch 8/50\n",
      "70/70 [==============================] - 23s 332ms/step - loss: 0.5423 - acc: 0.8029 - f1_m: 0.7996 - precision_m: 0.8040 - recall_m: 0.8038 - val_loss: 0.5340 - val_acc: 0.8010 - val_f1_m: 0.8195 - val_precision_m: 0.7613 - val_recall_m: 0.8890\n",
      "Epoch 9/50\n",
      "70/70 [==============================] - 23s 333ms/step - loss: 0.5324 - acc: 0.7980 - f1_m: 0.7907 - precision_m: 0.8032 - recall_m: 0.7881 - val_loss: 0.5390 - val_acc: 0.7977 - val_f1_m: 0.7821 - val_precision_m: 0.8613 - val_recall_m: 0.7190\n",
      "Epoch 10/50\n",
      "70/70 [==============================] - 23s 328ms/step - loss: 0.5121 - acc: 0.8186 - f1_m: 0.8168 - precision_m: 0.8154 - recall_m: 0.8246 - val_loss: 0.5274 - val_acc: 0.7993 - val_f1_m: 0.7855 - val_precision_m: 0.8605 - val_recall_m: 0.7250\n",
      "Epoch 11/50\n",
      "70/70 [==============================] - 23s 332ms/step - loss: 0.5238 - acc: 0.8106 - f1_m: 0.8041 - precision_m: 0.8190 - recall_m: 0.8007 - val_loss: 0.5349 - val_acc: 0.8030 - val_f1_m: 0.7906 - val_precision_m: 0.8572 - val_recall_m: 0.7360\n",
      "Epoch 12/50\n",
      "70/70 [==============================] - 25s 358ms/step - loss: 0.5368 - acc: 0.8077 - f1_m: 0.8034 - precision_m: 0.8135 - recall_m: 0.8034 - val_loss: 0.5316 - val_acc: 0.8233 - val_f1_m: 0.8292 - val_precision_m: 0.8149 - val_recall_m: 0.8460\n",
      "Epoch 13/50\n",
      "70/70 [==============================] - 25s 357ms/step - loss: 0.5132 - acc: 0.8221 - f1_m: 0.8195 - precision_m: 0.8206 - recall_m: 0.8251 - val_loss: 0.5038 - val_acc: 0.8280 - val_f1_m: 0.8338 - val_precision_m: 0.8200 - val_recall_m: 0.8496\n",
      "Epoch 14/50\n",
      "70/70 [==============================] - 26s 379ms/step - loss: 0.5007 - acc: 0.8266 - f1_m: 0.8245 - precision_m: 0.8232 - recall_m: 0.8312 - val_loss: 0.4928 - val_acc: 0.8263 - val_f1_m: 0.8296 - val_precision_m: 0.8265 - val_recall_m: 0.8344\n",
      "Epoch 15/50\n",
      "70/70 [==============================] - 23s 335ms/step - loss: 0.5014 - acc: 0.8226 - f1_m: 0.8203 - precision_m: 0.8233 - recall_m: 0.8238 - val_loss: 0.5018 - val_acc: 0.8277 - val_f1_m: 0.8337 - val_precision_m: 0.8182 - val_recall_m: 0.8519\n",
      "Epoch 16/50\n",
      "70/70 [==============================] - 23s 332ms/step - loss: 0.5071 - acc: 0.8239 - f1_m: 0.8189 - precision_m: 0.8252 - recall_m: 0.8174 - val_loss: 0.5244 - val_acc: 0.8260 - val_f1_m: 0.8251 - val_precision_m: 0.8404 - val_recall_m: 0.8112\n",
      "Epoch 17/50\n",
      "70/70 [==============================] - 23s 333ms/step - loss: 0.4946 - acc: 0.8306 - f1_m: 0.8266 - precision_m: 0.8306 - recall_m: 0.8284 - val_loss: 0.4943 - val_acc: 0.8330 - val_f1_m: 0.8416 - val_precision_m: 0.8127 - val_recall_m: 0.8742\n",
      "Epoch 18/50\n",
      "70/70 [==============================] - 24s 337ms/step - loss: 0.4839 - acc: 0.8369 - f1_m: 0.8345 - precision_m: 0.8349 - recall_m: 0.8390 - val_loss: 0.4975 - val_acc: 0.8243 - val_f1_m: 0.8230 - val_precision_m: 0.8442 - val_recall_m: 0.8046\n",
      "Epoch 19/50\n",
      "70/70 [==============================] - 23s 332ms/step - loss: 0.4893 - acc: 0.8317 - f1_m: 0.8272 - precision_m: 0.8379 - recall_m: 0.8260 - val_loss: 0.5089 - val_acc: 0.8280 - val_f1_m: 0.8417 - val_precision_m: 0.7915 - val_recall_m: 0.9012\n",
      "Epoch 20/50\n",
      "70/70 [==============================] - 23s 331ms/step - loss: 0.4948 - acc: 0.8284 - f1_m: 0.8260 - precision_m: 0.8289 - recall_m: 0.8303 - val_loss: 0.5094 - val_acc: 0.8230 - val_f1_m: 0.8193 - val_precision_m: 0.8493 - val_recall_m: 0.7932\n",
      "Epoch 21/50\n",
      "70/70 [==============================] - 23s 333ms/step - loss: 0.5214 - acc: 0.8193 - f1_m: 0.8155 - precision_m: 0.8205 - recall_m: 0.8209 - val_loss: 0.5524 - val_acc: 0.8290 - val_f1_m: 0.8376 - val_precision_m: 0.8107 - val_recall_m: 0.8679\n",
      "Epoch 22/50\n",
      "70/70 [==============================] - 23s 334ms/step - loss: 0.5592 - acc: 0.7971 - f1_m: 0.7891 - precision_m: 0.8124 - recall_m: 0.7830 - val_loss: 0.5471 - val_acc: 0.8113 - val_f1_m: 0.8269 - val_precision_m: 0.7763 - val_recall_m: 0.8862\n",
      "Epoch 23/50\n",
      "70/70 [==============================] - 23s 334ms/step - loss: 0.5418 - acc: 0.8130 - f1_m: 0.8084 - precision_m: 0.8164 - recall_m: 0.8104 - val_loss: 0.5177 - val_acc: 0.8257 - val_f1_m: 0.8326 - val_precision_m: 0.8157 - val_recall_m: 0.8523\n",
      "Epoch 24/50\n",
      "70/70 [==============================] - 24s 339ms/step - loss: 0.5123 - acc: 0.8244 - f1_m: 0.8211 - precision_m: 0.8310 - recall_m: 0.8202 - val_loss: 0.5163 - val_acc: 0.8230 - val_f1_m: 0.8342 - val_precision_m: 0.7981 - val_recall_m: 0.8752\n",
      "Epoch 25/50\n",
      "70/70 [==============================] - 24s 348ms/step - loss: 0.5042 - acc: 0.8253 - f1_m: 0.8230 - precision_m: 0.8235 - recall_m: 0.8300 - val_loss: 0.5216 - val_acc: 0.8227 - val_f1_m: 0.8350 - val_precision_m: 0.7914 - val_recall_m: 0.8853\n",
      "Epoch 26/50\n",
      "70/70 [==============================] - 28s 395ms/step - loss: 0.4825 - acc: 0.8330 - f1_m: 0.8300 - precision_m: 0.8297 - recall_m: 0.8370 - val_loss: 0.5098 - val_acc: 0.8220 - val_f1_m: 0.8184 - val_precision_m: 0.8487 - val_recall_m: 0.7916\n",
      "Epoch 27/50\n",
      "70/70 [==============================] - 25s 352ms/step - loss: 0.4833 - acc: 0.8340 - f1_m: 0.8313 - precision_m: 0.8331 - recall_m: 0.8354 - val_loss: 0.4924 - val_acc: 0.8317 - val_f1_m: 0.8372 - val_precision_m: 0.8230 - val_recall_m: 0.8536\n",
      "Epoch 28/50\n",
      "70/70 [==============================] - 25s 363ms/step - loss: 0.4822 - acc: 0.8424 - f1_m: 0.8411 - precision_m: 0.8376 - recall_m: 0.8495 - val_loss: 0.5416 - val_acc: 0.7900 - val_f1_m: 0.7662 - val_precision_m: 0.8825 - val_recall_m: 0.6789\n",
      "Epoch 29/50\n",
      "70/70 [==============================] - 25s 352ms/step - loss: 0.4928 - acc: 0.8339 - f1_m: 0.8312 - precision_m: 0.8346 - recall_m: 0.8348 - val_loss: 0.5189 - val_acc: 0.8207 - val_f1_m: 0.8148 - val_precision_m: 0.8521 - val_recall_m: 0.7823\n",
      "Epoch 30/50\n",
      "70/70 [==============================] - 24s 344ms/step - loss: 0.4813 - acc: 0.8390 - f1_m: 0.8378 - precision_m: 0.8308 - recall_m: 0.8509 - val_loss: 0.5099 - val_acc: 0.8287 - val_f1_m: 0.8282 - val_precision_m: 0.8449 - val_recall_m: 0.8137\n",
      "Epoch 31/50\n",
      "70/70 [==============================] - 25s 356ms/step - loss: 0.4836 - acc: 0.8376 - f1_m: 0.8340 - precision_m: 0.8409 - recall_m: 0.8344 - val_loss: 0.5031 - val_acc: 0.8330 - val_f1_m: 0.8380 - val_precision_m: 0.8259 - val_recall_m: 0.8521\n",
      "Epoch 32/50\n",
      "70/70 [==============================] - 25s 352ms/step - loss: 0.4828 - acc: 0.8379 - f1_m: 0.8364 - precision_m: 0.8306 - recall_m: 0.8477 - val_loss: 0.5069 - val_acc: 0.8323 - val_f1_m: 0.8367 - val_precision_m: 0.8270 - val_recall_m: 0.8479\n"
     ]
    },
    {
     "name": "stdout",
     "output_type": "stream",
     "text": [
      "Epoch 33/50\n",
      "70/70 [==============================] - 26s 368ms/step - loss: 0.4813 - acc: 0.8430 - f1_m: 0.8405 - precision_m: 0.8441 - recall_m: 0.8423 - val_loss: 0.5072 - val_acc: 0.8310 - val_f1_m: 0.8356 - val_precision_m: 0.8257 - val_recall_m: 0.8478\n",
      "Epoch 34/50\n",
      "70/70 [==============================] - 26s 365ms/step - loss: 0.4753 - acc: 0.8431 - f1_m: 0.8393 - precision_m: 0.8446 - recall_m: 0.8402 - val_loss: 0.5080 - val_acc: 0.8270 - val_f1_m: 0.8377 - val_precision_m: 0.8016 - val_recall_m: 0.8792\n",
      "Epoch 35/50\n",
      "70/70 [==============================] - 24s 347ms/step - loss: 0.4729 - acc: 0.8479 - f1_m: 0.8463 - precision_m: 0.8438 - recall_m: 0.8531 - val_loss: 0.5157 - val_acc: 0.8180 - val_f1_m: 0.8093 - val_precision_m: 0.8640 - val_recall_m: 0.7629\n",
      "Epoch 36/50\n",
      "70/70 [==============================] - 25s 352ms/step - loss: 0.4680 - acc: 0.8501 - f1_m: 0.8475 - precision_m: 0.8505 - recall_m: 0.8497 - val_loss: 0.5134 - val_acc: 0.8317 - val_f1_m: 0.8418 - val_precision_m: 0.8048 - val_recall_m: 0.8839\n",
      "Epoch 37/50\n",
      "70/70 [==============================] - 30s 423ms/step - loss: 0.4784 - acc: 0.8383 - f1_m: 0.8378 - precision_m: 0.8315 - recall_m: 0.8512 - val_loss: 0.5097 - val_acc: 0.8260 - val_f1_m: 0.8235 - val_precision_m: 0.8486 - val_recall_m: 0.8011\n",
      "Epoch 38/50\n",
      "70/70 [==============================] - 28s 407ms/step - loss: 0.5579 - acc: 0.8069 - f1_m: 0.8007 - precision_m: 0.8138 - recall_m: 0.8020 - val_loss: 0.5802 - val_acc: 0.8087 - val_f1_m: 0.8039 - val_precision_m: 0.8391 - val_recall_m: 0.7732\n",
      "Epoch 39/50\n",
      "70/70 [==============================] - 26s 367ms/step - loss: 0.5494 - acc: 0.8124 - f1_m: 0.8080 - precision_m: 0.8166 - recall_m: 0.8107 - val_loss: 0.5293 - val_acc: 0.8237 - val_f1_m: 0.8258 - val_precision_m: 0.8291 - val_recall_m: 0.8242\n",
      "Epoch 40/50\n",
      "70/70 [==============================] - 25s 355ms/step - loss: 0.5091 - acc: 0.8291 - f1_m: 0.8269 - precision_m: 0.8241 - recall_m: 0.8339 - val_loss: 0.5246 - val_acc: 0.8190 - val_f1_m: 0.8132 - val_precision_m: 0.8563 - val_recall_m: 0.7756\n",
      "Epoch 41/50\n",
      "70/70 [==============================] - 24s 348ms/step - loss: 0.5016 - acc: 0.8293 - f1_m: 0.8265 - precision_m: 0.8272 - recall_m: 0.8341 - val_loss: 0.5157 - val_acc: 0.8327 - val_f1_m: 0.8370 - val_precision_m: 0.8305 - val_recall_m: 0.8453\n",
      "Epoch 42/50\n",
      "70/70 [==============================] - 24s 350ms/step - loss: 0.4865 - acc: 0.8396 - f1_m: 0.8385 - precision_m: 0.8366 - recall_m: 0.8463 - val_loss: 0.5317 - val_acc: 0.8133 - val_f1_m: 0.8040 - val_precision_m: 0.8586 - val_recall_m: 0.7585\n",
      "Epoch 43/50\n",
      "70/70 [==============================] - 28s 404ms/step - loss: 0.4795 - acc: 0.8416 - f1_m: 0.8394 - precision_m: 0.8395 - recall_m: 0.8433 - val_loss: 0.5144 - val_acc: 0.8287 - val_f1_m: 0.8310 - val_precision_m: 0.8343 - val_recall_m: 0.8292\n",
      "Epoch 44/50\n",
      "70/70 [==============================] - 25s 354ms/step - loss: 0.4816 - acc: 0.8433 - f1_m: 0.8397 - precision_m: 0.8374 - recall_m: 0.8495 - val_loss: 0.5135 - val_acc: 0.8273 - val_f1_m: 0.8371 - val_precision_m: 0.8027 - val_recall_m: 0.8758\n",
      "Epoch 45/50\n",
      "70/70 [==============================] - 24s 346ms/step - loss: 0.5042 - acc: 0.8331 - f1_m: 0.8301 - precision_m: 0.8303 - recall_m: 0.8391 - val_loss: 0.5221 - val_acc: 0.8210 - val_f1_m: 0.8174 - val_precision_m: 0.8486 - val_recall_m: 0.7898\n",
      "Epoch 46/50\n",
      "70/70 [==============================] - 24s 348ms/step - loss: 0.4754 - acc: 0.8450 - f1_m: 0.8436 - precision_m: 0.8384 - recall_m: 0.8533 - val_loss: 0.5042 - val_acc: 0.8303 - val_f1_m: 0.8337 - val_precision_m: 0.8301 - val_recall_m: 0.8390\n",
      "Epoch 47/50\n",
      "70/70 [==============================] - 24s 349ms/step - loss: 0.4678 - acc: 0.8513 - f1_m: 0.8500 - precision_m: 0.8446 - recall_m: 0.8630 - val_loss: 0.5146 - val_acc: 0.8333 - val_f1_m: 0.8385 - val_precision_m: 0.8273 - val_recall_m: 0.8517\n",
      "Epoch 48/50\n",
      "70/70 [==============================] - 25s 351ms/step - loss: 0.4924 - acc: 0.8374 - f1_m: 0.8348 - precision_m: 0.8360 - recall_m: 0.8401 - val_loss: 0.5128 - val_acc: 0.8313 - val_f1_m: 0.8396 - val_precision_m: 0.8121 - val_recall_m: 0.8708\n",
      "Epoch 49/50\n",
      "70/70 [==============================] - 25s 354ms/step - loss: 0.4704 - acc: 0.8454 - f1_m: 0.8437 - precision_m: 0.8341 - recall_m: 0.8579 - val_loss: 0.5051 - val_acc: 0.8340 - val_f1_m: 0.8424 - val_precision_m: 0.8125 - val_recall_m: 0.8763\n",
      "Epoch 50/50\n",
      "70/70 [==============================] - 26s 377ms/step - loss: 0.4765 - acc: 0.8401 - f1_m: 0.8387 - precision_m: 0.8305 - recall_m: 0.8547 - val_loss: 0.5182 - val_acc: 0.8290 - val_f1_m: 0.8362 - val_precision_m: 0.8131 - val_recall_m: 0.8620\n",
      "94/94 [==============================] - 3s 29ms/step - loss: 0.5182 - acc: 0.8290 - f1_m: 0.8341 - precision_m: 0.8151 - recall_m: 0.8615\n",
      "Test loss: 0.5182190537452698\n",
      "Test accuracy: 0.8289999961853027\n",
      "Test f1: 0.8340533375740051\n",
      "Test precision: 0.8151015639305115\n",
      "Test recall: 0.861457109451294\n"
     ]
    }
   ],
   "source": [
    "# 1 conv layer / 100 bs / 50 epoch HitPeak images\n",
    "def CNN_model():\n",
    "    shape = (image_size[0], image_size[1], image_size[2])\n",
    "    model = Sequential()\n",
    "    \n",
    "    # 1 conv layer\n",
    "    model.add(Conv2D(16, (3,3), strides = (1,1), input_shape=shape,kernel_regularizer=l2(0.005)))\n",
    "    model.add(keras.layers.LeakyReLU(alpha=0.05))\n",
    "    model.add(MaxPooling2D(pool_size=(2, 2), strides = (1,1)))\n",
    "\n",
    "    # 2 conv layers\n",
    "    #model.add(Conv2D(16,(3,3),kernel_regularizer=l2(0.005)))\n",
    "    #model.add(keras.layers.LeakyReLU(alpha=0.05))\n",
    "    #model.add(MaxPooling2D(pool_size=(2, 2)))\n",
    "\n",
    "    # 3 conv layers\n",
    "    #model.add(Conv2D(16,(3,3),kernel_regularizer=l2(0.005)))\n",
    "    #model.add(keras.layers.LeakyReLU(alpha=0.05))\n",
    "    #model.add(MaxPooling2D(pool_size=(2, 2)))\n",
    "    \n",
    "    model.add(Dropout(0.25)) \n",
    "    model.add(Flatten())\n",
    "\n",
    "    model.add(Dense(32, bias_regularizer=regularizers.l2(0.001),kernel_regularizer=regularizers.l2(0.001)))\n",
    "    model.add(keras.layers.LeakyReLU(alpha=0.05))    \n",
    "    model.add(Dropout(0.5)) \n",
    "\n",
    "    # Output layer\n",
    "    model.add(Dense(1))\n",
    "    model.add(Activation('sigmoid'))\n",
    "\n",
    "    # Compile the model\n",
    "    model.compile(loss='binary_crossentropy',\n",
    "                    optimizer='adam',\n",
    "                    metrics=['acc', f1_m, precision_m, recall_m])\n",
    "    return model\n",
    "\n",
    "def run_CNN():\n",
    "    model = CNN_model()\n",
    "    model.fit(x_train, y_train, epochs=50, batch_size=100, verbose=1, validation_data=(x_val, y_val))\n",
    "    model.save(model_name)\n",
    "    #model.save_weights('final_weights.h5')\n",
    "    score = model.evaluate(x_val, y_val, verbose=1)\n",
    "    print('Test loss:', score[0])\n",
    "    print('Test accuracy:', score[1])\n",
    "    print('Test f1:', score[2])\n",
    "    print('Test precision:', score[3])\n",
    "    print('Test recall:', score[4])\n",
    "\n",
    "run_CNN()"
   ]
  },
  {
   "cell_type": "markdown",
   "metadata": {},
   "source": [
    "##### TESTSET"
   ]
  },
  {
   "cell_type": "code",
   "execution_count": 64,
   "metadata": {},
   "outputs": [
    {
     "name": "stdout",
     "output_type": "stream",
     "text": [
      "(10000, 75, 75, 4)\n",
      "[75 75  4]\n"
     ]
    }
   ],
   "source": [
    "# ############\n",
    "# # TEST SET #\n",
    "# ############\n",
    "\n",
    "# file_paths = glob.glob(path.join(folderimages_scaled, '*.png'))\n",
    "\n",
    "# # Load the images into a single variable and convert to a numpy array\n",
    "# images_test = [imageio.imread(file_paths[jj]) for jj in range(10000,20000)]\n",
    "# images_test = np.asarray(images_test)\n",
    "# print(images_test.shape)\n",
    "\n",
    "# # Get image size\n",
    "# image_size = np.asarray([images_test.shape[1], images_test.shape[2], images_test.shape[3]])\n",
    "# print(image_size)\n",
    "\n",
    "# # Scale images so values are between 0 and 1\n",
    "# images_test = images_test / 255\n",
    "\n",
    "\n",
    "# # Read the labels from the filenames\n",
    "\n",
    "# n_images_test = images_test.shape[0]\n",
    "# labels_test = np.zeros(n_images_test)\n",
    "# for i in range(n_images_test):\n",
    "#     filename = path.basename(file_paths[10000+i])[0]     # STARTS AT THE END OF THE OTHER (TO ASSIGN CORRECT LABELS)\n",
    "#     if filename[0] == 'W':                          #Every file that begins with W is assigned a 1\n",
    "#         labels_test[i] = 1\n",
    "#     else:\n",
    "#         labels_test[i] = 0\n",
    "        \n",
    "        \n",
    "        \n",
    "# x_test = images_test\n",
    "# y_test = labels_test"
   ]
  },
  {
   "cell_type": "code",
   "execution_count": 8,
   "metadata": {},
   "outputs": [
    {
     "name": "stdout",
     "output_type": "stream",
     "text": [
      "images_test.shape:  (10000, 75, 75, 4)\n",
      "labels_test.shape:  (10000,)\n",
      "[75 75  4]\n"
     ]
    }
   ],
   "source": [
    "##########\n",
    "# SIGNAL #\n",
    "##########\n",
    "num_signal = 10000\n",
    "num_signal_test = 5000\n",
    "\n",
    "file_pathsWP = glob.glob(path.join(folderimages_scaled, 'WP*.png'))\n",
    "\n",
    "# Load the images into a single variable and convert to a numpy array\n",
    "imagesWP = [imageio.imread(file_pathsWP[jj]) for jj in range(num_signal,num_signal+num_signal_test)]\n",
    "imagesWP = np.asarray(imagesWP)\n",
    "\n",
    "labelsWP = np.ones(num_signal_test)\n",
    "\n",
    "\n",
    "##############\n",
    "# BACKGROUND #\n",
    "##############\n",
    "num_back = 10000\n",
    "num_back_test = 5000\n",
    "\n",
    "file_pathsER = glob.glob(path.join(folderimages_scaled, 'ER*.png'))\n",
    "\n",
    "# Load the images into a single variable and convert to a numpy array\n",
    "imagesER = [imageio.imread(file_pathsER[jj]) for jj in range(num_back,num_back+num_back_test)]\n",
    "imagesER = np.asarray(imagesER)\n",
    "\n",
    "labelsER = np.zeros(num_back_test)\n",
    "\n",
    "\n",
    "\n",
    "images_test = np.concatenate([imagesWP,imagesER])\n",
    "del imagesWP\n",
    "del imagesER\n",
    "\n",
    "labels_test = np.concatenate([labelsWP,labelsER])\n",
    "del labelsWP\n",
    "del labelsER\n",
    "\n",
    "\n",
    "print('images_test.shape: ', images_test.shape)\n",
    "print('labels_test.shape: ', labels_test.shape)\n",
    "\n",
    "# Get image size\n",
    "image_size_test = np.asarray([images_test.shape[1], images_test.shape[2], images_test.shape[3]])\n",
    "print(image_size_test)\n",
    "\n",
    "# Scale images so values are between 0 and 1\n",
    "images_test = images_test / 255\n",
    "\n",
    "n_images_test = images_test.shape[0]\n",
    "\n",
    "\n",
    "\n",
    "x_test = images_test\n",
    "del images_test\n",
    "\n",
    "y_test = labels_test\n",
    "del labels_test"
   ]
  },
  {
   "cell_type": "code",
   "execution_count": 9,
   "metadata": {
    "scrolled": false
   },
   "outputs": [
    {
     "name": "stdout",
     "output_type": "stream",
     "text": [
      "Model: \"sequential\"\n",
      "_________________________________________________________________\n",
      "Layer (type)                 Output Shape              Param #   \n",
      "=================================================================\n",
      "conv2d (Conv2D)              (None, 73, 73, 16)        592       \n",
      "_________________________________________________________________\n",
      "leaky_re_lu (LeakyReLU)      (None, 73, 73, 16)        0         \n",
      "_________________________________________________________________\n",
      "max_pooling2d (MaxPooling2D) (None, 72, 72, 16)        0         \n",
      "_________________________________________________________________\n",
      "dropout (Dropout)            (None, 72, 72, 16)        0         \n",
      "_________________________________________________________________\n",
      "flatten (Flatten)            (None, 82944)             0         \n",
      "_________________________________________________________________\n",
      "dense (Dense)                (None, 32)                2654240   \n",
      "_________________________________________________________________\n",
      "leaky_re_lu_1 (LeakyReLU)    (None, 32)                0         \n",
      "_________________________________________________________________\n",
      "dropout_1 (Dropout)          (None, 32)                0         \n",
      "_________________________________________________________________\n",
      "dense_1 (Dense)              (None, 1)                 33        \n",
      "_________________________________________________________________\n",
      "activation (Activation)      (None, 1)                 0         \n",
      "=================================================================\n",
      "Total params: 2,654,865\n",
      "Trainable params: 2,654,865\n",
      "Non-trainable params: 0\n",
      "_________________________________________________________________\n",
      "313/313 [==============================] - 9s 30ms/step - loss: 0.5266 - acc: 0.8292 - f1_m: 0.4618 - precision_m: 0.5002 - recall_m: 0.4306\n",
      "acc: 82.92%\n",
      "WARNING:tensorflow:From <ipython-input-9-487609412c56>:30: Sequential.predict_proba (from tensorflow.python.keras.engine.sequential) is deprecated and will be removed after 2021-01-01.\n",
      "Instructions for updating:\n",
      "Please use `model.predict()` instead.\n",
      "Logistic: f1=0.834 auc=0.8978819\n"
     ]
    },
    {
     "data": {
      "image/png": "[encoded data removed]",
      "text/plain": [
       "<Figure size 432x288 with 1 Axes>"
      ]
     },
     "metadata": {
      "needs_background": "light"
     },
     "output_type": "display_data"
    },
    {
     "name": "stdout",
     "output_type": "stream",
     "text": [
      "Accuracy: 0.8292\n",
      "Average precision: 0.767109118426031\n",
      "recall: 0.8578\n",
      "AUC:0.8701442867953083\n",
      "Predicted   0.0   1.0\n",
      "Actual               \n",
      "0.0        4003   997\n",
      "1.0         711  4289\n"
     ]
    },
    {
     "data": {
      "image/png": "[encoded data removed]",
      "text/plain": [
       "<Figure size 288x288 with 2 Axes>"
      ]
     },
     "metadata": {
      "needs_background": "light"
     },
     "output_type": "display_data"
    },
    {
     "data": {
      "image/png": "[encoded data removed]",
      "text/plain": [
       "<Figure size 432x288 with 1 Axes>"
      ]
     },
     "metadata": {
      "needs_background": "light"
     },
     "output_type": "display_data"
    },
    {
     "name": "stdout",
     "output_type": "stream",
     "text": [
      "ROC AUC:  0.90686016\n"
     ]
    }
   ],
   "source": [
    "##########################\n",
    "# TEST WITH THE TEST SET #\n",
    "##########################\n",
    "\n",
    "dependencies = {\n",
    "    'f1_m' : f1_m, \n",
    "    'precision_m' : precision_m,\n",
    "    'recall_m': recall_m,\n",
    "}\n",
    "\n",
    "model = keras.models.load_model(model_name, custom_objects=dependencies)\n",
    "\n",
    "model.summary()\n",
    "\n",
    "\n",
    "\n",
    "score = model.evaluate(x_test, y_test, verbose=1)\n",
    "print(\"%s: %.2f%%\" % (model.metrics_names[1], score[1]*100))\n",
    "\n",
    "\n",
    "from sklearn.datasets import make_classification\n",
    "from sklearn.linear_model import LogisticRegression\n",
    "from sklearn.model_selection import train_test_split\n",
    "from sklearn.metrics import precision_recall_curve\n",
    "from sklearn.metrics import f1_score\n",
    "from sklearn.metrics import auc\n",
    "from matplotlib import pyplot\n",
    "\n",
    "\n",
    "lr_probs = model.predict_proba(x_test)    # Predict probabilities\n",
    "yhat = model.predict(x_test)      # Predict class values\n",
    "yhat_original = yhat\n",
    "yhat = np.round(yhat)\n",
    "lr_precision, lr_recall, _ = precision_recall_curve(y_test, lr_probs)\n",
    "lr_f1, lr_auc = f1_score(y_test, yhat), auc(lr_recall, lr_precision)\n",
    "print('Logistic: f1=%.3f auc=%.7f' % (lr_f1, lr_auc))   # Summarise scores\n",
    "''' plot the precision-recall curves '''\n",
    "no_skill = len(y_test[y_test==1]) / len(y_test)\n",
    "pyplot.plot(lr_recall, lr_precision, 'r-', label='F1 = %0.2f' %(lr_f1))\n",
    "pyplot.xlabel('Recall')\n",
    "pyplot.ylabel('Precision')\n",
    "pyplot.legend(loc='lower left')\n",
    "plt.title('Precision-Recall (PR) Curve')\n",
    "pyplot.show()\n",
    "\n",
    "## Save precision and recall data to plot PR curve seperately\n",
    "#np.savetxt(\"/content/drive/My Drive/Colab Notebooks/precision_HP.txt\",lr_precision)\n",
    "#np.savetxt(\"/content/drive/My Drive/Colab Notebooks/recall_HP.txt\",lr_recall)\n",
    "\n",
    "\n",
    "test_predictions = yhat             # Make a prediction on the test set\n",
    "accuracy = accuracy_score(y_test, test_predictions)\n",
    "print(\"Accuracy: \" + str(accuracy))\n",
    "average_precision = average_precision_score(y_test, test_predictions)\n",
    "print(\"Average precision: \" + str(average_precision))\n",
    "\n",
    "from sklearn.metrics import precision_recall_curve\n",
    "\n",
    "precision, recall, threshold = precision_recall_curve(y_test, test_predictions)\n",
    "auc = auc(recall, precision)\n",
    "recall1 = recall_score(y_test, np.round(test_predictions))\n",
    "print(\"recall: \" + str(recall1))\n",
    "print('AUC:' +str(auc))\n",
    "\n",
    "\n",
    "# Report Confusion Matrix\n",
    "y_actu = pd.Series(y_test.ravel(), name='Actual')\n",
    "y_pred = pd.Series(np.round(test_predictions.ravel()), name='Predicted')\n",
    "df_confusion = pd.crosstab(y_actu, y_pred)\n",
    "print(df_confusion)\n",
    "\n",
    "# Plot confusion matrix\n",
    "def plot_confusion_matrix(df_confusion, cmap='YlGn'):\n",
    "    plt.matshow(df_confusion, cmap=cmap) # imshow\n",
    "    plt.colorbar()\n",
    "    tick_marks = np.arange(0,len(df_confusion.columns))\n",
    "    plt.xticks(tick_marks, df_confusion.columns)\n",
    "    plt.yticks(tick_marks, df_confusion.index)\n",
    "    plt.ylabel(df_confusion.index.name)\n",
    "    plt.xlabel(df_confusion.columns.name)\n",
    "    for i in range(len(df_confusion.index)):\n",
    "        for j in range(len(df_confusion.columns)):\n",
    "            plt.text(j,i,str(df_confusion.iloc[i,j]))\n",
    "    plt.show()\n",
    "\n",
    "plot_confusion_matrix(df_confusion)\n",
    "\n",
    "from sklearn.metrics import roc_curve\n",
    "from sklearn.metrics import roc_auc_score\n",
    "\n",
    "def plot_roc_curve(fpr, tpr):\n",
    "    plt.plot(fpr, tpr, color='darkblue', label='AUC = %0.2f' %(auc))\n",
    "    plt.plot([0, 1], [0, 1], color='orange', linestyle='--')\n",
    "    plt.xlabel('False Positive Rate')\n",
    "    plt.ylabel('True Positive Rate')\n",
    "    plt.title('Receiver Operating Characteristic (ROC) Curve')\n",
    "    plt.legend()\n",
    "    plt.show()\n",
    "    \n",
    "    \n",
    "from sklearn.metrics import roc_curve, roc_auc_score, auc\n",
    "\n",
    "fpr, tpr, thresholds = roc_curve(y_test, yhat_original)\n",
    "auc = auc(fpr, tpr)\n",
    "# Save tpr and fpr to plot seperate ROC curve\n",
    "#np.savetxt(\"/content/drive/My Drive/Colab Notebooks/tpr.txt\",tpr)\n",
    "#np.savetxt(\"/content/drive/My Drive/Colab Notebooks/fpr.txt\",fpr)\n",
    "plot_roc_curve(fpr, tpr)\n",
    "\n",
    "print('ROC AUC: ', auc)"
   ]
  },
  {
   "cell_type": "code",
   "execution_count": 10,
   "metadata": {},
   "outputs": [
    {
     "name": "stdout",
     "output_type": "stream",
     "text": [
      "Model: \"sequential_18\"\n",
      "_________________________________________________________________\n",
      "Layer (type)                 Output Shape              Param #   \n",
      "=================================================================\n",
      "conv2d_28 (Conv2D)           (None, 73, 73, 16)        592       \n",
      "_________________________________________________________________\n",
      "leaky_re_lu_45 (LeakyReLU)   (None, 73, 73, 16)        0         \n",
      "_________________________________________________________________\n",
      "max_pooling2d_28 (MaxPooling (None, 72, 72, 16)        0         \n",
      "_________________________________________________________________\n",
      "dropout_35 (Dropout)         (None, 72, 72, 16)        0         \n",
      "_________________________________________________________________\n",
      "flatten_18 (Flatten)         (None, 82944)             0         \n",
      "_________________________________________________________________\n",
      "dense_35 (Dense)             (None, 32)                2654240   \n",
      "_________________________________________________________________\n",
      "leaky_re_lu_46 (LeakyReLU)   (None, 32)                0         \n",
      "_________________________________________________________________\n",
      "dropout_36 (Dropout)         (None, 32)                0         \n",
      "_________________________________________________________________\n",
      "dense_36 (Dense)             (None, 1)                 33        \n",
      "_________________________________________________________________\n",
      "activation_18 (Activation)   (None, 1)                 0         \n",
      "=================================================================\n",
      "Total params: 2,654,865\n",
      "Trainable params: 2,654,865\n",
      "Non-trainable params: 0\n",
      "_________________________________________________________________\n"
     ]
    },
    {
     "data": {
      "image/png": "[encoded data removed]",
      "text/plain": [
       "<Figure size 432x288 with 1 Axes>"
      ]
     },
     "metadata": {
      "needs_background": "light"
     },
     "output_type": "display_data"
    },
    {
     "name": "stdout",
     "output_type": "stream",
     "text": [
      "ROC AUC:  0.5379004\n"
     ]
    }
   ],
   "source": [
    "###############\n",
    "# PAPER MODEL #\n",
    "###############\n",
    "\n",
    "dependencies = {\n",
    "    'f1_m' : f1_m, \n",
    "    'precision_m' : precision_m,\n",
    "    'recall_m': recall_m,\n",
    "}\n",
    "\n",
    "model = keras.models.load_model(model_paper, custom_objects=dependencies)\n",
    "\n",
    "model.summary()\n",
    "\n",
    "\n",
    "from sklearn.metrics import roc_curve, roc_auc_score, auc\n",
    "\n",
    "yhat = model.predict(x_test)      # Predict class values\n",
    "fpr, tpr, thresholds = roc_curve(y_test, yhat)\n",
    "auc = auc(fpr, tpr)\n",
    "plot_roc_curve(fpr, tpr)\n",
    "\n",
    "print('ROC AUC: ', auc)"
   ]
  },
  {
   "cell_type": "markdown",
   "metadata": {},
   "source": [
    "##### Test with the train set (just to see)"
   ]
  },
  {
   "cell_type": "code",
   "execution_count": 14,
   "metadata": {},
   "outputs": [],
   "source": [
    "##################################\n",
    "# USING TO TEST THE TRAINING SET # THIS IS WRONG! but to see\n",
    "##################################\n",
    "\n",
    "x_test2 = images\n",
    "del images\n",
    "\n",
    "y_test2 = labels\n",
    "del labels"
   ]
  },
  {
   "cell_type": "code",
   "execution_count": 15,
   "metadata": {
    "scrolled": true
   },
   "outputs": [
    {
     "name": "stdout",
     "output_type": "stream",
     "text": [
      "Model: \"sequential\"\n",
      "_________________________________________________________________\n",
      "Layer (type)                 Output Shape              Param #   \n",
      "=================================================================\n",
      "conv2d (Conv2D)              (None, 73, 73, 16)        592       \n",
      "_________________________________________________________________\n",
      "leaky_re_lu (LeakyReLU)      (None, 73, 73, 16)        0         \n",
      "_________________________________________________________________\n",
      "max_pooling2d (MaxPooling2D) (None, 72, 72, 16)        0         \n",
      "_________________________________________________________________\n",
      "dropout (Dropout)            (None, 72, 72, 16)        0         \n",
      "_________________________________________________________________\n",
      "flatten (Flatten)            (None, 82944)             0         \n",
      "_________________________________________________________________\n",
      "dense (Dense)                (None, 32)                2654240   \n",
      "_________________________________________________________________\n",
      "leaky_re_lu_1 (LeakyReLU)    (None, 32)                0         \n",
      "_________________________________________________________________\n",
      "dropout_1 (Dropout)          (None, 32)                0         \n",
      "_________________________________________________________________\n",
      "dense_1 (Dense)              (None, 1)                 33        \n",
      "_________________________________________________________________\n",
      "activation (Activation)      (None, 1)                 0         \n",
      "=================================================================\n",
      "Total params: 2,654,865\n",
      "Trainable params: 2,654,865\n",
      "Non-trainable params: 0\n",
      "_________________________________________________________________\n",
      "313/313 [==============================] - 8s 26ms/step - loss: 0.4410 - acc: 0.8679 - f1_m: 0.4730 - precision_m: 0.5003 - recall_m: 0.4499\n",
      "acc: 86.79%\n",
      "WARNING:tensorflow:From <ipython-input-15-f66cf17450d6>:30: Sequential.predict_proba (from tensorflow.python.keras.engine.sequential) is deprecated and will be removed after 2021-01-01.\n",
      "Instructions for updating:\n",
      "Please use `model.predict()` instead.\n",
      "Logistic: f1=0.872 auc=0.9456453\n"
     ]
    },
    {
     "data": {
      "image/png": "[encoded data removed]",
      "text/plain": [
       "<Figure size 432x288 with 1 Axes>"
      ]
     },
     "metadata": {
      "needs_background": "light"
     },
     "output_type": "display_data"
    },
    {
     "name": "stdout",
     "output_type": "stream",
     "text": [
      "Accuracy: 0.8679\n",
      "Average precision: 0.8118562653562653\n",
      "recall: 0.897\n",
      "AUC:0.8980829238329239\n",
      "Predicted   0.0   1.0\n",
      "Actual               \n",
      "0.0        4194   806\n",
      "1.0         515  4485\n"
     ]
    },
    {
     "data": {
      "image/png": "[encoded data removed]",
      "text/plain": [
       "<Figure size 288x288 with 2 Axes>"
      ]
     },
     "metadata": {
      "needs_background": "light"
     },
     "output_type": "display_data"
    },
    {
     "data": {
      "image/png": "[encoded data removed]",
      "text/plain": [
       "<Figure size 432x288 with 1 Axes>"
      ]
     },
     "metadata": {
      "needs_background": "light"
     },
     "output_type": "display_data"
    },
    {
     "name": "stdout",
     "output_type": "stream",
     "text": [
      "ROC AUC:  0.9460862400000001\n"
     ]
    }
   ],
   "source": [
    "###########################\n",
    "# TEST WITH THE TRAIN SET # just to see\n",
    "###########################\n",
    "\n",
    "dependencies = {\n",
    "    'f1_m' : f1_m, \n",
    "    'precision_m' : precision_m,\n",
    "    'recall_m': recall_m,\n",
    "}\n",
    "\n",
    "model = keras.models.load_model(model_name, custom_objects=dependencies)\n",
    "\n",
    "model.summary()\n",
    "\n",
    "\n",
    "\n",
    "score = model.evaluate(x_test2, y_test2, verbose=1)\n",
    "print(\"%s: %.2f%%\" % (model.metrics_names[1], score[1]*100))\n",
    "\n",
    "\n",
    "from sklearn.datasets import make_classification\n",
    "from sklearn.linear_model import LogisticRegression\n",
    "from sklearn.model_selection import train_test_split\n",
    "from sklearn.metrics import precision_recall_curve\n",
    "from sklearn.metrics import f1_score\n",
    "from sklearn.metrics import auc\n",
    "from matplotlib import pyplot\n",
    "\n",
    "\n",
    "lr_probs = model.predict_proba(x_test2)    # Predict probabilities\n",
    "yhat = model.predict(x_test2)      # Predict class values\n",
    "yhat_original = yhat\n",
    "yhat = np.round(yhat)\n",
    "lr_precision, lr_recall, _ = precision_recall_curve(y_test2, lr_probs)\n",
    "lr_f1, lr_auc = f1_score(y_test2, yhat), auc(lr_recall, lr_precision)\n",
    "print('Logistic: f1=%.3f auc=%.7f' % (lr_f1, lr_auc))   # Summarise scores\n",
    "''' plot the precision-recall curves '''\n",
    "no_skill = len(y_test2[y_test2==1]) / len(y_test2)\n",
    "pyplot.plot(lr_recall, lr_precision, 'r-', label='F1 = %0.2f' %(lr_f1))\n",
    "pyplot.xlabel('Recall')\n",
    "pyplot.ylabel('Precision')\n",
    "pyplot.legend(loc='lower left')\n",
    "plt.title('Precision-Recall (PR) Curve')\n",
    "pyplot.show()\n",
    "\n",
    "## Save precision and recall data to plot PR curve seperately\n",
    "#np.savetxt(\"/content/drive/My Drive/Colab Notebooks/precision_HP.txt\",lr_precision)\n",
    "#np.savetxt(\"/content/drive/My Drive/Colab Notebooks/recall_HP.txt\",lr_recall)\n",
    "\n",
    "\n",
    "test_predictions = yhat             # Make a prediction on the test set\n",
    "accuracy = accuracy_score(y_test2, test_predictions)\n",
    "print(\"Accuracy: \" + str(accuracy))\n",
    "average_precision = average_precision_score(y_test2, test_predictions)\n",
    "print(\"Average precision: \" + str(average_precision))\n",
    "\n",
    "from sklearn.metrics import precision_recall_curve\n",
    "\n",
    "precision, recall, threshold = precision_recall_curve(y_test2, test_predictions)\n",
    "auc = auc(recall, precision)\n",
    "recall1 = recall_score(y_test2, np.round(test_predictions))\n",
    "print(\"recall: \" + str(recall1))\n",
    "print('AUC:' +str(auc))\n",
    "\n",
    "\n",
    "# Report Confusion Matrix\n",
    "y_actu = pd.Series(y_test2.ravel(), name='Actual')\n",
    "y_pred = pd.Series(np.round(test_predictions.ravel()), name='Predicted')\n",
    "df_confusion = pd.crosstab(y_actu, y_pred)\n",
    "print(df_confusion)\n",
    "\n",
    "# Plot confusion matrix\n",
    "def plot_confusion_matrix(df_confusion, cmap='YlGn'):\n",
    "    plt.matshow(df_confusion, cmap=cmap) # imshow\n",
    "    plt.colorbar()\n",
    "    tick_marks = np.arange(0,len(df_confusion.columns))\n",
    "    plt.xticks(tick_marks, df_confusion.columns)\n",
    "    plt.yticks(tick_marks, df_confusion.index)\n",
    "    plt.ylabel(df_confusion.index.name)\n",
    "    plt.xlabel(df_confusion.columns.name)\n",
    "    for i in range(len(df_confusion.index)):\n",
    "        for j in range(len(df_confusion.columns)):\n",
    "            plt.text(j,i,str(df_confusion.iloc[i,j]))\n",
    "    plt.show()\n",
    "\n",
    "plot_confusion_matrix(df_confusion)\n",
    "\n",
    "from sklearn.metrics import roc_curve\n",
    "from sklearn.metrics import roc_auc_score\n",
    "\n",
    "def plot_roc_curve(fpr, tpr):\n",
    "    plt.plot(fpr, tpr, color='darkblue', label='AUC = %0.2f' %(auc))\n",
    "    plt.plot([0, 1], [0, 1], color='orange', linestyle='--')\n",
    "    plt.xlabel('False Positive Rate')\n",
    "    plt.ylabel('True Positive Rate')\n",
    "    plt.title('Receiver Operating Characteristic (ROC) Curve')\n",
    "    plt.legend()\n",
    "    plt.show()\n",
    "    \n",
    "    \n",
    "from sklearn.metrics import roc_curve, roc_auc_score, auc\n",
    "\n",
    "fpr, tpr, thresholds = roc_curve(y_test2, yhat_original)\n",
    "auc = auc(fpr, tpr)\n",
    "# Save tpr and fpr to plot seperate ROC curve\n",
    "#np.savetxt(\"/content/drive/My Drive/Colab Notebooks/tpr.txt\",tpr)\n",
    "#np.savetxt(\"/content/drive/My Drive/Colab Notebooks/fpr.txt\",fpr)\n",
    "plot_roc_curve(fpr, tpr)\n",
    "\n",
    "print('ROC AUC: ', auc)"
   ]
  },
  {
   "cell_type": "code",
   "execution_count": 16,
   "metadata": {},
   "outputs": [
    {
     "name": "stdout",
     "output_type": "stream",
     "text": [
      "Model: \"sequential_18\"\n",
      "_________________________________________________________________\n",
      "Layer (type)                 Output Shape              Param #   \n",
      "=================================================================\n",
      "conv2d_28 (Conv2D)           (None, 73, 73, 16)        592       \n",
      "_________________________________________________________________\n",
      "leaky_re_lu_45 (LeakyReLU)   (None, 73, 73, 16)        0         \n",
      "_________________________________________________________________\n",
      "max_pooling2d_28 (MaxPooling (None, 72, 72, 16)        0         \n",
      "_________________________________________________________________\n",
      "dropout_35 (Dropout)         (None, 72, 72, 16)        0         \n",
      "_________________________________________________________________\n",
      "flatten_18 (Flatten)         (None, 82944)             0         \n",
      "_________________________________________________________________\n",
      "dense_35 (Dense)             (None, 32)                2654240   \n",
      "_________________________________________________________________\n",
      "leaky_re_lu_46 (LeakyReLU)   (None, 32)                0         \n",
      "_________________________________________________________________\n",
      "dropout_36 (Dropout)         (None, 32)                0         \n",
      "_________________________________________________________________\n",
      "dense_36 (Dense)             (None, 1)                 33        \n",
      "_________________________________________________________________\n",
      "activation_18 (Activation)   (None, 1)                 0         \n",
      "=================================================================\n",
      "Total params: 2,654,865\n",
      "Trainable params: 2,654,865\n",
      "Non-trainable params: 0\n",
      "_________________________________________________________________\n"
     ]
    },
    {
     "data": {
      "image/png": "[encoded data removed]",
      "text/plain": [
       "<Figure size 432x288 with 1 Axes>"
      ]
     },
     "metadata": {
      "needs_background": "light"
     },
     "output_type": "display_data"
    },
    {
     "name": "stdout",
     "output_type": "stream",
     "text": [
      "ROC AUC:  0.54449536\n"
     ]
    }
   ],
   "source": [
    "###############\n",
    "# PAPER MODEL #\n",
    "###############\n",
    "\n",
    "dependencies = {\n",
    "    'f1_m' : f1_m, \n",
    "    'precision_m' : precision_m,\n",
    "    'recall_m': recall_m,\n",
    "}\n",
    "\n",
    "model = keras.models.load_model(model_paper, custom_objects=dependencies)\n",
    "\n",
    "model.summary()\n",
    "\n",
    "\n",
    "from sklearn.metrics import roc_curve, roc_auc_score, auc\n",
    "\n",
    "yhat2 = model.predict(x_test2)      # Predict class values\n",
    "fpr, tpr, thresholds = roc_curve(y_test2, yhat2)\n",
    "auc = auc(fpr, tpr)\n",
    "plot_roc_curve(fpr, tpr)\n",
    "\n",
    "print('ROC AUC: ', auc)"
   ]
  },
  {
   "cell_type": "code",
   "execution_count": null,
   "metadata": {},
   "outputs": [],
   "source": []
  }
 ],
 "metadata": {
  "kernelspec": {
   "display_name": "Python 3",
   "language": "python",
   "name": "python3"
  },
  "language_info": {
   "codemirror_mode": {
    "name": "ipython",
    "version": 3
   },
   "file_extension": ".py",
   "mimetype": "text/x-python",
   "name": "python",
   "nbconvert_exporter": "python",
   "pygments_lexer": "ipython3",
   "version": "3.8.8"
  }
 },
 "nbformat": 4,
 "nbformat_minor": 4
}
