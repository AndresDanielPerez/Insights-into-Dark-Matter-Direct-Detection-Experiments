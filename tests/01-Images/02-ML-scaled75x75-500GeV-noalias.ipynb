{
 "cells": [
  {
   "cell_type": "code",
   "execution_count": 1,
   "metadata": {},
   "outputs": [],
   "source": [
    "import numpy as np\n",
    "import pandas as pd\n",
    "import matplotlib.pyplot as plt\n",
    "import seaborn as sns\n",
    "from matplotlib import gridspec\n",
    "from matplotlib import patches\n",
    "from matplotlib import cm\n",
    "from mpl_toolkits.mplot3d import Axes3D\n",
    "\n",
    "import os\n",
    "import math\n",
    "import random\n",
    "\n",
    "import keras\n",
    "from keras.models import Sequential\n",
    "from keras.layers import Input, Dense, Conv2D, Flatten, MaxPooling2D\n",
    "from keras.layers import Dropout\n",
    "from keras.callbacks import EarlyStopping\n",
    "\n",
    "from sklearn.preprocessing import MinMaxScaler\n",
    "from sklearn.model_selection import train_test_split\n",
    "from sklearn.utils import shuffle\n",
    "from sklearn import preprocessing\n",
    "from sklearn.metrics import roc_curve, roc_auc_score, auc\n",
    "\n",
    "import scipy.stats as st\n",
    "from scipy.stats import poisson\n",
    "from scipy.interpolate import interp1d\n",
    "from scipy.stats import norm"
   ]
  },
  {
   "cell_type": "code",
   "execution_count": 2,
   "metadata": {},
   "outputs": [],
   "source": [
    "from sklearn.neighbors import KernelDensity # paquete necesario\n",
    "from sklearn.model_selection import GridSearchCV\n",
    "\n",
    "import scipy.integrate as integrate"
   ]
  },
  {
   "cell_type": "code",
   "execution_count": 3,
   "metadata": {},
   "outputs": [
    {
     "name": "stdout",
     "output_type": "stream",
     "text": [
      "Requirement already satisfied: xgboost in /home/perez/anaconda3/lib/python3.7/site-packages (1.5.1)\n",
      "Requirement already satisfied: scipy in /home/perez/anaconda3/lib/python3.7/site-packages (from xgboost) (1.4.1)\n",
      "Requirement already satisfied: numpy in /home/perez/anaconda3/lib/python3.7/site-packages (from xgboost) (1.18.5)\n",
      "\n",
      "\u001b[1m[\u001b[0m\u001b[34;49mnotice\u001b[0m\u001b[1;39;49m]\u001b[0m\u001b[39;49m A new release of pip is available: \u001b[0m\u001b[31;49m23.0\u001b[0m\u001b[39;49m -> \u001b[0m\u001b[32;49m23.2.1\u001b[0m\n",
      "\u001b[1m[\u001b[0m\u001b[34;49mnotice\u001b[0m\u001b[1;39;49m]\u001b[0m\u001b[39;49m To update, run: \u001b[0m\u001b[32;49mpip install --upgrade pip\u001b[0m\n"
     ]
    }
   ],
   "source": [
    "!pip install xgboost\n",
    "\n",
    "import xgboost\n",
    "from xgboost import XGBRegressor, XGBClassifier"
   ]
  },
  {
   "cell_type": "code",
   "execution_count": 4,
   "metadata": {},
   "outputs": [],
   "source": [
    "import glob\n",
    "import numpy as np\n",
    "import os.path as path\n",
    "import imageio\n",
    "import matplotlib.pyplot as plt\n",
    "from keras.models import Sequential\n",
    "from keras.layers import Activation, Dropout, Flatten, Dense, Conv2D, MaxPooling2D\n",
    "from keras.callbacks import EarlyStopping, TensorBoard\n",
    "from datetime import datetime\n",
    "import keras\n",
    "from keras import regularizers\n",
    "from sklearn.model_selection import train_test_split\n",
    "import pandas as pd\n",
    "from sklearn.metrics import accuracy_score, f1_score, average_precision_score, precision_recall_curve, auc,recall_score\n",
    "from keras.optimizers import Adam\n",
    "from keras.regularizers import l2\n",
    "import h5py\n",
    "from sklearn.model_selection import GridSearchCV\n",
    "from keras.backend import cast, greater, clip, floatx,epsilon\n",
    "from keras.wrappers.scikit_learn import KerasClassifier\n",
    "from keras import backend as K\n",
    "from sklearn.model_selection import StratifiedKFold"
   ]
  },
  {
   "cell_type": "markdown",
   "metadata": {},
   "source": [
    "### Load images"
   ]
  },
  {
   "cell_type": "code",
   "execution_count": 5,
   "metadata": {},
   "outputs": [],
   "source": [
    "folderimages_scaled = '/home/perez/CompuTools/Direct-Detection/new/out-images-scaled/'\n",
    "\n",
    "model_name = 'saved-models/model_CNN_75x75_500GeV_v3.h5'\n",
    "model_paper = 'paper-model/final_model.h5'"
   ]
  },
  {
   "cell_type": "code",
   "execution_count": null,
   "metadata": {},
   "outputs": [],
   "source": []
  },
  {
   "cell_type": "code",
   "execution_count": 6,
   "metadata": {},
   "outputs": [],
   "source": [
    "from keras import backend as K\n",
    "np.random.seed(0)\n",
    "\n",
    "# Define recall, precision and f1 functions\n",
    "def recall_m(y_true, y_pred):\n",
    "    true_positives = K.sum(K.round(K.clip(y_true * y_pred, 0, 1)))\n",
    "    possible_positives = K.sum(K.round(K.clip(y_true, 0, 1)))\n",
    "    recall = true_positives / (possible_positives + K.epsilon())\n",
    "    return recall\n",
    "\n",
    "def precision_m(y_true, y_pred):\n",
    "    true_positives = K.sum(K.round(K.clip(y_true * y_pred, 0, 1)))\n",
    "    predicted_positives = K.sum(K.round(K.clip(y_pred, 0, 1)))\n",
    "    precision = true_positives / (predicted_positives + K.epsilon())\n",
    "    return precision\n",
    "\n",
    "def f1_m(y_true, y_pred):\n",
    "    precision = precision_m(y_true, y_pred)\n",
    "    recall = recall_m(y_true, y_pred)\n",
    "    return 2*((precision*recall)/(precision+recall+K.epsilon()))"
   ]
  },
  {
   "cell_type": "code",
   "execution_count": null,
   "metadata": {},
   "outputs": [],
   "source": []
  },
  {
   "cell_type": "markdown",
   "metadata": {},
   "source": [
    "##### TEST-VAL SET"
   ]
  },
  {
   "cell_type": "code",
   "execution_count": 7,
   "metadata": {},
   "outputs": [
    {
     "name": "stdout",
     "output_type": "stream",
     "text": [
      "(75, 75, 4)\n",
      "(75, 75, 4)\n",
      "(75, 75, 4)\n",
      "(75, 75, 4)\n"
     ]
    }
   ],
   "source": [
    "# test\n",
    "from PIL import Image\n",
    "\n",
    "for i in range(2):\n",
    "    img = Image.open( folderimages_scaled+'WP' + str(i) + '.png' )\n",
    "    data = np.asarray( img, dtype=\"int32\" )\n",
    "    print(data.shape)\n",
    "    \n",
    "for i in range(2):\n",
    "    img = Image.open( folderimages_scaled+'ER' + str(i) + '.png' )\n",
    "    data = np.asarray( img, dtype=\"int32\" )\n",
    "    print(data.shape)"
   ]
  },
  {
   "cell_type": "code",
   "execution_count": 46,
   "metadata": {},
   "outputs": [
    {
     "name": "stdout",
     "output_type": "stream",
     "text": [
      "image.shape:  (20000, 75, 75, 4)\n",
      "labels.shape:  (20000,)\n",
      "[75 75  4]\n"
     ]
    }
   ],
   "source": [
    "##########\n",
    "# SIGNAL #\n",
    "##########\n",
    "num_signal = 10000\n",
    "\n",
    "file_pathsWP = glob.glob(path.join(folderimages_scaled, 'WP*.png'))\n",
    "\n",
    "# Load the images into a single variable and convert to a numpy array\n",
    "imagesWP = [imageio.imread(file_pathsWP[jj]) for jj in range(num_signal)]\n",
    "imagesWP = np.asarray(imagesWP)\n",
    "\n",
    "labelsWP = np.ones(num_signal)\n",
    "\n",
    "\n",
    "##############\n",
    "# BACKGROUND #\n",
    "##############\n",
    "num_back = 10000\n",
    "\n",
    "file_pathsER = glob.glob(path.join(folderimages_scaled, 'ER*.png'))\n",
    "\n",
    "# Load the images into a single variable and convert to a numpy array\n",
    "imagesER = [imageio.imread(file_pathsER[jj]) for jj in range(num_back)]\n",
    "imagesER = np.asarray(imagesER)\n",
    "\n",
    "labelsER = np.zeros(num_back)\n",
    "\n",
    "\n",
    "\n",
    "images = np.concatenate([imagesWP,imagesER])\n",
    "del imagesWP\n",
    "del imagesER\n",
    "\n",
    "labels = np.concatenate([labelsWP,labelsER])\n",
    "del labelsWP\n",
    "del labelsER\n",
    "\n",
    "\n",
    "\n",
    "print('images.shape: ', images.shape)\n",
    "print('labels.shape: ', labels.shape)\n",
    "\n",
    "# Get image size\n",
    "image_size = np.asarray([images.shape[1], images.shape[2], images.shape[3]])\n",
    "print(image_size)\n",
    "\n",
    "# Scale images so values are between 0 and 1\n",
    "images = images / 255\n",
    "\n",
    "n_images = images.shape[0]"
   ]
  },
  {
   "cell_type": "code",
   "execution_count": 47,
   "metadata": {},
   "outputs": [
    {
     "data": {
      "text/plain": [
       "10000.0"
      ]
     },
     "execution_count": 47,
     "metadata": {},
     "output_type": "execute_result"
    }
   ],
   "source": [
    "sum(labels)"
   ]
  },
  {
   "cell_type": "code",
   "execution_count": 48,
   "metadata": {},
   "outputs": [
    {
     "data": {
      "text/plain": [
       "(20000,)"
      ]
     },
     "execution_count": 48,
     "metadata": {},
     "output_type": "execute_result"
    }
   ],
   "source": [
    "labels.shape"
   ]
  },
  {
   "cell_type": "code",
   "execution_count": 29,
   "metadata": {},
   "outputs": [],
   "source": [
    "# file_paths = glob.glob(path.join(folderimages_scaled, '*.png'))\n",
    "\n",
    "# # Load the images into a single variable and convert to a numpy array\n",
    "# images = [imageio.imread(file_paths[jj]) for jj in range(20000)]\n",
    "# images = np.asarray(images)\n",
    "# print(images.shape)\n",
    "\n",
    "# # Get image size\n",
    "# image_size = np.asarray([images.shape[1], images.shape[2], images.shape[3]])\n",
    "# print(image_size)\n",
    "\n",
    "# # Scale images so values are between 0 and 1\n",
    "# images = images / 255"
   ]
  },
  {
   "cell_type": "code",
   "execution_count": 26,
   "metadata": {},
   "outputs": [],
   "source": [
    "# # Read the labels from the filenames\n",
    "\n",
    "# n_images = images.shape[0]\n",
    "# labels = np.zeros(n_images)\n",
    "# for i in range(n_images):\n",
    "#     filename = path.basename(file_paths[i])[0]\n",
    "#     if filename[0] == 'W':                          #Every file that begins with W is assigned a 1\n",
    "#         labels[i] = 1\n",
    "#     else:\n",
    "#         labels[i] = 0\n",
    "\n",
    "# # Background = 0 = FALSE\n",
    "# # WIMPS = 1 = TRUE"
   ]
  },
  {
   "cell_type": "code",
   "execution_count": 49,
   "metadata": {},
   "outputs": [
    {
     "name": "stdout",
     "output_type": "stream",
     "text": [
      "(14000, 75, 75, 4)\n",
      "(14000,)\n",
      "(6000, 75, 75, 4)\n",
      "(6000,)\n"
     ]
    }
   ],
   "source": [
    "# Split into test and training sets\n",
    "\n",
    "TRAIN_TEST_SPLIT = 0.7            \n",
    "\n",
    "# Split at the given index\n",
    "split_index = int(TRAIN_TEST_SPLIT * n_images)\n",
    "shuffled_indices = np.random.permutation(n_images)\n",
    "train_indices = shuffled_indices[0:split_index]\n",
    "test_indices = shuffled_indices[split_index:]\n",
    "\n",
    "# Split the images and the labels\n",
    "x_train = images[train_indices, :, :, :]\n",
    "y_train = labels[train_indices]\n",
    "x_val = images[test_indices, :, :, :]\n",
    "y_val = labels[test_indices]\n",
    "\n",
    "#x_train = images\n",
    "#y_train = labels\n",
    "\n",
    "print(x_train.shape)\n",
    "print(y_train.shape)\n",
    "print(x_val.shape)\n",
    "print(y_val.shape)"
   ]
  },
  {
   "cell_type": "markdown",
   "metadata": {},
   "source": [
    "##### TRAIN THE MODEL"
   ]
  },
  {
   "cell_type": "code",
   "execution_count": null,
   "metadata": {},
   "outputs": [
    {
     "name": "stdout",
     "output_type": "stream",
     "text": [
      "Epoch 1/50\n",
      "140/140 [==============================] - 111s 794ms/step - loss: 1.2631 - acc: 0.5554 - f1_m: 0.5475 - precision_m: 0.5524 - recall_m: 0.5700 - val_loss: 0.6663 - val_acc: 0.7265 - val_f1_m: 0.7323 - val_precision_m: 0.7195 - val_recall_m: 0.7494\n",
      "Epoch 2/50\n",
      "140/140 [==============================] - 45s 323ms/step - loss: 0.6797 - acc: 0.7059 - f1_m: 0.7188 - precision_m: 0.6877 - recall_m: 0.7651 - val_loss: 0.5844 - val_acc: 0.7770 - val_f1_m: 0.7741 - val_precision_m: 0.7865 - val_recall_m: 0.7651\n",
      "Epoch 3/50\n",
      "140/140 [==============================] - 42s 297ms/step - loss: 0.6002 - acc: 0.7607 - f1_m: 0.7689 - precision_m: 0.7360 - recall_m: 0.8120 - val_loss: 0.5646 - val_acc: 0.7993 - val_f1_m: 0.8130 - val_precision_m: 0.7638 - val_recall_m: 0.8725\n",
      "Epoch 4/50\n",
      "140/140 [==============================] - 41s 294ms/step - loss: 0.5646 - acc: 0.7817 - f1_m: 0.7856 - precision_m: 0.7672 - recall_m: 0.8140 - val_loss: 0.5370 - val_acc: 0.8097 - val_f1_m: 0.8245 - val_precision_m: 0.7672 - val_recall_m: 0.8941\n",
      "Epoch 5/50\n",
      "140/140 [==============================] - 42s 301ms/step - loss: 0.5573 - acc: 0.7871 - f1_m: 0.7906 - precision_m: 0.7708 - recall_m: 0.8190 - val_loss: 0.5098 - val_acc: 0.8168 - val_f1_m: 0.8259 - val_precision_m: 0.7905 - val_recall_m: 0.8671\n",
      "Epoch 6/50\n",
      "140/140 [==============================] - 43s 308ms/step - loss: 0.5416 - acc: 0.7946 - f1_m: 0.7965 - precision_m: 0.7822 - recall_m: 0.8182 - val_loss: 0.4962 - val_acc: 0.8188 - val_f1_m: 0.8167 - val_precision_m: 0.8290 - val_recall_m: 0.8077\n",
      "Epoch 7/50\n",
      "140/140 [==============================] - 42s 301ms/step - loss: 0.5327 - acc: 0.8012 - f1_m: 0.8030 - precision_m: 0.7901 - recall_m: 0.8245 - val_loss: 0.5077 - val_acc: 0.8118 - val_f1_m: 0.8028 - val_precision_m: 0.8454 - val_recall_m: 0.7671\n",
      "Epoch 8/50\n",
      "140/140 [==============================] - 42s 302ms/step - loss: 0.5253 - acc: 0.8044 - f1_m: 0.8074 - precision_m: 0.7912 - recall_m: 0.8310 - val_loss: 0.4982 - val_acc: 0.8258 - val_f1_m: 0.8332 - val_precision_m: 0.8022 - val_recall_m: 0.8691\n",
      "Epoch 9/50\n",
      "140/140 [==============================] - 42s 301ms/step - loss: 0.5272 - acc: 0.8039 - f1_m: 0.8054 - precision_m: 0.7961 - recall_m: 0.8248 - val_loss: 0.5200 - val_acc: 0.8010 - val_f1_m: 0.7845 - val_precision_m: 0.8582 - val_recall_m: 0.7256\n",
      "Epoch 10/50\n",
      "140/140 [==============================] - 43s 305ms/step - loss: 0.5229 - acc: 0.8122 - f1_m: 0.8127 - precision_m: 0.7998 - recall_m: 0.8325 - val_loss: 0.4854 - val_acc: 0.8230 - val_f1_m: 0.8318 - val_precision_m: 0.7957 - val_recall_m: 0.8739\n",
      "Epoch 11/50\n",
      "140/140 [==============================] - 42s 300ms/step - loss: 0.5192 - acc: 0.8085 - f1_m: 0.8092 - precision_m: 0.7974 - recall_m: 0.8286 - val_loss: 0.5115 - val_acc: 0.8128 - val_f1_m: 0.7979 - val_precision_m: 0.8659 - val_recall_m: 0.7427\n",
      "Epoch 12/50\n",
      "140/140 [==============================] - 42s 303ms/step - loss: 0.5210 - acc: 0.8139 - f1_m: 0.8156 - precision_m: 0.8051 - recall_m: 0.8331 - val_loss: 0.5038 - val_acc: 0.8178 - val_f1_m: 0.8343 - val_precision_m: 0.7687 - val_recall_m: 0.9148\n",
      "Epoch 13/50\n",
      "140/140 [==============================] - 42s 302ms/step - loss: 0.5261 - acc: 0.8044 - f1_m: 0.8061 - precision_m: 0.7915 - recall_m: 0.8293 - val_loss: 0.4895 - val_acc: 0.8292 - val_f1_m: 0.8321 - val_precision_m: 0.8207 - val_recall_m: 0.8465\n",
      "Epoch 14/50\n",
      "140/140 [==============================] - 42s 300ms/step - loss: 0.5157 - acc: 0.8106 - f1_m: 0.8124 - precision_m: 0.8005 - recall_m: 0.8310 - val_loss: 0.4986 - val_acc: 0.8230 - val_f1_m: 0.8335 - val_precision_m: 0.7905 - val_recall_m: 0.8838\n",
      "Epoch 15/50\n",
      "140/140 [==============================] - 42s 302ms/step - loss: 0.5223 - acc: 0.8073 - f1_m: 0.8100 - precision_m: 0.7948 - recall_m: 0.8332 - val_loss: 0.4969 - val_acc: 0.8273 - val_f1_m: 0.8341 - val_precision_m: 0.8062 - val_recall_m: 0.8661\n",
      "Epoch 16/50\n",
      "140/140 [==============================] - 42s 302ms/step - loss: 0.5150 - acc: 0.8147 - f1_m: 0.8180 - precision_m: 0.7983 - recall_m: 0.8450 - val_loss: 0.4960 - val_acc: 0.8258 - val_f1_m: 0.8218 - val_precision_m: 0.8437 - val_recall_m: 0.8036\n",
      "Epoch 17/50\n",
      "140/140 [==============================] - 42s 301ms/step - loss: 0.5206 - acc: 0.8103 - f1_m: 0.8115 - precision_m: 0.8025 - recall_m: 0.8315 - val_loss: 0.5084 - val_acc: 0.8240 - val_f1_m: 0.8304 - val_precision_m: 0.8039 - val_recall_m: 0.8613\n",
      "Epoch 18/50\n",
      "140/140 [==============================] - 42s 301ms/step - loss: 0.5269 - acc: 0.8089 - f1_m: 0.8111 - precision_m: 0.7967 - recall_m: 0.8329 - val_loss: 0.4946 - val_acc: 0.8247 - val_f1_m: 0.8236 - val_precision_m: 0.8309 - val_recall_m: 0.8189\n",
      "Epoch 19/50\n",
      "140/140 [==============================] - 42s 301ms/step - loss: 0.5223 - acc: 0.8109 - f1_m: 0.8127 - precision_m: 0.7978 - recall_m: 0.8351 - val_loss: 0.4917 - val_acc: 0.8242 - val_f1_m: 0.8144 - val_precision_m: 0.8658 - val_recall_m: 0.7717\n",
      "Epoch 20/50\n",
      "140/140 [==============================] - 44s 312ms/step - loss: 0.5174 - acc: 0.8132 - f1_m: 0.8142 - precision_m: 0.8036 - recall_m: 0.8325 - val_loss: 0.4883 - val_acc: 0.8275 - val_f1_m: 0.8330 - val_precision_m: 0.8093 - val_recall_m: 0.8608\n",
      "Epoch 21/50\n",
      "140/140 [==============================] - 43s 309ms/step - loss: 0.5174 - acc: 0.8157 - f1_m: 0.8172 - precision_m: 0.8039 - recall_m: 0.8371 - val_loss: 0.4969 - val_acc: 0.8238 - val_f1_m: 0.8209 - val_precision_m: 0.8374 - val_recall_m: 0.8078\n",
      "Epoch 22/50\n",
      "140/140 [==============================] - 43s 311ms/step - loss: 0.5209 - acc: 0.8119 - f1_m: 0.8147 - precision_m: 0.8012 - recall_m: 0.8354 - val_loss: 0.4991 - val_acc: 0.8270 - val_f1_m: 0.8279 - val_precision_m: 0.8253 - val_recall_m: 0.8332\n",
      "Epoch 23/50\n",
      "140/140 [==============================] - 46s 330ms/step - loss: 0.5140 - acc: 0.8132 - f1_m: 0.8143 - precision_m: 0.8039 - recall_m: 0.8316 - val_loss: 0.4866 - val_acc: 0.8292 - val_f1_m: 0.8365 - val_precision_m: 0.8050 - val_recall_m: 0.8730\n",
      "Epoch 24/50\n",
      "140/140 [==============================] - 45s 319ms/step - loss: 0.5091 - acc: 0.8194 - f1_m: 0.8212 - precision_m: 0.8086 - recall_m: 0.8408 - val_loss: 0.4898 - val_acc: 0.8307 - val_f1_m: 0.8272 - val_precision_m: 0.8452 - val_recall_m: 0.8125\n",
      "Epoch 25/50\n",
      "140/140 [==============================] - 44s 311ms/step - loss: 0.5156 - acc: 0.8153 - f1_m: 0.8169 - precision_m: 0.8048 - recall_m: 0.8364 - val_loss: 0.4856 - val_acc: 0.8325 - val_f1_m: 0.8308 - val_precision_m: 0.8417 - val_recall_m: 0.8225\n",
      "Epoch 26/50\n",
      "140/140 [==============================] - 45s 324ms/step - loss: 0.5095 - acc: 0.8176 - f1_m: 0.8174 - precision_m: 0.8096 - recall_m: 0.8332 - val_loss: 0.4999 - val_acc: 0.8227 - val_f1_m: 0.8314 - val_precision_m: 0.7951 - val_recall_m: 0.8742\n",
      "Epoch 27/50\n",
      "140/140 [==============================] - 44s 315ms/step - loss: 0.5858 - acc: 0.7919 - f1_m: 0.7938 - precision_m: 0.7815 - recall_m: 0.8190 - val_loss: 0.5132 - val_acc: 0.8230 - val_f1_m: 0.8269 - val_precision_m: 0.8118 - val_recall_m: 0.8455\n",
      "Epoch 28/50\n",
      "140/140 [==============================] - 44s 317ms/step - loss: 0.5171 - acc: 0.8152 - f1_m: 0.8178 - precision_m: 0.7998 - recall_m: 0.8442 - val_loss: 0.5569 - val_acc: 0.7912 - val_f1_m: 0.7604 - val_precision_m: 0.8961 - val_recall_m: 0.6641\n",
      "Epoch 29/50\n",
      "140/140 [==============================] - 44s 314ms/step - loss: 0.5070 - acc: 0.8196 - f1_m: 0.8208 - precision_m: 0.8055 - recall_m: 0.8434 - val_loss: 0.4935 - val_acc: 0.8230 - val_f1_m: 0.8110 - val_precision_m: 0.8732 - val_recall_m: 0.7599\n",
      "Epoch 30/50\n",
      "140/140 [==============================] - 44s 315ms/step - loss: 0.5073 - acc: 0.8185 - f1_m: 0.8182 - precision_m: 0.8090 - recall_m: 0.8342 - val_loss: 0.4881 - val_acc: 0.8333 - val_f1_m: 0.8415 - val_precision_m: 0.8048 - val_recall_m: 0.8837\n",
      "Epoch 31/50\n",
      "140/140 [==============================] - 45s 320ms/step - loss: 0.5135 - acc: 0.8179 - f1_m: 0.8190 - precision_m: 0.8091 - recall_m: 0.8365 - val_loss: 0.4945 - val_acc: 0.8268 - val_f1_m: 0.8323 - val_precision_m: 0.8109 - val_recall_m: 0.8576\n",
      "Epoch 32/50\n",
      "140/140 [==============================] - 45s 320ms/step - loss: 0.5033 - acc: 0.8214 - f1_m: 0.8213 - precision_m: 0.8114 - recall_m: 0.8365 - val_loss: 0.4904 - val_acc: 0.8317 - val_f1_m: 0.8407 - val_precision_m: 0.8014 - val_recall_m: 0.8866\n",
      "Epoch 33/50\n",
      "104/140 [=====================>........] - ETA: 10s - loss: 0.4993 - acc: 0.8215 - f1_m: 0.8213 - precision_m: 0.8082 - recall_m: 0.8405"
     ]
    }
   ],
   "source": [
    "# 1 conv layer / 100 bs / 50 epoch HitPeak images\n",
    "def CNN_model():\n",
    "    shape = (image_size[0], image_size[1], image_size[2])\n",
    "    model = Sequential()\n",
    "    \n",
    "    # 1 conv layer\n",
    "    model.add(Conv2D(16, (3,3), strides = (1,1), input_shape=shape,kernel_regularizer=l2(0.005)))\n",
    "    model.add(keras.layers.LeakyReLU(alpha=0.05))\n",
    "    model.add(MaxPooling2D(pool_size=(2, 2), strides = (1,1)))\n",
    "\n",
    "    # 2 conv layers\n",
    "    #model.add(Conv2D(16,(3,3),kernel_regularizer=l2(0.005)))\n",
    "    #model.add(keras.layers.LeakyReLU(alpha=0.05))\n",
    "    #model.add(MaxPooling2D(pool_size=(2, 2)))\n",
    "\n",
    "    # 3 conv layers\n",
    "    #model.add(Conv2D(16,(3,3),kernel_regularizer=l2(0.005)))\n",
    "    #model.add(keras.layers.LeakyReLU(alpha=0.05))\n",
    "    #model.add(MaxPooling2D(pool_size=(2, 2)))\n",
    "    \n",
    "    model.add(Dropout(0.25)) \n",
    "    model.add(Flatten())\n",
    "\n",
    "    model.add(Dense(32, bias_regularizer=regularizers.l2(0.001),kernel_regularizer=regularizers.l2(0.001)))\n",
    "    model.add(keras.layers.LeakyReLU(alpha=0.05))    \n",
    "    model.add(Dropout(0.5)) \n",
    "\n",
    "    # Output layer\n",
    "    model.add(Dense(1))\n",
    "    model.add(Activation('sigmoid'))\n",
    "\n",
    "    # Compile the model\n",
    "    model.compile(loss='binary_crossentropy',\n",
    "                    optimizer='adam',\n",
    "                    metrics=['acc', f1_m, precision_m, recall_m])\n",
    "    return model\n",
    "\n",
    "def run_CNN():\n",
    "    model = CNN_model()\n",
    "    model.fit(x_train, y_train, epochs=50, batch_size=100, verbose=1, validation_data=(x_val, y_val))\n",
    "    model.save(model_name)\n",
    "    #model.save_weights('final_weights.h5')\n",
    "    score = model.evaluate(x_val, y_val, verbose=1)\n",
    "    print('Test loss:', score[0])\n",
    "    print('Test accuracy:', score[1])\n",
    "    print('Test f1:', score[2])\n",
    "    print('Test precision:', score[3])\n",
    "    print('Test recall:', score[4])\n",
    "\n",
    "run_CNN()"
   ]
  },
  {
   "cell_type": "markdown",
   "metadata": {},
   "source": [
    "##### TESTSET"
   ]
  },
  {
   "cell_type": "code",
   "execution_count": 64,
   "metadata": {},
   "outputs": [
    {
     "name": "stdout",
     "output_type": "stream",
     "text": [
      "(10000, 75, 75, 4)\n",
      "[75 75  4]\n"
     ]
    }
   ],
   "source": [
    "# ############\n",
    "# # TEST SET #\n",
    "# ############\n",
    "\n",
    "# file_paths = glob.glob(path.join(folderimages_scaled, '*.png'))\n",
    "\n",
    "# # Load the images into a single variable and convert to a numpy array\n",
    "# images_test = [imageio.imread(file_paths[jj]) for jj in range(10000,20000)]\n",
    "# images_test = np.asarray(images_test)\n",
    "# print(images_test.shape)\n",
    "\n",
    "# # Get image size\n",
    "# image_size = np.asarray([images_test.shape[1], images_test.shape[2], images_test.shape[3]])\n",
    "# print(image_size)\n",
    "\n",
    "# # Scale images so values are between 0 and 1\n",
    "# images_test = images_test / 255\n",
    "\n",
    "\n",
    "# # Read the labels from the filenames\n",
    "\n",
    "# n_images_test = images_test.shape[0]\n",
    "# labels_test = np.zeros(n_images_test)\n",
    "# for i in range(n_images_test):\n",
    "#     filename = path.basename(file_paths[10000+i])[0]     # STARTS AT THE END OF THE OTHER (TO ASSIGN CORRECT LABELS)\n",
    "#     if filename[0] == 'W':                          #Every file that begins with W is assigned a 1\n",
    "#         labels_test[i] = 1\n",
    "#     else:\n",
    "#         labels_test[i] = 0\n",
    "        \n",
    "        \n",
    "        \n",
    "# x_test = images_test\n",
    "# y_test = labels_test"
   ]
  },
  {
   "cell_type": "code",
   "execution_count": 7,
   "metadata": {},
   "outputs": [
    {
     "name": "stdout",
     "output_type": "stream",
     "text": [
      "images_test.shape:  (10000, 75, 75, 4)\n",
      "labels_test.shape:  (10000,)\n",
      "[75 75  4]\n"
     ]
    }
   ],
   "source": [
    "##########\n",
    "# SIGNAL #\n",
    "##########\n",
    "num_signal = 10000\n",
    "num_signal_test = 5000\n",
    "\n",
    "file_pathsWP = glob.glob(path.join(folderimages_scaled, 'WP*.png'))\n",
    "\n",
    "# Load the images into a single variable and convert to a numpy array\n",
    "imagesWP = [imageio.imread(file_pathsWP[jj]) for jj in range(num_signal,num_signal+num_signal_test)]\n",
    "imagesWP = np.asarray(imagesWP)\n",
    "\n",
    "labelsWP = np.ones(num_signal_test)\n",
    "\n",
    "\n",
    "##############\n",
    "# BACKGROUND #\n",
    "##############\n",
    "num_back = 10000\n",
    "num_back_test = 5000\n",
    "\n",
    "file_pathsER = glob.glob(path.join(folderimages_scaled, 'ER*.png'))\n",
    "\n",
    "# Load the images into a single variable and convert to a numpy array\n",
    "imagesER = [imageio.imread(file_pathsER[jj]) for jj in range(num_back,num_back+num_back_test)]\n",
    "imagesER = np.asarray(imagesER)\n",
    "\n",
    "labelsER = np.zeros(num_back_test)\n",
    "\n",
    "\n",
    "\n",
    "images_test = np.concatenate([imagesWP,imagesER])\n",
    "del imagesWP\n",
    "del imagesER\n",
    "\n",
    "labels_test = np.concatenate([labelsWP,labelsER])\n",
    "del labelsWP\n",
    "del labelsER\n",
    "\n",
    "\n",
    "print('images_test.shape: ', images_test.shape)\n",
    "print('labels_test.shape: ', labels_test.shape)\n",
    "\n",
    "# Get image size\n",
    "image_size_test = np.asarray([images_test.shape[1], images_test.shape[2], images_test.shape[3]])\n",
    "print(image_size_test)\n",
    "\n",
    "# Scale images so values are between 0 and 1\n",
    "images_test = images_test / 255\n",
    "\n",
    "n_images_test = images_test.shape[0]\n",
    "\n",
    "\n",
    "\n",
    "x_test = images_test\n",
    "del images_test\n",
    "\n",
    "y_test = labels_test\n",
    "del labels_test"
   ]
  },
  {
   "cell_type": "code",
   "execution_count": 8,
   "metadata": {
    "scrolled": false
   },
   "outputs": [
    {
     "name": "stdout",
     "output_type": "stream",
     "text": [
      "Model: \"sequential\"\n",
      "_________________________________________________________________\n",
      "Layer (type)                 Output Shape              Param #   \n",
      "=================================================================\n",
      "conv2d (Conv2D)              (None, 73, 73, 16)        592       \n",
      "_________________________________________________________________\n",
      "leaky_re_lu (LeakyReLU)      (None, 73, 73, 16)        0         \n",
      "_________________________________________________________________\n",
      "max_pooling2d (MaxPooling2D) (None, 72, 72, 16)        0         \n",
      "_________________________________________________________________\n",
      "dropout (Dropout)            (None, 72, 72, 16)        0         \n",
      "_________________________________________________________________\n",
      "flatten (Flatten)            (None, 82944)             0         \n",
      "_________________________________________________________________\n",
      "dense (Dense)                (None, 32)                2654240   \n",
      "_________________________________________________________________\n",
      "leaky_re_lu_1 (LeakyReLU)    (None, 32)                0         \n",
      "_________________________________________________________________\n",
      "dropout_1 (Dropout)          (None, 32)                0         \n",
      "_________________________________________________________________\n",
      "dense_1 (Dense)              (None, 1)                 33        \n",
      "_________________________________________________________________\n",
      "activation (Activation)      (None, 1)                 0         \n",
      "=================================================================\n",
      "Total params: 2,654,865\n",
      "Trainable params: 2,654,865\n",
      "Non-trainable params: 0\n",
      "_________________________________________________________________\n",
      "313/313 [==============================] - 9s 30ms/step - loss: 0.5149 - acc: 0.8220 - f1_m: 0.4698 - precision_m: 0.4999 - recall_m: 0.4447\n",
      "acc: 82.20%\n",
      "WARNING:tensorflow:From <ipython-input-8-487609412c56>:30: Sequential.predict_proba (from tensorflow.python.keras.engine.sequential) is deprecated and will be removed after 2021-01-01.\n",
      "Instructions for updating:\n",
      "Please use `model.predict()` instead.\n",
      "Logistic: f1=0.833 auc=0.8963534\n"
     ]
    },
    {
     "data": {
      "image/png": "[encoded data removed]",
      "text/plain": [
       "<Figure size 432x288 with 1 Axes>"
      ]
     },
     "metadata": {
      "needs_background": "light"
     },
     "output_type": "display_data"
    },
    {
     "name": "stdout",
     "output_type": "stream",
     "text": [
      "Accuracy: 0.822\n",
      "Average precision: 0.752918439716312\n",
      "recall: 0.886\n",
      "AUC:0.8642304964539007\n",
      "Predicted   0.0   1.0\n",
      "Actual               \n",
      "0.0        3790  1210\n",
      "1.0         570  4430\n"
     ]
    },
    {
     "data": {
      "image/png": "[encoded data removed]",
      "text/plain": [
       "<Figure size 288x288 with 2 Axes>"
      ]
     },
     "metadata": {
      "needs_background": "light"
     },
     "output_type": "display_data"
    },
    {
     "data": {
      "image/png": "[encoded data removed]",
      "text/plain": [
       "<Figure size 432x288 with 1 Axes>"
      ]
     },
     "metadata": {
      "needs_background": "light"
     },
     "output_type": "display_data"
    },
    {
     "name": "stdout",
     "output_type": "stream",
     "text": [
      "ROC AUC:  0.9049880200000001\n"
     ]
    }
   ],
   "source": [
    "##########################\n",
    "# TEST WITH THE TEST SET #\n",
    "##########################\n",
    "\n",
    "dependencies = {\n",
    "    'f1_m' : f1_m, \n",
    "    'precision_m' : precision_m,\n",
    "    'recall_m': recall_m,\n",
    "}\n",
    "\n",
    "model = keras.models.load_model(model_name, custom_objects=dependencies)\n",
    "\n",
    "model.summary()\n",
    "\n",
    "\n",
    "\n",
    "score = model.evaluate(x_test, y_test, verbose=1)\n",
    "print(\"%s: %.2f%%\" % (model.metrics_names[1], score[1]*100))\n",
    "\n",
    "\n",
    "from sklearn.datasets import make_classification\n",
    "from sklearn.linear_model import LogisticRegression\n",
    "from sklearn.model_selection import train_test_split\n",
    "from sklearn.metrics import precision_recall_curve\n",
    "from sklearn.metrics import f1_score\n",
    "from sklearn.metrics import auc\n",
    "from matplotlib import pyplot\n",
    "\n",
    "\n",
    "lr_probs = model.predict_proba(x_test)    # Predict probabilities\n",
    "yhat = model.predict(x_test)      # Predict class values\n",
    "yhat_original = yhat\n",
    "yhat = np.round(yhat)\n",
    "lr_precision, lr_recall, _ = precision_recall_curve(y_test, lr_probs)\n",
    "lr_f1, lr_auc = f1_score(y_test, yhat), auc(lr_recall, lr_precision)\n",
    "print('Logistic: f1=%.3f auc=%.7f' % (lr_f1, lr_auc))   # Summarise scores\n",
    "''' plot the precision-recall curves '''\n",
    "no_skill = len(y_test[y_test==1]) / len(y_test)\n",
    "pyplot.plot(lr_recall, lr_precision, 'r-', label='F1 = %0.2f' %(lr_f1))\n",
    "pyplot.xlabel('Recall')\n",
    "pyplot.ylabel('Precision')\n",
    "pyplot.legend(loc='lower left')\n",
    "plt.title('Precision-Recall (PR) Curve')\n",
    "pyplot.show()\n",
    "\n",
    "## Save precision and recall data to plot PR curve seperately\n",
    "#np.savetxt(\"/content/drive/My Drive/Colab Notebooks/precision_HP.txt\",lr_precision)\n",
    "#np.savetxt(\"/content/drive/My Drive/Colab Notebooks/recall_HP.txt\",lr_recall)\n",
    "\n",
    "\n",
    "test_predictions = yhat             # Make a prediction on the test set\n",
    "accuracy = accuracy_score(y_test, test_predictions)\n",
    "print(\"Accuracy: \" + str(accuracy))\n",
    "average_precision = average_precision_score(y_test, test_predictions)\n",
    "print(\"Average precision: \" + str(average_precision))\n",
    "\n",
    "from sklearn.metrics import precision_recall_curve\n",
    "\n",
    "precision, recall, threshold = precision_recall_curve(y_test, test_predictions)\n",
    "auc = auc(recall, precision)\n",
    "recall1 = recall_score(y_test, np.round(test_predictions))\n",
    "print(\"recall: \" + str(recall1))\n",
    "print('AUC:' +str(auc))\n",
    "\n",
    "\n",
    "# Report Confusion Matrix\n",
    "y_actu = pd.Series(y_test.ravel(), name='Actual')\n",
    "y_pred = pd.Series(np.round(test_predictions.ravel()), name='Predicted')\n",
    "df_confusion = pd.crosstab(y_actu, y_pred)\n",
    "print(df_confusion)\n",
    "\n",
    "# Plot confusion matrix\n",
    "def plot_confusion_matrix(df_confusion, cmap='YlGn'):\n",
    "    plt.matshow(df_confusion, cmap=cmap) # imshow\n",
    "    plt.colorbar()\n",
    "    tick_marks = np.arange(0,len(df_confusion.columns))\n",
    "    plt.xticks(tick_marks, df_confusion.columns)\n",
    "    plt.yticks(tick_marks, df_confusion.index)\n",
    "    plt.ylabel(df_confusion.index.name)\n",
    "    plt.xlabel(df_confusion.columns.name)\n",
    "    for i in range(len(df_confusion.index)):\n",
    "        for j in range(len(df_confusion.columns)):\n",
    "            plt.text(j,i,str(df_confusion.iloc[i,j]))\n",
    "    plt.show()\n",
    "\n",
    "plot_confusion_matrix(df_confusion)\n",
    "\n",
    "from sklearn.metrics import roc_curve\n",
    "from sklearn.metrics import roc_auc_score\n",
    "\n",
    "def plot_roc_curve(fpr, tpr):\n",
    "    plt.plot(fpr, tpr, color='darkblue', label='AUC = %0.2f' %(auc))\n",
    "    plt.plot([0, 1], [0, 1], color='orange', linestyle='--')\n",
    "    plt.xlabel('False Positive Rate')\n",
    "    plt.ylabel('True Positive Rate')\n",
    "    plt.title('Receiver Operating Characteristic (ROC) Curve')\n",
    "    plt.legend()\n",
    "    plt.show()\n",
    "    \n",
    "    \n",
    "from sklearn.metrics import roc_curve, roc_auc_score, auc\n",
    "\n",
    "fpr, tpr, thresholds = roc_curve(y_test, yhat_original)\n",
    "auc = auc(fpr, tpr)\n",
    "# Save tpr and fpr to plot seperate ROC curve\n",
    "#np.savetxt(\"/content/drive/My Drive/Colab Notebooks/tpr.txt\",tpr)\n",
    "#np.savetxt(\"/content/drive/My Drive/Colab Notebooks/fpr.txt\",fpr)\n",
    "plot_roc_curve(fpr, tpr)\n",
    "\n",
    "print('ROC AUC: ', auc)"
   ]
  },
  {
   "cell_type": "code",
   "execution_count": 9,
   "metadata": {},
   "outputs": [
    {
     "name": "stdout",
     "output_type": "stream",
     "text": [
      "Model: \"sequential_18\"\n",
      "_________________________________________________________________\n",
      "Layer (type)                 Output Shape              Param #   \n",
      "=================================================================\n",
      "conv2d_28 (Conv2D)           (None, 73, 73, 16)        592       \n",
      "_________________________________________________________________\n",
      "leaky_re_lu_45 (LeakyReLU)   (None, 73, 73, 16)        0         \n",
      "_________________________________________________________________\n",
      "max_pooling2d_28 (MaxPooling (None, 72, 72, 16)        0         \n",
      "_________________________________________________________________\n",
      "dropout_35 (Dropout)         (None, 72, 72, 16)        0         \n",
      "_________________________________________________________________\n",
      "flatten_18 (Flatten)         (None, 82944)             0         \n",
      "_________________________________________________________________\n",
      "dense_35 (Dense)             (None, 32)                2654240   \n",
      "_________________________________________________________________\n",
      "leaky_re_lu_46 (LeakyReLU)   (None, 32)                0         \n",
      "_________________________________________________________________\n",
      "dropout_36 (Dropout)         (None, 32)                0         \n",
      "_________________________________________________________________\n",
      "dense_36 (Dense)             (None, 1)                 33        \n",
      "_________________________________________________________________\n",
      "activation_18 (Activation)   (None, 1)                 0         \n",
      "=================================================================\n",
      "Total params: 2,654,865\n",
      "Trainable params: 2,654,865\n",
      "Non-trainable params: 0\n",
      "_________________________________________________________________\n"
     ]
    },
    {
     "data": {
      "image/png": "[encoded data removed]",
      "text/plain": [
       "<Figure size 432x288 with 1 Axes>"
      ]
     },
     "metadata": {
      "needs_background": "light"
     },
     "output_type": "display_data"
    },
    {
     "name": "stdout",
     "output_type": "stream",
     "text": [
      "ROC AUC:  0.5306687\n"
     ]
    }
   ],
   "source": [
    "###############\n",
    "# PAPER MODEL #\n",
    "###############\n",
    "\n",
    "dependencies = {\n",
    "    'f1_m' : f1_m, \n",
    "    'precision_m' : precision_m,\n",
    "    'recall_m': recall_m,\n",
    "}\n",
    "\n",
    "model = keras.models.load_model(model_paper, custom_objects=dependencies)\n",
    "\n",
    "model.summary()\n",
    "\n",
    "\n",
    "from sklearn.metrics import roc_curve, roc_auc_score, auc\n",
    "\n",
    "yhat = model.predict(x_test)      # Predict class values\n",
    "fpr, tpr, thresholds = roc_curve(y_test, yhat)\n",
    "auc = auc(fpr, tpr)\n",
    "plot_roc_curve(fpr, tpr)\n",
    "\n",
    "print('ROC AUC: ', auc)"
   ]
  },
  {
   "cell_type": "markdown",
   "metadata": {},
   "source": [
    "##### Test with the train set (just to see)"
   ]
  },
  {
   "cell_type": "code",
   "execution_count": 17,
   "metadata": {},
   "outputs": [],
   "source": [
    "##################################\n",
    "# USING TO TEST THE TRAINING SET # THIS IS WRONG! but to see\n",
    "##################################\n",
    "\n",
    "x_test2 = images\n",
    "del images\n",
    "\n",
    "y_test2 = labels\n",
    "del labels"
   ]
  },
  {
   "cell_type": "code",
   "execution_count": 18,
   "metadata": {},
   "outputs": [
    {
     "name": "stdout",
     "output_type": "stream",
     "text": [
      "Model: \"sequential\"\n",
      "_________________________________________________________________\n",
      "Layer (type)                 Output Shape              Param #   \n",
      "=================================================================\n",
      "conv2d (Conv2D)              (None, 73, 73, 16)        592       \n",
      "_________________________________________________________________\n",
      "leaky_re_lu (LeakyReLU)      (None, 73, 73, 16)        0         \n",
      "_________________________________________________________________\n",
      "max_pooling2d (MaxPooling2D) (None, 72, 72, 16)        0         \n",
      "_________________________________________________________________\n",
      "dropout (Dropout)            (None, 72, 72, 16)        0         \n",
      "_________________________________________________________________\n",
      "flatten (Flatten)            (None, 82944)             0         \n",
      "_________________________________________________________________\n",
      "dense (Dense)                (None, 32)                2654240   \n",
      "_________________________________________________________________\n",
      "leaky_re_lu_1 (LeakyReLU)    (None, 32)                0         \n",
      "_________________________________________________________________\n",
      "dropout_1 (Dropout)          (None, 32)                0         \n",
      "_________________________________________________________________\n",
      "dense_1 (Dense)              (None, 1)                 33        \n",
      "_________________________________________________________________\n",
      "activation (Activation)      (None, 1)                 0         \n",
      "=================================================================\n",
      "Total params: 2,654,865\n",
      "Trainable params: 2,654,865\n",
      "Non-trainable params: 0\n",
      "_________________________________________________________________\n",
      "313/313 [==============================] - 11s 36ms/step - loss: 0.3728 - acc: 0.8922 - f1_m: 0.9329 - precision_m: 0.8959 - recall_m: 0.9758\n",
      "acc: 89.22%\n",
      "WARNING:tensorflow:From <ipython-input-18-f66cf17450d6>:30: Sequential.predict_proba (from tensorflow.python.keras.engine.sequential) is deprecated and will be removed after 2021-01-01.\n",
      "Instructions for updating:\n",
      "Please use `model.predict()` instead.\n",
      "Logistic: f1=0.934 auc=0.9788990\n"
     ]
    },
    {
     "data": {
      "image/png": "[encoded data removed]",
      "text/plain": [
       "<Figure size 432x288 with 1 Axes>"
      ]
     },
     "metadata": {
      "needs_background": "light"
     },
     "output_type": "display_data"
    },
    {
     "name": "stdout",
     "output_type": "stream",
     "text": [
      "Accuracy: 0.8922\n",
      "Average precision: 0.8935837718808488\n",
      "recall: 0.9759725400457666\n",
      "AUC:0.9455450722643028\n",
      "Predicted   0.0   1.0\n",
      "Actual               \n",
      "0.0        1245   889\n",
      "1.0         189  7677\n"
     ]
    },
    {
     "data": {
      "image/png": "[encoded data removed]",
      "text/plain": [
       "<Figure size 288x288 with 2 Axes>"
      ]
     },
     "metadata": {
      "needs_background": "light"
     },
     "output_type": "display_data"
    },
    {
     "data": {
      "image/png": "[encoded data removed]",
      "text/plain": [
       "<Figure size 432x288 with 1 Axes>"
      ]
     },
     "metadata": {
      "needs_background": "light"
     },
     "output_type": "display_data"
    },
    {
     "name": "stdout",
     "output_type": "stream",
     "text": [
      "ROC AUC:  0.9339704757118472\n"
     ]
    }
   ],
   "source": [
    "###########################\n",
    "# TEST WITH THE TRAIN SET # just to see\n",
    "###########################\n",
    "\n",
    "dependencies = {\n",
    "    'f1_m' : f1_m, \n",
    "    'precision_m' : precision_m,\n",
    "    'recall_m': recall_m,\n",
    "}\n",
    "\n",
    "model = keras.models.load_model(model_name, custom_objects=dependencies)\n",
    "\n",
    "model.summary()\n",
    "\n",
    "\n",
    "\n",
    "score = model.evaluate(x_test2, y_test2, verbose=1)\n",
    "print(\"%s: %.2f%%\" % (model.metrics_names[1], score[1]*100))\n",
    "\n",
    "\n",
    "from sklearn.datasets import make_classification\n",
    "from sklearn.linear_model import LogisticRegression\n",
    "from sklearn.model_selection import train_test_split\n",
    "from sklearn.metrics import precision_recall_curve\n",
    "from sklearn.metrics import f1_score\n",
    "from sklearn.metrics import auc\n",
    "from matplotlib import pyplot\n",
    "\n",
    "\n",
    "lr_probs = model.predict_proba(x_test2)    # Predict probabilities\n",
    "yhat = model.predict(x_test2)      # Predict class values\n",
    "yhat_original = yhat\n",
    "yhat = np.round(yhat)\n",
    "lr_precision, lr_recall, _ = precision_recall_curve(y_test2, lr_probs)\n",
    "lr_f1, lr_auc = f1_score(y_test2, yhat), auc(lr_recall, lr_precision)\n",
    "print('Logistic: f1=%.3f auc=%.7f' % (lr_f1, lr_auc))   # Summarise scores\n",
    "''' plot the precision-recall curves '''\n",
    "no_skill = len(y_test2[y_test2==1]) / len(y_test2)\n",
    "pyplot.plot(lr_recall, lr_precision, 'r-', label='F1 = %0.2f' %(lr_f1))\n",
    "pyplot.xlabel('Recall')\n",
    "pyplot.ylabel('Precision')\n",
    "pyplot.legend(loc='lower left')\n",
    "plt.title('Precision-Recall (PR) Curve')\n",
    "pyplot.show()\n",
    "\n",
    "## Save precision and recall data to plot PR curve seperately\n",
    "#np.savetxt(\"/content/drive/My Drive/Colab Notebooks/precision_HP.txt\",lr_precision)\n",
    "#np.savetxt(\"/content/drive/My Drive/Colab Notebooks/recall_HP.txt\",lr_recall)\n",
    "\n",
    "\n",
    "test_predictions = yhat             # Make a prediction on the test set\n",
    "accuracy = accuracy_score(y_test2, test_predictions)\n",
    "print(\"Accuracy: \" + str(accuracy))\n",
    "average_precision = average_precision_score(y_test2, test_predictions)\n",
    "print(\"Average precision: \" + str(average_precision))\n",
    "\n",
    "from sklearn.metrics import precision_recall_curve\n",
    "\n",
    "precision, recall, threshold = precision_recall_curve(y_test2, test_predictions)\n",
    "auc = auc(recall, precision)\n",
    "recall1 = recall_score(y_test2, np.round(test_predictions))\n",
    "print(\"recall: \" + str(recall1))\n",
    "print('AUC:' +str(auc))\n",
    "\n",
    "\n",
    "# Report Confusion Matrix\n",
    "y_actu = pd.Series(y_test2.ravel(), name='Actual')\n",
    "y_pred = pd.Series(np.round(test_predictions.ravel()), name='Predicted')\n",
    "df_confusion = pd.crosstab(y_actu, y_pred)\n",
    "print(df_confusion)\n",
    "\n",
    "# Plot confusion matrix\n",
    "def plot_confusion_matrix(df_confusion, cmap='YlGn'):\n",
    "    plt.matshow(df_confusion, cmap=cmap) # imshow\n",
    "    plt.colorbar()\n",
    "    tick_marks = np.arange(0,len(df_confusion.columns))\n",
    "    plt.xticks(tick_marks, df_confusion.columns)\n",
    "    plt.yticks(tick_marks, df_confusion.index)\n",
    "    plt.ylabel(df_confusion.index.name)\n",
    "    plt.xlabel(df_confusion.columns.name)\n",
    "    for i in range(len(df_confusion.index)):\n",
    "        for j in range(len(df_confusion.columns)):\n",
    "            plt.text(j,i,str(df_confusion.iloc[i,j]))\n",
    "    plt.show()\n",
    "\n",
    "plot_confusion_matrix(df_confusion)\n",
    "\n",
    "from sklearn.metrics import roc_curve\n",
    "from sklearn.metrics import roc_auc_score\n",
    "\n",
    "def plot_roc_curve(fpr, tpr):\n",
    "    plt.plot(fpr, tpr, color='darkblue', label='AUC = %0.2f' %(auc))\n",
    "    plt.plot([0, 1], [0, 1], color='orange', linestyle='--')\n",
    "    plt.xlabel('False Positive Rate')\n",
    "    plt.ylabel('True Positive Rate')\n",
    "    plt.title('Receiver Operating Characteristic (ROC) Curve')\n",
    "    plt.legend()\n",
    "    plt.show()\n",
    "    \n",
    "    \n",
    "from sklearn.metrics import roc_curve, roc_auc_score, auc\n",
    "\n",
    "fpr, tpr, thresholds = roc_curve(y_test2, yhat_original)\n",
    "auc = auc(fpr, tpr)\n",
    "# Save tpr and fpr to plot seperate ROC curve\n",
    "#np.savetxt(\"/content/drive/My Drive/Colab Notebooks/tpr.txt\",tpr)\n",
    "#np.savetxt(\"/content/drive/My Drive/Colab Notebooks/fpr.txt\",fpr)\n",
    "plot_roc_curve(fpr, tpr)\n",
    "\n",
    "print('ROC AUC: ', auc)"
   ]
  },
  {
   "cell_type": "code",
   "execution_count": 19,
   "metadata": {},
   "outputs": [
    {
     "name": "stdout",
     "output_type": "stream",
     "text": [
      "Model: \"sequential_18\"\n",
      "_________________________________________________________________\n",
      "Layer (type)                 Output Shape              Param #   \n",
      "=================================================================\n",
      "conv2d_28 (Conv2D)           (None, 73, 73, 16)        592       \n",
      "_________________________________________________________________\n",
      "leaky_re_lu_45 (LeakyReLU)   (None, 73, 73, 16)        0         \n",
      "_________________________________________________________________\n",
      "max_pooling2d_28 (MaxPooling (None, 72, 72, 16)        0         \n",
      "_________________________________________________________________\n",
      "dropout_35 (Dropout)         (None, 72, 72, 16)        0         \n",
      "_________________________________________________________________\n",
      "flatten_18 (Flatten)         (None, 82944)             0         \n",
      "_________________________________________________________________\n",
      "dense_35 (Dense)             (None, 32)                2654240   \n",
      "_________________________________________________________________\n",
      "leaky_re_lu_46 (LeakyReLU)   (None, 32)                0         \n",
      "_________________________________________________________________\n",
      "dropout_36 (Dropout)         (None, 32)                0         \n",
      "_________________________________________________________________\n",
      "dense_36 (Dense)             (None, 1)                 33        \n",
      "_________________________________________________________________\n",
      "activation_18 (Activation)   (None, 1)                 0         \n",
      "=================================================================\n",
      "Total params: 2,654,865\n",
      "Trainable params: 2,654,865\n",
      "Non-trainable params: 0\n",
      "_________________________________________________________________\n"
     ]
    },
    {
     "data": {
      "image/png": "[encoded data removed]",
      "text/plain": [
       "<Figure size 432x288 with 1 Axes>"
      ]
     },
     "metadata": {
      "needs_background": "light"
     },
     "output_type": "display_data"
    },
    {
     "name": "stdout",
     "output_type": "stream",
     "text": [
      "ROC AUC:  0.5271989636152508\n"
     ]
    }
   ],
   "source": [
    "###############\n",
    "# PAPER MODEL #\n",
    "###############\n",
    "\n",
    "dependencies = {\n",
    "    'f1_m' : f1_m, \n",
    "    'precision_m' : precision_m,\n",
    "    'recall_m': recall_m,\n",
    "}\n",
    "\n",
    "model = keras.models.load_model(model_paper, custom_objects=dependencies)\n",
    "\n",
    "model.summary()\n",
    "\n",
    "\n",
    "from sklearn.metrics import roc_curve, roc_auc_score, auc\n",
    "\n",
    "yhat2 = model.predict(x_test2)      # Predict class values\n",
    "fpr, tpr, thresholds = roc_curve(y_test2, yhat2)\n",
    "auc = auc(fpr, tpr)\n",
    "plot_roc_curve(fpr, tpr)\n",
    "\n",
    "print('ROC AUC: ', auc)"
   ]
  },
  {
   "cell_type": "code",
   "execution_count": null,
   "metadata": {},
   "outputs": [],
   "source": []
  }
 ],
 "metadata": {
  "kernelspec": {
   "display_name": "Python 3",
   "language": "python",
   "name": "python3"
  },
  "language_info": {
   "codemirror_mode": {
    "name": "ipython",
    "version": 3
   },
   "file_extension": ".py",
   "mimetype": "text/x-python",
   "name": "python",
   "nbconvert_exporter": "python",
   "pygments_lexer": "ipython3",
   "version": "3.8.8"
  }
 },
 "nbformat": 4,
 "nbformat_minor": 4
}
