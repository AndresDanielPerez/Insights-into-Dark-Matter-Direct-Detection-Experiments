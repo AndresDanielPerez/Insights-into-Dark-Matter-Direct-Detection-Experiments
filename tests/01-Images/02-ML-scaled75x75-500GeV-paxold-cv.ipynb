{
 "cells": [
  {
   "cell_type": "code",
   "execution_count": 1,
   "metadata": {},
   "outputs": [],
   "source": [
    "import numpy as np\n",
    "import pandas as pd\n",
    "import matplotlib.pyplot as plt\n",
    "import seaborn as sns\n",
    "from matplotlib import gridspec\n",
    "from matplotlib import patches\n",
    "from matplotlib import cm\n",
    "from mpl_toolkits.mplot3d import Axes3D\n",
    "\n",
    "import os\n",
    "import math\n",
    "import random\n",
    "\n",
    "import keras\n",
    "from keras.models import Sequential\n",
    "from keras.layers import Input, Dense, Conv2D, Flatten, MaxPooling2D\n",
    "from keras.layers import Dropout\n",
    "from keras.callbacks import EarlyStopping\n",
    "\n",
    "from sklearn.preprocessing import MinMaxScaler\n",
    "from sklearn.model_selection import train_test_split\n",
    "from sklearn.utils import shuffle\n",
    "from sklearn import preprocessing\n",
    "from sklearn.metrics import roc_curve, roc_auc_score, auc\n",
    "\n",
    "import scipy.stats as st\n",
    "from scipy.stats import poisson\n",
    "from scipy.interpolate import interp1d\n",
    "from scipy.stats import norm"
   ]
  },
  {
   "cell_type": "code",
   "execution_count": 2,
   "metadata": {},
   "outputs": [],
   "source": [
    "from sklearn.neighbors import KernelDensity # paquete necesario\n",
    "from sklearn.model_selection import GridSearchCV\n",
    "\n",
    "import scipy.integrate as integrate"
   ]
  },
  {
   "cell_type": "code",
   "execution_count": 3,
   "metadata": {},
   "outputs": [
    {
     "name": "stdout",
     "output_type": "stream",
     "text": [
      "Requirement already satisfied: xgboost in /home/perez/anaconda3/lib/python3.7/site-packages (1.5.1)\n",
      "Requirement already satisfied: numpy in /home/perez/anaconda3/lib/python3.7/site-packages (from xgboost) (1.18.5)\n",
      "Requirement already satisfied: scipy in /home/perez/anaconda3/lib/python3.7/site-packages (from xgboost) (1.4.1)\n",
      "\n",
      "\u001b[1m[\u001b[0m\u001b[34;49mnotice\u001b[0m\u001b[1;39;49m]\u001b[0m\u001b[39;49m A new release of pip is available: \u001b[0m\u001b[31;49m23.0\u001b[0m\u001b[39;49m -> \u001b[0m\u001b[32;49m23.2.1\u001b[0m\n",
      "\u001b[1m[\u001b[0m\u001b[34;49mnotice\u001b[0m\u001b[1;39;49m]\u001b[0m\u001b[39;49m To update, run: \u001b[0m\u001b[32;49mpip install --upgrade pip\u001b[0m\n"
     ]
    }
   ],
   "source": [
    "!pip install xgboost\n",
    "\n",
    "import xgboost\n",
    "from xgboost import XGBRegressor, XGBClassifier"
   ]
  },
  {
   "cell_type": "code",
   "execution_count": 4,
   "metadata": {},
   "outputs": [],
   "source": [
    "import glob\n",
    "import numpy as np\n",
    "import os.path as path\n",
    "import imageio\n",
    "import matplotlib.pyplot as plt\n",
    "from keras.models import Sequential\n",
    "from keras.layers import Activation, Dropout, Flatten, Dense, Conv2D, MaxPooling2D\n",
    "from keras.callbacks import EarlyStopping, TensorBoard\n",
    "from datetime import datetime\n",
    "import keras\n",
    "from keras import regularizers\n",
    "from sklearn.model_selection import train_test_split\n",
    "import pandas as pd\n",
    "from sklearn.metrics import accuracy_score, f1_score, average_precision_score, precision_recall_curve, auc,recall_score\n",
    "from keras.optimizers import Adam\n",
    "from keras.regularizers import l2\n",
    "import h5py\n",
    "from sklearn.model_selection import GridSearchCV\n",
    "from keras.backend import cast, greater, clip, floatx,epsilon\n",
    "from keras.wrappers.scikit_learn import KerasClassifier\n",
    "from keras import backend as K\n",
    "from sklearn.model_selection import StratifiedKFold"
   ]
  },
  {
   "cell_type": "markdown",
   "metadata": {},
   "source": [
    "### Load images"
   ]
  },
  {
   "cell_type": "code",
   "execution_count": 5,
   "metadata": {},
   "outputs": [],
   "source": [
    "folderimages_scaled = '/home/perez/CompuTools/Direct-Detection/data-old-pax/out-images-scaled-cv/'\n",
    "folderimages_scaled_new = '/home/perez/CompuTools/Direct-Detection/new/out-images-scaled-cv/'\n",
    "\n",
    "model_name = 'saved-models/model_CNN_75x75_500GeV_paxold_cv.h5'\n",
    "model_name_new = 'saved-models/model_CNN_75x75_500GeV_cv_v3.h5'\n",
    "model_paper = 'paper-model/final_model.h5'"
   ]
  },
  {
   "cell_type": "code",
   "execution_count": null,
   "metadata": {},
   "outputs": [],
   "source": []
  },
  {
   "cell_type": "code",
   "execution_count": 6,
   "metadata": {},
   "outputs": [],
   "source": [
    "from keras import backend as K\n",
    "np.random.seed(0)\n",
    "\n",
    "# Define recall, precision and f1 functions\n",
    "def recall_m(y_true, y_pred):\n",
    "    true_positives = K.sum(K.round(K.clip(y_true * y_pred, 0, 1)))\n",
    "    possible_positives = K.sum(K.round(K.clip(y_true, 0, 1)))\n",
    "    recall = true_positives / (possible_positives + K.epsilon())\n",
    "    return recall\n",
    "\n",
    "def precision_m(y_true, y_pred):\n",
    "    true_positives = K.sum(K.round(K.clip(y_true * y_pred, 0, 1)))\n",
    "    predicted_positives = K.sum(K.round(K.clip(y_pred, 0, 1)))\n",
    "    precision = true_positives / (predicted_positives + K.epsilon())\n",
    "    return precision\n",
    "\n",
    "def f1_m(y_true, y_pred):\n",
    "    precision = precision_m(y_true, y_pred)\n",
    "    recall = recall_m(y_true, y_pred)\n",
    "    return 2*((precision*recall)/(precision+recall+K.epsilon()))"
   ]
  },
  {
   "cell_type": "code",
   "execution_count": null,
   "metadata": {},
   "outputs": [],
   "source": []
  },
  {
   "cell_type": "markdown",
   "metadata": {},
   "source": [
    "##### TEST-VAL SET"
   ]
  },
  {
   "cell_type": "code",
   "execution_count": 7,
   "metadata": {},
   "outputs": [
    {
     "name": "stdout",
     "output_type": "stream",
     "text": [
      "(75, 75, 4)\n",
      "(75, 75, 4)\n",
      "(75, 75, 4)\n",
      "(75, 75, 4)\n"
     ]
    }
   ],
   "source": [
    "# test\n",
    "from PIL import Image\n",
    "\n",
    "for i in range(2):\n",
    "    img = Image.open( folderimages_scaled+'WP' + str(i) + '.png' )\n",
    "    data = np.asarray( img, dtype=\"int32\" )\n",
    "    print(data.shape)\n",
    "    \n",
    "for i in range(2):\n",
    "    img = Image.open( folderimages_scaled+'ER' + str(i) + '.png' )\n",
    "    data = np.asarray( img, dtype=\"int32\" )\n",
    "    print(data.shape)"
   ]
  },
  {
   "cell_type": "code",
   "execution_count": 8,
   "metadata": {},
   "outputs": [
    {
     "name": "stdout",
     "output_type": "stream",
     "text": [
      "images.shape:  (10000, 75, 75, 4)\n",
      "labels.shape:  (10000,)\n",
      "[75 75  4]\n"
     ]
    }
   ],
   "source": [
    "##########\n",
    "# SIGNAL #\n",
    "##########\n",
    "num_signal = 5000\n",
    "\n",
    "file_pathsWP = glob.glob(path.join(folderimages_scaled, 'WP*.png'))\n",
    "\n",
    "# Load the images into a single variable and convert to a numpy array\n",
    "imagesWP = [imageio.imread(file_pathsWP[jj]) for jj in range(num_signal)]\n",
    "imagesWP = np.asarray(imagesWP)\n",
    "\n",
    "labelsWP = np.ones(num_signal)\n",
    "\n",
    "\n",
    "##############\n",
    "# BACKGROUND #\n",
    "##############\n",
    "num_back = 5000\n",
    "\n",
    "file_pathsER = glob.glob(path.join(folderimages_scaled, 'ER*.png'))\n",
    "\n",
    "# Load the images into a single variable and convert to a numpy array\n",
    "imagesER = [imageio.imread(file_pathsER[jj]) for jj in range(num_back)]\n",
    "imagesER = np.asarray(imagesER)\n",
    "\n",
    "labelsER = np.zeros(num_back)\n",
    "\n",
    "\n",
    "\n",
    "images = np.concatenate([imagesWP,imagesER])\n",
    "del imagesWP\n",
    "del imagesER\n",
    "\n",
    "labels = np.concatenate([labelsWP,labelsER])\n",
    "del labelsWP\n",
    "del labelsER\n",
    "\n",
    "\n",
    "\n",
    "print('images.shape: ', images.shape)\n",
    "print('labels.shape: ', labels.shape)\n",
    "\n",
    "# Get image size\n",
    "image_size = np.asarray([images.shape[1], images.shape[2], images.shape[3]])\n",
    "print(image_size)\n",
    "\n",
    "# Scale images so values are between 0 and 1\n",
    "images = images / 255\n",
    "\n",
    "n_images = images.shape[0]"
   ]
  },
  {
   "cell_type": "code",
   "execution_count": 9,
   "metadata": {},
   "outputs": [
    {
     "data": {
      "text/plain": [
       "5000.0"
      ]
     },
     "execution_count": 9,
     "metadata": {},
     "output_type": "execute_result"
    }
   ],
   "source": [
    "sum(labels)"
   ]
  },
  {
   "cell_type": "code",
   "execution_count": 10,
   "metadata": {},
   "outputs": [
    {
     "data": {
      "text/plain": [
       "(10000,)"
      ]
     },
     "execution_count": 10,
     "metadata": {},
     "output_type": "execute_result"
    }
   ],
   "source": [
    "labels.shape"
   ]
  },
  {
   "cell_type": "code",
   "execution_count": 29,
   "metadata": {},
   "outputs": [],
   "source": [
    "# file_paths = glob.glob(path.join(folderimages_scaled, '*.png'))\n",
    "\n",
    "# # Load the images into a single variable and convert to a numpy array\n",
    "# images = [imageio.imread(file_paths[jj]) for jj in range(20000)]\n",
    "# images = np.asarray(images)\n",
    "# print(images.shape)\n",
    "\n",
    "# # Get image size\n",
    "# image_size = np.asarray([images.shape[1], images.shape[2], images.shape[3]])\n",
    "# print(image_size)\n",
    "\n",
    "# # Scale images so values are between 0 and 1\n",
    "# images = images / 255"
   ]
  },
  {
   "cell_type": "code",
   "execution_count": 26,
   "metadata": {},
   "outputs": [],
   "source": [
    "# # Read the labels from the filenames\n",
    "\n",
    "# n_images = images.shape[0]\n",
    "# labels = np.zeros(n_images)\n",
    "# for i in range(n_images):\n",
    "#     filename = path.basename(file_paths[i])[0]\n",
    "#     if filename[0] == 'W':                          #Every file that begins with W is assigned a 1\n",
    "#         labels[i] = 1\n",
    "#     else:\n",
    "#         labels[i] = 0\n",
    "\n",
    "# # Background = 0 = FALSE\n",
    "# # WIMPS = 1 = TRUE"
   ]
  },
  {
   "cell_type": "code",
   "execution_count": 11,
   "metadata": {},
   "outputs": [
    {
     "name": "stdout",
     "output_type": "stream",
     "text": [
      "(7500, 75, 75, 4)\n",
      "(7500,)\n",
      "(2500, 75, 75, 4)\n",
      "(2500,)\n"
     ]
    }
   ],
   "source": [
    "# Split into test and training sets\n",
    "\n",
    "TRAIN_TEST_SPLIT = 0.75            \n",
    "\n",
    "# Split at the given index\n",
    "split_index = int(TRAIN_TEST_SPLIT * n_images)\n",
    "shuffled_indices = np.random.permutation(n_images)\n",
    "train_indices = shuffled_indices[0:split_index]\n",
    "test_indices = shuffled_indices[split_index:]\n",
    "\n",
    "# Split the images and the labels\n",
    "x_train = images[train_indices, :, :, :]\n",
    "y_train = labels[train_indices]\n",
    "x_val = images[test_indices, :, :, :]\n",
    "y_val = labels[test_indices]\n",
    "\n",
    "#x_train = images\n",
    "#y_train = labels\n",
    "\n",
    "print(x_train.shape)\n",
    "print(y_train.shape)\n",
    "print(x_val.shape)\n",
    "print(y_val.shape)"
   ]
  },
  {
   "cell_type": "markdown",
   "metadata": {},
   "source": [
    "##### TRAIN THE MODEL"
   ]
  },
  {
   "cell_type": "code",
   "execution_count": 12,
   "metadata": {},
   "outputs": [
    {
     "name": "stdout",
     "output_type": "stream",
     "text": [
      "Epoch 1/50\n",
      "75/75 [==============================] - 23s 307ms/step - loss: 1.1679 - acc: 0.6169 - f1_m: 0.5952 - precision_m: 0.6170 - recall_m: 0.6173 - val_loss: 0.6627 - val_acc: 0.7256 - val_f1_m: 0.7002 - val_precision_m: 0.7825 - val_recall_m: 0.6377\n",
      "Epoch 2/50\n",
      "75/75 [==============================] - 22s 299ms/step - loss: 0.6304 - acc: 0.7495 - f1_m: 0.7597 - precision_m: 0.7211 - recall_m: 0.8110 - val_loss: 0.5850 - val_acc: 0.7648 - val_f1_m: 0.7865 - val_precision_m: 0.7262 - val_recall_m: 0.8603\n",
      "Epoch 3/50\n",
      "75/75 [==============================] - 22s 294ms/step - loss: 0.5939 - acc: 0.7627 - f1_m: 0.7716 - precision_m: 0.7412 - recall_m: 0.8133 - val_loss: 0.5638 - val_acc: 0.7864 - val_f1_m: 0.7960 - val_precision_m: 0.7667 - val_recall_m: 0.8309\n",
      "Epoch 4/50\n",
      "75/75 [==============================] - 21s 287ms/step - loss: 0.5671 - acc: 0.7761 - f1_m: 0.7819 - precision_m: 0.7573 - recall_m: 0.8150 - val_loss: 0.5531 - val_acc: 0.7956 - val_f1_m: 0.8080 - val_precision_m: 0.7697 - val_recall_m: 0.8534\n",
      "Epoch 5/50\n",
      "75/75 [==============================] - 21s 284ms/step - loss: 0.5467 - acc: 0.7920 - f1_m: 0.7955 - precision_m: 0.7753 - recall_m: 0.8234 - val_loss: 0.5395 - val_acc: 0.7908 - val_f1_m: 0.8115 - val_precision_m: 0.7449 - val_recall_m: 0.8944\n",
      "Epoch 6/50\n",
      "75/75 [==============================] - 21s 285ms/step - loss: 0.5283 - acc: 0.8035 - f1_m: 0.8071 - precision_m: 0.7874 - recall_m: 0.8332 - val_loss: 0.5384 - val_acc: 0.7972 - val_f1_m: 0.7885 - val_precision_m: 0.8326 - val_recall_m: 0.7522\n",
      "Epoch 7/50\n",
      "75/75 [==============================] - 24s 318ms/step - loss: 0.5400 - acc: 0.7951 - f1_m: 0.7973 - precision_m: 0.7847 - recall_m: 0.8228 - val_loss: 0.5285 - val_acc: 0.8088 - val_f1_m: 0.8103 - val_precision_m: 0.8135 - val_recall_m: 0.8107\n",
      "Epoch 8/50\n",
      "75/75 [==============================] - 23s 309ms/step - loss: 0.5228 - acc: 0.8052 - f1_m: 0.8065 - precision_m: 0.7919 - recall_m: 0.8289 - val_loss: 0.5371 - val_acc: 0.8060 - val_f1_m: 0.8050 - val_precision_m: 0.8172 - val_recall_m: 0.7961\n",
      "Epoch 9/50\n",
      "75/75 [==============================] - 22s 295ms/step - loss: 0.5233 - acc: 0.8085 - f1_m: 0.8123 - precision_m: 0.7933 - recall_m: 0.8390 - val_loss: 0.5650 - val_acc: 0.7868 - val_f1_m: 0.7661 - val_precision_m: 0.8625 - val_recall_m: 0.6930\n",
      "Epoch 10/50\n",
      "75/75 [==============================] - 23s 304ms/step - loss: 0.5176 - acc: 0.8107 - f1_m: 0.8144 - precision_m: 0.7951 - recall_m: 0.8430 - val_loss: 0.5239 - val_acc: 0.8096 - val_f1_m: 0.8206 - val_precision_m: 0.7833 - val_recall_m: 0.8650\n",
      "Epoch 11/50\n",
      "75/75 [==============================] - 22s 291ms/step - loss: 0.5178 - acc: 0.8101 - f1_m: 0.8131 - precision_m: 0.7964 - recall_m: 0.8373 - val_loss: 0.5142 - val_acc: 0.8116 - val_f1_m: 0.8217 - val_precision_m: 0.7873 - val_recall_m: 0.8625\n",
      "Epoch 12/50\n",
      "75/75 [==============================] - 24s 320ms/step - loss: 0.5093 - acc: 0.8181 - f1_m: 0.8193 - precision_m: 0.8048 - recall_m: 0.8402 - val_loss: 0.5271 - val_acc: 0.8044 - val_f1_m: 0.8238 - val_precision_m: 0.7557 - val_recall_m: 0.9085\n",
      "Epoch 13/50\n",
      "75/75 [==============================] - 22s 295ms/step - loss: 0.5054 - acc: 0.8169 - f1_m: 0.8215 - precision_m: 0.8018 - recall_m: 0.8509 - val_loss: 0.5126 - val_acc: 0.8136 - val_f1_m: 0.8196 - val_precision_m: 0.8020 - val_recall_m: 0.8414\n",
      "Epoch 14/50\n",
      "75/75 [==============================] - 23s 300ms/step - loss: 0.5046 - acc: 0.8189 - f1_m: 0.8204 - precision_m: 0.8078 - recall_m: 0.8405 - val_loss: 0.5153 - val_acc: 0.8096 - val_f1_m: 0.8254 - val_precision_m: 0.7699 - val_recall_m: 0.8928\n",
      "Epoch 15/50\n",
      "75/75 [==============================] - 22s 292ms/step - loss: 0.5007 - acc: 0.8212 - f1_m: 0.8238 - precision_m: 0.8084 - recall_m: 0.8479 - val_loss: 0.5100 - val_acc: 0.8264 - val_f1_m: 0.8288 - val_precision_m: 0.8280 - val_recall_m: 0.8337\n",
      "Epoch 16/50\n",
      "75/75 [==============================] - 22s 291ms/step - loss: 0.4973 - acc: 0.8211 - f1_m: 0.8219 - precision_m: 0.8116 - recall_m: 0.8396 - val_loss: 0.5252 - val_acc: 0.8084 - val_f1_m: 0.8271 - val_precision_m: 0.7600 - val_recall_m: 0.9105\n",
      "Epoch 17/50\n",
      "75/75 [==============================] - 22s 292ms/step - loss: 0.5033 - acc: 0.8257 - f1_m: 0.8281 - precision_m: 0.8104 - recall_m: 0.8531 - val_loss: 0.5421 - val_acc: 0.8028 - val_f1_m: 0.8242 - val_precision_m: 0.7499 - val_recall_m: 0.9180\n",
      "Epoch 18/50\n",
      "75/75 [==============================] - 23s 306ms/step - loss: 0.4968 - acc: 0.8205 - f1_m: 0.8234 - precision_m: 0.8063 - recall_m: 0.8471 - val_loss: 0.5285 - val_acc: 0.8140 - val_f1_m: 0.8129 - val_precision_m: 0.8258 - val_recall_m: 0.8028\n",
      "Epoch 19/50\n",
      "75/75 [==============================] - 22s 287ms/step - loss: 0.4995 - acc: 0.8268 - f1_m: 0.8292 - precision_m: 0.8127 - recall_m: 0.8510 - val_loss: 0.5292 - val_acc: 0.8092 - val_f1_m: 0.8003 - val_precision_m: 0.8494 - val_recall_m: 0.7597\n",
      "Epoch 20/50\n",
      "75/75 [==============================] - 22s 300ms/step - loss: 0.5127 - acc: 0.8193 - f1_m: 0.8203 - precision_m: 0.8064 - recall_m: 0.8433 - val_loss: 0.5388 - val_acc: 0.8048 - val_f1_m: 0.7966 - val_precision_m: 0.8408 - val_recall_m: 0.7606\n",
      "Epoch 21/50\n",
      "75/75 [==============================] - 24s 316ms/step - loss: 0.5058 - acc: 0.8292 - f1_m: 0.8306 - precision_m: 0.8176 - recall_m: 0.8492 - val_loss: 0.5174 - val_acc: 0.8248 - val_f1_m: 0.8257 - val_precision_m: 0.8317 - val_recall_m: 0.8231\n",
      "Epoch 22/50\n",
      "75/75 [==============================] - 22s 293ms/step - loss: 0.5015 - acc: 0.8228 - f1_m: 0.8247 - precision_m: 0.8094 - recall_m: 0.8476 - val_loss: 0.5159 - val_acc: 0.8264 - val_f1_m: 0.8336 - val_precision_m: 0.8084 - val_recall_m: 0.8640\n",
      "Epoch 23/50\n",
      "75/75 [==============================] - 23s 300ms/step - loss: 0.5171 - acc: 0.8195 - f1_m: 0.8207 - precision_m: 0.8116 - recall_m: 0.8397 - val_loss: 0.5304 - val_acc: 0.8164 - val_f1_m: 0.8204 - val_precision_m: 0.8119 - val_recall_m: 0.8329\n",
      "Epoch 24/50\n",
      "75/75 [==============================] - 22s 296ms/step - loss: 0.4900 - acc: 0.8291 - f1_m: 0.8318 - precision_m: 0.8131 - recall_m: 0.8590 - val_loss: 0.5145 - val_acc: 0.8244 - val_f1_m: 0.8221 - val_precision_m: 0.8432 - val_recall_m: 0.8048\n",
      "Epoch 25/50\n",
      "75/75 [==============================] - 22s 299ms/step - loss: 0.4873 - acc: 0.8332 - f1_m: 0.8342 - precision_m: 0.8212 - recall_m: 0.8538 - val_loss: 0.5273 - val_acc: 0.8108 - val_f1_m: 0.8015 - val_precision_m: 0.8544 - val_recall_m: 0.7577\n",
      "Epoch 26/50\n",
      "75/75 [==============================] - 22s 291ms/step - loss: 0.4917 - acc: 0.8349 - f1_m: 0.8368 - precision_m: 0.8211 - recall_m: 0.8590 - val_loss: 0.5144 - val_acc: 0.8204 - val_f1_m: 0.8266 - val_precision_m: 0.8065 - val_recall_m: 0.8510\n",
      "Epoch 27/50\n",
      "75/75 [==============================] - 22s 294ms/step - loss: 0.4877 - acc: 0.8327 - f1_m: 0.8336 - precision_m: 0.8195 - recall_m: 0.8553 - val_loss: 0.5211 - val_acc: 0.8176 - val_f1_m: 0.8195 - val_precision_m: 0.8205 - val_recall_m: 0.8220\n",
      "Epoch 28/50\n",
      "75/75 [==============================] - 22s 298ms/step - loss: 0.5115 - acc: 0.8228 - f1_m: 0.8245 - precision_m: 0.8093 - recall_m: 0.8485 - val_loss: 0.5592 - val_acc: 0.8048 - val_f1_m: 0.7852 - val_precision_m: 0.8844 - val_recall_m: 0.7093\n",
      "Epoch 29/50\n",
      "75/75 [==============================] - 23s 302ms/step - loss: 0.5190 - acc: 0.8273 - f1_m: 0.8294 - precision_m: 0.8121 - recall_m: 0.8531 - val_loss: 0.5320 - val_acc: 0.8184 - val_f1_m: 0.8137 - val_precision_m: 0.8452 - val_recall_m: 0.7874\n",
      "Epoch 30/50\n",
      "75/75 [==============================] - 22s 295ms/step - loss: 0.5058 - acc: 0.8244 - f1_m: 0.8263 - precision_m: 0.8083 - recall_m: 0.8505 - val_loss: 0.5338 - val_acc: 0.8176 - val_f1_m: 0.8193 - val_precision_m: 0.8202 - val_recall_m: 0.8209\n",
      "Epoch 31/50\n",
      "75/75 [==============================] - 23s 313ms/step - loss: 0.4965 - acc: 0.8288 - f1_m: 0.8318 - precision_m: 0.8117 - recall_m: 0.8598 - val_loss: 0.5141 - val_acc: 0.8304 - val_f1_m: 0.8333 - val_precision_m: 0.8301 - val_recall_m: 0.8405\n",
      "Epoch 32/50\n",
      "75/75 [==============================] - 22s 300ms/step - loss: 0.4989 - acc: 0.8301 - f1_m: 0.8316 - precision_m: 0.8201 - recall_m: 0.8499 - val_loss: 0.5545 - val_acc: 0.7936 - val_f1_m: 0.8181 - val_precision_m: 0.7377 - val_recall_m: 0.9211\n"
     ]
    },
    {
     "name": "stdout",
     "output_type": "stream",
     "text": [
      "Epoch 33/50\n",
      "75/75 [==============================] - 24s 323ms/step - loss: 0.5061 - acc: 0.8233 - f1_m: 0.8259 - precision_m: 0.8111 - recall_m: 0.8490 - val_loss: 0.5349 - val_acc: 0.8172 - val_f1_m: 0.8209 - val_precision_m: 0.8131 - val_recall_m: 0.8319\n",
      "Epoch 34/50\n",
      "75/75 [==============================] - 22s 291ms/step - loss: 0.4879 - acc: 0.8335 - f1_m: 0.8362 - precision_m: 0.8159 - recall_m: 0.8639 - val_loss: 0.5189 - val_acc: 0.8256 - val_f1_m: 0.8270 - val_precision_m: 0.8283 - val_recall_m: 0.8292\n",
      "Epoch 35/50\n",
      "75/75 [==============================] - 22s 298ms/step - loss: 0.4921 - acc: 0.8347 - f1_m: 0.8363 - precision_m: 0.8242 - recall_m: 0.8553 - val_loss: 0.5360 - val_acc: 0.8156 - val_f1_m: 0.8111 - val_precision_m: 0.8396 - val_recall_m: 0.7878\n",
      "Epoch 36/50\n",
      "75/75 [==============================] - 23s 308ms/step - loss: 0.4716 - acc: 0.8432 - f1_m: 0.8444 - precision_m: 0.8305 - recall_m: 0.8643 - val_loss: 0.5147 - val_acc: 0.8232 - val_f1_m: 0.8307 - val_precision_m: 0.8057 - val_recall_m: 0.8610\n",
      "Epoch 37/50\n",
      "75/75 [==============================] - 24s 317ms/step - loss: 0.4758 - acc: 0.8425 - f1_m: 0.8437 - precision_m: 0.8308 - recall_m: 0.8623 - val_loss: 0.5186 - val_acc: 0.8196 - val_f1_m: 0.8162 - val_precision_m: 0.8424 - val_recall_m: 0.7950\n",
      "Epoch 38/50\n",
      "75/75 [==============================] - 22s 292ms/step - loss: 0.4718 - acc: 0.8355 - f1_m: 0.8376 - precision_m: 0.8224 - recall_m: 0.8580 - val_loss: 0.5192 - val_acc: 0.8240 - val_f1_m: 0.8294 - val_precision_m: 0.8134 - val_recall_m: 0.8492\n",
      "Epoch 39/50\n",
      "75/75 [==============================] - 23s 301ms/step - loss: 0.4826 - acc: 0.8396 - f1_m: 0.8411 - precision_m: 0.8321 - recall_m: 0.8576 - val_loss: 0.5122 - val_acc: 0.8268 - val_f1_m: 0.8260 - val_precision_m: 0.8386 - val_recall_m: 0.8166\n",
      "Epoch 40/50\n",
      "75/75 [==============================] - 22s 298ms/step - loss: 0.4879 - acc: 0.8325 - f1_m: 0.8341 - precision_m: 0.8225 - recall_m: 0.8540 - val_loss: 0.5355 - val_acc: 0.8148 - val_f1_m: 0.8105 - val_precision_m: 0.8397 - val_recall_m: 0.7872\n",
      "Epoch 41/50\n",
      "75/75 [==============================] - 22s 292ms/step - loss: 0.4863 - acc: 0.8361 - f1_m: 0.8380 - precision_m: 0.8242 - recall_m: 0.8573 - val_loss: 0.5219 - val_acc: 0.8260 - val_f1_m: 0.8226 - val_precision_m: 0.8487 - val_recall_m: 0.8012\n",
      "Epoch 42/50\n",
      "75/75 [==============================] - 23s 309ms/step - loss: 0.4818 - acc: 0.8371 - f1_m: 0.8372 - precision_m: 0.8281 - recall_m: 0.8541 - val_loss: 0.5395 - val_acc: 0.8172 - val_f1_m: 0.8183 - val_precision_m: 0.8216 - val_recall_m: 0.8191\n",
      "Epoch 43/50\n",
      "75/75 [==============================] - 22s 295ms/step - loss: 0.5032 - acc: 0.8308 - f1_m: 0.8333 - precision_m: 0.8147 - recall_m: 0.8603 - val_loss: 0.5231 - val_acc: 0.8252 - val_f1_m: 0.8285 - val_precision_m: 0.8205 - val_recall_m: 0.8405\n",
      "Epoch 44/50\n",
      "75/75 [==============================] - 23s 305ms/step - loss: 0.4990 - acc: 0.8309 - f1_m: 0.8345 - precision_m: 0.8106 - recall_m: 0.8652 - val_loss: 0.6389 - val_acc: 0.7792 - val_f1_m: 0.7467 - val_precision_m: 0.8852 - val_recall_m: 0.6487\n",
      "Epoch 45/50\n",
      "75/75 [==============================] - 22s 295ms/step - loss: 0.4933 - acc: 0.8367 - f1_m: 0.8372 - precision_m: 0.8278 - recall_m: 0.8567 - val_loss: 0.5263 - val_acc: 0.8272 - val_f1_m: 0.8234 - val_precision_m: 0.8511 - val_recall_m: 0.8012\n",
      "Epoch 46/50\n",
      "75/75 [==============================] - 22s 293ms/step - loss: 0.4797 - acc: 0.8388 - f1_m: 0.8405 - precision_m: 0.8280 - recall_m: 0.8584 - val_loss: 0.5198 - val_acc: 0.8264 - val_f1_m: 0.8304 - val_precision_m: 0.8222 - val_recall_m: 0.8428\n",
      "Epoch 47/50\n",
      "75/75 [==============================] - 23s 301ms/step - loss: 0.4933 - acc: 0.8353 - f1_m: 0.8359 - precision_m: 0.8233 - recall_m: 0.8547 - val_loss: 0.5356 - val_acc: 0.8188 - val_f1_m: 0.8286 - val_precision_m: 0.7958 - val_recall_m: 0.8681\n",
      "Epoch 48/50\n",
      "75/75 [==============================] - 27s 355ms/step - loss: 0.4844 - acc: 0.8389 - f1_m: 0.8400 - precision_m: 0.8283 - recall_m: 0.8589 - val_loss: 0.5207 - val_acc: 0.8256 - val_f1_m: 0.8219 - val_precision_m: 0.8494 - val_recall_m: 0.7995\n",
      "Epoch 49/50\n",
      "75/75 [==============================] - 22s 299ms/step - loss: 0.4797 - acc: 0.8383 - f1_m: 0.8389 - precision_m: 0.8270 - recall_m: 0.8575 - val_loss: 0.5171 - val_acc: 0.8280 - val_f1_m: 0.8321 - val_precision_m: 0.8217 - val_recall_m: 0.8471\n",
      "Epoch 50/50\n",
      "75/75 [==============================] - 22s 292ms/step - loss: 0.4649 - acc: 0.8475 - f1_m: 0.8480 - precision_m: 0.8357 - recall_m: 0.8659 - val_loss: 0.5153 - val_acc: 0.8292 - val_f1_m: 0.8314 - val_precision_m: 0.8299 - val_recall_m: 0.8363\n",
      "79/79 [==============================] - 2s 22ms/step - loss: 0.5153 - acc: 0.8292 - f1_m: 0.8312 - precision_m: 0.8332 - recall_m: 0.8400\n",
      "Test loss: 0.5153137445449829\n",
      "Test accuracy: 0.829200029373169\n",
      "Test f1: 0.8312401175498962\n",
      "Test precision: 0.8331884741783142\n",
      "Test recall: 0.8400036692619324\n"
     ]
    }
   ],
   "source": [
    "# 1 conv layer / 100 bs / 50 epoch HitPeak images\n",
    "def CNN_model():\n",
    "    shape = (image_size[0], image_size[1], image_size[2])\n",
    "    model = Sequential()\n",
    "    \n",
    "    # 1 conv layer\n",
    "    model.add(Conv2D(16, (3,3), strides = (1,1), input_shape=shape,kernel_regularizer=l2(0.005)))\n",
    "    model.add(keras.layers.LeakyReLU(alpha=0.05))\n",
    "    model.add(MaxPooling2D(pool_size=(2, 2), strides = (1,1)))\n",
    "\n",
    "    # 2 conv layers\n",
    "    #model.add(Conv2D(16,(3,3),kernel_regularizer=l2(0.005)))\n",
    "    #model.add(keras.layers.LeakyReLU(alpha=0.05))\n",
    "    #model.add(MaxPooling2D(pool_size=(2, 2)))\n",
    "\n",
    "    # 3 conv layers\n",
    "    #model.add(Conv2D(16,(3,3),kernel_regularizer=l2(0.005)))\n",
    "    #model.add(keras.layers.LeakyReLU(alpha=0.05))\n",
    "    #model.add(MaxPooling2D(pool_size=(2, 2)))\n",
    "    \n",
    "    model.add(Dropout(0.25)) \n",
    "    model.add(Flatten())\n",
    "\n",
    "    model.add(Dense(32, bias_regularizer=regularizers.l2(0.001),kernel_regularizer=regularizers.l2(0.001)))\n",
    "    model.add(keras.layers.LeakyReLU(alpha=0.05))    \n",
    "    model.add(Dropout(0.5)) \n",
    "\n",
    "    # Output layer\n",
    "    model.add(Dense(1))\n",
    "    model.add(Activation('sigmoid'))\n",
    "\n",
    "    # Compile the model\n",
    "    model.compile(loss='binary_crossentropy',\n",
    "                    optimizer='adam',\n",
    "                    metrics=['acc', f1_m, precision_m, recall_m])\n",
    "    return model\n",
    "\n",
    "def run_CNN():\n",
    "    model = CNN_model()\n",
    "    model.fit(x_train, y_train, epochs=50, batch_size=100, verbose=1, validation_data=(x_val, y_val))\n",
    "    model.save(model_name)\n",
    "    #model.save_weights('final_weights.h5')\n",
    "    score = model.evaluate(x_val, y_val, verbose=1)\n",
    "    print('Test loss:', score[0])\n",
    "    print('Test accuracy:', score[1])\n",
    "    print('Test f1:', score[2])\n",
    "    print('Test precision:', score[3])\n",
    "    print('Test recall:', score[4])\n",
    "\n",
    "run_CNN()"
   ]
  },
  {
   "cell_type": "markdown",
   "metadata": {},
   "source": [
    "##### TESTSET"
   ]
  },
  {
   "cell_type": "code",
   "execution_count": 64,
   "metadata": {},
   "outputs": [
    {
     "name": "stdout",
     "output_type": "stream",
     "text": [
      "(10000, 75, 75, 4)\n",
      "[75 75  4]\n"
     ]
    }
   ],
   "source": [
    "# ############\n",
    "# # TEST SET #\n",
    "# ############\n",
    "\n",
    "# file_paths = glob.glob(path.join(folderimages_scaled, '*.png'))\n",
    "\n",
    "# # Load the images into a single variable and convert to a numpy array\n",
    "# images_test = [imageio.imread(file_paths[jj]) for jj in range(10000,20000)]\n",
    "# images_test = np.asarray(images_test)\n",
    "# print(images_test.shape)\n",
    "\n",
    "# # Get image size\n",
    "# image_size = np.asarray([images_test.shape[1], images_test.shape[2], images_test.shape[3]])\n",
    "# print(image_size)\n",
    "\n",
    "# # Scale images so values are between 0 and 1\n",
    "# images_test = images_test / 255\n",
    "\n",
    "\n",
    "# # Read the labels from the filenames\n",
    "\n",
    "# n_images_test = images_test.shape[0]\n",
    "# labels_test = np.zeros(n_images_test)\n",
    "# for i in range(n_images_test):\n",
    "#     filename = path.basename(file_paths[10000+i])[0]     # STARTS AT THE END OF THE OTHER (TO ASSIGN CORRECT LABELS)\n",
    "#     if filename[0] == 'W':                          #Every file that begins with W is assigned a 1\n",
    "#         labels_test[i] = 1\n",
    "#     else:\n",
    "#         labels_test[i] = 0\n",
    "        \n",
    "        \n",
    "        \n",
    "# x_test = images_test\n",
    "# y_test = labels_test"
   ]
  },
  {
   "cell_type": "code",
   "execution_count": 12,
   "metadata": {},
   "outputs": [],
   "source": [
    "# only here\n",
    "x_test = x_val\n",
    "y_test = y_val"
   ]
  },
  {
   "cell_type": "code",
   "execution_count": 14,
   "metadata": {
    "scrolled": false
   },
   "outputs": [
    {
     "name": "stdout",
     "output_type": "stream",
     "text": [
      "Model: \"sequential\"\n",
      "_________________________________________________________________\n",
      "Layer (type)                 Output Shape              Param #   \n",
      "=================================================================\n",
      "conv2d (Conv2D)              (None, 73, 73, 16)        592       \n",
      "_________________________________________________________________\n",
      "leaky_re_lu (LeakyReLU)      (None, 73, 73, 16)        0         \n",
      "_________________________________________________________________\n",
      "max_pooling2d (MaxPooling2D) (None, 72, 72, 16)        0         \n",
      "_________________________________________________________________\n",
      "dropout (Dropout)            (None, 72, 72, 16)        0         \n",
      "_________________________________________________________________\n",
      "flatten (Flatten)            (None, 82944)             0         \n",
      "_________________________________________________________________\n",
      "dense (Dense)                (None, 32)                2654240   \n",
      "_________________________________________________________________\n",
      "leaky_re_lu_1 (LeakyReLU)    (None, 32)                0         \n",
      "_________________________________________________________________\n",
      "dropout_1 (Dropout)          (None, 32)                0         \n",
      "_________________________________________________________________\n",
      "dense_1 (Dense)              (None, 1)                 33        \n",
      "_________________________________________________________________\n",
      "activation (Activation)      (None, 1)                 0         \n",
      "=================================================================\n",
      "Total params: 2,654,865\n",
      "Trainable params: 2,654,865\n",
      "Non-trainable params: 0\n",
      "_________________________________________________________________\n",
      "79/79 [==============================] - 2s 22ms/step - loss: 0.5153 - acc: 0.8292 - f1_m: 0.8312 - precision_m: 0.8332 - recall_m: 0.8400\n",
      "acc: 82.92%\n",
      "WARNING:tensorflow:From <ipython-input-14-487609412c56>:30: Sequential.predict_proba (from tensorflow.python.keras.engine.sequential) is deprecated and will be removed after 2021-01-01.\n",
      "Instructions for updating:\n",
      "Please use `model.predict()` instead.\n",
      "Logistic: f1=0.832 auc=0.8925752\n"
     ]
    },
    {
     "data": {
      "image/png": "[encoded data removed]",
      "text/plain": [
       "<Figure size 432x288 with 1 Axes>"
      ]
     },
     "metadata": {
      "needs_background": "light"
     },
     "output_type": "display_data"
    },
    {
     "name": "stdout",
     "output_type": "stream",
     "text": [
      "Accuracy: 0.8292\n",
      "Average precision: 0.7749687747192292\n",
      "recall: 0.8362341772151899\n",
      "AUC:0.8733776994141729\n",
      "Predicted   0.0   1.0\n",
      "Actual               \n",
      "0.0        1016   220\n",
      "1.0         207  1057\n"
     ]
    },
    {
     "data": {
      "image/png": "[encoded data removed]",
      "text/plain": [
       "<Figure size 288x288 with 2 Axes>"
      ]
     },
     "metadata": {
      "needs_background": "light"
     },
     "output_type": "display_data"
    },
    {
     "data": {
      "image/png": "[encoded data removed]",
      "text/plain": [
       "<Figure size 432x288 with 1 Axes>"
      ]
     },
     "metadata": {
      "needs_background": "light"
     },
     "output_type": "display_data"
    },
    {
     "name": "stdout",
     "output_type": "stream",
     "text": [
      "ROC AUC:  0.9046101142927367\n"
     ]
    }
   ],
   "source": [
    "##########################\n",
    "# TEST WITH THE TEST SET #\n",
    "##########################\n",
    "\n",
    "dependencies = {\n",
    "    'f1_m' : f1_m, \n",
    "    'precision_m' : precision_m,\n",
    "    'recall_m': recall_m,\n",
    "}\n",
    "\n",
    "model = keras.models.load_model(model_name, custom_objects=dependencies)\n",
    "\n",
    "model.summary()\n",
    "\n",
    "\n",
    "\n",
    "score = model.evaluate(x_test, y_test, verbose=1)\n",
    "print(\"%s: %.2f%%\" % (model.metrics_names[1], score[1]*100))\n",
    "\n",
    "\n",
    "from sklearn.datasets import make_classification\n",
    "from sklearn.linear_model import LogisticRegression\n",
    "from sklearn.model_selection import train_test_split\n",
    "from sklearn.metrics import precision_recall_curve\n",
    "from sklearn.metrics import f1_score\n",
    "from sklearn.metrics import auc\n",
    "from matplotlib import pyplot\n",
    "\n",
    "\n",
    "lr_probs = model.predict_proba(x_test)    # Predict probabilities\n",
    "yhat = model.predict(x_test)      # Predict class values\n",
    "yhat_original = yhat\n",
    "yhat = np.round(yhat)\n",
    "lr_precision, lr_recall, _ = precision_recall_curve(y_test, lr_probs)\n",
    "lr_f1, lr_auc = f1_score(y_test, yhat), auc(lr_recall, lr_precision)\n",
    "print('Logistic: f1=%.3f auc=%.7f' % (lr_f1, lr_auc))   # Summarise scores\n",
    "''' plot the precision-recall curves '''\n",
    "no_skill = len(y_test[y_test==1]) / len(y_test)\n",
    "pyplot.plot(lr_recall, lr_precision, 'r-', label='F1 = %0.2f' %(lr_f1))\n",
    "pyplot.xlabel('Recall')\n",
    "pyplot.ylabel('Precision')\n",
    "pyplot.legend(loc='lower left')\n",
    "plt.title('Precision-Recall (PR) Curve')\n",
    "pyplot.show()\n",
    "\n",
    "## Save precision and recall data to plot PR curve seperately\n",
    "#np.savetxt(\"/content/drive/My Drive/Colab Notebooks/precision_HP.txt\",lr_precision)\n",
    "#np.savetxt(\"/content/drive/My Drive/Colab Notebooks/recall_HP.txt\",lr_recall)\n",
    "\n",
    "\n",
    "test_predictions = yhat             # Make a prediction on the test set\n",
    "accuracy = accuracy_score(y_test, test_predictions)\n",
    "print(\"Accuracy: \" + str(accuracy))\n",
    "average_precision = average_precision_score(y_test, test_predictions)\n",
    "print(\"Average precision: \" + str(average_precision))\n",
    "\n",
    "from sklearn.metrics import precision_recall_curve\n",
    "\n",
    "precision, recall, threshold = precision_recall_curve(y_test, test_predictions)\n",
    "auc = auc(recall, precision)\n",
    "recall1 = recall_score(y_test, np.round(test_predictions))\n",
    "print(\"recall: \" + str(recall1))\n",
    "print('AUC:' +str(auc))\n",
    "\n",
    "\n",
    "# Report Confusion Matrix\n",
    "y_actu = pd.Series(y_test.ravel(), name='Actual')\n",
    "y_pred = pd.Series(np.round(test_predictions.ravel()), name='Predicted')\n",
    "df_confusion = pd.crosstab(y_actu, y_pred)\n",
    "print(df_confusion)\n",
    "\n",
    "# Plot confusion matrix\n",
    "def plot_confusion_matrix(df_confusion, cmap='YlGn'):\n",
    "    plt.matshow(df_confusion, cmap=cmap) # imshow\n",
    "    plt.colorbar()\n",
    "    tick_marks = np.arange(0,len(df_confusion.columns))\n",
    "    plt.xticks(tick_marks, df_confusion.columns)\n",
    "    plt.yticks(tick_marks, df_confusion.index)\n",
    "    plt.ylabel(df_confusion.index.name)\n",
    "    plt.xlabel(df_confusion.columns.name)\n",
    "    for i in range(len(df_confusion.index)):\n",
    "        for j in range(len(df_confusion.columns)):\n",
    "            plt.text(j,i,str(df_confusion.iloc[i,j]))\n",
    "    plt.show()\n",
    "\n",
    "plot_confusion_matrix(df_confusion)\n",
    "\n",
    "from sklearn.metrics import roc_curve\n",
    "from sklearn.metrics import roc_auc_score\n",
    "\n",
    "def plot_roc_curve(fpr, tpr):\n",
    "    plt.plot(fpr, tpr, color='darkblue', label='AUC = %0.2f' %(auc))\n",
    "    plt.plot([0, 1], [0, 1], color='orange', linestyle='--')\n",
    "    plt.xlabel('False Positive Rate')\n",
    "    plt.ylabel('True Positive Rate')\n",
    "    plt.title('Receiver Operating Characteristic (ROC) Curve')\n",
    "    plt.legend()\n",
    "    plt.show()\n",
    "    \n",
    "    \n",
    "from sklearn.metrics import roc_curve, roc_auc_score, auc\n",
    "\n",
    "fpr, tpr, thresholds = roc_curve(y_test, yhat_original)\n",
    "auc = auc(fpr, tpr)\n",
    "# Save tpr and fpr to plot seperate ROC curve\n",
    "#np.savetxt(\"/content/drive/My Drive/Colab Notebooks/tpr.txt\",tpr)\n",
    "#np.savetxt(\"/content/drive/My Drive/Colab Notebooks/fpr.txt\",fpr)\n",
    "plot_roc_curve(fpr, tpr)\n",
    "\n",
    "print('ROC AUC: ', auc)"
   ]
  },
  {
   "cell_type": "code",
   "execution_count": 15,
   "metadata": {},
   "outputs": [
    {
     "name": "stdout",
     "output_type": "stream",
     "text": [
      "Model: \"sequential_18\"\n",
      "_________________________________________________________________\n",
      "Layer (type)                 Output Shape              Param #   \n",
      "=================================================================\n",
      "conv2d_28 (Conv2D)           (None, 73, 73, 16)        592       \n",
      "_________________________________________________________________\n",
      "leaky_re_lu_45 (LeakyReLU)   (None, 73, 73, 16)        0         \n",
      "_________________________________________________________________\n",
      "max_pooling2d_28 (MaxPooling (None, 72, 72, 16)        0         \n",
      "_________________________________________________________________\n",
      "dropout_35 (Dropout)         (None, 72, 72, 16)        0         \n",
      "_________________________________________________________________\n",
      "flatten_18 (Flatten)         (None, 82944)             0         \n",
      "_________________________________________________________________\n",
      "dense_35 (Dense)             (None, 32)                2654240   \n",
      "_________________________________________________________________\n",
      "leaky_re_lu_46 (LeakyReLU)   (None, 32)                0         \n",
      "_________________________________________________________________\n",
      "dropout_36 (Dropout)         (None, 32)                0         \n",
      "_________________________________________________________________\n",
      "dense_36 (Dense)             (None, 1)                 33        \n",
      "_________________________________________________________________\n",
      "activation_18 (Activation)   (None, 1)                 0         \n",
      "=================================================================\n",
      "Total params: 2,654,865\n",
      "Trainable params: 2,654,865\n",
      "Non-trainable params: 0\n",
      "_________________________________________________________________\n"
     ]
    },
    {
     "data": {
      "image/png": "[encoded data removed]",
      "text/plain": [
       "<Figure size 432x288 with 1 Axes>"
      ]
     },
     "metadata": {
      "needs_background": "light"
     },
     "output_type": "display_data"
    },
    {
     "name": "stdout",
     "output_type": "stream",
     "text": [
      "ROC AUC:  0.5327621896890746\n"
     ]
    }
   ],
   "source": [
    "###############\n",
    "# PAPER MODEL #\n",
    "###############\n",
    "\n",
    "dependencies = {\n",
    "    'f1_m' : f1_m, \n",
    "    'precision_m' : precision_m,\n",
    "    'recall_m': recall_m,\n",
    "}\n",
    "\n",
    "model = keras.models.load_model(model_paper, custom_objects=dependencies)\n",
    "\n",
    "model.summary()\n",
    "\n",
    "\n",
    "from sklearn.metrics import roc_curve, roc_auc_score, auc\n",
    "\n",
    "yhat = model.predict(x_test)      # Predict class values\n",
    "fpr, tpr, thresholds = roc_curve(y_test, yhat)\n",
    "auc = auc(fpr, tpr)\n",
    "plot_roc_curve(fpr, tpr)\n",
    "\n",
    "print('ROC AUC: ', auc)"
   ]
  },
  {
   "cell_type": "code",
   "execution_count": 16,
   "metadata": {},
   "outputs": [
    {
     "name": "stdout",
     "output_type": "stream",
     "text": [
      "Model: \"sequential\"\n",
      "_________________________________________________________________\n",
      "Layer (type)                 Output Shape              Param #   \n",
      "=================================================================\n",
      "conv2d (Conv2D)              (None, 73, 73, 16)        592       \n",
      "_________________________________________________________________\n",
      "leaky_re_lu (LeakyReLU)      (None, 73, 73, 16)        0         \n",
      "_________________________________________________________________\n",
      "max_pooling2d (MaxPooling2D) (None, 72, 72, 16)        0         \n",
      "_________________________________________________________________\n",
      "dropout (Dropout)            (None, 72, 72, 16)        0         \n",
      "_________________________________________________________________\n",
      "flatten (Flatten)            (None, 82944)             0         \n",
      "_________________________________________________________________\n",
      "dense (Dense)                (None, 32)                2654240   \n",
      "_________________________________________________________________\n",
      "leaky_re_lu_1 (LeakyReLU)    (None, 32)                0         \n",
      "_________________________________________________________________\n",
      "dropout_1 (Dropout)          (None, 32)                0         \n",
      "_________________________________________________________________\n",
      "dense_1 (Dense)              (None, 1)                 33        \n",
      "_________________________________________________________________\n",
      "activation (Activation)      (None, 1)                 0         \n",
      "=================================================================\n",
      "Total params: 2,654,865\n",
      "Trainable params: 2,654,865\n",
      "Non-trainable params: 0\n",
      "_________________________________________________________________\n"
     ]
    },
    {
     "data": {
      "image/png": "[encoded data removed]",
      "text/plain": [
       "<Figure size 432x288 with 1 Axes>"
      ]
     },
     "metadata": {
      "needs_background": "light"
     },
     "output_type": "display_data"
    },
    {
     "name": "stdout",
     "output_type": "stream",
     "text": [
      "ROC AUC:  0.9070091352259226\n"
     ]
    }
   ],
   "source": [
    "###################################\n",
    "# TRAINED MODEL WITH NEW PAX DATA # using the old pax images\n",
    "###################################\n",
    "\n",
    "dependencies = {\n",
    "    'f1_m' : f1_m, \n",
    "    'precision_m' : precision_m,\n",
    "    'recall_m': recall_m,\n",
    "}\n",
    "\n",
    "model = keras.models.load_model(model_name_new, custom_objects=dependencies)\n",
    "\n",
    "model.summary()\n",
    "\n",
    "\n",
    "from sklearn.metrics import roc_curve, roc_auc_score, auc\n",
    "\n",
    "yhat = model.predict(x_test)      # Predict class values\n",
    "fpr, tpr, thresholds = roc_curve(y_test, yhat)\n",
    "auc = auc(fpr, tpr)\n",
    "plot_roc_curve(fpr, tpr)\n",
    "\n",
    "print('ROC AUC: ', auc)"
   ]
  },
  {
   "cell_type": "markdown",
   "metadata": {},
   "source": [
    "##### Test with the train set (just to see)"
   ]
  },
  {
   "cell_type": "code",
   "execution_count": 17,
   "metadata": {},
   "outputs": [],
   "source": [
    "##################################\n",
    "# USING TO TEST THE TRAINING SET # THIS IS WRONG! but to see\n",
    "##################################\n",
    "\n",
    "x_test2 = images\n",
    "del images\n",
    "\n",
    "y_test2 = labels\n",
    "del labels"
   ]
  },
  {
   "cell_type": "code",
   "execution_count": 17,
   "metadata": {},
   "outputs": [
    {
     "name": "stdout",
     "output_type": "stream",
     "text": [
      "Model: \"sequential\"\n",
      "_________________________________________________________________\n",
      "Layer (type)                 Output Shape              Param #   \n",
      "=================================================================\n",
      "conv2d (Conv2D)              (None, 73, 73, 16)        592       \n",
      "_________________________________________________________________\n",
      "leaky_re_lu (LeakyReLU)      (None, 73, 73, 16)        0         \n",
      "_________________________________________________________________\n",
      "max_pooling2d (MaxPooling2D) (None, 72, 72, 16)        0         \n",
      "_________________________________________________________________\n",
      "dropout (Dropout)            (None, 72, 72, 16)        0         \n",
      "_________________________________________________________________\n",
      "flatten (Flatten)            (None, 82944)             0         \n",
      "_________________________________________________________________\n",
      "dense (Dense)                (None, 32)                2654240   \n",
      "_________________________________________________________________\n",
      "leaky_re_lu_1 (LeakyReLU)    (None, 32)                0         \n",
      "_________________________________________________________________\n",
      "dropout_1 (Dropout)          (None, 32)                0         \n",
      "_________________________________________________________________\n",
      "dense_1 (Dense)              (None, 1)                 33        \n",
      "_________________________________________________________________\n",
      "activation (Activation)      (None, 1)                 0         \n",
      "=================================================================\n",
      "Total params: 2,654,865\n",
      "Trainable params: 2,654,865\n",
      "Non-trainable params: 0\n",
      "_________________________________________________________________\n",
      "313/313 [==============================] - 7s 22ms/step - loss: 0.4292 - acc: 0.8677 - f1_m: 0.4682 - precision_m: 0.5004 - recall_m: 0.4406\n",
      "acc: 86.77%\n",
      "Logistic: f1=0.869 auc=0.9405515\n"
     ]
    },
    {
     "data": {
      "image/png": "[encoded data removed]",
      "text/plain": [
       "<Figure size 432x288 with 1 Axes>"
      ]
     },
     "metadata": {
      "needs_background": "light"
     },
     "output_type": "display_data"
    },
    {
     "name": "stdout",
     "output_type": "stream",
     "text": [
      "Accuracy: 0.8677\n",
      "Average precision: 0.8159102559093574\n",
      "recall: 0.8796\n",
      "AUC:0.8994760890798984\n",
      "Predicted   0.0   1.0\n",
      "Actual               \n",
      "0.0        4279   721\n",
      "1.0         602  4398\n"
     ]
    },
    {
     "data": {
      "image/png": "[encoded data removed]",
      "text/plain": [
       "<Figure size 288x288 with 2 Axes>"
      ]
     },
     "metadata": {
      "needs_background": "light"
     },
     "output_type": "display_data"
    },
    {
     "data": {
      "image/png": "[encoded data removed]",
      "text/plain": [
       "<Figure size 432x288 with 1 Axes>"
      ]
     },
     "metadata": {
      "needs_background": "light"
     },
     "output_type": "display_data"
    },
    {
     "name": "stdout",
     "output_type": "stream",
     "text": [
      "ROC AUC:  0.9441239000000001\n"
     ]
    }
   ],
   "source": [
    "###########################\n",
    "# TEST WITH THE TRAIN SET # just to see\n",
    "###########################\n",
    "\n",
    "dependencies = {\n",
    "    'f1_m' : f1_m, \n",
    "    'precision_m' : precision_m,\n",
    "    'recall_m': recall_m,\n",
    "}\n",
    "\n",
    "model = keras.models.load_model(model_name, custom_objects=dependencies)\n",
    "\n",
    "model.summary()\n",
    "\n",
    "\n",
    "\n",
    "score = model.evaluate(x_test2, y_test2, verbose=1)\n",
    "print(\"%s: %.2f%%\" % (model.metrics_names[1], score[1]*100))\n",
    "\n",
    "\n",
    "from sklearn.datasets import make_classification\n",
    "from sklearn.linear_model import LogisticRegression\n",
    "from sklearn.model_selection import train_test_split\n",
    "from sklearn.metrics import precision_recall_curve\n",
    "from sklearn.metrics import f1_score\n",
    "from sklearn.metrics import auc\n",
    "from matplotlib import pyplot\n",
    "\n",
    "\n",
    "lr_probs = model.predict_proba(x_test2)    # Predict probabilities\n",
    "yhat = model.predict(x_test2)      # Predict class values\n",
    "yhat_original = yhat\n",
    "yhat = np.round(yhat)\n",
    "lr_precision, lr_recall, _ = precision_recall_curve(y_test2, lr_probs)\n",
    "lr_f1, lr_auc = f1_score(y_test2, yhat), auc(lr_recall, lr_precision)\n",
    "print('Logistic: f1=%.3f auc=%.7f' % (lr_f1, lr_auc))   # Summarise scores\n",
    "''' plot the precision-recall curves '''\n",
    "no_skill = len(y_test2[y_test2==1]) / len(y_test2)\n",
    "pyplot.plot(lr_recall, lr_precision, 'r-', label='F1 = %0.2f' %(lr_f1))\n",
    "pyplot.xlabel('Recall')\n",
    "pyplot.ylabel('Precision')\n",
    "pyplot.legend(loc='lower left')\n",
    "plt.title('Precision-Recall (PR) Curve')\n",
    "pyplot.show()\n",
    "\n",
    "## Save precision and recall data to plot PR curve seperately\n",
    "#np.savetxt(\"/content/drive/My Drive/Colab Notebooks/precision_HP.txt\",lr_precision)\n",
    "#np.savetxt(\"/content/drive/My Drive/Colab Notebooks/recall_HP.txt\",lr_recall)\n",
    "\n",
    "\n",
    "test_predictions = yhat             # Make a prediction on the test set\n",
    "accuracy = accuracy_score(y_test2, test_predictions)\n",
    "print(\"Accuracy: \" + str(accuracy))\n",
    "average_precision = average_precision_score(y_test2, test_predictions)\n",
    "print(\"Average precision: \" + str(average_precision))\n",
    "\n",
    "from sklearn.metrics import precision_recall_curve\n",
    "\n",
    "precision, recall, threshold = precision_recall_curve(y_test2, test_predictions)\n",
    "auc = auc(recall, precision)\n",
    "recall1 = recall_score(y_test2, np.round(test_predictions))\n",
    "print(\"recall: \" + str(recall1))\n",
    "print('AUC:' +str(auc))\n",
    "\n",
    "\n",
    "# Report Confusion Matrix\n",
    "y_actu = pd.Series(y_test2.ravel(), name='Actual')\n",
    "y_pred = pd.Series(np.round(test_predictions.ravel()), name='Predicted')\n",
    "df_confusion = pd.crosstab(y_actu, y_pred)\n",
    "print(df_confusion)\n",
    "\n",
    "# Plot confusion matrix\n",
    "def plot_confusion_matrix(df_confusion, cmap='YlGn'):\n",
    "    plt.matshow(df_confusion, cmap=cmap) # imshow\n",
    "    plt.colorbar()\n",
    "    tick_marks = np.arange(0,len(df_confusion.columns))\n",
    "    plt.xticks(tick_marks, df_confusion.columns)\n",
    "    plt.yticks(tick_marks, df_confusion.index)\n",
    "    plt.ylabel(df_confusion.index.name)\n",
    "    plt.xlabel(df_confusion.columns.name)\n",
    "    for i in range(len(df_confusion.index)):\n",
    "        for j in range(len(df_confusion.columns)):\n",
    "            plt.text(j,i,str(df_confusion.iloc[i,j]))\n",
    "    plt.show()\n",
    "\n",
    "plot_confusion_matrix(df_confusion)\n",
    "\n",
    "from sklearn.metrics import roc_curve\n",
    "from sklearn.metrics import roc_auc_score\n",
    "\n",
    "def plot_roc_curve(fpr, tpr):\n",
    "    plt.plot(fpr, tpr, color='darkblue', label='AUC = %0.2f' %(auc))\n",
    "    plt.plot([0, 1], [0, 1], color='orange', linestyle='--')\n",
    "    plt.xlabel('False Positive Rate')\n",
    "    plt.ylabel('True Positive Rate')\n",
    "    plt.title('Receiver Operating Characteristic (ROC) Curve')\n",
    "    plt.legend()\n",
    "    plt.show()\n",
    "    \n",
    "    \n",
    "from sklearn.metrics import roc_curve, roc_auc_score, auc\n",
    "\n",
    "fpr, tpr, thresholds = roc_curve(y_test2, yhat_original)\n",
    "auc = auc(fpr, tpr)\n",
    "# Save tpr and fpr to plot seperate ROC curve\n",
    "#np.savetxt(\"/content/drive/My Drive/Colab Notebooks/tpr.txt\",tpr)\n",
    "#np.savetxt(\"/content/drive/My Drive/Colab Notebooks/fpr.txt\",fpr)\n",
    "plot_roc_curve(fpr, tpr)\n",
    "\n",
    "print('ROC AUC: ', auc)"
   ]
  },
  {
   "cell_type": "code",
   "execution_count": 18,
   "metadata": {},
   "outputs": [
    {
     "name": "stdout",
     "output_type": "stream",
     "text": [
      "Model: \"sequential_18\"\n",
      "_________________________________________________________________\n",
      "Layer (type)                 Output Shape              Param #   \n",
      "=================================================================\n",
      "conv2d_28 (Conv2D)           (None, 73, 73, 16)        592       \n",
      "_________________________________________________________________\n",
      "leaky_re_lu_45 (LeakyReLU)   (None, 73, 73, 16)        0         \n",
      "_________________________________________________________________\n",
      "max_pooling2d_28 (MaxPooling (None, 72, 72, 16)        0         \n",
      "_________________________________________________________________\n",
      "dropout_35 (Dropout)         (None, 72, 72, 16)        0         \n",
      "_________________________________________________________________\n",
      "flatten_18 (Flatten)         (None, 82944)             0         \n",
      "_________________________________________________________________\n",
      "dense_35 (Dense)             (None, 32)                2654240   \n",
      "_________________________________________________________________\n",
      "leaky_re_lu_46 (LeakyReLU)   (None, 32)                0         \n",
      "_________________________________________________________________\n",
      "dropout_36 (Dropout)         (None, 32)                0         \n",
      "_________________________________________________________________\n",
      "dense_36 (Dense)             (None, 1)                 33        \n",
      "_________________________________________________________________\n",
      "activation_18 (Activation)   (None, 1)                 0         \n",
      "=================================================================\n",
      "Total params: 2,654,865\n",
      "Trainable params: 2,654,865\n",
      "Non-trainable params: 0\n",
      "_________________________________________________________________\n"
     ]
    },
    {
     "data": {
      "image/png": "[encoded data removed]",
      "text/plain": [
       "<Figure size 432x288 with 1 Axes>"
      ]
     },
     "metadata": {
      "needs_background": "light"
     },
     "output_type": "display_data"
    },
    {
     "name": "stdout",
     "output_type": "stream",
     "text": [
      "ROC AUC:  0.53578718\n"
     ]
    }
   ],
   "source": [
    "###############\n",
    "# PAPER MODEL #\n",
    "###############\n",
    "\n",
    "dependencies = {\n",
    "    'f1_m' : f1_m, \n",
    "    'precision_m' : precision_m,\n",
    "    'recall_m': recall_m,\n",
    "}\n",
    "\n",
    "model = keras.models.load_model(model_paper, custom_objects=dependencies)\n",
    "\n",
    "model.summary()\n",
    "\n",
    "\n",
    "from sklearn.metrics import roc_curve, roc_auc_score, auc\n",
    "\n",
    "yhat2 = model.predict(x_test2)      # Predict class values\n",
    "fpr, tpr, thresholds = roc_curve(y_test2, yhat2)\n",
    "auc = auc(fpr, tpr)\n",
    "plot_roc_curve(fpr, tpr)\n",
    "\n",
    "print('ROC AUC: ', auc)"
   ]
  },
  {
   "cell_type": "code",
   "execution_count": 18,
   "metadata": {},
   "outputs": [
    {
     "name": "stdout",
     "output_type": "stream",
     "text": [
      "Model: \"sequential\"\n",
      "_________________________________________________________________\n",
      "Layer (type)                 Output Shape              Param #   \n",
      "=================================================================\n",
      "conv2d (Conv2D)              (None, 73, 73, 16)        592       \n",
      "_________________________________________________________________\n",
      "leaky_re_lu (LeakyReLU)      (None, 73, 73, 16)        0         \n",
      "_________________________________________________________________\n",
      "max_pooling2d (MaxPooling2D) (None, 72, 72, 16)        0         \n",
      "_________________________________________________________________\n",
      "dropout (Dropout)            (None, 72, 72, 16)        0         \n",
      "_________________________________________________________________\n",
      "flatten (Flatten)            (None, 82944)             0         \n",
      "_________________________________________________________________\n",
      "dense (Dense)                (None, 32)                2654240   \n",
      "_________________________________________________________________\n",
      "leaky_re_lu_1 (LeakyReLU)    (None, 32)                0         \n",
      "_________________________________________________________________\n",
      "dropout_1 (Dropout)          (None, 32)                0         \n",
      "_________________________________________________________________\n",
      "dense_1 (Dense)              (None, 1)                 33        \n",
      "_________________________________________________________________\n",
      "activation (Activation)      (None, 1)                 0         \n",
      "=================================================================\n",
      "Total params: 2,654,865\n",
      "Trainable params: 2,654,865\n",
      "Non-trainable params: 0\n",
      "_________________________________________________________________\n"
     ]
    },
    {
     "data": {
      "image/png": "[encoded data removed]",
      "text/plain": [
       "<Figure size 432x288 with 1 Axes>"
      ]
     },
     "metadata": {
      "needs_background": "light"
     },
     "output_type": "display_data"
    },
    {
     "name": "stdout",
     "output_type": "stream",
     "text": [
      "ROC AUC:  0.91074796\n"
     ]
    }
   ],
   "source": [
    "###################################\n",
    "# TRAINED MODEL WITH NEW PAX DATA # using the old pax images\n",
    "###################################\n",
    "\n",
    "dependencies = {\n",
    "    'f1_m' : f1_m, \n",
    "    'precision_m' : precision_m,\n",
    "    'recall_m': recall_m,\n",
    "}\n",
    "\n",
    "model = keras.models.load_model(model_name_new, custom_objects=dependencies)\n",
    "\n",
    "model.summary()\n",
    "\n",
    "\n",
    "from sklearn.metrics import roc_curve, roc_auc_score, auc\n",
    "\n",
    "yhat2 = model.predict(x_test2)      # Predict class values\n",
    "fpr, tpr, thresholds = roc_curve(y_test2, yhat2)\n",
    "auc = auc(fpr, tpr)\n",
    "plot_roc_curve(fpr, tpr)\n",
    "\n",
    "print('ROC AUC: ', auc)"
   ]
  },
  {
   "cell_type": "code",
   "execution_count": null,
   "metadata": {},
   "outputs": [],
   "source": []
  },
  {
   "cell_type": "markdown",
   "metadata": {},
   "source": [
    "### Test using the images generated with the new pax"
   ]
  },
  {
   "cell_type": "code",
   "execution_count": 26,
   "metadata": {},
   "outputs": [
    {
     "name": "stdout",
     "output_type": "stream",
     "text": [
      "images.shape:  (10000, 75, 75, 4)\n",
      "labels.shape:  (10000,)\n",
      "[75 75  4]\n"
     ]
    }
   ],
   "source": [
    "##########\n",
    "# SIGNAL #\n",
    "##########\n",
    "num_signal = 5000\n",
    "\n",
    "file_pathsWP = glob.glob(path.join(folderimages_scaled_new, 'WP*.png'))\n",
    "\n",
    "# Load the images into a single variable and convert to a numpy array\n",
    "imagesWP = [imageio.imread(file_pathsWP[jj]) for jj in range(15000,15000+num_signal)]\n",
    "imagesWP = np.asarray(imagesWP)\n",
    "\n",
    "labelsWP = np.ones(num_signal)\n",
    "\n",
    "\n",
    "##############\n",
    "# BACKGROUND #\n",
    "##############\n",
    "num_back = 5000\n",
    "\n",
    "file_pathsER = glob.glob(path.join(folderimages_scaled_new, 'ER*.png'))\n",
    "\n",
    "# Load the images into a single variable and convert to a numpy array\n",
    "imagesER = [imageio.imread(file_pathsER[jj]) for jj in range(15000,15000+num_back)]\n",
    "imagesER = np.asarray(imagesER)\n",
    "\n",
    "labelsER = np.zeros(num_back)\n",
    "\n",
    "\n",
    "\n",
    "images = np.concatenate([imagesWP,imagesER])\n",
    "del imagesWP\n",
    "del imagesER\n",
    "\n",
    "labels = np.concatenate([labelsWP,labelsER])\n",
    "del labelsWP\n",
    "del labelsER\n",
    "\n",
    "\n",
    "\n",
    "print('images.shape: ', images.shape)\n",
    "print('labels.shape: ', labels.shape)\n",
    "\n",
    "# Get image size\n",
    "image_size = np.asarray([images.shape[1], images.shape[2], images.shape[3]])\n",
    "print(image_size)\n",
    "\n",
    "# Scale images so values are between 0 and 1\n",
    "images = images / 255\n",
    "\n",
    "n_images = images.shape[0]"
   ]
  },
  {
   "cell_type": "code",
   "execution_count": 27,
   "metadata": {},
   "outputs": [],
   "source": [
    "x_test4 = images\n",
    "del images\n",
    "\n",
    "y_test4 = labels\n",
    "del labels"
   ]
  },
  {
   "cell_type": "code",
   "execution_count": 28,
   "metadata": {},
   "outputs": [
    {
     "name": "stdout",
     "output_type": "stream",
     "text": [
      "Model: \"sequential\"\n",
      "_________________________________________________________________\n",
      "Layer (type)                 Output Shape              Param #   \n",
      "=================================================================\n",
      "conv2d (Conv2D)              (None, 73, 73, 16)        592       \n",
      "_________________________________________________________________\n",
      "leaky_re_lu (LeakyReLU)      (None, 73, 73, 16)        0         \n",
      "_________________________________________________________________\n",
      "max_pooling2d (MaxPooling2D) (None, 72, 72, 16)        0         \n",
      "_________________________________________________________________\n",
      "dropout (Dropout)            (None, 72, 72, 16)        0         \n",
      "_________________________________________________________________\n",
      "flatten (Flatten)            (None, 82944)             0         \n",
      "_________________________________________________________________\n",
      "dense (Dense)                (None, 32)                2654240   \n",
      "_________________________________________________________________\n",
      "leaky_re_lu_1 (LeakyReLU)    (None, 32)                0         \n",
      "_________________________________________________________________\n",
      "dropout_1 (Dropout)          (None, 32)                0         \n",
      "_________________________________________________________________\n",
      "dense_1 (Dense)              (None, 1)                 33        \n",
      "_________________________________________________________________\n",
      "activation (Activation)      (None, 1)                 0         \n",
      "=================================================================\n",
      "Total params: 2,654,865\n",
      "Trainable params: 2,654,865\n",
      "Non-trainable params: 0\n",
      "_________________________________________________________________\n"
     ]
    },
    {
     "data": {
      "image/png": "[encoded data removed]",
      "text/plain": [
       "<Figure size 432x288 with 1 Axes>"
      ]
     },
     "metadata": {
      "needs_background": "light"
     },
     "output_type": "display_data"
    },
    {
     "name": "stdout",
     "output_type": "stream",
     "text": [
      "ROC AUC:  0.90867418\n"
     ]
    }
   ],
   "source": [
    "###################################\n",
    "# TRAINED MODEL WITH OLD PAX DATA # using the NEW pax images\n",
    "###################################\n",
    "\n",
    "dependencies = {\n",
    "    'f1_m' : f1_m, \n",
    "    'precision_m' : precision_m,\n",
    "    'recall_m': recall_m,\n",
    "}\n",
    "\n",
    "model = keras.models.load_model(model_name, custom_objects=dependencies)\n",
    "\n",
    "model.summary()\n",
    "\n",
    "\n",
    "from sklearn.metrics import roc_curve, roc_auc_score, auc\n",
    "\n",
    "yhat4 = model.predict(x_test4)      # Predict class values\n",
    "fpr, tpr, thresholds = roc_curve(y_test4, yhat4)\n",
    "auc = auc(fpr, tpr)\n",
    "plot_roc_curve(fpr, tpr)\n",
    "\n",
    "print('ROC AUC: ', auc)"
   ]
  },
  {
   "cell_type": "code",
   "execution_count": 29,
   "metadata": {},
   "outputs": [
    {
     "name": "stdout",
     "output_type": "stream",
     "text": [
      "Model: \"sequential_18\"\n",
      "_________________________________________________________________\n",
      "Layer (type)                 Output Shape              Param #   \n",
      "=================================================================\n",
      "conv2d_28 (Conv2D)           (None, 73, 73, 16)        592       \n",
      "_________________________________________________________________\n",
      "leaky_re_lu_45 (LeakyReLU)   (None, 73, 73, 16)        0         \n",
      "_________________________________________________________________\n",
      "max_pooling2d_28 (MaxPooling (None, 72, 72, 16)        0         \n",
      "_________________________________________________________________\n",
      "dropout_35 (Dropout)         (None, 72, 72, 16)        0         \n",
      "_________________________________________________________________\n",
      "flatten_18 (Flatten)         (None, 82944)             0         \n",
      "_________________________________________________________________\n",
      "dense_35 (Dense)             (None, 32)                2654240   \n",
      "_________________________________________________________________\n",
      "leaky_re_lu_46 (LeakyReLU)   (None, 32)                0         \n",
      "_________________________________________________________________\n",
      "dropout_36 (Dropout)         (None, 32)                0         \n",
      "_________________________________________________________________\n",
      "dense_36 (Dense)             (None, 1)                 33        \n",
      "_________________________________________________________________\n",
      "activation_18 (Activation)   (None, 1)                 0         \n",
      "=================================================================\n",
      "Total params: 2,654,865\n",
      "Trainable params: 2,654,865\n",
      "Non-trainable params: 0\n",
      "_________________________________________________________________\n"
     ]
    },
    {
     "data": {
      "image/png": "[encoded data removed]",
      "text/plain": [
       "<Figure size 432x288 with 1 Axes>"
      ]
     },
     "metadata": {
      "needs_background": "light"
     },
     "output_type": "display_data"
    },
    {
     "name": "stdout",
     "output_type": "stream",
     "text": [
      "ROC AUC:  0.5233673600000001\n"
     ]
    }
   ],
   "source": [
    "###############\n",
    "# PAPER MODEL #\n",
    "###############\n",
    "\n",
    "dependencies = {\n",
    "    'f1_m' : f1_m, \n",
    "    'precision_m' : precision_m,\n",
    "    'recall_m': recall_m,\n",
    "}\n",
    "\n",
    "model = keras.models.load_model(model_paper, custom_objects=dependencies)\n",
    "\n",
    "model.summary()\n",
    "\n",
    "\n",
    "from sklearn.metrics import roc_curve, roc_auc_score, auc\n",
    "\n",
    "yhat4 = model.predict(x_test4)      # Predict class values\n",
    "fpr, tpr, thresholds = roc_curve(y_test4, yhat4)\n",
    "auc = auc(fpr, tpr)\n",
    "plot_roc_curve(fpr, tpr)\n",
    "\n",
    "print('ROC AUC: ', auc)"
   ]
  },
  {
   "cell_type": "code",
   "execution_count": 30,
   "metadata": {},
   "outputs": [
    {
     "name": "stdout",
     "output_type": "stream",
     "text": [
      "Model: \"sequential\"\n",
      "_________________________________________________________________\n",
      "Layer (type)                 Output Shape              Param #   \n",
      "=================================================================\n",
      "conv2d (Conv2D)              (None, 73, 73, 16)        592       \n",
      "_________________________________________________________________\n",
      "leaky_re_lu (LeakyReLU)      (None, 73, 73, 16)        0         \n",
      "_________________________________________________________________\n",
      "max_pooling2d (MaxPooling2D) (None, 72, 72, 16)        0         \n",
      "_________________________________________________________________\n",
      "dropout (Dropout)            (None, 72, 72, 16)        0         \n",
      "_________________________________________________________________\n",
      "flatten (Flatten)            (None, 82944)             0         \n",
      "_________________________________________________________________\n",
      "dense (Dense)                (None, 32)                2654240   \n",
      "_________________________________________________________________\n",
      "leaky_re_lu_1 (LeakyReLU)    (None, 32)                0         \n",
      "_________________________________________________________________\n",
      "dropout_1 (Dropout)          (None, 32)                0         \n",
      "_________________________________________________________________\n",
      "dense_1 (Dense)              (None, 1)                 33        \n",
      "_________________________________________________________________\n",
      "activation (Activation)      (None, 1)                 0         \n",
      "=================================================================\n",
      "Total params: 2,654,865\n",
      "Trainable params: 2,654,865\n",
      "Non-trainable params: 0\n",
      "_________________________________________________________________\n"
     ]
    },
    {
     "data": {
      "image/png": "[encoded data removed]",
      "text/plain": [
       "<Figure size 432x288 with 1 Axes>"
      ]
     },
     "metadata": {
      "needs_background": "light"
     },
     "output_type": "display_data"
    },
    {
     "name": "stdout",
     "output_type": "stream",
     "text": [
      "ROC AUC:  0.90848394\n"
     ]
    }
   ],
   "source": [
    "###################################\n",
    "# TRAINED MODEL WITH NEW PAX DATA # using the NEW pax images\n",
    "###################################\n",
    "\n",
    "dependencies = {\n",
    "    'f1_m' : f1_m, \n",
    "    'precision_m' : precision_m,\n",
    "    'recall_m': recall_m,\n",
    "}\n",
    "\n",
    "model = keras.models.load_model(model_name_new, custom_objects=dependencies)\n",
    "\n",
    "model.summary()\n",
    "\n",
    "\n",
    "from sklearn.metrics import roc_curve, roc_auc_score, auc\n",
    "\n",
    "yhat4 = model.predict(x_test4)      # Predict class values\n",
    "fpr, tpr, thresholds = roc_curve(y_test4, yhat4)\n",
    "auc = auc(fpr, tpr)\n",
    "plot_roc_curve(fpr, tpr)\n",
    "\n",
    "print('ROC AUC: ', auc)"
   ]
  },
  {
   "cell_type": "code",
   "execution_count": null,
   "metadata": {},
   "outputs": [],
   "source": []
  },
  {
   "cell_type": "markdown",
   "metadata": {},
   "source": [
    "##### Solo signal images aplicado al modelo del paper"
   ]
  },
  {
   "cell_type": "code",
   "execution_count": 32,
   "metadata": {},
   "outputs": [
    {
     "name": "stdout",
     "output_type": "stream",
     "text": [
      "images.shape:  (5000, 75, 75, 4)\n",
      "labels.shape:  (5000,)\n",
      "[75 75  4]\n"
     ]
    }
   ],
   "source": [
    "##########\n",
    "# SIGNAL #\n",
    "##########\n",
    "num_signal = 5000\n",
    "\n",
    "file_pathsWP = glob.glob(path.join(folderimages_scaled, 'WP*.png'))\n",
    "\n",
    "# Load the images into a single variable and convert to a numpy array\n",
    "imagesWP = [imageio.imread(file_pathsWP[jj]) for jj in range(num_signal)]\n",
    "imagesWP = np.asarray(imagesWP)\n",
    "\n",
    "labelsWP = np.ones(num_signal)\n",
    "\n",
    "\n",
    "\n",
    "\n",
    "images = imagesWP\n",
    "del imagesWP\n",
    "\n",
    "labels = labelsWP\n",
    "del labelsWP\n",
    "\n",
    "\n",
    "\n",
    "print('images.shape: ', images.shape)\n",
    "print('labels.shape: ', labels.shape)\n",
    "\n",
    "# Get image size\n",
    "image_size = np.asarray([images.shape[1], images.shape[2], images.shape[3]])\n",
    "print(image_size)\n",
    "\n",
    "# Scale images so values are between 0 and 1\n",
    "images = images / 255\n",
    "\n",
    "n_images = images.shape[0]\n",
    "\n",
    "\n",
    "x_test_S = images\n",
    "del images\n",
    "\n",
    "y_test_S = labels\n",
    "del labels"
   ]
  },
  {
   "cell_type": "markdown",
   "metadata": {},
   "source": [
    "##### Solo background images aplicado al modelo del paper"
   ]
  },
  {
   "cell_type": "code",
   "execution_count": 33,
   "metadata": {},
   "outputs": [
    {
     "name": "stdout",
     "output_type": "stream",
     "text": [
      "images.shape:  (5000, 75, 75, 4)\n",
      "labels.shape:  (5000,)\n",
      "[75 75  4]\n"
     ]
    }
   ],
   "source": [
    "##############\n",
    "# BACKGROUND #\n",
    "##############\n",
    "num_back = 5000\n",
    "\n",
    "file_pathsER = glob.glob(path.join(folderimages_scaled, 'ER*.png'))\n",
    "\n",
    "# Load the images into a single variable and convert to a numpy array\n",
    "imagesER = [imageio.imread(file_pathsER[jj]) for jj in range(num_back)]\n",
    "imagesER = np.asarray(imagesER)\n",
    "\n",
    "labelsER = np.zeros(num_back)\n",
    "\n",
    "\n",
    "\n",
    "images = imagesER\n",
    "del imagesER\n",
    "\n",
    "labels = labelsER\n",
    "del labelsER\n",
    "\n",
    "\n",
    "\n",
    "print('images.shape: ', images.shape)\n",
    "print('labels.shape: ', labels.shape)\n",
    "\n",
    "# Get image size\n",
    "image_size = np.asarray([images.shape[1], images.shape[2], images.shape[3]])\n",
    "print(image_size)\n",
    "\n",
    "# Scale images so values are between 0 and 1\n",
    "images = images / 255\n",
    "\n",
    "n_images = images.shape[0]\n",
    "\n",
    "x_test_B = images\n",
    "del images\n",
    "\n",
    "y_test_B = labels\n",
    "del labels"
   ]
  },
  {
   "cell_type": "code",
   "execution_count": 60,
   "metadata": {},
   "outputs": [
    {
     "name": "stdout",
     "output_type": "stream",
     "text": [
      "Model: \"sequential\"\n",
      "_________________________________________________________________\n",
      "Layer (type)                 Output Shape              Param #   \n",
      "=================================================================\n",
      "conv2d (Conv2D)              (None, 73, 73, 16)        592       \n",
      "_________________________________________________________________\n",
      "leaky_re_lu (LeakyReLU)      (None, 73, 73, 16)        0         \n",
      "_________________________________________________________________\n",
      "max_pooling2d (MaxPooling2D) (None, 72, 72, 16)        0         \n",
      "_________________________________________________________________\n",
      "dropout (Dropout)            (None, 72, 72, 16)        0         \n",
      "_________________________________________________________________\n",
      "flatten (Flatten)            (None, 82944)             0         \n",
      "_________________________________________________________________\n",
      "dense (Dense)                (None, 32)                2654240   \n",
      "_________________________________________________________________\n",
      "leaky_re_lu_1 (LeakyReLU)    (None, 32)                0         \n",
      "_________________________________________________________________\n",
      "dropout_1 (Dropout)          (None, 32)                0         \n",
      "_________________________________________________________________\n",
      "dense_1 (Dense)              (None, 1)                 33        \n",
      "_________________________________________________________________\n",
      "activation (Activation)      (None, 1)                 0         \n",
      "=================================================================\n",
      "Total params: 2,654,865\n",
      "Trainable params: 2,654,865\n",
      "Non-trainable params: 0\n",
      "_________________________________________________________________\n"
     ]
    },
    {
     "data": {
      "image/png": "[encoded data removed]",
      "text/plain": [
       "<Figure size 432x288 with 1 Axes>"
      ]
     },
     "metadata": {
      "needs_background": "light"
     },
     "output_type": "display_data"
    }
   ],
   "source": [
    "###################################\n",
    "# TRAINED MODEL WITH OLD PAX DATA # using the OLD pax images\n",
    "###################################\n",
    "\n",
    "dependencies = {\n",
    "    'f1_m' : f1_m, \n",
    "    'precision_m' : precision_m,\n",
    "    'recall_m': recall_m,\n",
    "}\n",
    "\n",
    "model = keras.models.load_model(model_name, custom_objects=dependencies)\n",
    "\n",
    "model.summary()\n",
    "\n",
    "\n",
    "from sklearn.metrics import roc_curve, roc_auc_score, auc\n",
    "\n",
    "yhat_S = model.predict(x_test_S)      # Predict class values\n",
    "yhat_B = model.predict(x_test_B)\n",
    "\n",
    "plt.hist(yhat_S, density='True', bins=20, color='red', edgecolor='red', alpha=0.4, label='Signal')\n",
    "plt.hist(yhat_B, density='True', bins=20, color='blue', edgecolor='blue', alpha=0.4, label='Backgroud')\n",
    "plt.xlabel('Output', fontsize=14)\n",
    "plt.ylabel('Density events', fontsize=14)\n",
    "plt.legend()\n",
    "plt.show()"
   ]
  },
  {
   "cell_type": "code",
   "execution_count": 59,
   "metadata": {},
   "outputs": [
    {
     "name": "stdout",
     "output_type": "stream",
     "text": [
      "Model: \"sequential_18\"\n",
      "_________________________________________________________________\n",
      "Layer (type)                 Output Shape              Param #   \n",
      "=================================================================\n",
      "conv2d_28 (Conv2D)           (None, 73, 73, 16)        592       \n",
      "_________________________________________________________________\n",
      "leaky_re_lu_45 (LeakyReLU)   (None, 73, 73, 16)        0         \n",
      "_________________________________________________________________\n",
      "max_pooling2d_28 (MaxPooling (None, 72, 72, 16)        0         \n",
      "_________________________________________________________________\n",
      "dropout_35 (Dropout)         (None, 72, 72, 16)        0         \n",
      "_________________________________________________________________\n",
      "flatten_18 (Flatten)         (None, 82944)             0         \n",
      "_________________________________________________________________\n",
      "dense_35 (Dense)             (None, 32)                2654240   \n",
      "_________________________________________________________________\n",
      "leaky_re_lu_46 (LeakyReLU)   (None, 32)                0         \n",
      "_________________________________________________________________\n",
      "dropout_36 (Dropout)         (None, 32)                0         \n",
      "_________________________________________________________________\n",
      "dense_36 (Dense)             (None, 1)                 33        \n",
      "_________________________________________________________________\n",
      "activation_18 (Activation)   (None, 1)                 0         \n",
      "=================================================================\n",
      "Total params: 2,654,865\n",
      "Trainable params: 2,654,865\n",
      "Non-trainable params: 0\n",
      "_________________________________________________________________\n"
     ]
    },
    {
     "data": {
      "image/png": "[encoded data removed]",
      "text/plain": [
       "<Figure size 432x288 with 1 Axes>"
      ]
     },
     "metadata": {
      "needs_background": "light"
     },
     "output_type": "display_data"
    }
   ],
   "source": [
    "###############\n",
    "# PAPER MODEL #\n",
    "###############\n",
    "\n",
    "dependencies = {\n",
    "    'f1_m' : f1_m, \n",
    "    'precision_m' : precision_m,\n",
    "    'recall_m': recall_m,\n",
    "}\n",
    "\n",
    "model = keras.models.load_model(model_paper, custom_objects=dependencies)\n",
    "\n",
    "model.summary()\n",
    "\n",
    "\n",
    "from sklearn.metrics import roc_curve, roc_auc_score, auc\n",
    "\n",
    "yhat_S = model.predict(x_test_S)      # Predict class values\n",
    "yhat_B = model.predict(x_test_B)\n",
    "\n",
    "plt.hist(yhat_S, density='True', bins=20, color='red', edgecolor='red', alpha=0.4, label='Signal')\n",
    "plt.hist(yhat_B, density='True', bins=20, color='blue', edgecolor='blue', alpha=0.4, label='Backgroud')\n",
    "plt.xlabel('Output', fontsize=14)\n",
    "plt.ylabel('Density events', fontsize=14)\n",
    "plt.legend()\n",
    "plt.show()"
   ]
  },
  {
   "cell_type": "code",
   "execution_count": 61,
   "metadata": {},
   "outputs": [
    {
     "name": "stdout",
     "output_type": "stream",
     "text": [
      "Model: \"sequential\"\n",
      "_________________________________________________________________\n",
      "Layer (type)                 Output Shape              Param #   \n",
      "=================================================================\n",
      "conv2d (Conv2D)              (None, 73, 73, 16)        592       \n",
      "_________________________________________________________________\n",
      "leaky_re_lu (LeakyReLU)      (None, 73, 73, 16)        0         \n",
      "_________________________________________________________________\n",
      "max_pooling2d (MaxPooling2D) (None, 72, 72, 16)        0         \n",
      "_________________________________________________________________\n",
      "dropout (Dropout)            (None, 72, 72, 16)        0         \n",
      "_________________________________________________________________\n",
      "flatten (Flatten)            (None, 82944)             0         \n",
      "_________________________________________________________________\n",
      "dense (Dense)                (None, 32)                2654240   \n",
      "_________________________________________________________________\n",
      "leaky_re_lu_1 (LeakyReLU)    (None, 32)                0         \n",
      "_________________________________________________________________\n",
      "dropout_1 (Dropout)          (None, 32)                0         \n",
      "_________________________________________________________________\n",
      "dense_1 (Dense)              (None, 1)                 33        \n",
      "_________________________________________________________________\n",
      "activation (Activation)      (None, 1)                 0         \n",
      "=================================================================\n",
      "Total params: 2,654,865\n",
      "Trainable params: 2,654,865\n",
      "Non-trainable params: 0\n",
      "_________________________________________________________________\n"
     ]
    },
    {
     "data": {
      "image/png": "[encoded data removed]",
      "text/plain": [
       "<Figure size 432x288 with 1 Axes>"
      ]
     },
     "metadata": {
      "needs_background": "light"
     },
     "output_type": "display_data"
    }
   ],
   "source": [
    "###################################\n",
    "# TRAINED MODEL WITH NEW PAX DATA # using the OLD pax images\n",
    "###################################\n",
    "\n",
    "dependencies = {\n",
    "    'f1_m' : f1_m, \n",
    "    'precision_m' : precision_m,\n",
    "    'recall_m': recall_m,\n",
    "}\n",
    "\n",
    "model = keras.models.load_model(model_name_new, custom_objects=dependencies)\n",
    "\n",
    "model.summary()\n",
    "\n",
    "\n",
    "from sklearn.metrics import roc_curve, roc_auc_score, auc\n",
    "\n",
    "yhat_S = model.predict(x_test_S)      # Predict class values\n",
    "yhat_B = model.predict(x_test_B)\n",
    "\n",
    "plt.hist(yhat_S, density='True', bins=20, color='red', edgecolor='red', alpha=0.4, label='Signal')\n",
    "plt.hist(yhat_B, density='True', bins=20, color='blue', edgecolor='blue', alpha=0.4, label='Backgroud')\n",
    "plt.xlabel('Output', fontsize=14)\n",
    "plt.ylabel('Density events', fontsize=14)\n",
    "plt.legend()\n",
    "plt.show()"
   ]
  },
  {
   "cell_type": "code",
   "execution_count": null,
   "metadata": {},
   "outputs": [],
   "source": []
  }
 ],
 "metadata": {
  "kernelspec": {
   "display_name": "Python 3",
   "language": "python",
   "name": "python3"
  },
  "language_info": {
   "codemirror_mode": {
    "name": "ipython",
    "version": 3
   },
   "file_extension": ".py",
   "mimetype": "text/x-python",
   "name": "python",
   "nbconvert_exporter": "python",
   "pygments_lexer": "ipython3",
   "version": "3.8.8"
  }
 },
 "nbformat": 4,
 "nbformat_minor": 4
}
